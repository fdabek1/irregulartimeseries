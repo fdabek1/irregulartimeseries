{
 "cells": [
  {
   "cell_type": "code",
   "execution_count": null,
   "metadata": {
    "collapsed": true
   },
   "outputs": [],
   "source": [
    "import os\n",
    "\n",
    "RESULTS_PATH = '../results/'\n",
    "\n",
    "# Get all of the result files for the notebooks\n",
    "results = []\n",
    "for root, dirs, files in os.walk(RESULTS_PATH):\n",
    "    for file in files:\n",
    "        if file.endswith('.csv'):  # Must be a CSV\n",
    "            results.append(file)"
   ]
  },
  {
   "cell_type": "code",
   "execution_count": null,
   "metadata": {},
   "outputs": [],
   "source": [
    "import pandas as pd\n",
    "\n",
    "# Loop through the results\n",
    "for result in results:\n",
    "    # Get the title of the notebook\n",
    "    title = result.replace('.csv', '')\n",
    "\n",
    "    df = pd.read_csv(RESULTS_PATH + result)\n",
    "\n",
    "    print('blah')"
   ]
  }
 ],
 "metadata": {
  "kernelspec": {
   "display_name": "Python 2",
   "language": "python",
   "name": "python2"
  },
  "language_info": {
   "codemirror_mode": {
    "name": "ipython",
    "version": 2
   },
   "file_extension": ".py",
   "mimetype": "text/x-python",
   "name": "python",
   "nbconvert_exporter": "python",
   "pygments_lexer": "ipython2",
   "version": "2.7.6"
  }
 },
 "nbformat": 4,
 "nbformat_minor": 0
}
