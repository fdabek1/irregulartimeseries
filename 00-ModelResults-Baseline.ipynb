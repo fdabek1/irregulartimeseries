{
 "cells": [
  {
   "cell_type": "code",
   "execution_count": 1,
   "metadata": {},
   "outputs": [],
   "source": [
    "%matplotlib inline\n",
    "from IPython.display import display, HTML\n",
    "import matplotlib.pyplot as plt\n",
    "import pandas as pd"
   ]
  },
  {
   "cell_type": "code",
   "execution_count": 2,
   "metadata": {},
   "outputs": [],
   "source": [
    "import os\n",
    "\n",
    "RESULTS_PATH = 'results/passengers/'\n",
    "\n",
    "# Get all of the result files for the notebooks\n",
    "results = []\n",
    "for root, dirs, files in os.walk(RESULTS_PATH):\n",
    "    for file in files:\n",
    "        if file.endswith('.csv'):  # Must be a CSV\n",
    "            results.append(file)"
   ]
  },
  {
   "cell_type": "code",
   "execution_count": 3,
   "metadata": {},
   "outputs": [],
   "source": [
    "# Bar chart for a single notebook\n",
    "def plot_bar(notebook):\n",
    "    df = pd.read_csv(RESULTS_PATH + notebook + '.csv')\n",
    "\n",
    "    df = df[df['model'] != 'SGD']\n",
    "    # df = df[df['model'] != 'RNNMultiple']\n",
    "    # df = df[df['model'] != 'RNNAll']\n",
    "\n",
    "    df.plot(x='model', y=['train', 'test'], kind='bar', title=notebook, figsize=(15, 10), legend=True, fontsize=12)\n",
    "    plt.ylabel('MAE Loss (Mean Average Error)')\n",
    "    plt.show()\n",
    "    \n",
    "    df.sort_values(['test'], inplace=True)\n",
    "    print(df)"
   ]
  },
  {
   "cell_type": "code",
   "execution_count": 4,
   "metadata": {},
   "outputs": [],
   "source": [
    "# Line chart for models across a set of notebooks\n",
    "def plot_line(notebooks, ignore=None):\n",
    "    df_all = pd.DataFrame()\n",
    "\n",
    "    for notebook in notebooks:\n",
    "        df = pd.read_csv(RESULTS_PATH + notebook + '.csv')\n",
    "        df = df[df['model'] != 'SGD']\n",
    "        # df = df[df['model'] != 'RNNMultiple']\n",
    "        # df = df[df['model'] != 'RNNAll']\n",
    "        \n",
    "        if ignore is not None:\n",
    "            for ign in ignore:\n",
    "                df = df[df['model'] != ign]\n",
    "                \n",
    "        models = list(df['model'].unique())\n",
    "\n",
    "        append_object = {'notebook': notebook}\n",
    "        for model in models:\n",
    "            append_object[model] = df[df['model'] == model]['test'].values[0]\n",
    "        df_all = df_all.append(append_object, ignore_index=True)\n",
    "\n",
    "    df_all.plot(x='notebook', figsize=(15, 10), legend=True, fontsize=12)\n",
    "    plt.show()"
   ]
  },
  {
   "cell_type": "code",
   "execution_count": 5,
   "metadata": {},
   "outputs": [
    {
     "data": {
      "image/png": "[encoded data removed]",
      "text/plain": [
       "<matplotlib.figure.Figure at 0x20838919cc0>"
      ]
     },
     "metadata": {},
     "output_type": "display_data"
    },
    {
     "name": "stdout",
     "output_type": "stream",
     "text": [
      "               model        test      train\n",
      "0              ARIMA   43.880789  16.301978\n",
      "8   LinearRegression   44.882682  21.717891\n",
      "15      LSTMMultiple   46.442446  22.119879\n",
      "10         RNNSingle   50.204569  22.407406\n",
      "16       RNNMultiple   50.228593  21.454642\n",
      "14        LSTMSingle   51.968473  23.082868\n",
      "17         RNNSingle   52.332394  21.693593\n",
      "13        LSTMSingle   53.896139  25.456885\n",
      "11       RNNMultiple   54.577814  19.129006\n",
      "12        LSTMSingle   56.580446  21.255734\n",
      "5    GaussianProcess   59.046433  22.663102\n",
      "9                FNN   71.036013  22.724362\n",
      "3       RandomForest   75.525032  12.256727\n",
      "4           AdaBoost   84.281556  19.582246\n",
      "1                KNN   93.049225  22.645952\n",
      "7            LSTMAll  131.800083  34.411994\n",
      "6             RNNAll  134.823140  29.559202\n"
     ]
    }
   ],
   "source": [
    "plot_bar('01-Basic')"
   ]
  },
  {
   "cell_type": "markdown",
   "metadata": {},
   "source": [
    "# Chunk Data"
   ]
  },
  {
   "cell_type": "code",
   "execution_count": null,
   "metadata": {},
   "outputs": [],
   "source": [
    "plot_line(['02-Chunk1', '02-Chunk2', '02-Chunk3', '02-Chunk4', '02-Chunk5'])"
   ]
  },
  {
   "cell_type": "code",
   "execution_count": null,
   "metadata": {},
   "outputs": [],
   "source": [
    "plot_line(['02-Chunk1', '02-Chunk2', '02-Chunk3', '02-Chunk4', '02-Chunk5'], ignore=['RNNSingle', 'FNN'])"
   ]
  },
  {
   "cell_type": "code",
   "execution_count": null,
   "metadata": {},
   "outputs": [],
   "source": [
    "plot_bar('02-Chunk1')"
   ]
  },
  {
   "cell_type": "code",
   "execution_count": null,
   "metadata": {},
   "outputs": [],
   "source": [
    "plot_bar('02-Chunk2')"
   ]
  },
  {
   "cell_type": "code",
   "execution_count": null,
   "metadata": {},
   "outputs": [],
   "source": [
    "plot_bar('02-Chunk3')"
   ]
  },
  {
   "cell_type": "code",
   "execution_count": null,
   "metadata": {},
   "outputs": [],
   "source": [
    "plot_bar('02-Chunk4')"
   ]
  },
  {
   "cell_type": "code",
   "execution_count": null,
   "metadata": {},
   "outputs": [],
   "source": [
    "plot_bar('02-Chunk5')"
   ]
  },
  {
   "cell_type": "markdown",
   "metadata": {},
   "source": [
    "# Features"
   ]
  },
  {
   "cell_type": "markdown",
   "metadata": {},
   "source": [
    "### <YYYY, MM, DD>"
   ]
  },
  {
   "cell_type": "code",
   "execution_count": null,
   "metadata": {},
   "outputs": [],
   "source": [
    "plot_line(['03-FeaturesDate', '03-FeaturesDate_n', '03-FeaturesDate_p', '03-FeaturesDate_pn'])"
   ]
  },
  {
   "cell_type": "markdown",
   "metadata": {},
   "source": [
    "Going to ignore the red model (GaussianProcess) due to it causing the scale for other models to be barely visible."
   ]
  },
  {
   "cell_type": "code",
   "execution_count": null,
   "metadata": {},
   "outputs": [],
   "source": [
    "plot_line(['03-FeaturesDate', '03-FeaturesDate_n', '03-FeaturesDate_p', '03-FeaturesDate_pn'], ignore=['GaussianProcess'])"
   ]
  },
  {
   "cell_type": "code",
   "execution_count": null,
   "metadata": {},
   "outputs": [],
   "source": [
    "plot_bar('03-FeaturesDate')"
   ]
  },
  {
   "cell_type": "code",
   "execution_count": null,
   "metadata": {},
   "outputs": [],
   "source": [
    "plot_bar('03-FeaturesDate_n')"
   ]
  },
  {
   "cell_type": "code",
   "execution_count": null,
   "metadata": {},
   "outputs": [],
   "source": [
    "plot_bar('03-FeaturesDate_p')"
   ]
  },
  {
   "cell_type": "code",
   "execution_count": null,
   "metadata": {},
   "outputs": [],
   "source": [
    "plot_bar('03-FeaturesDate_pn')"
   ]
  },
  {
   "cell_type": "markdown",
   "metadata": {},
   "source": [
    "### <actual_min_temp, actual_max_temp, actual_precipitation>"
   ]
  },
  {
   "cell_type": "code",
   "execution_count": null,
   "metadata": {},
   "outputs": [],
   "source": [
    "plot_line(['03-FeaturesOther', '03-FeaturesOther_n', '03-FeaturesOther_p', '03-FeaturesOther_pn'])"
   ]
  },
  {
   "cell_type": "markdown",
   "metadata": {},
   "source": [
    "Going to ignore a bunch of models from the top to be able to see the bottom ones that are on a smaller scale"
   ]
  },
  {
   "cell_type": "code",
   "execution_count": null,
   "metadata": {},
   "outputs": [],
   "source": [
    "plot_line(['03-FeaturesOther', '03-FeaturesOther_n', '03-FeaturesOther_p', '03-FeaturesOther_pn'], ignore=['GaussianProcess', 'RNNSingle', 'FNN'])"
   ]
  },
  {
   "cell_type": "code",
   "execution_count": null,
   "metadata": {},
   "outputs": [],
   "source": [
    "plot_bar('03-FeaturesOther')"
   ]
  },
  {
   "cell_type": "code",
   "execution_count": null,
   "metadata": {},
   "outputs": [],
   "source": [
    "plot_bar('03-FeaturesOther_n')"
   ]
  },
  {
   "cell_type": "code",
   "execution_count": null,
   "metadata": {},
   "outputs": [],
   "source": [
    "plot_bar('03-FeaturesOther_p')"
   ]
  },
  {
   "cell_type": "code",
   "execution_count": null,
   "metadata": {},
   "outputs": [],
   "source": [
    "plot_bar('03-FeaturesOther_pn')"
   ]
  },
  {
   "cell_type": "code",
   "execution_count": null,
   "metadata": {},
   "outputs": [],
   "source": []
  }
 ],
 "metadata": {
  "kernelspec": {
   "display_name": "Python 3",
   "language": "python",
   "name": "python3"
  },
  "language_info": {
   "codemirror_mode": {
    "name": "ipython",
    "version": 3
   },
   "file_extension": ".py",
   "mimetype": "text/x-python",
   "name": "python",
   "nbconvert_exporter": "python",
   "pygments_lexer": "ipython3",
   "version": "3.6.3"
  }
 },
 "nbformat": 4,
 "nbformat_minor": 1
}
