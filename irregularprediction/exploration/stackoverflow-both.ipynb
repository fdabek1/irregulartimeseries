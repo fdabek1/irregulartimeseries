{
 "cells": [
  {
   "cell_type": "markdown",
   "metadata": {},
   "source": [
    "Below is boilerplate items for each of these analysis notebooks."
   ]
  },
  {
   "cell_type": "code",
   "execution_count": 1,
   "metadata": {},
   "outputs": [],
   "source": [
    "DATA_FOLDER = 'data/so/'"
   ]
  },
  {
   "cell_type": "code",
   "execution_count": 2,
   "metadata": {},
   "outputs": [],
   "source": [
    "from IPython.display import display, HTML\n",
    "import numpy as np"
   ]
  },
  {
   "cell_type": "markdown",
   "metadata": {},
   "source": [
    "Import my own custom handlers"
   ]
  },
  {
   "cell_type": "code",
   "execution_count": 3,
   "metadata": {},
   "outputs": [],
   "source": [
    "import altair as alt\n",
    "alt.renderers.enable('notebook')\n",
    "\n",
    "from viz import visualize_seqs\n",
    "from model_stats import ModelStats\n",
    "\n",
    "results = ModelStats()"
   ]
  },
  {
   "cell_type": "markdown",
   "metadata": {},
   "source": [
    "# Data - StackOverflow"
   ]
  },
  {
   "cell_type": "markdown",
   "metadata": {},
   "source": [
    "The data for StackOverflow is based off of the badges that users received."
   ]
  },
  {
   "cell_type": "markdown",
   "metadata": {},
   "source": [
    "Read data"
   ]
  },
  {
   "cell_type": "code",
   "execution_count": 4,
   "metadata": {},
   "outputs": [],
   "source": [
    "file_index = 1\n",
    "events = {}\n",
    "times = {}\n",
    "\n",
    "for data_type in ['train', 'test']:\n",
    "    with open(DATA_FOLDER + 'event-' + str(file_index) + '-' + data_type + '.txt') as f_events:\n",
    "        events[data_type] = [[int(y) for y in x.split()] for x in f_events]\n",
    "        \n",
    "    with open(DATA_FOLDER + 'time-' + str(file_index) + '-' + data_type + '.txt') as f_times:\n",
    "        times[data_type] = [[float(y) for y in x.split()] for x in f_times]"
   ]
  },
  {
   "cell_type": "markdown",
   "metadata": {},
   "source": [
    "Compute deltas for times.\n",
    "\n",
    "It seems that the general approach usually is to just use timestamps, but going to also compute deltas because maybe will want to use that to make things easier."
   ]
  },
  {
   "cell_type": "code",
   "execution_count": 5,
   "metadata": {},
   "outputs": [],
   "source": [
    "deltas = {}\n",
    "for data_type in ['train', 'test']:\n",
    "    deltas[data_type] = []\n",
    "    for seq in times[data_type]:\n",
    "        seq_deltas = []\n",
    "        for i in range(1, len(seq)):\n",
    "            seq_deltas.append(seq[i] - seq[i-1])\n",
    "        deltas[data_type].append(seq_deltas)"
   ]
  },
  {
   "cell_type": "markdown",
   "metadata": {},
   "source": [
    "# Models for Both"
   ]
  },
  {
   "cell_type": "markdown",
   "metadata": {},
   "source": [
    "Errors for these models is RMSE:\n",
    "\n",
    "https://en.wikipedia.org/wiki/Root-mean-square_deviation"
   ]
  },
  {
   "cell_type": "markdown",
   "metadata": {},
   "source": [
    "# Helper Functions"
   ]
  },
  {
   "cell_type": "code",
   "execution_count": 6,
   "metadata": {},
   "outputs": [],
   "source": [
    "def make_flat(arr):\n",
    "    flattened = []\n",
    "    for seq in arr:\n",
    "        flattened += seq\n",
    "        \n",
    "    return flattened"
   ]
  },
  {
   "cell_type": "code",
   "execution_count": 7,
   "metadata": {},
   "outputs": [],
   "source": [
    "def convert_flat(predictions, data_type):\n",
    "    pred = []\n",
    "    index = 0\n",
    "    for s, seq in enumerate(events[data_type]):\n",
    "        start_index = index\n",
    "        index += len(seq) - 1\n",
    "        pred.append(predictions[start_index:index])\n",
    "        \n",
    "    return pred"
   ]
  },
  {
   "cell_type": "code",
   "execution_count": 8,
   "metadata": {},
   "outputs": [],
   "source": [
    "def convert_nn_seq(predictions, data_type):\n",
    "    pred = []\n",
    "    for s, seq in enumerate(events[data_type]):\n",
    "        seq_len = len(seq) - 1\n",
    "        pred.append(predictions[s][-seq_len:].tolist())\n",
    "        \n",
    "    return pred"
   ]
  },
  {
   "cell_type": "code",
   "execution_count": 13,
   "metadata": {},
   "outputs": [],
   "source": [
    "from sklearn.metrics import mean_squared_error\n",
    "import math\n",
    "\n",
    "def compute_event_error(y_true, y_pred):\n",
    "    num_error = 0\n",
    "    total = 0\n",
    "    for s, seq in enumerate(y_true):\n",
    "        total += len(seq) - 1\n",
    "        for e, event in enumerate(seq[1:]):\n",
    "            if event != y_pred[s][e]:\n",
    "                num_error += 1\n",
    "                \n",
    "    return (num_error / total) * 100\n",
    "\n",
    "def compute_time_error(y_true, y_pred):\n",
    "    y_true = make_flat(y_true)\n",
    "    y_pred = make_flat(y_pred)\n",
    "    \n",
    "    return math.sqrt(mean_squared_error(y_true, y_pred))\n",
    "\n",
    "def show_results(name, train_pred, test_pred):\n",
    "    print('----')\n",
    "    train_event_err = compute_event_error(events['train'], train_pred[0])\n",
    "    train_time_err = compute_time_error(deltas['train'], train_pred[1])\n",
    "    test_event_err = compute_event_error(events['test'], test_pred[0])\n",
    "    test_time_err = compute_time_error(deltas['test'], test_pred[1])\n",
    "    results.add_stat(name, {'train': train_event_err, 'test': test_event_err}, {'train': train_time_err, 'test': test_time_err})\n",
    "    print('Train Error: ', train_event_err, '-', train_time_err)\n",
    "    print('Test Error: ', test_event_err, '-', test_time_err)\n",
    "    print(len(events['train']))\n",
    "    print(len(events['train'][0]))\n",
    "    print(len(train_pred[0]))\n",
    "    print(len(train_pred[0][0]))\n",
    "    print('--')\n",
    "    print(len(deltas['train']))\n",
    "    print(len(deltas['train'][0]))\n",
    "    print(len(train_pred[1]))\n",
    "    print(len(train_pred[1][0]))\n",
    "    display(HTML('<h3>Train</h3>'))\n",
    "    display(HTML(visualize_seqs(events['train'], train_pred[0], deltas['train'], train_pred[1])))\n",
    "    display(HTML('<h3>Test</h3>'))\n",
    "    display(HTML(visualize_seqs(events['test'], train_pred[0], deltas['test'], test_pred[1])))"
   ]
  },
  {
   "cell_type": "code",
   "execution_count": 10,
   "metadata": {},
   "outputs": [],
   "source": [
    "def show_results_nn(name, train_preds, test_preds):\n",
    "    # Convert event predictions\n",
    "    train_preds[0] = np.argmax(train_preds[0], axis=2) + 1\n",
    "    test_preds[0] = np.argmax(test_preds[0], axis=2) + 1\n",
    "    \n",
    "    train_preds[1] = np.squeeze(train_preds[1], axis=2)\n",
    "    test_preds[1] = np.squeeze(test_preds[1], axis=2)\n",
    "    \n",
    "    for i in range(2):\n",
    "        train_preds[i] = convert_nn_seq(train_preds[i], 'train')\n",
    "        test_preds[i] = convert_nn_seq(test_preds[i], 'test')\n",
    "        \n",
    "    show_results(name, train_preds, test_preds)"
   ]
  },
  {
   "cell_type": "markdown",
   "metadata": {},
   "source": [
    "# Baseline Predictor"
   ]
  },
  {
   "cell_type": "markdown",
   "metadata": {},
   "source": [
    "Using methodology from https://github.com/dunan/NeuralPointProcess/blob/master/code/baselines/majority_predictor/time_mean_baseline.py\n",
    "\n",
    "A scale is used there so adding a variable for that."
   ]
  },
  {
   "cell_type": "code",
   "execution_count": 11,
   "metadata": {},
   "outputs": [],
   "source": [
    "scale = 0.001"
   ]
  },
  {
   "cell_type": "code",
   "execution_count": 14,
   "metadata": {},
   "outputs": [
    {
     "name": "stdout",
     "output_type": "stream",
     "text": [
      "Most commom event is 4\n",
      "Mean predictor using deltas 828.9236502234185\n",
      "----\n",
      "Train Error:  56.53630575271122 - 1332529.9103083226\n",
      "Test Error:  57.106363456264916 - 1321285.6966187225\n",
      "5307\n",
      "44\n",
      "5307\n",
      "43\n",
      "--\n",
      "5307\n",
      "43\n",
      "5307\n",
      "43\n"
     ]
    },
    {
     "data": {
      "text/html": [
       "<h3>Train</h3>"
      ],
      "text/plain": [
       "<IPython.core.display.HTML object>"
      ]
     },
     "metadata": {},
     "output_type": "display_data"
    },
    {
     "data": {
      "text/html": [
       "<div><strong><u>1</u></strong> <button type=\"button\" class=\"btn btn-danger\" style=\"margin-right: 10px;\"title=\"Event True: 14 - Pred: 4\n",
       "Time True: 1820.4199998378754 - Pred: 828.9236502234185\">14<br></button><button type=\"button\" class=\"btn btn-success\" style=\"margin-right: 10px;\"title=\"Event True: 4 - Pred: 4\n",
       "Time True: 4215058.380000114 - Pred: 828.9236502234185\">4<br></button><button type=\"button\" class=\"btn btn-success\" style=\"margin-right: 10px;\"title=\"Event True: 4 - Pred: 4\n",
       "Time True: 433834.9329998493 - Pred: 828.9236502234185\">4<br></button><button type=\"button\" class=\"btn btn-danger\" style=\"margin-right: 10px;\"title=\"Event True: 3 - Pred: 4\n",
       "Time True: 51302.580000162125 - Pred: 828.9236502234185\">3<br></button><button type=\"button\" class=\"btn btn-success\" style=\"margin-right: 10px;\"title=\"Event True: 4 - Pred: 4\n",
       "Time True: 3716117.9329998493 - Pred: 828.9236502234185\">4<br></button><button type=\"button\" class=\"btn btn-success\" style=\"margin-right: 10px;\"title=\"Event True: 4 - Pred: 4\n",
       "Time True: 277911.5940001011 - Pred: 828.9236502234185\">4<br></button><button type=\"button\" class=\"btn btn-danger\" style=\"margin-right: 10px;\"title=\"Event True: 6 - Pred: 4\n",
       "Time True: 695735.3900001049 - Pred: 828.9236502234185\">6<br></button><button type=\"button\" class=\"btn btn-danger\" style=\"margin-right: 10px;\"title=\"Event True: 14 - Pred: 4\n",
       "Time True: 9302.765999794006 - Pred: 828.9236502234185\">14<br></button><button type=\"button\" class=\"btn btn-danger\" style=\"margin-right: 10px;\"title=\"Event True: 8 - Pred: 4\n",
       "Time True: 878611.9070000648 - Pred: 828.9236502234185\">8<br></button><button type=\"button\" class=\"btn btn-danger\" style=\"margin-right: 10px;\"title=\"Event True: 8 - Pred: 4\n",
       "Time True: 31.092999935150146 - Pred: 828.9236502234185\">8<br></button><button type=\"button\" class=\"btn btn-danger\" style=\"margin-right: 10px;\"title=\"Event True: 18 - Pred: 4\n",
       "Time True: 83.02700018882751 - Pred: 828.9236502234185\">18<br></button><button type=\"button\" class=\"btn btn-danger\" style=\"margin-right: 10px;\"title=\"Event True: 18 - Pred: 4\n",
       "Time True: 1.5899999141693115 - Pred: 828.9236502234185\">18<br></button><button type=\"button\" class=\"btn btn-danger\" style=\"margin-right: 10px;\"title=\"Event True: 8 - Pred: 4\n",
       "Time True: 4649.572999954224 - Pred: 828.9236502234185\">8<br></button><button type=\"button\" class=\"btn btn-danger\" style=\"margin-right: 10px;\"title=\"Event True: 18 - Pred: 4\n",
       "Time True: 635747.7139999866 - Pred: 828.9236502234185\">18<br></button><button type=\"button\" class=\"btn btn-danger\" style=\"margin-right: 10px;\"title=\"Event True: 12 - Pred: 4\n",
       "Time True: 316870.5499999523 - Pred: 828.9236502234185\">12<br></button><button type=\"button\" class=\"btn btn-danger\" style=\"margin-right: 10px;\"title=\"Event True: 6 - Pred: 4\n",
       "Time True: 1922461.75 - Pred: 828.9236502234185\">6<br></button><button type=\"button\" class=\"btn btn-success\" style=\"margin-right: 10px;\"title=\"Event True: 4 - Pred: 4\n",
       "Time True: 2791731.4900000095 - Pred: 828.9236502234185\">4<br></button><button type=\"button\" class=\"btn btn-danger\" style=\"margin-right: 10px;\"title=\"Event True: 6 - Pred: 4\n",
       "Time True: 444261.6360001564 - Pred: 828.9236502234185\">6<br></button><button type=\"button\" class=\"btn btn-danger\" style=\"margin-right: 10px;\"title=\"Event True: 14 - Pred: 4\n",
       "Time True: 6303.490000009537 - Pred: 828.9236502234185\">14<br></button><button type=\"button\" class=\"btn btn-danger\" style=\"margin-right: 10px;\"title=\"Event True: 6 - Pred: 4\n",
       "Time True: 1943190.0899999142 - Pred: 828.9236502234185\">6<br></button><button type=\"button\" class=\"btn btn-danger\" style=\"margin-right: 10px;\"title=\"Event True: 6 - Pred: 4\n",
       "Time True: 3727261.730000019 - Pred: 828.9236502234185\">6<br></button><button type=\"button\" class=\"btn btn-danger\" style=\"margin-right: 10px;\"title=\"Event True: 6 - Pred: 4\n",
       "Time True: 1408253.2000000477 - Pred: 828.9236502234185\">6<br></button><button type=\"button\" class=\"btn btn-danger\" style=\"margin-right: 10px;\"title=\"Event True: 6 - Pred: 4\n",
       "Time True: 930099.8699998856 - Pred: 828.9236502234185\">6<br></button><button type=\"button\" class=\"btn btn-success\" style=\"margin-right: 10px;\"title=\"Event True: 4 - Pred: 4\n",
       "Time True: 2917800.5670001507 - Pred: 828.9236502234185\">4<br></button><button type=\"button\" class=\"btn btn-danger\" style=\"margin-right: 10px;\"title=\"Event True: 6 - Pred: 4\n",
       "Time True: 1765134.7599999905 - Pred: 828.9236502234185\">6<br></button><button type=\"button\" class=\"btn btn-success\" style=\"margin-right: 10px;\"title=\"Event True: 4 - Pred: 4\n",
       "Time True: 39698.22299981117 - Pred: 828.9236502234185\">4<br></button><button type=\"button\" class=\"btn btn-danger\" style=\"margin-right: 10px;\"title=\"Event True: 9 - Pred: 4\n",
       "Time True: 638141.6640000343 - Pred: 828.9236502234185\">9<br></button><button type=\"button\" class=\"btn btn-danger\" style=\"margin-right: 10px;\"title=\"Event True: 2 - Pred: 4\n",
       "Time True: 936369.1460001469 - Pred: 828.9236502234185\">2<br></button><button type=\"button\" class=\"btn btn-danger\" style=\"margin-right: 10px;\"title=\"Event True: 2 - Pred: 4\n",
       "Time True: 1337887.0669999123 - Pred: 828.9236502234185\">2<br></button><button type=\"button\" class=\"btn btn-danger\" style=\"margin-right: 10px;\"title=\"Event True: 8 - Pred: 4\n",
       "Time True: 1063364.7130000591 - Pred: 828.9236502234185\">8<br></button><button type=\"button\" class=\"btn btn-danger\" style=\"margin-right: 10px;\"title=\"Event True: 5 - Pred: 4\n",
       "Time True: 1301399.8669998646 - Pred: 828.9236502234185\">5<br></button><button type=\"button\" class=\"btn btn-danger\" style=\"margin-right: 10px;\"title=\"Event True: 6 - Pred: 4\n",
       "Time True: 398922.0 - Pred: 828.9236502234185\">6<br></button><button type=\"button\" class=\"btn btn-danger\" style=\"margin-right: 10px;\"title=\"Event True: 9 - Pred: 4\n",
       "Time True: 2951616.5670001507 - Pred: 828.9236502234185\">9<br></button><button type=\"button\" class=\"btn btn-danger\" style=\"margin-right: 10px;\"title=\"Event True: 1 - Pred: 4\n",
       "Time True: 2899546.6459999084 - Pred: 828.9236502234185\">1<br></button><button type=\"button\" class=\"btn btn-danger\" style=\"margin-right: 10px;\"title=\"Event True: 12 - Pred: 4\n",
       "Time True: 2112447.407000065 - Pred: 828.9236502234185\">12<br></button><button type=\"button\" class=\"btn btn-danger\" style=\"margin-right: 10px;\"title=\"Event True: 6 - Pred: 4\n",
       "Time True: 687479.5199999809 - Pred: 828.9236502234185\">6<br></button><button type=\"button\" class=\"btn btn-danger\" style=\"margin-right: 10px;\"title=\"Event True: 2 - Pred: 4\n",
       "Time True: 1504628.7130000591 - Pred: 828.9236502234185\">2<br></button><button type=\"button\" class=\"btn btn-success\" style=\"margin-right: 10px;\"title=\"Event True: 4 - Pred: 4\n",
       "Time True: 4447084.356999874 - Pred: 828.9236502234185\">4<br></button><button type=\"button\" class=\"btn btn-danger\" style=\"margin-right: 10px;\"title=\"Event True: 9 - Pred: 4\n",
       "Time True: 788701.850000143 - Pred: 828.9236502234185\">9<br></button><button type=\"button\" class=\"btn btn-danger\" style=\"margin-right: 10px;\"title=\"Event True: 6 - Pred: 4\n",
       "Time True: 2466069.996999979 - Pred: 828.9236502234185\">6<br></button><button type=\"button\" class=\"btn btn-danger\" style=\"margin-right: 10px;\"title=\"Event True: 2 - Pred: 4\n",
       "Time True: 327256.34299993515 - Pred: 828.9236502234185\">2<br></button><button type=\"button\" class=\"btn btn-danger\" style=\"margin-right: 10px;\"title=\"Event True: 15 - Pred: 4\n",
       "Time True: 4683167.122999907 - Pred: 828.9236502234185\">15<br></button><button type=\"button\" class=\"btn btn-danger\" style=\"margin-right: 10px;\"title=\"Event True: 1 - Pred: 4\n",
       "Time True: 418704.6670000553 - Pred: 828.9236502234185\">1<br></button></div><br><div><strong><u>2</u></strong> <button type=\"button\" class=\"btn btn-danger\" style=\"margin-right: 10px;\"title=\"Event True: 9 - Pred: 4\n",
       "Time True: 1186534.1570000648 - Pred: 828.9236502234185\">9<br></button><button type=\"button\" class=\"btn btn-success\" style=\"margin-right: 10px;\"title=\"Event True: 4 - Pred: 4\n",
       "Time True: 919370.2269999981 - Pred: 828.9236502234185\">4<br></button><button type=\"button\" class=\"btn btn-success\" style=\"margin-right: 10px;\"title=\"Event True: 4 - Pred: 4\n",
       "Time True: 1243646.0429999828 - Pred: 828.9236502234185\">4<br></button><button type=\"button\" class=\"btn btn-success\" style=\"margin-right: 10px;\"title=\"Event True: 4 - Pred: 4\n",
       "Time True: 1633597.140000105 - Pred: 828.9236502234185\">4<br></button><button type=\"button\" class=\"btn btn-success\" style=\"margin-right: 10px;\"title=\"Event True: 4 - Pred: 4\n",
       "Time True: 49804.77300000191 - Pred: 828.9236502234185\">4<br></button><button type=\"button\" class=\"btn btn-danger\" style=\"margin-right: 10px;\"title=\"Event True: 5 - Pred: 4\n",
       "Time True: 54894.43000006676 - Pred: 828.9236502234185\">5<br></button><button type=\"button\" class=\"btn btn-success\" style=\"margin-right: 10px;\"title=\"Event True: 4 - Pred: 4\n",
       "Time True: 720948.263999939 - Pred: 828.9236502234185\">4<br></button><button type=\"button\" class=\"btn btn-success\" style=\"margin-right: 10px;\"title=\"Event True: 4 - Pred: 4\n",
       "Time True: 915082.4199998379 - Pred: 828.9236502234185\">4<br></button><button type=\"button\" class=\"btn btn-danger\" style=\"margin-right: 10px;\"title=\"Event True: 10 - Pred: 4\n",
       "Time True: 101715.25600004196 - Pred: 828.9236502234185\">10<br></button><button type=\"button\" class=\"btn btn-danger\" style=\"margin-right: 10px;\"title=\"Event True: 1 - Pred: 4\n",
       "Time True: 1544901.4600000381 - Pred: 828.9236502234185\">1<br></button><button type=\"button\" class=\"btn btn-danger\" style=\"margin-right: 10px;\"title=\"Event True: 9 - Pred: 4\n",
       "Time True: 216395.71399998665 - Pred: 828.9236502234185\">9<br></button><button type=\"button\" class=\"btn btn-success\" style=\"margin-right: 10px;\"title=\"Event True: 4 - Pred: 4\n",
       "Time True: 1038824.0559999943 - Pred: 828.9236502234185\">4<br></button><button type=\"button\" class=\"btn btn-danger\" style=\"margin-right: 10px;\"title=\"Event True: 9 - Pred: 4\n",
       "Time True: 1400279.120000124 - Pred: 828.9236502234185\">9<br></button><button type=\"button\" class=\"btn btn-success\" style=\"margin-right: 10px;\"title=\"Event True: 4 - Pred: 4\n",
       "Time True: 12301.099999904633 - Pred: 828.9236502234185\">4<br></button><button type=\"button\" class=\"btn btn-danger\" style=\"margin-right: 10px;\"title=\"Event True: 9 - Pred: 4\n",
       "Time True: 178549.4470000267 - Pred: 828.9236502234185\">9<br></button><button type=\"button\" class=\"btn btn-danger\" style=\"margin-right: 10px;\"title=\"Event True: 8 - Pred: 4\n",
       "Time True: 216141.7799999714 - Pred: 828.9236502234185\">8<br></button><button type=\"button\" class=\"btn btn-danger\" style=\"margin-right: 10px;\"title=\"Event True: 8 - Pred: 4\n",
       "Time True: 25.80299997329712 - Pred: 828.9236502234185\">8<br></button><button type=\"button\" class=\"btn btn-danger\" style=\"margin-right: 10px;\"title=\"Event True: 18 - Pred: 4\n",
       "Time True: 72.62000012397766 - Pred: 828.9236502234185\">18<br></button><button type=\"button\" class=\"btn btn-danger\" style=\"margin-right: 10px;\"title=\"Event True: 7 - Pred: 4\n",
       "Time True: 458879.8039999008 - Pred: 828.9236502234185\">7<br></button><button type=\"button\" class=\"btn btn-success\" style=\"margin-right: 10px;\"title=\"Event True: 4 - Pred: 4\n",
       "Time True: 1938664.1600000858 - Pred: 828.9236502234185\">4<br></button><button type=\"button\" class=\"btn btn-danger\" style=\"margin-right: 10px;\"title=\"Event True: 9 - Pred: 4\n",
       "Time True: 747523.6829998493 - Pred: 828.9236502234185\">9<br></button><button type=\"button\" class=\"btn btn-success\" style=\"margin-right: 10px;\"title=\"Event True: 4 - Pred: 4\n",
       "Time True: 206764.79299998283 - Pred: 828.9236502234185\">4<br></button><button type=\"button\" class=\"btn btn-success\" style=\"margin-right: 10px;\"title=\"Event True: 4 - Pred: 4\n",
       "Time True: 580495.6870000362 - Pred: 828.9236502234185\">4<br></button><button type=\"button\" class=\"btn btn-success\" style=\"margin-right: 10px;\"title=\"Event True: 4 - Pred: 4\n",
       "Time True: 1126875.4130001068 - Pred: 828.9236502234185\">4<br></button><button type=\"button\" class=\"btn btn-success\" style=\"margin-right: 10px;\"title=\"Event True: 4 - Pred: 4\n",
       "Time True: 78614.49399995804 - Pred: 828.9236502234185\">4<br></button><button type=\"button\" class=\"btn btn-danger\" style=\"margin-right: 10px;\"title=\"Event True: 9 - Pred: 4\n",
       "Time True: 785158.8159999847 - Pred: 828.9236502234185\">9<br></button><button type=\"button\" class=\"btn btn-danger\" style=\"margin-right: 10px;\"title=\"Event True: 12 - Pred: 4\n",
       "Time True: 83152.6400001049 - Pred: 828.9236502234185\">12<br></button><button type=\"button\" class=\"btn btn-success\" style=\"margin-right: 10px;\"title=\"Event True: 4 - Pred: 4\n",
       "Time True: 614438.4299998283 - Pred: 828.9236502234185\">4<br></button><button type=\"button\" class=\"btn btn-danger\" style=\"margin-right: 10px;\"title=\"Event True: 9 - Pred: 4\n",
       "Time True: 850705.8170001507 - Pred: 828.9236502234185\">9<br></button><button type=\"button\" class=\"btn btn-danger\" style=\"margin-right: 10px;\"title=\"Event True: 1 - Pred: 4\n",
       "Time True: 518938.78999996185 - Pred: 828.9236502234185\">1<br></button><button type=\"button\" class=\"btn btn-danger\" style=\"margin-right: 10px;\"title=\"Event True: 5 - Pred: 4\n",
       "Time True: 1485850.7430000305 - Pred: 828.9236502234185\">5<br></button><button type=\"button\" class=\"btn btn-danger\" style=\"margin-right: 10px;\"title=\"Event True: 1 - Pred: 4\n",
       "Time True: 888717.5869998932 - Pred: 828.9236502234185\">1<br></button><button type=\"button\" class=\"btn btn-danger\" style=\"margin-right: 10px;\"title=\"Event True: 5 - Pred: 4\n",
       "Time True: 298885.2130000591 - Pred: 828.9236502234185\">5<br></button><button type=\"button\" class=\"btn btn-success\" style=\"margin-right: 10px;\"title=\"Event True: 4 - Pred: 4\n",
       "Time True: 533819.6470000744 - Pred: 828.9236502234185\">4<br></button><button type=\"button\" class=\"btn btn-success\" style=\"margin-right: 10px;\"title=\"Event True: 4 - Pred: 4\n",
       "Time True: 149711.07699990273 - Pred: 828.9236502234185\">4<br></button><button type=\"button\" class=\"btn btn-danger\" style=\"margin-right: 10px;\"title=\"Event True: 5 - Pred: 4\n",
       "Time True: 666086.9760000706 - Pred: 828.9236502234185\">5<br></button><button type=\"button\" class=\"btn btn-danger\" style=\"margin-right: 10px;\"title=\"Event True: 9 - Pred: 4\n",
       "Time True: 38400.12999987602 - Pred: 828.9236502234185\">9<br></button><button type=\"button\" class=\"btn btn-danger\" style=\"margin-right: 10px;\"title=\"Event True: 9 - Pred: 4\n",
       "Time True: 1978244.0340001583 - Pred: 828.9236502234185\">9<br></button><button type=\"button\" class=\"btn btn-success\" style=\"margin-right: 10px;\"title=\"Event True: 4 - Pred: 4\n",
       "Time True: 1410767.2159998417 - Pred: 828.9236502234185\">4<br></button><button type=\"button\" class=\"btn btn-success\" style=\"margin-right: 10px;\"title=\"Event True: 4 - Pred: 4\n",
       "Time True: 496389.3140001297 - Pred: 828.9236502234185\">4<br></button><button type=\"button\" class=\"btn btn-success\" style=\"margin-right: 10px;\"title=\"Event True: 4 - Pred: 4\n",
       "Time True: 119740.52600002289 - Pred: 828.9236502234185\">4<br></button><button type=\"button\" class=\"btn btn-danger\" style=\"margin-right: 10px;\"title=\"Event True: 5 - Pred: 4\n",
       "Time True: 551612.3839998245 - Pred: 828.9236502234185\">5<br></button><button type=\"button\" class=\"btn btn-success\" style=\"margin-right: 10px;\"title=\"Event True: 4 - Pred: 4\n",
       "Time True: 29706.136000156403 - Pred: 828.9236502234185\">4<br></button><button type=\"button\" class=\"btn btn-success\" style=\"margin-right: 10px;\"title=\"Event True: 4 - Pred: 4\n",
       "Time True: 867462.3839998245 - Pred: 828.9236502234185\">4<br></button><button type=\"button\" class=\"btn btn-danger\" style=\"margin-right: 10px;\"title=\"Event True: 7 - Pred: 4\n",
       "Time True: 481153.2160000801 - Pred: 828.9236502234185\">7<br></button><button type=\"button\" class=\"btn btn-danger\" style=\"margin-right: 10px;\"title=\"Event True: 1 - Pred: 4\n",
       "Time True: 1965177.0099999905 - Pred: 828.9236502234185\">1<br></button><button type=\"button\" class=\"btn btn-success\" style=\"margin-right: 10px;\"title=\"Event True: 4 - Pred: 4\n",
       "Time True: 224773.78699994087 - Pred: 828.9236502234185\">4<br></button><button type=\"button\" class=\"btn btn-success\" style=\"margin-right: 10px;\"title=\"Event True: 4 - Pred: 4\n",
       "Time True: 27009.233000040054 - Pred: 828.9236502234185\">4<br></button><button type=\"button\" class=\"btn btn-success\" style=\"margin-right: 10px;\"title=\"Event True: 4 - Pred: 4\n",
       "Time True: 3784583.01699996 - Pred: 828.9236502234185\">4<br></button><button type=\"button\" class=\"btn btn-danger\" style=\"margin-right: 10px;\"title=\"Event True: 9 - Pred: 4\n",
       "Time True: 227853.04000020027 - Pred: 828.9236502234185\">9<br></button><button type=\"button\" class=\"btn btn-success\" style=\"margin-right: 10px;\"title=\"Event True: 4 - Pred: 4\n",
       "Time True: 454556.1929998398 - Pred: 828.9236502234185\">4<br></button><button type=\"button\" class=\"btn btn-success\" style=\"margin-right: 10px;\"title=\"Event True: 4 - Pred: 4\n",
       "Time True: 604847.01699996 - Pred: 828.9236502234185\">4<br></button><button type=\"button\" class=\"btn btn-success\" style=\"margin-right: 10px;\"title=\"Event True: 4 - Pred: 4\n",
       "Time True: 157910.5900001526 - Pred: 828.9236502234185\">4<br></button><button type=\"button\" class=\"btn btn-success\" style=\"margin-right: 10px;\"title=\"Event True: 4 - Pred: 4\n",
       "Time True: 1082155.0899999142 - Pred: 828.9236502234185\">4<br></button><button type=\"button\" class=\"btn btn-danger\" style=\"margin-right: 10px;\"title=\"Event True: 5 - Pred: 4\n",
       "Time True: 618460.4030001163 - Pred: 828.9236502234185\">5<br></button><button type=\"button\" class=\"btn btn-danger\" style=\"margin-right: 10px;\"title=\"Event True: 9 - Pred: 4\n",
       "Time True: 21049.133999824524 - Pred: 828.9236502234185\">9<br></button><button type=\"button\" class=\"btn btn-success\" style=\"margin-right: 10px;\"title=\"Event True: 4 - Pred: 4\n",
       "Time True: 2776192.5760002136 - Pred: 828.9236502234185\">4<br></button><button type=\"button\" class=\"btn btn-danger\" style=\"margin-right: 10px;\"title=\"Event True: 9 - Pred: 4\n",
       "Time True: 833914.7369999886 - Pred: 828.9236502234185\">9<br></button><button type=\"button\" class=\"btn btn-danger\" style=\"margin-right: 10px;\"title=\"Event True: 9 - Pred: 4\n",
       "Time True: 2824170.876999855 - Pred: 828.9236502234185\">9<br></button><button type=\"button\" class=\"btn btn-danger\" style=\"margin-right: 10px;\"title=\"Event True: 9 - Pred: 4\n",
       "Time True: 2288511.7799999714 - Pred: 828.9236502234185\">9<br></button><button type=\"button\" class=\"btn btn-danger\" style=\"margin-right: 10px;\"title=\"Event True: 12 - Pred: 4\n",
       "Time True: 1664421.603000164 - Pred: 828.9236502234185\">12<br></button><button type=\"button\" class=\"btn btn-danger\" style=\"margin-right: 10px;\"title=\"Event True: 9 - Pred: 4\n",
       "Time True: 146934.25999999046 - Pred: 828.9236502234185\">9<br></button><button type=\"button\" class=\"btn btn-success\" style=\"margin-right: 10px;\"title=\"Event True: 4 - Pred: 4\n",
       "Time True: 117182.15999984741 - Pred: 828.9236502234185\">4<br></button><button type=\"button\" class=\"btn btn-danger\" style=\"margin-right: 10px;\"title=\"Event True: 9 - Pred: 4\n",
       "Time True: 552208.9730000496 - Pred: 828.9236502234185\">9<br></button><button type=\"button\" class=\"btn btn-danger\" style=\"margin-right: 10px;\"title=\"Event True: 9 - Pred: 4\n",
       "Time True: 801882.1740000248 - Pred: 828.9236502234185\">9<br></button><button type=\"button\" class=\"btn btn-danger\" style=\"margin-right: 10px;\"title=\"Event True: 9 - Pred: 4\n",
       "Time True: 719380.0829999447 - Pred: 828.9236502234185\">9<br></button><button type=\"button\" class=\"btn btn-danger\" style=\"margin-right: 10px;\"title=\"Event True: 9 - Pred: 4\n",
       "Time True: 2242659.597000122 - Pred: 828.9236502234185\">9<br></button><button type=\"button\" class=\"btn btn-danger\" style=\"margin-right: 10px;\"title=\"Event True: 5 - Pred: 4\n",
       "Time True: 549422.635999918 - Pred: 828.9236502234185\">5<br></button><button type=\"button\" class=\"btn btn-danger\" style=\"margin-right: 10px;\"title=\"Event True: 7 - Pred: 4\n",
       "Time True: 914899.1640000343 - Pred: 828.9236502234185\">7<br></button><button type=\"button\" class=\"btn btn-danger\" style=\"margin-right: 10px;\"title=\"Event True: 5 - Pred: 4\n",
       "Time True: 1146052.5099999905 - Pred: 828.9236502234185\">5<br></button><button type=\"button\" class=\"btn btn-danger\" style=\"margin-right: 10px;\"title=\"Event True: 1 - Pred: 4\n",
       "Time True: 21600.895999908447 - Pred: 828.9236502234185\">1<br></button><button type=\"button\" class=\"btn btn-danger\" style=\"margin-right: 10px;\"title=\"Event True: 5 - Pred: 4\n",
       "Time True: 361661.93000006676 - Pred: 828.9236502234185\">5<br></button><button type=\"button\" class=\"btn btn-danger\" style=\"margin-right: 10px;\"title=\"Event True: 9 - Pred: 4\n",
       "Time True: 518278.7000000477 - Pred: 828.9236502234185\">9<br></button><button type=\"button\" class=\"btn btn-success\" style=\"margin-right: 10px;\"title=\"Event True: 4 - Pred: 4\n",
       "Time True: 93477.23699998856 - Pred: 828.9236502234185\">4<br></button><button type=\"button\" class=\"btn btn-danger\" style=\"margin-right: 10px;\"title=\"Event True: 9 - Pred: 4\n",
       "Time True: 539822.1670000553 - Pred: 828.9236502234185\">9<br></button><button type=\"button\" class=\"btn btn-danger\" style=\"margin-right: 10px;\"title=\"Event True: 9 - Pred: 4\n",
       "Time True: 590662.4599997997 - Pred: 828.9236502234185\">9<br></button><button type=\"button\" class=\"btn btn-success\" style=\"margin-right: 10px;\"title=\"Event True: 4 - Pred: 4\n",
       "Time True: 464010.14600014687 - Pred: 828.9236502234185\">4<br></button></div><br><div><strong><u>3</u></strong> <button type=\"button\" class=\"btn btn-success\" style=\"margin-right: 10px;\"title=\"Event True: 4 - Pred: 4\n",
       "Time True: 414975.0269999504 - Pred: 828.9236502234185\">4<br></button><button type=\"button\" class=\"btn btn-success\" style=\"margin-right: 10px;\"title=\"Event True: 4 - Pred: 4\n",
       "Time True: 188006.18299984932 - Pred: 828.9236502234185\">4<br></button><button type=\"button\" class=\"btn btn-danger\" style=\"margin-right: 10px;\"title=\"Event True: 9 - Pred: 4\n",
       "Time True: 3311787.457000017 - Pred: 828.9236502234185\">9<br></button><button type=\"button\" class=\"btn btn-danger\" style=\"margin-right: 10px;\"title=\"Event True: 10 - Pred: 4\n",
       "Time True: 582254.123000145 - Pred: 828.9236502234185\">10<br></button><button type=\"button\" class=\"btn btn-danger\" style=\"margin-right: 10px;\"title=\"Event True: 9 - Pred: 4\n",
       "Time True: 74852.62699985504 - Pred: 828.9236502234185\">9<br></button><button type=\"button\" class=\"btn btn-danger\" style=\"margin-right: 10px;\"title=\"Event True: 12 - Pred: 4\n",
       "Time True: 5462597.273000002 - Pred: 828.9236502234185\">12<br></button><button type=\"button\" class=\"btn btn-danger\" style=\"margin-right: 10px;\"title=\"Event True: 1 - Pred: 4\n",
       "Time True: 96281.94400000572 - Pred: 828.9236502234185\">1<br></button><button type=\"button\" class=\"btn btn-danger\" style=\"margin-right: 10px;\"title=\"Event True: 6 - Pred: 4\n",
       "Time True: 1543763.1160001755 - Pred: 828.9236502234185\">6<br></button><button type=\"button\" class=\"btn btn-success\" style=\"margin-right: 10px;\"title=\"Event True: 4 - Pred: 4\n",
       "Time True: 264072.2539999485 - Pred: 828.9236502234185\">4<br></button><button type=\"button\" class=\"btn btn-danger\" style=\"margin-right: 10px;\"title=\"Event True: 8 - Pred: 4\n",
       "Time True: 197188.2159998417 - Pred: 828.9236502234185\">8<br></button><button type=\"button\" class=\"btn btn-danger\" style=\"margin-right: 10px;\"title=\"Event True: 18 - Pred: 4\n",
       "Time True: 146.41400003433228 - Pred: 828.9236502234185\">18<br></button><button type=\"button\" class=\"btn btn-danger\" style=\"margin-right: 10px;\"title=\"Event True: 8 - Pred: 4\n",
       "Time True: 248875.13000011444 - Pred: 828.9236502234185\">8<br></button><button type=\"button\" class=\"btn btn-success\" style=\"margin-right: 10px;\"title=\"Event True: 4 - Pred: 4\n",
       "Time True: 63903.17599987984 - Pred: 828.9236502234185\">4<br></button><button type=\"button\" class=\"btn btn-success\" style=\"margin-right: 10px;\"title=\"Event True: 4 - Pred: 4\n",
       "Time True: 840400.7970001698 - Pred: 828.9236502234185\">4<br></button><button type=\"button\" class=\"btn btn-danger\" style=\"margin-right: 10px;\"title=\"Event True: 9 - Pred: 4\n",
       "Time True: 1573825.4729998112 - Pred: 828.9236502234185\">9<br></button><button type=\"button\" class=\"btn btn-success\" style=\"margin-right: 10px;\"title=\"Event True: 4 - Pred: 4\n",
       "Time True: 30308.444000005722 - Pred: 828.9236502234185\">4<br></button><button type=\"button\" class=\"btn btn-danger\" style=\"margin-right: 10px;\"title=\"Event True: 10 - Pred: 4\n",
       "Time True: 773718.856000185 - Pred: 828.9236502234185\">10<br></button><button type=\"button\" class=\"btn btn-danger\" style=\"margin-right: 10px;\"title=\"Event True: 11 - Pred: 4\n",
       "Time True: 1540163.393999815 - Pred: 828.9236502234185\">11<br></button><button type=\"button\" class=\"btn btn-success\" style=\"margin-right: 10px;\"title=\"Event True: 4 - Pred: 4\n",
       "Time True: 262730.55000019073 - Pred: 828.9236502234185\">4<br></button><button type=\"button\" class=\"btn btn-danger\" style=\"margin-right: 10px;\"title=\"Event True: 9 - Pred: 4\n",
       "Time True: 705534.5929999352 - Pred: 828.9236502234185\">9<br></button><button type=\"button\" class=\"btn btn-danger\" style=\"margin-right: 10px;\"title=\"Event True: 6 - Pred: 4\n",
       "Time True: 1957345.01699996 - Pred: 828.9236502234185\">6<br></button><button type=\"button\" class=\"btn btn-success\" style=\"margin-right: 10px;\"title=\"Event True: 4 - Pred: 4\n",
       "Time True: 3693641.6500000954 - Pred: 828.9236502234185\">4<br></button><button type=\"button\" class=\"btn btn-success\" style=\"margin-right: 10px;\"title=\"Event True: 4 - Pred: 4\n",
       "Time True: 1689723.1759998798 - Pred: 828.9236502234185\">4<br></button><button type=\"button\" class=\"btn btn-danger\" style=\"margin-right: 10px;\"title=\"Event True: 5 - Pred: 4\n",
       "Time True: 750955.864000082 - Pred: 828.9236502234185\">5<br></button><button type=\"button\" class=\"btn btn-success\" style=\"margin-right: 10px;\"title=\"Event True: 4 - Pred: 4\n",
       "Time True: 338800.49000000954 - Pred: 828.9236502234185\">4<br></button><button type=\"button\" class=\"btn btn-danger\" style=\"margin-right: 10px;\"title=\"Event True: 9 - Pred: 4\n",
       "Time True: 514031.64999985695 - Pred: 828.9236502234185\">9<br></button><button type=\"button\" class=\"btn btn-danger\" style=\"margin-right: 10px;\"title=\"Event True: 2 - Pred: 4\n",
       "Time True: 3581020.046000004 - Pred: 828.9236502234185\">2<br></button><button type=\"button\" class=\"btn btn-danger\" style=\"margin-right: 10px;\"title=\"Event True: 1 - Pred: 4\n",
       "Time True: 724994.8370001316 - Pred: 828.9236502234185\">1<br></button><button type=\"button\" class=\"btn btn-danger\" style=\"margin-right: 10px;\"title=\"Event True: 9 - Pred: 4\n",
       "Time True: 1126894.996999979 - Pred: 828.9236502234185\">9<br></button><button type=\"button\" class=\"btn btn-danger\" style=\"margin-right: 10px;\"title=\"Event True: 9 - Pred: 4\n",
       "Time True: 575005.0759999752 - Pred: 828.9236502234185\">9<br></button><button type=\"button\" class=\"btn btn-danger\" style=\"margin-right: 10px;\"title=\"Event True: 2 - Pred: 4\n",
       "Time True: 744281.6199998856 - Pred: 828.9236502234185\">2<br></button><button type=\"button\" class=\"btn btn-success\" style=\"margin-right: 10px;\"title=\"Event True: 4 - Pred: 4\n",
       "Time True: 1137777.3300001621 - Pred: 828.9236502234185\">4<br></button><button type=\"button\" class=\"btn btn-success\" style=\"margin-right: 10px;\"title=\"Event True: 4 - Pred: 4\n",
       "Time True: 587557.3169999123 - Pred: 828.9236502234185\">4<br></button><button type=\"button\" class=\"btn btn-danger\" style=\"margin-right: 10px;\"title=\"Event True: 16 - Pred: 4\n",
       "Time True: 6601.072999954224 - Pred: 828.9236502234185\">16<br></button><button type=\"button\" class=\"btn btn-success\" style=\"margin-right: 10px;\"title=\"Event True: 4 - Pred: 4\n",
       "Time True: 482385.3300001621 - Pred: 828.9236502234185\">4<br></button><button type=\"button\" class=\"btn btn-danger\" style=\"margin-right: 10px;\"title=\"Event True: 9 - Pred: 4\n",
       "Time True: 564663.9499998093 - Pred: 828.9236502234185\">9<br></button><button type=\"button\" class=\"btn btn-danger\" style=\"margin-right: 10px;\"title=\"Event True: 9 - Pred: 4\n",
       "Time True: 2863008.2599999905 - Pred: 828.9236502234185\">9<br></button><button type=\"button\" class=\"btn btn-danger\" style=\"margin-right: 10px;\"title=\"Event True: 9 - Pred: 4\n",
       "Time True: 132111.04000020027 - Pred: 828.9236502234185\">9<br></button><button type=\"button\" class=\"btn btn-success\" style=\"margin-right: 10px;\"title=\"Event True: 4 - Pred: 4\n",
       "Time True: 1111181.0699999332 - Pred: 828.9236502234185\">4<br></button><button type=\"button\" class=\"btn btn-danger\" style=\"margin-right: 10px;\"title=\"Event True: 3 - Pred: 4\n",
       "Time True: 811635.9800000191 - Pred: 828.9236502234185\">3<br></button><button type=\"button\" class=\"btn btn-danger\" style=\"margin-right: 10px;\"title=\"Event True: 12 - Pred: 4\n",
       "Time True: 1507.356999874115 - Pred: 828.9236502234185\">12<br></button><button type=\"button\" class=\"btn btn-danger\" style=\"margin-right: 10px;\"title=\"Event True: 5 - Pred: 4\n",
       "Time True: 2351831.600000143 - Pred: 828.9236502234185\">5<br></button><button type=\"button\" class=\"btn btn-success\" style=\"margin-right: 10px;\"title=\"Event True: 4 - Pred: 4\n",
       "Time True: 232991.11699986458 - Pred: 828.9236502234185\">4<br></button><button type=\"button\" class=\"btn btn-success\" style=\"margin-right: 10px;\"title=\"Event True: 4 - Pred: 4\n",
       "Time True: 273184.34300017357 - Pred: 828.9236502234185\">4<br></button><button type=\"button\" class=\"btn btn-danger\" style=\"margin-right: 10px;\"title=\"Event True: 9 - Pred: 4\n",
       "Time True: 1211227.1969997883 - Pred: 828.9236502234185\">9<br></button><button type=\"button\" class=\"btn btn-success\" style=\"margin-right: 10px;\"title=\"Event True: 4 - Pred: 4\n",
       "Time True: 792326.3030002117 - Pred: 828.9236502234185\">4<br></button><button type=\"button\" class=\"btn btn-success\" style=\"margin-right: 10px;\"title=\"Event True: 4 - Pred: 4\n",
       "Time True: 419606.48699998856 - Pred: 828.9236502234185\">4<br></button><button type=\"button\" class=\"btn btn-success\" style=\"margin-right: 10px;\"title=\"Event True: 4 - Pred: 4\n",
       "Time True: 603571.4059998989 - Pred: 828.9236502234185\">4<br></button><button type=\"button\" class=\"btn btn-danger\" style=\"margin-right: 10px;\"title=\"Event True: 5 - Pred: 4\n",
       "Time True: 3027343.3139998913 - Pred: 828.9236502234185\">5<br></button><button type=\"button\" class=\"btn btn-danger\" style=\"margin-right: 10px;\"title=\"Event True: 9 - Pred: 4\n",
       "Time True: 2030851.8000001907 - Pred: 828.9236502234185\">9<br></button><button type=\"button\" class=\"btn btn-danger\" style=\"margin-right: 10px;\"title=\"Event True: 1 - Pred: 4\n",
       "Time True: 4515147.329999924 - Pred: 828.9236502234185\">1<br></button><button type=\"button\" class=\"btn btn-success\" style=\"margin-right: 10px;\"title=\"Event True: 4 - Pred: 4\n",
       "Time True: 267428.65000009537 - Pred: 828.9236502234185\">4<br></button><button type=\"button\" class=\"btn btn-danger\" style=\"margin-right: 10px;\"title=\"Event True: 9 - Pred: 4\n",
       "Time True: 3174432.149999857 - Pred: 828.9236502234185\">9<br></button></div><br><div><strong><u>4</u></strong> <button type=\"button\" class=\"btn btn-danger\" style=\"margin-right: 10px;\"title=\"Event True: 19 - Pred: 4\n",
       "Time True: 0.01699995994567871 - Pred: 828.9236502234185\">19<br></button><button type=\"button\" class=\"btn btn-success\" style=\"margin-right: 10px;\"title=\"Event True: 4 - Pred: 4\n",
       "Time True: 984664.2829999924 - Pred: 828.9236502234185\">4<br></button><button type=\"button\" class=\"btn btn-success\" style=\"margin-right: 10px;\"title=\"Event True: 4 - Pred: 4\n",
       "Time True: 479078.9930000305 - Pred: 828.9236502234185\">4<br></button><button type=\"button\" class=\"btn btn-success\" style=\"margin-right: 10px;\"title=\"Event True: 4 - Pred: 4\n",
       "Time True: 7278.226999998093 - Pred: 828.9236502234185\">4<br></button><button type=\"button\" class=\"btn btn-success\" style=\"margin-right: 10px;\"title=\"Event True: 4 - Pred: 4\n",
       "Time True: 390007.49000000954 - Pred: 828.9236502234185\">4<br></button><button type=\"button\" class=\"btn btn-success\" style=\"margin-right: 10px;\"title=\"Event True: 4 - Pred: 4\n",
       "Time True: 3413057.9900000095 - Pred: 828.9236502234185\">4<br></button><button type=\"button\" class=\"btn btn-danger\" style=\"margin-right: 10px;\"title=\"Event True: 17 - Pred: 4\n",
       "Time True: 70276.72300004959 - Pred: 828.9236502234185\">17<br></button><button type=\"button\" class=\"btn btn-danger\" style=\"margin-right: 10px;\"title=\"Event True: 19 - Pred: 4\n",
       "Time True: 179484.43400001526 - Pred: 828.9236502234185\">19<br></button><button type=\"button\" class=\"btn btn-success\" style=\"margin-right: 10px;\"title=\"Event True: 4 - Pred: 4\n",
       "Time True: 458181.39599990845 - Pred: 828.9236502234185\">4<br></button><button type=\"button\" class=\"btn btn-success\" style=\"margin-right: 10px;\"title=\"Event True: 4 - Pred: 4\n",
       "Time True: 243009.96399998665 - Pred: 828.9236502234185\">4<br></button><button type=\"button\" class=\"btn btn-danger\" style=\"margin-right: 10px;\"title=\"Event True: 9 - Pred: 4\n",
       "Time True: 569148.5700001717 - Pred: 828.9236502234185\">9<br></button><button type=\"button\" class=\"btn btn-success\" style=\"margin-right: 10px;\"title=\"Event True: 4 - Pred: 4\n",
       "Time True: 422124.5299999714 - Pred: 828.9236502234185\">4<br></button><button type=\"button\" class=\"btn btn-danger\" style=\"margin-right: 10px;\"title=\"Event True: 5 - Pred: 4\n",
       "Time True: 714130.3429999352 - Pred: 828.9236502234185\">5<br></button><button type=\"button\" class=\"btn btn-danger\" style=\"margin-right: 10px;\"title=\"Event True: 5 - Pred: 4\n",
       "Time True: 872206.367000103 - Pred: 828.9236502234185\">5<br></button><button type=\"button\" class=\"btn btn-danger\" style=\"margin-right: 10px;\"title=\"Event True: 5 - Pred: 4\n",
       "Time True: 275513.753000021 - Pred: 828.9236502234185\">5<br></button><button type=\"button\" class=\"btn btn-success\" style=\"margin-right: 10px;\"title=\"Event True: 4 - Pred: 4\n",
       "Time True: 2846232.4329998493 - Pred: 828.9236502234185\">4<br></button><button type=\"button\" class=\"btn btn-success\" style=\"margin-right: 10px;\"title=\"Event True: 4 - Pred: 4\n",
       "Time True: 196809.15700006485 - Pred: 828.9236502234185\">4<br></button><button type=\"button\" class=\"btn btn-danger\" style=\"margin-right: 10px;\"title=\"Event True: 5 - Pred: 4\n",
       "Time True: 446723.7430000305 - Pred: 828.9236502234185\">5<br></button><button type=\"button\" class=\"btn btn-danger\" style=\"margin-right: 10px;\"title=\"Event True: 8 - Pred: 4\n",
       "Time True: 423509.96399998665 - Pred: 828.9236502234185\">8<br></button><button type=\"button\" class=\"btn btn-danger\" style=\"margin-right: 10px;\"title=\"Event True: 8 - Pred: 4\n",
       "Time True: 227360.5829999447 - Pred: 828.9236502234185\">8<br></button><button type=\"button\" class=\"btn btn-success\" style=\"margin-right: 10px;\"title=\"Event True: 4 - Pred: 4\n",
       "Time True: 274517.4400000572 - Pred: 828.9236502234185\">4<br></button><button type=\"button\" class=\"btn btn-success\" style=\"margin-right: 10px;\"title=\"Event True: 4 - Pred: 4\n",
       "Time True: 69900.63999986649 - Pred: 828.9236502234185\">4<br></button><button type=\"button\" class=\"btn btn-danger\" style=\"margin-right: 10px;\"title=\"Event True: 20 - Pred: 4\n",
       "Time True: 281419.3070001602 - Pred: 828.9236502234185\">20<br></button><button type=\"button\" class=\"btn btn-danger\" style=\"margin-right: 10px;\"title=\"Event True: 6 - Pred: 4\n",
       "Time True: 307563.882999897 - Pred: 828.9236502234185\">6<br></button><button type=\"button\" class=\"btn btn-danger\" style=\"margin-right: 10px;\"title=\"Event True: 14 - Pred: 4\n",
       "Time True: 3307.7000000476837 - Pred: 828.9236502234185\">14<br></button><button type=\"button\" class=\"btn btn-danger\" style=\"margin-right: 10px;\"title=\"Event True: 19 - Pred: 4\n",
       "Time True: 294948.46000003815 - Pred: 828.9236502234185\">19<br></button><button type=\"button\" class=\"btn btn-danger\" style=\"margin-right: 10px;\"title=\"Event True: 9 - Pred: 4\n",
       "Time True: 296115.0199999809 - Pred: 828.9236502234185\">9<br></button><button type=\"button\" class=\"btn btn-success\" style=\"margin-right: 10px;\"title=\"Event True: 4 - Pred: 4\n",
       "Time True: 893941.3899998665 - Pred: 828.9236502234185\">4<br></button><button type=\"button\" class=\"btn btn-danger\" style=\"margin-right: 10px;\"title=\"Event True: 9 - Pred: 4\n",
       "Time True: 2680726.560000181 - Pred: 828.9236502234185\">9<br></button><button type=\"button\" class=\"btn btn-danger\" style=\"margin-right: 10px;\"title=\"Event True: 12 - Pred: 4\n",
       "Time True: 1130553.646999836 - Pred: 828.9236502234185\">12<br></button><button type=\"button\" class=\"btn btn-danger\" style=\"margin-right: 10px;\"title=\"Event True: 5 - Pred: 4\n",
       "Time True: 162101.6660001278 - Pred: 828.9236502234185\">5<br></button><button type=\"button\" class=\"btn btn-danger\" style=\"margin-right: 10px;\"title=\"Event True: 9 - Pred: 4\n",
       "Time True: 269223.9240000248 - Pred: 828.9236502234185\">9<br></button><button type=\"button\" class=\"btn btn-danger\" style=\"margin-right: 10px;\"title=\"Event True: 1 - Pred: 4\n",
       "Time True: 295246.26300001144 - Pred: 828.9236502234185\">1<br></button><button type=\"button\" class=\"btn btn-success\" style=\"margin-right: 10px;\"title=\"Event True: 4 - Pred: 4\n",
       "Time True: 1467638.8129999638 - Pred: 828.9236502234185\">4<br></button><button type=\"button\" class=\"btn btn-danger\" style=\"margin-right: 10px;\"title=\"Event True: 9 - Pred: 4\n",
       "Time True: 34545.65700006485 - Pred: 828.9236502234185\">9<br></button><button type=\"button\" class=\"btn btn-danger\" style=\"margin-right: 10px;\"title=\"Event True: 5 - Pred: 4\n",
       "Time True: 179756.35699987411 - Pred: 828.9236502234185\">5<br></button><button type=\"button\" class=\"btn btn-danger\" style=\"margin-right: 10px;\"title=\"Event True: 1 - Pred: 4\n",
       "Time True: 751282.6860001087 - Pred: 828.9236502234185\">1<br></button><button type=\"button\" class=\"btn btn-danger\" style=\"margin-right: 10px;\"title=\"Event True: 9 - Pred: 4\n",
       "Time True: 886948.9869999886 - Pred: 828.9236502234185\">9<br></button><button type=\"button\" class=\"btn btn-success\" style=\"margin-right: 10px;\"title=\"Event True: 4 - Pred: 4\n",
       "Time True: 251822.06699991226 - Pred: 828.9236502234185\">4<br></button><button type=\"button\" class=\"btn btn-success\" style=\"margin-right: 10px;\"title=\"Event True: 4 - Pred: 4\n",
       "Time True: 372039.76300001144 - Pred: 828.9236502234185\">4<br></button><button type=\"button\" class=\"btn btn-success\" style=\"margin-right: 10px;\"title=\"Event True: 4 - Pred: 4\n",
       "Time True: 331228.1400001049 - Pred: 828.9236502234185\">4<br></button><button type=\"button\" class=\"btn btn-danger\" style=\"margin-right: 10px;\"title=\"Event True: 9 - Pred: 4\n",
       "Time True: 1322697.6429998875 - Pred: 828.9236502234185\">9<br></button><button type=\"button\" class=\"btn btn-danger\" style=\"margin-right: 10px;\"title=\"Event True: 9 - Pred: 4\n",
       "Time True: 2193161.344000101 - Pred: 828.9236502234185\">9<br></button><button type=\"button\" class=\"btn btn-success\" style=\"margin-right: 10px;\"title=\"Event True: 4 - Pred: 4\n",
       "Time True: 1581263.3429999352 - Pred: 828.9236502234185\">4<br></button><button type=\"button\" class=\"btn btn-success\" style=\"margin-right: 10px;\"title=\"Event True: 4 - Pred: 4\n",
       "Time True: 259253.3869998455 - Pred: 828.9236502234185\">4<br></button><button type=\"button\" class=\"btn btn-danger\" style=\"margin-right: 10px;\"title=\"Event True: 9 - Pred: 4\n",
       "Time True: 428788.9230000973 - Pred: 828.9236502234185\">9<br></button><button type=\"button\" class=\"btn btn-success\" style=\"margin-right: 10px;\"title=\"Event True: 4 - Pred: 4\n",
       "Time True: 1382857.7070000172 - Pred: 828.9236502234185\">4<br></button><button type=\"button\" class=\"btn btn-success\" style=\"margin-right: 10px;\"title=\"Event True: 4 - Pred: 4\n",
       "Time True: 251540.2160000801 - Pred: 828.9236502234185\">4<br></button><button type=\"button\" class=\"btn btn-danger\" style=\"margin-right: 10px;\"title=\"Event True: 9 - Pred: 4\n",
       "Time True: 116907.75 - Pred: 828.9236502234185\">9<br></button><button type=\"button\" class=\"btn btn-success\" style=\"margin-right: 10px;\"title=\"Event True: 4 - Pred: 4\n",
       "Time True: 567740.396999836 - Pred: 828.9236502234185\">4<br></button><button type=\"button\" class=\"btn btn-danger\" style=\"margin-right: 10px;\"title=\"Event True: 9 - Pred: 4\n",
       "Time True: 107134.97699999809 - Pred: 828.9236502234185\">9<br></button><button type=\"button\" class=\"btn btn-success\" style=\"margin-right: 10px;\"title=\"Event True: 4 - Pred: 4\n",
       "Time True: 860796.8630001545 - Pred: 828.9236502234185\">4<br></button><button type=\"button\" class=\"btn btn-success\" style=\"margin-right: 10px;\"title=\"Event True: 4 - Pred: 4\n",
       "Time True: 875575.496999979 - Pred: 828.9236502234185\">4<br></button><button type=\"button\" class=\"btn btn-danger\" style=\"margin-right: 10px;\"title=\"Event True: 9 - Pred: 4\n",
       "Time True: 926534.0759999752 - Pred: 828.9236502234185\">9<br></button><button type=\"button\" class=\"btn btn-success\" style=\"margin-right: 10px;\"title=\"Event True: 4 - Pred: 4\n",
       "Time True: 267374.56999993324 - Pred: 828.9236502234185\">4<br></button><button type=\"button\" class=\"btn btn-danger\" style=\"margin-right: 10px;\"title=\"Event True: 9 - Pred: 4\n",
       "Time True: 206557.63700008392 - Pred: 828.9236502234185\">9<br></button><button type=\"button\" class=\"btn btn-danger\" style=\"margin-right: 10px;\"title=\"Event True: 5 - Pred: 4\n",
       "Time True: 227186.6930000782 - Pred: 828.9236502234185\">5<br></button><button type=\"button\" class=\"btn btn-danger\" style=\"margin-right: 10px;\"title=\"Event True: 5 - Pred: 4\n",
       "Time True: 782698.649999857 - Pred: 828.9236502234185\">5<br></button><button type=\"button\" class=\"btn btn-success\" style=\"margin-right: 10px;\"title=\"Event True: 4 - Pred: 4\n",
       "Time True: 74457.38400006294 - Pred: 828.9236502234185\">4<br></button><button type=\"button\" class=\"btn btn-success\" style=\"margin-right: 10px;\"title=\"Event True: 4 - Pred: 4\n",
       "Time True: 13197.895999908447 - Pred: 828.9236502234185\">4<br></button><button type=\"button\" class=\"btn btn-success\" style=\"margin-right: 10px;\"title=\"Event True: 4 - Pred: 4\n",
       "Time True: 1232324.3970000744 - Pred: 828.9236502234185\">4<br></button><button type=\"button\" class=\"btn btn-success\" style=\"margin-right: 10px;\"title=\"Event True: 4 - Pred: 4\n",
       "Time True: 107149.18300008774 - Pred: 828.9236502234185\">4<br></button><button type=\"button\" class=\"btn btn-danger\" style=\"margin-right: 10px;\"title=\"Event True: 5 - Pred: 4\n",
       "Time True: 1564307.1339998245 - Pred: 828.9236502234185\">5<br></button><button type=\"button\" class=\"btn btn-success\" style=\"margin-right: 10px;\"title=\"Event True: 4 - Pred: 4\n",
       "Time True: 201483.25600004196 - Pred: 828.9236502234185\">4<br></button><button type=\"button\" class=\"btn btn-success\" style=\"margin-right: 10px;\"title=\"Event True: 4 - Pred: 4\n",
       "Time True: 1400437.0640001297 - Pred: 828.9236502234185\">4<br></button><button type=\"button\" class=\"btn btn-success\" style=\"margin-right: 10px;\"title=\"Event True: 4 - Pred: 4\n",
       "Time True: 558207.0899999142 - Pred: 828.9236502234185\">4<br></button><button type=\"button\" class=\"btn btn-success\" style=\"margin-right: 10px;\"title=\"Event True: 4 - Pred: 4\n",
       "Time True: 3461390.592999935 - Pred: 828.9236502234185\">4<br></button><button type=\"button\" class=\"btn btn-success\" style=\"margin-right: 10px;\"title=\"Event True: 4 - Pred: 4\n",
       "Time True: 1583686.1300001144 - Pred: 828.9236502234185\">4<br></button><button type=\"button\" class=\"btn btn-success\" style=\"margin-right: 10px;\"title=\"Event True: 4 - Pred: 4\n",
       "Time True: 83520.35699987411 - Pred: 828.9236502234185\">4<br></button><button type=\"button\" class=\"btn btn-success\" style=\"margin-right: 10px;\"title=\"Event True: 4 - Pred: 4\n",
       "Time True: 54329.923000097275 - Pred: 828.9236502234185\">4<br></button><button type=\"button\" class=\"btn btn-danger\" style=\"margin-right: 10px;\"title=\"Event True: 1 - Pred: 4\n",
       "Time True: 1337528.6599998474 - Pred: 828.9236502234185\">1<br></button><button type=\"button\" class=\"btn btn-success\" style=\"margin-right: 10px;\"title=\"Event True: 4 - Pred: 4\n",
       "Time True: 1883445.0670001507 - Pred: 828.9236502234185\">4<br></button><button type=\"button\" class=\"btn btn-danger\" style=\"margin-right: 10px;\"title=\"Event True: 12 - Pred: 4\n",
       "Time True: 620475.8899998665 - Pred: 828.9236502234185\">12<br></button><button type=\"button\" class=\"btn btn-success\" style=\"margin-right: 10px;\"title=\"Event True: 4 - Pred: 4\n",
       "Time True: 1020963.2860000134 - Pred: 828.9236502234185\">4<br></button><button type=\"button\" class=\"btn btn-danger\" style=\"margin-right: 10px;\"title=\"Event True: 9 - Pred: 4\n",
       "Time True: 544069.8070001602 - Pred: 828.9236502234185\">9<br></button><button type=\"button\" class=\"btn btn-danger\" style=\"margin-right: 10px;\"title=\"Event True: 9 - Pred: 4\n",
       "Time True: 121332.20700001717 - Pred: 828.9236502234185\">9<br></button><button type=\"button\" class=\"btn btn-danger\" style=\"margin-right: 10px;\"title=\"Event True: 6 - Pred: 4\n",
       "Time True: 357236.2699999809 - Pred: 828.9236502234185\">6<br></button><button type=\"button\" class=\"btn btn-success\" style=\"margin-right: 10px;\"title=\"Event True: 4 - Pred: 4\n",
       "Time True: 1652800.7899999619 - Pred: 828.9236502234185\">4<br></button><button type=\"button\" class=\"btn btn-success\" style=\"margin-right: 10px;\"title=\"Event True: 4 - Pred: 4\n",
       "Time True: 1461698.1029999256 - Pred: 828.9236502234185\">4<br></button><button type=\"button\" class=\"btn btn-danger\" style=\"margin-right: 10px;\"title=\"Event True: 9 - Pred: 4\n",
       "Time True: 44437.9430000782 - Pred: 828.9236502234185\">9<br></button><button type=\"button\" class=\"btn btn-success\" style=\"margin-right: 10px;\"title=\"Event True: 4 - Pred: 4\n",
       "Time True: 154064.93000006676 - Pred: 828.9236502234185\">4<br></button><button type=\"button\" class=\"btn btn-danger\" style=\"margin-right: 10px;\"title=\"Event True: 5 - Pred: 4\n",
       "Time True: 1977591.4469997883 - Pred: 828.9236502234185\">5<br></button><button type=\"button\" class=\"btn btn-danger\" style=\"margin-right: 10px;\"title=\"Event True: 1 - Pred: 4\n",
       "Time True: 1731202.9700000286 - Pred: 828.9236502234185\">1<br></button><button type=\"button\" class=\"btn btn-success\" style=\"margin-right: 10px;\"title=\"Event True: 4 - Pred: 4\n",
       "Time True: 340254.9270000458 - Pred: 828.9236502234185\">4<br></button><button type=\"button\" class=\"btn btn-danger\" style=\"margin-right: 10px;\"title=\"Event True: 9 - Pred: 4\n",
       "Time True: 765726.5460000038 - Pred: 828.9236502234185\">9<br></button><button type=\"button\" class=\"btn btn-success\" style=\"margin-right: 10px;\"title=\"Event True: 4 - Pred: 4\n",
       "Time True: 512220.0870001316 - Pred: 828.9236502234185\">4<br></button></div><br><div><strong><u>5</u></strong> <button type=\"button\" class=\"btn btn-danger\" style=\"margin-right: 10px;\"title=\"Event True: 5 - Pred: 4\n",
       "Time True: 605225.143999815 - Pred: 828.9236502234185\">5<br></button><button type=\"button\" class=\"btn btn-danger\" style=\"margin-right: 10px;\"title=\"Event True: 9 - Pred: 4\n",
       "Time True: 2347239.9900000095 - Pred: 828.9236502234185\">9<br></button><button type=\"button\" class=\"btn btn-danger\" style=\"margin-right: 10px;\"title=\"Event True: 9 - Pred: 4\n",
       "Time True: 2277396.5530002117 - Pred: 828.9236502234185\">9<br></button><button type=\"button\" class=\"btn btn-danger\" style=\"margin-right: 10px;\"title=\"Event True: 9 - Pred: 4\n",
       "Time True: 218026.5529999733 - Pred: 828.9236502234185\">9<br></button><button type=\"button\" class=\"btn btn-success\" style=\"margin-right: 10px;\"title=\"Event True: 4 - Pred: 4\n",
       "Time True: 281260.629999876 - Pred: 828.9236502234185\">4<br></button><button type=\"button\" class=\"btn btn-danger\" style=\"margin-right: 10px;\"title=\"Event True: 1 - Pred: 4\n",
       "Time True: 688714.9839999676 - Pred: 828.9236502234185\">1<br></button><button type=\"button\" class=\"btn btn-danger\" style=\"margin-right: 10px;\"title=\"Event True: 9 - Pred: 4\n",
       "Time True: 295238.1630001068 - Pred: 828.9236502234185\">9<br></button><button type=\"button\" class=\"btn btn-danger\" style=\"margin-right: 10px;\"title=\"Event True: 5 - Pred: 4\n",
       "Time True: 117626.74300003052 - Pred: 828.9236502234185\">5<br></button><button type=\"button\" class=\"btn btn-success\" style=\"margin-right: 10px;\"title=\"Event True: 4 - Pred: 4\n",
       "Time True: 783033.8439998627 - Pred: 828.9236502234185\">4<br></button><button type=\"button\" class=\"btn btn-danger\" style=\"margin-right: 10px;\"title=\"Event True: 7 - Pred: 4\n",
       "Time True: 774465.7130000591 - Pred: 828.9236502234185\">7<br></button><button type=\"button\" class=\"btn btn-success\" style=\"margin-right: 10px;\"title=\"Event True: 4 - Pred: 4\n",
       "Time True: 347056.48699998856 - Pred: 828.9236502234185\">4<br></button><button type=\"button\" class=\"btn btn-danger\" style=\"margin-right: 10px;\"title=\"Event True: 9 - Pred: 4\n",
       "Time True: 2492510.9230000973 - Pred: 828.9236502234185\">9<br></button><button type=\"button\" class=\"btn btn-success\" style=\"margin-right: 10px;\"title=\"Event True: 4 - Pred: 4\n",
       "Time True: 690817.5269999504 - Pred: 828.9236502234185\">4<br></button><button type=\"button\" class=\"btn btn-danger\" style=\"margin-right: 10px;\"title=\"Event True: 9 - Pred: 4\n",
       "Time True: 538524.6729998589 - Pred: 828.9236502234185\">9<br></button><button type=\"button\" class=\"btn btn-success\" style=\"margin-right: 10px;\"title=\"Event True: 4 - Pred: 4\n",
       "Time True: 126613.25300002098 - Pred: 828.9236502234185\">4<br></button><button type=\"button\" class=\"btn btn-danger\" style=\"margin-right: 10px;\"title=\"Event True: 8 - Pred: 4\n",
       "Time True: 943690.4670000076 - Pred: 828.9236502234185\">8<br></button><button type=\"button\" class=\"btn btn-danger\" style=\"margin-right: 10px;\"title=\"Event True: 5 - Pred: 4\n",
       "Time True: 3328870.9300000668 - Pred: 828.9236502234185\">5<br></button><button type=\"button\" class=\"btn btn-danger\" style=\"margin-right: 10px;\"title=\"Event True: 9 - Pred: 4\n",
       "Time True: 1436149.9630000591 - Pred: 828.9236502234185\">9<br></button><button type=\"button\" class=\"btn btn-success\" style=\"margin-right: 10px;\"title=\"Event True: 4 - Pred: 4\n",
       "Time True: 709821.2799999714 - Pred: 828.9236502234185\">4<br></button><button type=\"button\" class=\"btn btn-danger\" style=\"margin-right: 10px;\"title=\"Event True: 1 - Pred: 4\n",
       "Time True: 245505.63400006294 - Pred: 828.9236502234185\">1<br></button><button type=\"button\" class=\"btn btn-danger\" style=\"margin-right: 10px;\"title=\"Event True: 9 - Pred: 4\n",
       "Time True: 362889.4129998684 - Pred: 828.9236502234185\">9<br></button><button type=\"button\" class=\"btn btn-danger\" style=\"margin-right: 10px;\"title=\"Event True: 1 - Pred: 4\n",
       "Time True: 182224.5870001316 - Pred: 828.9236502234185\">1<br></button><button type=\"button\" class=\"btn btn-success\" style=\"margin-right: 10px;\"title=\"Event True: 4 - Pred: 4\n",
       "Time True: 401295.5199999809 - Pred: 828.9236502234185\">4<br></button><button type=\"button\" class=\"btn btn-success\" style=\"margin-right: 10px;\"title=\"Event True: 4 - Pred: 4\n",
       "Time True: 780688.1629998684 - Pred: 828.9236502234185\">4<br></button><button type=\"button\" class=\"btn btn-danger\" style=\"margin-right: 10px;\"title=\"Event True: 9 - Pred: 4\n",
       "Time True: 2639055.1700000763 - Pred: 828.9236502234185\">9<br></button><button type=\"button\" class=\"btn btn-danger\" style=\"margin-right: 10px;\"title=\"Event True: 12 - Pred: 4\n",
       "Time True: 137131.78299999237 - Pred: 828.9236502234185\">12<br></button><button type=\"button\" class=\"btn btn-danger\" style=\"margin-right: 10px;\"title=\"Event True: 9 - Pred: 4\n",
       "Time True: 838381.9470000267 - Pred: 828.9236502234185\">9<br></button><button type=\"button\" class=\"btn btn-danger\" style=\"margin-right: 10px;\"title=\"Event True: 1 - Pred: 4\n",
       "Time True: 2974231.710000038 - Pred: 828.9236502234185\">1<br></button><button type=\"button\" class=\"btn btn-danger\" style=\"margin-right: 10px;\"title=\"Event True: 9 - Pred: 4\n",
       "Time True: 121776.3599998951 - Pred: 828.9236502234185\">9<br></button><button type=\"button\" class=\"btn btn-danger\" style=\"margin-right: 10px;\"title=\"Event True: 5 - Pred: 4\n",
       "Time True: 334603.38000011444 - Pred: 828.9236502234185\">5<br></button><button type=\"button\" class=\"btn btn-danger\" style=\"margin-right: 10px;\"title=\"Event True: 5 - Pred: 4\n",
       "Time True: 506535.6699998379 - Pred: 828.9236502234185\">5<br></button><button type=\"button\" class=\"btn btn-danger\" style=\"margin-right: 10px;\"title=\"Event True: 1 - Pred: 4\n",
       "Time True: 219975.63000011444 - Pred: 828.9236502234185\">1<br></button><button type=\"button\" class=\"btn btn-success\" style=\"margin-right: 10px;\"title=\"Event True: 4 - Pred: 4\n",
       "Time True: 395865.36999988556 - Pred: 828.9236502234185\">4<br></button><button type=\"button\" class=\"btn btn-danger\" style=\"margin-right: 10px;\"title=\"Event True: 7 - Pred: 4\n",
       "Time True: 1448799.8970000744 - Pred: 828.9236502234185\">7<br></button><button type=\"button\" class=\"btn btn-danger\" style=\"margin-right: 10px;\"title=\"Event True: 7 - Pred: 4\n",
       "Time True: 932850.9800000191 - Pred: 828.9236502234185\">7<br></button><button type=\"button\" class=\"btn btn-success\" style=\"margin-right: 10px;\"title=\"Event True: 4 - Pred: 4\n",
       "Time True: 73862.22000002861 - Pred: 828.9236502234185\">4<br></button><button type=\"button\" class=\"btn btn-success\" style=\"margin-right: 10px;\"title=\"Event True: 4 - Pred: 4\n",
       "Time True: 1242429.152999878 - Pred: 828.9236502234185\">4<br></button><button type=\"button\" class=\"btn btn-success\" style=\"margin-right: 10px;\"title=\"Event True: 4 - Pred: 4\n",
       "Time True: 38395.78000020981 - Pred: 828.9236502234185\">4<br></button><button type=\"button\" class=\"btn btn-danger\" style=\"margin-right: 10px;\"title=\"Event True: 1 - Pred: 4\n",
       "Time True: 544391.3599998951 - Pred: 828.9236502234185\">1<br></button><button type=\"button\" class=\"btn btn-success\" style=\"margin-right: 10px;\"title=\"Event True: 4 - Pred: 4\n",
       "Time True: 3117200.957000017 - Pred: 828.9236502234185\">4<br></button><button type=\"button\" class=\"btn btn-success\" style=\"margin-right: 10px;\"title=\"Event True: 4 - Pred: 4\n",
       "Time True: 445838.83599996567 - Pred: 828.9236502234185\">4<br></button><button type=\"button\" class=\"btn btn-danger\" style=\"margin-right: 10px;\"title=\"Event True: 7 - Pred: 4\n",
       "Time True: 251849.82400012016 - Pred: 828.9236502234185\">7<br></button><button type=\"button\" class=\"btn btn-success\" style=\"margin-right: 10px;\"title=\"Event True: 4 - Pred: 4\n",
       "Time True: 178328.4359998703 - Pred: 828.9236502234185\">4<br></button><button type=\"button\" class=\"btn btn-success\" style=\"margin-right: 10px;\"title=\"Event True: 4 - Pred: 4\n",
       "Time True: 232293.87000012398 - Pred: 828.9236502234185\">4<br></button><button type=\"button\" class=\"btn btn-success\" style=\"margin-right: 10px;\"title=\"Event True: 4 - Pred: 4\n",
       "Time True: 1008139.6339998245 - Pred: 828.9236502234185\">4<br></button><button type=\"button\" class=\"btn btn-danger\" style=\"margin-right: 10px;\"title=\"Event True: 7 - Pred: 4\n",
       "Time True: 738605.8760001659 - Pred: 828.9236502234185\">7<br></button><button type=\"button\" class=\"btn btn-success\" style=\"margin-right: 10px;\"title=\"Event True: 4 - Pred: 4\n",
       "Time True: 170585.80999994278 - Pred: 828.9236502234185\">4<br></button><button type=\"button\" class=\"btn btn-danger\" style=\"margin-right: 10px;\"title=\"Event True: 9 - Pred: 4\n",
       "Time True: 738287.0699999332 - Pred: 828.9236502234185\">9<br></button><button type=\"button\" class=\"btn btn-success\" style=\"margin-right: 10px;\"title=\"Event True: 4 - Pred: 4\n",
       "Time True: 389982.40000009537 - Pred: 828.9236502234185\">4<br></button><button type=\"button\" class=\"btn btn-danger\" style=\"margin-right: 10px;\"title=\"Event True: 5 - Pred: 4\n",
       "Time True: 21340.803999900818 - Pred: 828.9236502234185\">5<br></button><button type=\"button\" class=\"btn btn-success\" style=\"margin-right: 10px;\"title=\"Event True: 4 - Pred: 4\n",
       "Time True: 47112.546000003815 - Pred: 828.9236502234185\">4<br></button><button type=\"button\" class=\"btn btn-success\" style=\"margin-right: 10px;\"title=\"Event True: 4 - Pred: 4\n",
       "Time True: 9917.427000045776 - Pred: 828.9236502234185\">4<br></button><button type=\"button\" class=\"btn btn-danger\" style=\"margin-right: 10px;\"title=\"Event True: 5 - Pred: 4\n",
       "Time True: 773363.9270000458 - Pred: 828.9236502234185\">5<br></button><button type=\"button\" class=\"btn btn-success\" style=\"margin-right: 10px;\"title=\"Event True: 4 - Pred: 4\n",
       "Time True: 1047891.882999897 - Pred: 828.9236502234185\">4<br></button><button type=\"button\" class=\"btn btn-success\" style=\"margin-right: 10px;\"title=\"Event True: 4 - Pred: 4\n",
       "Time True: 917415.75 - Pred: 828.9236502234185\">4<br></button><button type=\"button\" class=\"btn btn-danger\" style=\"margin-right: 10px;\"title=\"Event True: 9 - Pred: 4\n",
       "Time True: 1995930.246999979 - Pred: 828.9236502234185\">9<br></button><button type=\"button\" class=\"btn btn-danger\" style=\"margin-right: 10px;\"title=\"Event True: 5 - Pred: 4\n",
       "Time True: 114985.26999998093 - Pred: 828.9236502234185\">5<br></button><button type=\"button\" class=\"btn btn-danger\" style=\"margin-right: 10px;\"title=\"Event True: 9 - Pred: 4\n",
       "Time True: 356675.9460000992 - Pred: 828.9236502234185\">9<br></button><button type=\"button\" class=\"btn btn-success\" style=\"margin-right: 10px;\"title=\"Event True: 4 - Pred: 4\n",
       "Time True: 4569903.579999924 - Pred: 828.9236502234185\">4<br></button><button type=\"button\" class=\"btn btn-success\" style=\"margin-right: 10px;\"title=\"Event True: 4 - Pred: 4\n",
       "Time True: 1350598.2940001488 - Pred: 828.9236502234185\">4<br></button><button type=\"button\" class=\"btn btn-success\" style=\"margin-right: 10px;\"title=\"Event True: 4 - Pred: 4\n",
       "Time True: 1212564.5899999142 - Pred: 828.9236502234185\">4<br></button><button type=\"button\" class=\"btn btn-danger\" style=\"margin-right: 10px;\"title=\"Event True: 9 - Pred: 4\n",
       "Time True: 80204.85299992561 - Pred: 828.9236502234185\">9<br></button><button type=\"button\" class=\"btn btn-danger\" style=\"margin-right: 10px;\"title=\"Event True: 1 - Pred: 4\n",
       "Time True: 1576296.4400000572 - Pred: 828.9236502234185\">1<br></button><button type=\"button\" class=\"btn btn-danger\" style=\"margin-right: 10px;\"title=\"Event True: 12 - Pred: 4\n",
       "Time True: 518542.6630001068 - Pred: 828.9236502234185\">12<br></button><button type=\"button\" class=\"btn btn-success\" style=\"margin-right: 10px;\"title=\"Event True: 4 - Pred: 4\n",
       "Time True: 971808.3269999027 - Pred: 828.9236502234185\">4<br></button><button type=\"button\" class=\"btn btn-success\" style=\"margin-right: 10px;\"title=\"Event True: 4 - Pred: 4\n",
       "Time True: 1103040.5429999828 - Pred: 828.9236502234185\">4<br></button><button type=\"button\" class=\"btn btn-danger\" style=\"margin-right: 10px;\"title=\"Event True: 9 - Pred: 4\n",
       "Time True: 1753933.5369999409 - Pred: 828.9236502234185\">9<br></button><button type=\"button\" class=\"btn btn-success\" style=\"margin-right: 10px;\"title=\"Event True: 4 - Pred: 4\n",
       "Time True: 765422.7770001888 - Pred: 828.9236502234185\">4<br></button><button type=\"button\" class=\"btn btn-success\" style=\"margin-right: 10px;\"title=\"Event True: 4 - Pred: 4\n",
       "Time True: 246840.8529999256 - Pred: 828.9236502234185\">4<br></button><button type=\"button\" class=\"btn btn-success\" style=\"margin-right: 10px;\"title=\"Event True: 4 - Pred: 4\n",
       "Time True: 1386198.3169999123 - Pred: 828.9236502234185\">4<br></button></div><br>"
      ],
      "text/plain": [
       "<IPython.core.display.HTML object>"
      ]
     },
     "metadata": {},
     "output_type": "display_data"
    },
    {
     "data": {
      "text/html": [
       "<h3>Test</h3>"
      ],
      "text/plain": [
       "<IPython.core.display.HTML object>"
      ]
     },
     "metadata": {},
     "output_type": "display_data"
    },
    {
     "ename": "IndexError",
     "evalue": "list index out of range",
     "output_type": "error",
     "traceback": [
      "\u001b[1;31m---------------------------------------------------------------------------\u001b[0m",
      "\u001b[1;31mIndexError\u001b[0m                                Traceback (most recent call last)",
      "\u001b[1;32m<ipython-input-14-00a9c0d5efd6>\u001b[0m in \u001b[0;36m<module>\u001b[1;34m()\u001b[0m\n\u001b[0;32m     26\u001b[0m \u001b[1;33m\u001b[0m\u001b[0m\n\u001b[0;32m     27\u001b[0m \u001b[1;31m# Show results\u001b[0m\u001b[1;33m\u001b[0m\u001b[1;33m\u001b[0m\u001b[0m\n\u001b[1;32m---> 28\u001b[1;33m \u001b[0mshow_results\u001b[0m\u001b[1;33m(\u001b[0m\u001b[1;34m'Majority'\u001b[0m\u001b[1;33m,\u001b[0m \u001b[1;33m(\u001b[0m\u001b[0mtrain_pred_events\u001b[0m\u001b[1;33m,\u001b[0m \u001b[0mtrain_pred_deltas\u001b[0m\u001b[1;33m)\u001b[0m\u001b[1;33m,\u001b[0m \u001b[1;33m(\u001b[0m\u001b[0mtest_pred_events\u001b[0m\u001b[1;33m,\u001b[0m \u001b[0mtest_pred_deltas\u001b[0m\u001b[1;33m)\u001b[0m\u001b[1;33m)\u001b[0m\u001b[1;33m\u001b[0m\u001b[0m\n\u001b[0m",
      "\u001b[1;32m<ipython-input-13-246311b2d44d>\u001b[0m in \u001b[0;36mshow_results\u001b[1;34m(name, train_pred, test_pred)\u001b[0m\n\u001b[0;32m     40\u001b[0m     \u001b[0mdisplay\u001b[0m\u001b[1;33m(\u001b[0m\u001b[0mHTML\u001b[0m\u001b[1;33m(\u001b[0m\u001b[0mvisualize_seqs\u001b[0m\u001b[1;33m(\u001b[0m\u001b[0mevents\u001b[0m\u001b[1;33m[\u001b[0m\u001b[1;34m'train'\u001b[0m\u001b[1;33m]\u001b[0m\u001b[1;33m,\u001b[0m \u001b[0mtrain_pred\u001b[0m\u001b[1;33m[\u001b[0m\u001b[1;36m0\u001b[0m\u001b[1;33m]\u001b[0m\u001b[1;33m,\u001b[0m \u001b[0mdeltas\u001b[0m\u001b[1;33m[\u001b[0m\u001b[1;34m'train'\u001b[0m\u001b[1;33m]\u001b[0m\u001b[1;33m,\u001b[0m \u001b[0mtrain_pred\u001b[0m\u001b[1;33m[\u001b[0m\u001b[1;36m1\u001b[0m\u001b[1;33m]\u001b[0m\u001b[1;33m)\u001b[0m\u001b[1;33m)\u001b[0m\u001b[1;33m)\u001b[0m\u001b[1;33m\u001b[0m\u001b[0m\n\u001b[0;32m     41\u001b[0m     \u001b[0mdisplay\u001b[0m\u001b[1;33m(\u001b[0m\u001b[0mHTML\u001b[0m\u001b[1;33m(\u001b[0m\u001b[1;34m'<h3>Test</h3>'\u001b[0m\u001b[1;33m)\u001b[0m\u001b[1;33m)\u001b[0m\u001b[1;33m\u001b[0m\u001b[0m\n\u001b[1;32m---> 42\u001b[1;33m     \u001b[0mdisplay\u001b[0m\u001b[1;33m(\u001b[0m\u001b[0mHTML\u001b[0m\u001b[1;33m(\u001b[0m\u001b[0mvisualize_seqs\u001b[0m\u001b[1;33m(\u001b[0m\u001b[0mevents\u001b[0m\u001b[1;33m[\u001b[0m\u001b[1;34m'test'\u001b[0m\u001b[1;33m]\u001b[0m\u001b[1;33m,\u001b[0m \u001b[0mtrain_pred\u001b[0m\u001b[1;33m[\u001b[0m\u001b[1;36m0\u001b[0m\u001b[1;33m]\u001b[0m\u001b[1;33m,\u001b[0m \u001b[0mdeltas\u001b[0m\u001b[1;33m[\u001b[0m\u001b[1;34m'test'\u001b[0m\u001b[1;33m]\u001b[0m\u001b[1;33m,\u001b[0m \u001b[0mtest_pred\u001b[0m\u001b[1;33m[\u001b[0m\u001b[1;36m1\u001b[0m\u001b[1;33m]\u001b[0m\u001b[1;33m)\u001b[0m\u001b[1;33m)\u001b[0m\u001b[1;33m)\u001b[0m\u001b[1;33m\u001b[0m\u001b[0m\n\u001b[0m",
      "\u001b[1;32mE:\\Projects\\irregularprediction\\exploration\\viz.py\u001b[0m in \u001b[0;36mvisualize_seqs\u001b[1;34m(events_true, events_pred, times_true, times_pred, num)\u001b[0m\n\u001b[0;32m     42\u001b[0m         \u001b[0mseq_viz\u001b[0m \u001b[1;33m=\u001b[0m \u001b[1;34m'<strong><u>'\u001b[0m \u001b[1;33m+\u001b[0m \u001b[0mstr\u001b[0m\u001b[1;33m(\u001b[0m\u001b[0ms\u001b[0m \u001b[1;33m+\u001b[0m \u001b[1;36m1\u001b[0m\u001b[1;33m)\u001b[0m \u001b[1;33m+\u001b[0m \u001b[1;34m'</u></strong> '\u001b[0m\u001b[1;33m\u001b[0m\u001b[0m\n\u001b[0;32m     43\u001b[0m         \u001b[1;32mfor\u001b[0m \u001b[0me\u001b[0m \u001b[1;32min\u001b[0m \u001b[0mrange\u001b[0m\u001b[1;33m(\u001b[0m\u001b[0mlen\u001b[0m\u001b[1;33m(\u001b[0m\u001b[0marray_iter\u001b[0m\u001b[1;33m[\u001b[0m\u001b[0ms\u001b[0m\u001b[1;33m]\u001b[0m\u001b[1;33m)\u001b[0m\u001b[1;33m)\u001b[0m\u001b[1;33m:\u001b[0m\u001b[1;33m\u001b[0m\u001b[0m\n\u001b[1;32m---> 44\u001b[1;33m             seq_viz += draw_button(None if events_true is None else events_true[s][e + 1],\n\u001b[0m\u001b[0;32m     45\u001b[0m                                    \u001b[1;32mNone\u001b[0m \u001b[1;32mif\u001b[0m \u001b[0mevents_pred\u001b[0m \u001b[1;32mis\u001b[0m \u001b[1;32mNone\u001b[0m \u001b[1;32melse\u001b[0m \u001b[0mevents_pred\u001b[0m\u001b[1;33m[\u001b[0m\u001b[0ms\u001b[0m\u001b[1;33m]\u001b[0m\u001b[1;33m[\u001b[0m\u001b[0me\u001b[0m\u001b[1;33m]\u001b[0m\u001b[1;33m,\u001b[0m\u001b[1;33m\u001b[0m\u001b[0m\n\u001b[0;32m     46\u001b[0m                                    \u001b[1;32mNone\u001b[0m \u001b[1;32mif\u001b[0m \u001b[0mtimes_true\u001b[0m \u001b[1;32mis\u001b[0m \u001b[1;32mNone\u001b[0m \u001b[1;32melse\u001b[0m \u001b[0mtimes_true\u001b[0m\u001b[1;33m[\u001b[0m\u001b[0ms\u001b[0m\u001b[1;33m]\u001b[0m\u001b[1;33m[\u001b[0m\u001b[0me\u001b[0m\u001b[1;33m]\u001b[0m\u001b[1;33m,\u001b[0m\u001b[1;33m\u001b[0m\u001b[0m\n",
      "\u001b[1;31mIndexError\u001b[0m: list index out of range"
     ]
    }
   ],
   "source": [
    "# Predict events\n",
    "from collections import Counter\n",
    "\n",
    "cnt = Counter()\n",
    "for seq in events['train']:\n",
    "    for event in seq:\n",
    "        cnt[event] += 1\n",
    "\n",
    "top = cnt.most_common(1)[0][0]\n",
    "print('Most commom event is', top)\n",
    "\n",
    "train_pred_events = [[top for event in seq[1:]] for seq in events['train']]\n",
    "test_pred_events = [[top for event in seq[1:]] for seq in events['test']]\n",
    "\n",
    "\n",
    "# Predict deltas\n",
    "train_deltas = make_flat(deltas['train'])\n",
    "train_deltas = np.asarray(train_deltas) * scale\n",
    "\n",
    "mean_delta = np.mean(train_deltas)\n",
    "print('Mean predictor using deltas', mean_delta)\n",
    "\n",
    "train_pred_deltas = [[mean_delta for d in seq] for seq in deltas['train']]\n",
    "test_pred_deltas = [[mean_delta for d in seq] for seq in deltas['test']]\n",
    "\n",
    "\n",
    "# Show results\n",
    "show_results('Majority', (train_pred_events, train_pred_deltas), (test_pred_events, test_pred_deltas))"
   ]
  },
  {
   "cell_type": "code",
   "execution_count": null,
   "metadata": {},
   "outputs": [],
   "source": []
  },
  {
   "cell_type": "markdown",
   "metadata": {},
   "source": [
    "# Structure Data"
   ]
  },
  {
   "cell_type": "markdown",
   "metadata": {},
   "source": [
    "Need to structure the data into entire sequences for the approaches"
   ]
  },
  {
   "cell_type": "markdown",
   "metadata": {},
   "source": [
    "Normalize deltas for the neural network approaches.  Could try alternate normalization techniques in the future."
   ]
  },
  {
   "cell_type": "code",
   "execution_count": null,
   "metadata": {},
   "outputs": [],
   "source": [
    "# Get the min and max deltas\n",
    "min_delta = 999999\n",
    "max_delta = -1\n",
    "\n",
    "for data_type in ['train', 'test']:\n",
    "    for seq in deltas[data_type]:\n",
    "        if min(seq) < min_delta:\n",
    "            min_delta = min(seq)\n",
    "            \n",
    "        if max(seq) > max_delta:\n",
    "            max_delta = max(seq)\n",
    "            \n",
    "\n",
    "print('Min delta', min_delta)\n",
    "print('Max delta', max_delta)\n",
    "\n",
    "deltas_temp = {}\n",
    "# Normalize based on max, just going to ignore min and treat it like it was 0\n",
    "for data_type in ['train', 'test']:\n",
    "    deltas_temp[data_type] = [[d / max_delta for d in seq] for seq in deltas[data_type]]\n",
    "    \n",
    "# # Function to undo normalize\n",
    "# def undo_norm_deltas(preds):\n",
    "#     for data_type in ['train', 'test']:\n",
    "    "
   ]
  },
  {
   "cell_type": "code",
   "execution_count": null,
   "metadata": {},
   "outputs": [],
   "source": []
  },
  {
   "cell_type": "code",
   "execution_count": null,
   "metadata": {},
   "outputs": [],
   "source": [
    "x = {}\n",
    "y = {}\n",
    "\n",
    "for data_type in ['train', 'test']:\n",
    "    x[data_type] = [[], []]\n",
    "    y[data_type] = [[], []]\n",
    "    \n",
    "    # Events\n",
    "    for seq in events[data_type]:\n",
    "        x[data_type][0].append(seq[:-1])\n",
    "        y[data_type][0].append(seq[1:])\n",
    "        \n",
    "    # Deltas\n",
    "    for seq in deltas_temp[data_type]:\n",
    "        x[data_type][1].append(seq[:-1])\n",
    "        y[data_type][1].append(seq[1:])\n",
    "\n",
    "    for i in range(2):\n",
    "        x[data_type][i] = np.asarray(x[data_type][i])\n",
    "        y[data_type][i] = np.asarray(y[data_type][i])"
   ]
  },
  {
   "cell_type": "code",
   "execution_count": null,
   "metadata": {},
   "outputs": [],
   "source": [
    "# Find the max user length\n",
    "user_lengths = [len(seq) for seq in events['train']] + [len(seq) for seq in events['test']]\n",
    "user_length_counts = {}\n",
    "for length in user_lengths:\n",
    "    if length not in user_length_counts:\n",
    "        user_length_counts[length] = 0\n",
    "        \n",
    "    user_length_counts[length] += 1\n",
    "user_lengths = list(set(user_lengths))\n",
    "user_lengths = sorted(user_lengths, reverse=True)\n",
    "max_user_length = max(user_lengths)\n",
    "\n",
    "print('Max Seq Length', max_user_length)\n",
    "# print(user_lengths)"
   ]
  },
  {
   "cell_type": "markdown",
   "metadata": {},
   "source": [
    "Subtract one from x for events"
   ]
  },
  {
   "cell_type": "code",
   "execution_count": null,
   "metadata": {},
   "outputs": [],
   "source": [
    "for data_type in ['train', 'test']:\n",
    "    x[data_type][0] = [[event - 1 for event in seq] for seq in x[data_type][0]]"
   ]
  },
  {
   "cell_type": "code",
   "execution_count": null,
   "metadata": {},
   "outputs": [],
   "source": [
    "# Pad sequences\n",
    "from keras.preprocessing import sequence\n",
    "\n",
    "for data_type in ['train', 'test']:\n",
    "    for i in range(2):\n",
    "        x[data_type][i] = sequence.pad_sequences(x[data_type][i], maxlen=max_user_length)\n",
    "        y[data_type][i] = sequence.pad_sequences(y[data_type][i], maxlen=max_user_length)"
   ]
  },
  {
   "cell_type": "markdown",
   "metadata": {},
   "source": [
    "y variable needs to be one-hot for events.  (x will be made one-hot later for different models)"
   ]
  },
  {
   "cell_type": "code",
   "execution_count": null,
   "metadata": {},
   "outputs": [],
   "source": [
    "num_events = 22\n",
    "one_hot = np.eye(num_events)\n",
    "for data_type in ['train', 'test']:\n",
    "    y[data_type][0] = [[one_hot[event-1] if event > 0 else np.zeros(num_events) for event in seq] for seq in y[data_type][0]]\n",
    "    y[data_type][0] = np.asarray(y[data_type][0])"
   ]
  },
  {
   "cell_type": "markdown",
   "metadata": {},
   "source": [
    "Add dimension to the end"
   ]
  },
  {
   "cell_type": "code",
   "execution_count": null,
   "metadata": {},
   "outputs": [],
   "source": [
    "x['train'][0] = np.expand_dims(x['train'][0], axis=2)\n",
    "x['train'][1] = np.expand_dims(x['train'][1], axis=2)\n",
    "y['train'][1] = np.expand_dims(y['train'][1], axis=2)\n",
    "\n",
    "x['test'][0] = np.expand_dims(x['test'][0], axis=2)\n",
    "x['test'][1] = np.expand_dims(x['test'][1], axis=2)\n",
    "y['test'][1] = np.expand_dims(y['test'][1], axis=2)"
   ]
  },
  {
   "cell_type": "markdown",
   "metadata": {},
   "source": [
    "# Neural Networks"
   ]
  },
  {
   "cell_type": "markdown",
   "metadata": {},
   "source": [
    "We are going to try a bunch of different network configurations so let's import stuff that we'll need."
   ]
  },
  {
   "cell_type": "code",
   "execution_count": null,
   "metadata": {},
   "outputs": [],
   "source": [
    "from keras.models import Sequential, Model\n",
    "from keras import optimizers\n",
    "from keras.layers import Input, Dense, TimeDistributed, Masking, SimpleRNN, Concatenate, RNN, LSTM"
   ]
  },
  {
   "cell_type": "markdown",
   "metadata": {},
   "source": [
    "# TODO - Evaluate how categorical_accuracy works for metrics"
   ]
  },
  {
   "cell_type": "code",
   "execution_count": null,
   "metadata": {},
   "outputs": [],
   "source": [
    "input_events = Input(shape=(max_user_length, 1))\n",
    "input_deltas = Input(shape=(max_user_length, 1))\n",
    "\n",
    "inputs = Concatenate(axis=2)([input_events, input_deltas])\n",
    "inputs = Masking(mask_value=0.)(inputs)\n",
    "\n",
    "rnn = SimpleRNN(50, activation='tanh', return_sequences=True)(inputs)\n",
    "\n",
    "output_events = TimeDistributed(Dense(num_events, activation='softmax'), name='events')(rnn)\n",
    "\n",
    "output_deltas = TimeDistributed(Dense(15, activation='relu'))(rnn)\n",
    "output_deltas = TimeDistributed(Dense(1, activation='sigmoid'), name='time')(output_deltas)\n",
    "\n",
    "model = Model(inputs=[input_events, input_deltas], outputs=[output_events, output_deltas])\n",
    "\n",
    "model.compile(loss=['categorical_crossentropy', 'mse'], optimizer='adam', metrics={'events': 'accuracy'})\n",
    "\n",
    "model.fit(x['train'], y['train'], validation_data=(x['test'], y['test']), batch_size=100, epochs=3)\n",
    "\n",
    "preds_train = model.predict(x['train'])\n",
    "preds_test = model.predict(x['test'])\n",
    "\n",
    "preds_train[1] *= max_delta\n",
    "preds_test[1] *= max_delta\n",
    "\n",
    "show_results_nn('RNN', preds_train, preds_test)"
   ]
  },
  {
   "cell_type": "code",
   "execution_count": null,
   "metadata": {},
   "outputs": [],
   "source": [
    "input_events = Input(shape=(max_user_length, 1))\n",
    "input_deltas = Input(shape=(max_user_length, 1))\n",
    "\n",
    "inputs = Concatenate(axis=2)([input_events, input_deltas])\n",
    "inputs = Masking(mask_value=0.)(inputs)\n",
    "\n",
    "rnn = LSTM(50, activation='tanh', return_sequences=True)(inputs)\n",
    "\n",
    "output_events = TimeDistributed(Dense(num_events, activation='softmax'), name='events')(rnn)\n",
    "\n",
    "output_deltas = TimeDistributed(Dense(15, activation='relu'))(rnn)\n",
    "output_deltas = TimeDistributed(Dense(1, activation='sigmoid'), name='time')(output_deltas)\n",
    "\n",
    "model = Model(inputs=[input_events, input_deltas], outputs=[output_events, output_deltas])\n",
    "\n",
    "model.compile(loss=['categorical_crossentropy', 'mse'], optimizer='adam', metrics={'events': 'accuracy'})\n",
    "\n",
    "model.fit(x['train'], y['train'], validation_data=(x['test'], y['test']), batch_size=100, epochs=3)\n",
    "\n",
    "preds_train = model.predict(x['train'])\n",
    "preds_test = model.predict(x['test'])\n",
    "\n",
    "preds_train[1] *= max_delta\n",
    "preds_test[1] *= max_delta\n",
    "\n",
    "show_results_nn('LSTM', preds_train, preds_test)"
   ]
  },
  {
   "cell_type": "markdown",
   "metadata": {},
   "source": [
    "## Phased-LSTM Model"
   ]
  },
  {
   "cell_type": "code",
   "execution_count": null,
   "metadata": {},
   "outputs": [],
   "source": [
    "from phasedlstmcell import PhasedLSTMCell\n",
    "\n",
    "input_events = Input(shape=(max_user_length, 1))\n",
    "input_deltas = Input(shape=(max_user_length, 1))\n",
    "\n",
    "inputs = Concatenate(axis=2)([input_events, input_deltas])\n",
    "inputs = Masking(mask_value=0.)(inputs)\n",
    "\n",
    "cell = PhasedLSTMCell(50, activation='tanh')\n",
    "rnn = RNN(cell, return_sequences=True)(inputs)\n",
    "\n",
    "output_events = TimeDistributed(Dense(num_events, activation='softmax'), name='events')(rnn)\n",
    "\n",
    "output_deltas = TimeDistributed(Dense(15, activation='relu'))(rnn)\n",
    "output_deltas = TimeDistributed(Dense(1, activation='sigmoid'), name='time')(output_deltas)\n",
    "\n",
    "model = Model(inputs=[input_events, input_deltas], outputs=[output_events, output_deltas])\n",
    "\n",
    "model.compile(loss=['categorical_crossentropy', 'mse'], optimizer='adam', metrics={'events': 'accuracy'})\n",
    "\n",
    "model.fit(x['train'], y['train'], validation_data=(x['test'], y['test']), batch_size=100, epochs=3)\n",
    "\n",
    "preds_train = model.predict(x['train'])\n",
    "preds_test = model.predict(x['test'])\n",
    "\n",
    "preds_train[1] *= max_delta\n",
    "preds_test[1] *= max_delta\n",
    "\n",
    "show_results_nn('PhasedLSTM', preds_train, preds_test)"
   ]
  },
  {
   "cell_type": "code",
   "execution_count": null,
   "metadata": {},
   "outputs": [],
   "source": []
  },
  {
   "cell_type": "markdown",
   "metadata": {},
   "source": [
    "# Model Stats"
   ]
  },
  {
   "cell_type": "markdown",
   "metadata": {},
   "source": [
    "## Event Error"
   ]
  },
  {
   "cell_type": "code",
   "execution_count": null,
   "metadata": {},
   "outputs": [],
   "source": [
    "results.grouped_bar('event')"
   ]
  },
  {
   "cell_type": "markdown",
   "metadata": {},
   "source": [
    "### Train"
   ]
  },
  {
   "cell_type": "code",
   "execution_count": null,
   "metadata": {},
   "outputs": [],
   "source": [
    "results.graph_results('event', 'train')"
   ]
  },
  {
   "cell_type": "markdown",
   "metadata": {},
   "source": [
    "### Test"
   ]
  },
  {
   "cell_type": "code",
   "execution_count": null,
   "metadata": {},
   "outputs": [],
   "source": [
    "results.graph_results('event', 'test')"
   ]
  },
  {
   "cell_type": "markdown",
   "metadata": {},
   "source": [
    "## Time Error"
   ]
  },
  {
   "cell_type": "code",
   "execution_count": null,
   "metadata": {},
   "outputs": [],
   "source": [
    "results.grouped_bar('time')"
   ]
  },
  {
   "cell_type": "markdown",
   "metadata": {},
   "source": [
    "### Train"
   ]
  },
  {
   "cell_type": "code",
   "execution_count": null,
   "metadata": {},
   "outputs": [],
   "source": [
    "results.graph_results('time', 'train')"
   ]
  },
  {
   "cell_type": "markdown",
   "metadata": {},
   "source": [
    "### Test"
   ]
  },
  {
   "cell_type": "code",
   "execution_count": null,
   "metadata": {},
   "outputs": [],
   "source": [
    "results.graph_results('time', 'test')"
   ]
  },
  {
   "cell_type": "code",
   "execution_count": null,
   "metadata": {},
   "outputs": [],
   "source": []
  }
 ],
 "metadata": {
  "kernelspec": {
   "display_name": "Python 3",
   "language": "python",
   "name": "python3"
  },
  "language_info": {
   "codemirror_mode": {
    "name": "ipython",
    "version": 3
   },
   "file_extension": ".py",
   "mimetype": "text/x-python",
   "name": "python",
   "nbconvert_exporter": "python",
   "pygments_lexer": "ipython3",
   "version": "3.6.5"
  }
 },
 "nbformat": 4,
 "nbformat_minor": 2
}
