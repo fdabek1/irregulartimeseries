{
 "cells": [
  {
   "cell_type": "markdown",
   "metadata": {},
   "source": [
    "Below is boilerplate items for each of these analysis notebooks."
   ]
  },
  {
   "cell_type": "code",
   "execution_count": 1,
   "metadata": {},
   "outputs": [],
   "source": [
    "DATA_FOLDER = 'data/fsm/'"
   ]
  },
  {
   "cell_type": "code",
   "execution_count": 2,
   "metadata": {},
   "outputs": [],
   "source": [
    "from IPython.display import display, HTML\n",
    "import numpy as np"
   ]
  },
  {
   "cell_type": "markdown",
   "metadata": {},
   "source": [
    "Import my own custom handlers"
   ]
  },
  {
   "cell_type": "code",
   "execution_count": 3,
   "metadata": {},
   "outputs": [],
   "source": [
    "import altair as alt\n",
    "alt.renderers.enable('notebook')\n",
    "\n",
    "from viz import visualize_seqs\n",
    "from model_stats import ModelStats\n",
    "\n",
    "results = ModelStats()"
   ]
  },
  {
   "cell_type": "markdown",
   "metadata": {},
   "source": [
    "# Data - FSM"
   ]
  },
  {
   "cell_type": "markdown",
   "metadata": {},
   "source": [
    "The data for fsm is based off of the below automaton.\n",
    "\n",
    "![alt text](data/fsm/IrregularFSM.png \"Title\")"
   ]
  },
  {
   "cell_type": "markdown",
   "metadata": {},
   "source": [
    "Read data\n",
    "\n",
    "IMPORTANT: Adding 1 to each event so that the events start at 1.  This is important for when later using one-hot models and using 0 as a padding."
   ]
  },
  {
   "cell_type": "code",
   "execution_count": 4,
   "metadata": {},
   "outputs": [],
   "source": [
    "file_index = 1\n",
    "events = {}\n",
    "times = {}\n",
    "\n",
    "for data_type in ['train', 'test']:\n",
    "    with open(DATA_FOLDER + 'event-' + str(file_index) + '-' + data_type + '.txt') as f_events:\n",
    "        events[data_type] = [[int(y) + 1 for y in x.split()] for x in f_events]\n",
    "        \n",
    "    with open(DATA_FOLDER + 'time-' + str(file_index) + '-' + data_type + '.txt') as f_times:\n",
    "        times[data_type] = [[float(y) for y in x.split()] for x in f_times]"
   ]
  },
  {
   "cell_type": "markdown",
   "metadata": {},
   "source": [
    "Compute deltas for times.\n",
    "\n",
    "It seems that the general approach usually is to just use timestamps, but going to also compute deltas because maybe will want to use that to make things easier."
   ]
  },
  {
   "cell_type": "code",
   "execution_count": 5,
   "metadata": {},
   "outputs": [],
   "source": [
    "deltas = {}\n",
    "for data_type in ['train', 'test']:\n",
    "    deltas[data_type] = []\n",
    "    for seq in times[data_type]:\n",
    "        seq_deltas = []\n",
    "        for i in range(1, len(seq)):\n",
    "            seq_deltas.append(seq[i] - seq[i-1])\n",
    "        deltas[data_type].append(seq_deltas)"
   ]
  },
  {
   "cell_type": "markdown",
   "metadata": {},
   "source": [
    "# Models for Both"
   ]
  },
  {
   "cell_type": "markdown",
   "metadata": {},
   "source": [
    "Errors for these models is RMSE:\n",
    "\n",
    "https://en.wikipedia.org/wiki/Root-mean-square_deviation"
   ]
  },
  {
   "cell_type": "markdown",
   "metadata": {},
   "source": [
    "# Helper Functions"
   ]
  },
  {
   "cell_type": "code",
   "execution_count": 6,
   "metadata": {},
   "outputs": [],
   "source": [
    "def make_flat(arr):\n",
    "    flattened = []\n",
    "    for seq in arr:\n",
    "        flattened += seq\n",
    "        \n",
    "    return flattened"
   ]
  },
  {
   "cell_type": "code",
   "execution_count": 7,
   "metadata": {},
   "outputs": [],
   "source": [
    "def convert_flat(predictions, data_type):\n",
    "    pred = []\n",
    "    index = 0\n",
    "    for s, seq in enumerate(events[data_type]):\n",
    "        start_index = index\n",
    "        index += len(seq) - 1\n",
    "        pred.append(predictions[start_index:index])\n",
    "        \n",
    "    return pred"
   ]
  },
  {
   "cell_type": "code",
   "execution_count": 8,
   "metadata": {},
   "outputs": [],
   "source": [
    "def convert_nn_seq(predictions, data_type):\n",
    "    pred = []\n",
    "    for s, seq in enumerate(events[data_type]):\n",
    "        seq_len = len(seq) - 1\n",
    "        pred.append(predictions[s][-seq_len:].tolist())\n",
    "        \n",
    "    return pred"
   ]
  },
  {
   "cell_type": "code",
   "execution_count": 9,
   "metadata": {},
   "outputs": [],
   "source": [
    "from sklearn.metrics import mean_squared_error\n",
    "import math\n",
    "\n",
    "def compute_event_error(y_true, y_pred):\n",
    "    num_error = 0\n",
    "    total = 0\n",
    "    for s, seq in enumerate(y_true):\n",
    "        total += len(seq) - 1\n",
    "        for e, event in enumerate(seq[1:]):\n",
    "            if event != y_pred[s][e]:\n",
    "                num_error += 1\n",
    "                \n",
    "    return (num_error / total) * 100\n",
    "\n",
    "def compute_time_error(y_true, y_pred):\n",
    "    y_true = make_flat(y_true)\n",
    "    y_pred = make_flat(y_pred)\n",
    "    \n",
    "    return math.sqrt(mean_squared_error(y_true, y_pred))\n",
    "\n",
    "def show_results(name, train_pred, test_pred):\n",
    "    print('----')\n",
    "    train_event_err = compute_event_error(events['train'], train_pred[0])\n",
    "    train_time_err = compute_time_error(deltas['train'], train_pred[1])\n",
    "    test_event_err = compute_event_error(events['test'], test_pred[0])\n",
    "    test_time_err = compute_time_error(deltas['test'], test_pred[1])\n",
    "    results.add_stat(name, {'train': train_event_err, 'test': test_event_err}, {'train': train_time_err, 'test': test_time_err})\n",
    "    print('Train Error: ', train_event_err, '-', train_time_err)\n",
    "    print('Test Error: ', test_event_err, '-', test_time_err)\n",
    "    display(HTML('<h3>Train</h3>'))\n",
    "    display(HTML(visualize_seqs(events['train'], train_pred[0], deltas['train'], train_pred[1])))\n",
    "    display(HTML('<h3>Test</h3>'))\n",
    "    display(HTML(visualize_seqs(events['test'], train_pred[0], deltas['test'], test_pred[1])))"
   ]
  },
  {
   "cell_type": "code",
   "execution_count": 10,
   "metadata": {},
   "outputs": [],
   "source": [
    "def show_results_nn(name, train_preds, test_preds):\n",
    "    # Convert event predictions\n",
    "    train_preds[0] = np.argmax(train_preds[0], axis=2) + 1\n",
    "    test_preds[0] = np.argmax(test_preds[0], axis=2) + 1\n",
    "    \n",
    "    train_preds[1] = np.squeeze(train_preds[1], axis=2)\n",
    "    test_preds[1] = np.squeeze(test_preds[1], axis=2)\n",
    "    \n",
    "    for i in range(2):\n",
    "        train_preds[i] = convert_nn_seq(train_preds[i], 'train')\n",
    "        test_preds[i] = convert_nn_seq(test_preds[i], 'test')\n",
    "        \n",
    "    show_results(name, train_preds, test_preds)"
   ]
  },
  {
   "cell_type": "markdown",
   "metadata": {},
   "source": [
    "# Baseline Predictor"
   ]
  },
  {
   "cell_type": "markdown",
   "metadata": {},
   "source": [
    "Using methodology from https://github.com/dunan/NeuralPointProcess/blob/master/code/baselines/majority_predictor/time_mean_baseline.py\n",
    "\n",
    "A scale is used there so adding a variable for that."
   ]
  },
  {
   "cell_type": "code",
   "execution_count": 11,
   "metadata": {},
   "outputs": [],
   "source": [
    "scale = 0.001"
   ]
  },
  {
   "cell_type": "code",
   "execution_count": 12,
   "metadata": {},
   "outputs": [
    {
     "name": "stdout",
     "output_type": "stream",
     "text": [
      "Most commom event is 1\n",
      "Mean predictor using deltas 0.0027380000000000004\n",
      "----\n",
      "Train Error:  100.0 - 2.9005196445885346\n",
      "Test Error:  100.0 - 2.9128934921558667\n"
     ]
    },
    {
     "data": {
      "text/html": [
       "<h3>Train</h3>"
      ],
      "text/plain": [
       "<IPython.core.display.HTML object>"
      ]
     },
     "metadata": {},
     "output_type": "display_data"
    },
    {
     "data": {
      "text/html": [
       "<div><strong><u>1</u></strong> <button type=\"button\" class=\"btn btn-danger\" style=\"margin-right: 10px;\"title=\"Event True: 2 - Pred: 1\n",
       "Time True: 5.0 - Pred: 0.0027380000000000004\">2<br></button><button type=\"button\" class=\"btn btn-danger\" style=\"margin-right: 10px;\"title=\"Event True: 4 - Pred: 1\n",
       "Time True: 3.0 - Pred: 0.0027380000000000004\">4<br></button><button type=\"button\" class=\"btn btn-danger\" style=\"margin-right: 10px;\"title=\"Event True: 3 - Pred: 1\n",
       "Time True: 3.0 - Pred: 0.0027380000000000004\">3<br></button><button type=\"button\" class=\"btn btn-danger\" style=\"margin-right: 10px;\"title=\"Event True: 5 - Pred: 1\n",
       "Time True: 3.0 - Pred: 0.0027380000000000004\">5<br></button></div><br><div><strong><u>2</u></strong> <button type=\"button\" class=\"btn btn-danger\" style=\"margin-right: 10px;\"title=\"Event True: 2 - Pred: 1\n",
       "Time True: 5.0 - Pred: 0.0027380000000000004\">2<br></button><button type=\"button\" class=\"btn btn-danger\" style=\"margin-right: 10px;\"title=\"Event True: 4 - Pred: 1\n",
       "Time True: 3.0 - Pred: 0.0027380000000000004\">4<br></button><button type=\"button\" class=\"btn btn-danger\" style=\"margin-right: 10px;\"title=\"Event True: 3 - Pred: 1\n",
       "Time True: 3.0 - Pred: 0.0027380000000000004\">3<br></button><button type=\"button\" class=\"btn btn-danger\" style=\"margin-right: 10px;\"title=\"Event True: 5 - Pred: 1\n",
       "Time True: 3.0 - Pred: 0.0027380000000000004\">5<br></button></div><br><div><strong><u>3</u></strong> <button type=\"button\" class=\"btn btn-danger\" style=\"margin-right: 10px;\"title=\"Event True: 2 - Pred: 1\n",
       "Time True: 2.0 - Pred: 0.0027380000000000004\">2<br></button><button type=\"button\" class=\"btn btn-danger\" style=\"margin-right: 10px;\"title=\"Event True: 3 - Pred: 1\n",
       "Time True: 2.0 - Pred: 0.0027380000000000004\">3<br></button><button type=\"button\" class=\"btn btn-danger\" style=\"margin-right: 10px;\"title=\"Event True: 4 - Pred: 1\n",
       "Time True: 2.0 - Pred: 0.0027380000000000004\">4<br></button><button type=\"button\" class=\"btn btn-danger\" style=\"margin-right: 10px;\"title=\"Event True: 5 - Pred: 1\n",
       "Time True: 2.0 - Pred: 0.0027380000000000004\">5<br></button></div><br><div><strong><u>4</u></strong> <button type=\"button\" class=\"btn btn-danger\" style=\"margin-right: 10px;\"title=\"Event True: 2 - Pred: 1\n",
       "Time True: 2.0 - Pred: 0.0027380000000000004\">2<br></button><button type=\"button\" class=\"btn btn-danger\" style=\"margin-right: 10px;\"title=\"Event True: 3 - Pred: 1\n",
       "Time True: 2.0 - Pred: 0.0027380000000000004\">3<br></button><button type=\"button\" class=\"btn btn-danger\" style=\"margin-right: 10px;\"title=\"Event True: 4 - Pred: 1\n",
       "Time True: 2.0 - Pred: 0.0027380000000000004\">4<br></button><button type=\"button\" class=\"btn btn-danger\" style=\"margin-right: 10px;\"title=\"Event True: 5 - Pred: 1\n",
       "Time True: 2.0 - Pred: 0.0027380000000000004\">5<br></button></div><br><div><strong><u>5</u></strong> <button type=\"button\" class=\"btn btn-danger\" style=\"margin-right: 10px;\"title=\"Event True: 2 - Pred: 1\n",
       "Time True: 2.0 - Pred: 0.0027380000000000004\">2<br></button><button type=\"button\" class=\"btn btn-danger\" style=\"margin-right: 10px;\"title=\"Event True: 3 - Pred: 1\n",
       "Time True: 2.0 - Pred: 0.0027380000000000004\">3<br></button><button type=\"button\" class=\"btn btn-danger\" style=\"margin-right: 10px;\"title=\"Event True: 4 - Pred: 1\n",
       "Time True: 2.0 - Pred: 0.0027380000000000004\">4<br></button><button type=\"button\" class=\"btn btn-danger\" style=\"margin-right: 10px;\"title=\"Event True: 5 - Pred: 1\n",
       "Time True: 2.0 - Pred: 0.0027380000000000004\">5<br></button></div><br>"
      ],
      "text/plain": [
       "<IPython.core.display.HTML object>"
      ]
     },
     "metadata": {},
     "output_type": "display_data"
    },
    {
     "data": {
      "text/html": [
       "<h3>Test</h3>"
      ],
      "text/plain": [
       "<IPython.core.display.HTML object>"
      ]
     },
     "metadata": {},
     "output_type": "display_data"
    },
    {
     "data": {
      "text/html": [
       "<div><strong><u>1</u></strong> <button type=\"button\" class=\"btn btn-danger\" style=\"margin-right: 10px;\"title=\"Event True: 2 - Pred: 1\n",
       "Time True: 2.0 - Pred: 0.0027380000000000004\">2<br></button><button type=\"button\" class=\"btn btn-danger\" style=\"margin-right: 10px;\"title=\"Event True: 3 - Pred: 1\n",
       "Time True: 2.0 - Pred: 0.0027380000000000004\">3<br></button><button type=\"button\" class=\"btn btn-danger\" style=\"margin-right: 10px;\"title=\"Event True: 4 - Pred: 1\n",
       "Time True: 2.0 - Pred: 0.0027380000000000004\">4<br></button><button type=\"button\" class=\"btn btn-danger\" style=\"margin-right: 10px;\"title=\"Event True: 5 - Pred: 1\n",
       "Time True: 2.0 - Pred: 0.0027380000000000004\">5<br></button></div><br><div><strong><u>2</u></strong> <button type=\"button\" class=\"btn btn-danger\" style=\"margin-right: 10px;\"title=\"Event True: 2 - Pred: 1\n",
       "Time True: 5.0 - Pred: 0.0027380000000000004\">2<br></button><button type=\"button\" class=\"btn btn-danger\" style=\"margin-right: 10px;\"title=\"Event True: 4 - Pred: 1\n",
       "Time True: 3.0 - Pred: 0.0027380000000000004\">4<br></button><button type=\"button\" class=\"btn btn-danger\" style=\"margin-right: 10px;\"title=\"Event True: 3 - Pred: 1\n",
       "Time True: 3.0 - Pred: 0.0027380000000000004\">3<br></button><button type=\"button\" class=\"btn btn-danger\" style=\"margin-right: 10px;\"title=\"Event True: 5 - Pred: 1\n",
       "Time True: 3.0 - Pred: 0.0027380000000000004\">5<br></button></div><br><div><strong><u>3</u></strong> <button type=\"button\" class=\"btn btn-danger\" style=\"margin-right: 10px;\"title=\"Event True: 2 - Pred: 1\n",
       "Time True: 5.0 - Pred: 0.0027380000000000004\">2<br></button><button type=\"button\" class=\"btn btn-danger\" style=\"margin-right: 10px;\"title=\"Event True: 4 - Pred: 1\n",
       "Time True: 3.0 - Pred: 0.0027380000000000004\">4<br></button><button type=\"button\" class=\"btn btn-danger\" style=\"margin-right: 10px;\"title=\"Event True: 3 - Pred: 1\n",
       "Time True: 3.0 - Pred: 0.0027380000000000004\">3<br></button><button type=\"button\" class=\"btn btn-danger\" style=\"margin-right: 10px;\"title=\"Event True: 5 - Pred: 1\n",
       "Time True: 3.0 - Pred: 0.0027380000000000004\">5<br></button></div><br><div><strong><u>4</u></strong> <button type=\"button\" class=\"btn btn-danger\" style=\"margin-right: 10px;\"title=\"Event True: 2 - Pred: 1\n",
       "Time True: 5.0 - Pred: 0.0027380000000000004\">2<br></button><button type=\"button\" class=\"btn btn-danger\" style=\"margin-right: 10px;\"title=\"Event True: 4 - Pred: 1\n",
       "Time True: 3.0 - Pred: 0.0027380000000000004\">4<br></button><button type=\"button\" class=\"btn btn-danger\" style=\"margin-right: 10px;\"title=\"Event True: 3 - Pred: 1\n",
       "Time True: 3.0 - Pred: 0.0027380000000000004\">3<br></button><button type=\"button\" class=\"btn btn-danger\" style=\"margin-right: 10px;\"title=\"Event True: 5 - Pred: 1\n",
       "Time True: 3.0 - Pred: 0.0027380000000000004\">5<br></button></div><br><div><strong><u>5</u></strong> <button type=\"button\" class=\"btn btn-danger\" style=\"margin-right: 10px;\"title=\"Event True: 2 - Pred: 1\n",
       "Time True: 2.0 - Pred: 0.0027380000000000004\">2<br></button><button type=\"button\" class=\"btn btn-danger\" style=\"margin-right: 10px;\"title=\"Event True: 3 - Pred: 1\n",
       "Time True: 2.0 - Pred: 0.0027380000000000004\">3<br></button><button type=\"button\" class=\"btn btn-danger\" style=\"margin-right: 10px;\"title=\"Event True: 4 - Pred: 1\n",
       "Time True: 2.0 - Pred: 0.0027380000000000004\">4<br></button><button type=\"button\" class=\"btn btn-danger\" style=\"margin-right: 10px;\"title=\"Event True: 5 - Pred: 1\n",
       "Time True: 2.0 - Pred: 0.0027380000000000004\">5<br></button></div><br>"
      ],
      "text/plain": [
       "<IPython.core.display.HTML object>"
      ]
     },
     "metadata": {},
     "output_type": "display_data"
    }
   ],
   "source": [
    "# Predict events\n",
    "from collections import Counter\n",
    "\n",
    "cnt = Counter()\n",
    "for seq in events['train']:\n",
    "    for event in seq:\n",
    "        cnt[event] += 1\n",
    "\n",
    "top = cnt.most_common(1)[0][0]\n",
    "print('Most commom event is', top)\n",
    "\n",
    "train_pred_events = [[top for event in seq[1:]] for seq in events['train']]\n",
    "test_pred_events = [[top for event in seq[1:]] for seq in events['test']]\n",
    "\n",
    "\n",
    "# Predict deltas\n",
    "train_deltas = make_flat(deltas['train'])\n",
    "train_deltas = np.asarray(train_deltas) * scale\n",
    "\n",
    "mean_delta = np.mean(train_deltas)\n",
    "print('Mean predictor using deltas', mean_delta)\n",
    "\n",
    "train_pred_deltas = [[mean_delta for d in seq] for seq in deltas['train']]\n",
    "test_pred_deltas = [[mean_delta for d in seq] for seq in deltas['test']]\n",
    "\n",
    "\n",
    "# Show results\n",
    "show_results('Majority', (train_pred_events, train_pred_deltas), (test_pred_events, test_pred_deltas))"
   ]
  },
  {
   "cell_type": "code",
   "execution_count": null,
   "metadata": {},
   "outputs": [],
   "source": []
  },
  {
   "cell_type": "markdown",
   "metadata": {},
   "source": [
    "# Structure Data"
   ]
  },
  {
   "cell_type": "markdown",
   "metadata": {},
   "source": [
    "Need to structure the data into entire sequences for the approaches"
   ]
  },
  {
   "cell_type": "markdown",
   "metadata": {},
   "source": [
    "Normalize deltas for the neural network approaches.  Could try alternate normalization techniques in the future."
   ]
  },
  {
   "cell_type": "code",
   "execution_count": 13,
   "metadata": {},
   "outputs": [
    {
     "name": "stdout",
     "output_type": "stream",
     "text": [
      "Min delta 2.0\n",
      "Max delta 5.0\n"
     ]
    }
   ],
   "source": [
    "# Get the min and max deltas\n",
    "min_delta = 999999\n",
    "max_delta = -1\n",
    "\n",
    "for data_type in ['train', 'test']:\n",
    "    for seq in deltas[data_type]:\n",
    "        if min(seq) < min_delta:\n",
    "            min_delta = min(seq)\n",
    "            \n",
    "        if max(seq) > max_delta:\n",
    "            max_delta = max(seq)\n",
    "            \n",
    "\n",
    "print('Min delta', min_delta)\n",
    "print('Max delta', max_delta)\n",
    "\n",
    "deltas_temp = {}\n",
    "# Normalize based on max, just going to ignore min and treat it like it was 0\n",
    "for data_type in ['train', 'test']:\n",
    "    deltas_temp[data_type] = [[d / max_delta for d in seq] for seq in deltas[data_type]]\n",
    "    \n",
    "# # Function to undo normalize\n",
    "# def undo_norm_deltas(preds):\n",
    "#     for data_type in ['train', 'test']:\n",
    "    "
   ]
  },
  {
   "cell_type": "code",
   "execution_count": null,
   "metadata": {},
   "outputs": [],
   "source": []
  },
  {
   "cell_type": "code",
   "execution_count": 14,
   "metadata": {},
   "outputs": [],
   "source": [
    "x = {}\n",
    "y = {}\n",
    "\n",
    "for data_type in ['train', 'test']:\n",
    "    x[data_type] = [[], []]\n",
    "    y[data_type] = [[], []]\n",
    "    \n",
    "    # Events\n",
    "    for seq in events[data_type]:\n",
    "        x[data_type][0].append(seq[:-1])\n",
    "        y[data_type][0].append(seq[1:])\n",
    "        \n",
    "    # Deltas\n",
    "    for seq in deltas_temp[data_type]:\n",
    "        x[data_type][1].append(seq[:-1])\n",
    "        y[data_type][1].append(seq[1:])\n",
    "\n",
    "    for i in range(2):\n",
    "        x[data_type][i] = np.asarray(x[data_type][i])\n",
    "        y[data_type][i] = np.asarray(y[data_type][i])"
   ]
  },
  {
   "cell_type": "code",
   "execution_count": 15,
   "metadata": {},
   "outputs": [
    {
     "name": "stdout",
     "output_type": "stream",
     "text": [
      "Max Seq Length 5\n"
     ]
    }
   ],
   "source": [
    "# Find the max user length\n",
    "user_lengths = [len(seq) for seq in events['train']] + [len(seq) for seq in events['test']]\n",
    "user_length_counts = {}\n",
    "for length in user_lengths:\n",
    "    if length not in user_length_counts:\n",
    "        user_length_counts[length] = 0\n",
    "        \n",
    "    user_length_counts[length] += 1\n",
    "user_lengths = list(set(user_lengths))\n",
    "user_lengths = sorted(user_lengths, reverse=True)\n",
    "max_user_length = max(user_lengths)\n",
    "\n",
    "print('Max Seq Length', max_user_length)\n",
    "# print(user_lengths)"
   ]
  },
  {
   "cell_type": "markdown",
   "metadata": {},
   "source": [
    "Subtract one from x for events"
   ]
  },
  {
   "cell_type": "code",
   "execution_count": 16,
   "metadata": {},
   "outputs": [],
   "source": [
    "for data_type in ['train', 'test']:\n",
    "    x[data_type][0] = [[event - 1 for event in seq] for seq in x[data_type][0]]"
   ]
  },
  {
   "cell_type": "code",
   "execution_count": 17,
   "metadata": {},
   "outputs": [
    {
     "name": "stderr",
     "output_type": "stream",
     "text": [
      "D:\\Users\\fjd10\\Anaconda3\\envs\\tensorflow\\lib\\site-packages\\h5py\\__init__.py:36: FutureWarning: Conversion of the second argument of issubdtype from `float` to `np.floating` is deprecated. In future, it will be treated as `np.float64 == np.dtype(float).type`.\n",
      "  from ._conv import register_converters as _register_converters\n",
      "Using TensorFlow backend.\n"
     ]
    }
   ],
   "source": [
    "# Pad sequences\n",
    "from keras.preprocessing import sequence\n",
    "\n",
    "for data_type in ['train', 'test']:\n",
    "    for i in range(2):\n",
    "        x[data_type][i] = sequence.pad_sequences(x[data_type][i], maxlen=max_user_length)\n",
    "        y[data_type][i] = sequence.pad_sequences(y[data_type][i], maxlen=max_user_length)"
   ]
  },
  {
   "cell_type": "markdown",
   "metadata": {},
   "source": [
    "y variable needs to be one-hot for events.  (x will be made one-hot later for different models)"
   ]
  },
  {
   "cell_type": "code",
   "execution_count": 18,
   "metadata": {},
   "outputs": [],
   "source": [
    "num_events = 22\n",
    "one_hot = np.eye(num_events)\n",
    "for data_type in ['train', 'test']:\n",
    "    y[data_type][0] = [[one_hot[event-1] if event > 0 else np.zeros(num_events) for event in seq] for seq in y[data_type][0]]\n",
    "    y[data_type][0] = np.asarray(y[data_type][0])"
   ]
  },
  {
   "cell_type": "markdown",
   "metadata": {},
   "source": [
    "Add dimension to the end"
   ]
  },
  {
   "cell_type": "code",
   "execution_count": 19,
   "metadata": {},
   "outputs": [],
   "source": [
    "x['train'][0] = np.expand_dims(x['train'][0], axis=2)\n",
    "x['train'][1] = np.expand_dims(x['train'][1], axis=2)\n",
    "y['train'][1] = np.expand_dims(y['train'][1], axis=2)\n",
    "\n",
    "x['test'][0] = np.expand_dims(x['test'][0], axis=2)\n",
    "x['test'][1] = np.expand_dims(x['test'][1], axis=2)\n",
    "y['test'][1] = np.expand_dims(y['test'][1], axis=2)"
   ]
  },
  {
   "cell_type": "markdown",
   "metadata": {},
   "source": [
    "# Neural Networks"
   ]
  },
  {
   "cell_type": "markdown",
   "metadata": {},
   "source": [
    "We are going to try a bunch of different network configurations so let's import stuff that we'll need."
   ]
  },
  {
   "cell_type": "code",
   "execution_count": 20,
   "metadata": {},
   "outputs": [],
   "source": [
    "from keras.models import Sequential, Model\n",
    "from keras import optimizers\n",
    "from keras.layers import Input, Dense, TimeDistributed, Masking, SimpleRNN, Concatenate, RNN, LSTM"
   ]
  },
  {
   "cell_type": "markdown",
   "metadata": {},
   "source": [
    "# TODO - Evaluate how categorical_accuracy works for metrics"
   ]
  },
  {
   "cell_type": "code",
   "execution_count": 37,
   "metadata": {
    "scrolled": false
   },
   "outputs": [
    {
     "name": "stdout",
     "output_type": "stream",
     "text": [
      "Train on 1000 samples, validate on 200 samples\n",
      "Epoch 1/5\n",
      "1000/1000 [==============================] - 2s 2ms/step - loss: 2.5586 - events_loss: 2.4389 - time_loss: 0.1197 - events_acc: 0.3593 - val_loss: 1.8434 - val_events_loss: 1.7891 - val_time_loss: 0.0544 - val_events_acc: 0.6667\n",
      "Epoch 2/5\n",
      "1000/1000 [==============================] - 0s 125us/step - loss: 1.5198 - events_loss: 1.4866 - time_loss: 0.0333 - events_acc: 0.7297 - val_loss: 1.2289 - val_events_loss: 1.2098 - val_time_loss: 0.0191 - val_events_acc: 0.8333\n",
      "Epoch 3/5\n",
      "1000/1000 [==============================] - 0s 107us/step - loss: 1.0497 - events_loss: 1.0362 - time_loss: 0.0135 - events_acc: 0.9323 - val_loss: 0.8804 - val_events_loss: 0.8716 - val_time_loss: 0.0088 - val_events_acc: 1.0000\n",
      "Epoch 4/5\n",
      "1000/1000 [==============================] - 0s 108us/step - loss: 0.7691 - events_loss: 0.7629 - time_loss: 0.0063 - events_acc: 1.0000 - val_loss: 0.6574 - val_events_loss: 0.6533 - val_time_loss: 0.0041 - val_events_acc: 1.0000\n",
      "Epoch 5/5\n",
      "1000/1000 [==============================] - 0s 101us/step - loss: 0.5804 - events_loss: 0.5774 - time_loss: 0.0031 - events_acc: 1.0000 - val_loss: 0.5009 - val_events_loss: 0.4987 - val_time_loss: 0.0022 - val_events_acc: 1.0000\n",
      "----\n",
      "Train Error:  25.0 - 2.292958412194107\n",
      "Test Error:  25.0 - 2.3025808385581596\n"
     ]
    },
    {
     "data": {
      "text/html": [
       "<h3>Train</h3>"
      ],
      "text/plain": [
       "<IPython.core.display.HTML object>"
      ]
     },
     "metadata": {},
     "output_type": "display_data"
    },
    {
     "data": {
      "text/html": [
       "<div><strong><u>1</u></strong> <button type=\"button\" class=\"btn btn-danger\" style=\"margin-right: 10px;\"title=\"Event True: 2 - Pred: 3\n",
       "Time True: 5.0 - Pred: 2.23081374168396\">2<br></button><button type=\"button\" class=\"btn btn-success\" style=\"margin-right: 10px;\"title=\"Event True: 4 - Pred: 4\n",
       "Time True: 3.0 - Pred: 0.3282305598258972\">4<br></button><button type=\"button\" class=\"btn btn-success\" style=\"margin-right: 10px;\"title=\"Event True: 3 - Pred: 3\n",
       "Time True: 3.0 - Pred: 0.021833833307027817\">3<br></button><button type=\"button\" class=\"btn btn-success\" style=\"margin-right: 10px;\"title=\"Event True: 5 - Pred: 5\n",
       "Time True: 3.0 - Pred: 0.06975165009498596\">5<br></button></div><br><div><strong><u>2</u></strong> <button type=\"button\" class=\"btn btn-danger\" style=\"margin-right: 10px;\"title=\"Event True: 2 - Pred: 3\n",
       "Time True: 5.0 - Pred: 2.23081374168396\">2<br></button><button type=\"button\" class=\"btn btn-success\" style=\"margin-right: 10px;\"title=\"Event True: 4 - Pred: 4\n",
       "Time True: 3.0 - Pred: 0.3282305598258972\">4<br></button><button type=\"button\" class=\"btn btn-success\" style=\"margin-right: 10px;\"title=\"Event True: 3 - Pred: 3\n",
       "Time True: 3.0 - Pred: 0.021833833307027817\">3<br></button><button type=\"button\" class=\"btn btn-success\" style=\"margin-right: 10px;\"title=\"Event True: 5 - Pred: 5\n",
       "Time True: 3.0 - Pred: 0.06975165009498596\">5<br></button></div><br><div><strong><u>3</u></strong> <button type=\"button\" class=\"btn btn-danger\" style=\"margin-right: 10px;\"title=\"Event True: 2 - Pred: 3\n",
       "Time True: 2.0 - Pred: 2.23081374168396\">2<br></button><button type=\"button\" class=\"btn btn-success\" style=\"margin-right: 10px;\"title=\"Event True: 3 - Pred: 3\n",
       "Time True: 2.0 - Pred: 0.458578497171402\">3<br></button><button type=\"button\" class=\"btn btn-success\" style=\"margin-right: 10px;\"title=\"Event True: 4 - Pred: 4\n",
       "Time True: 2.0 - Pred: 0.03511654585599899\">4<br></button><button type=\"button\" class=\"btn btn-success\" style=\"margin-right: 10px;\"title=\"Event True: 5 - Pred: 5\n",
       "Time True: 2.0 - Pred: 0.03469281271100044\">5<br></button></div><br><div><strong><u>4</u></strong> <button type=\"button\" class=\"btn btn-danger\" style=\"margin-right: 10px;\"title=\"Event True: 2 - Pred: 3\n",
       "Time True: 2.0 - Pred: 2.23081374168396\">2<br></button><button type=\"button\" class=\"btn btn-success\" style=\"margin-right: 10px;\"title=\"Event True: 3 - Pred: 3\n",
       "Time True: 2.0 - Pred: 0.458578497171402\">3<br></button><button type=\"button\" class=\"btn btn-success\" style=\"margin-right: 10px;\"title=\"Event True: 4 - Pred: 4\n",
       "Time True: 2.0 - Pred: 0.03511654585599899\">4<br></button><button type=\"button\" class=\"btn btn-success\" style=\"margin-right: 10px;\"title=\"Event True: 5 - Pred: 5\n",
       "Time True: 2.0 - Pred: 0.03469281271100044\">5<br></button></div><br><div><strong><u>5</u></strong> <button type=\"button\" class=\"btn btn-danger\" style=\"margin-right: 10px;\"title=\"Event True: 2 - Pred: 3\n",
       "Time True: 2.0 - Pred: 2.23081374168396\">2<br></button><button type=\"button\" class=\"btn btn-success\" style=\"margin-right: 10px;\"title=\"Event True: 3 - Pred: 3\n",
       "Time True: 2.0 - Pred: 0.458578497171402\">3<br></button><button type=\"button\" class=\"btn btn-success\" style=\"margin-right: 10px;\"title=\"Event True: 4 - Pred: 4\n",
       "Time True: 2.0 - Pred: 0.03511654585599899\">4<br></button><button type=\"button\" class=\"btn btn-success\" style=\"margin-right: 10px;\"title=\"Event True: 5 - Pred: 5\n",
       "Time True: 2.0 - Pred: 0.03469281271100044\">5<br></button></div><br>"
      ],
      "text/plain": [
       "<IPython.core.display.HTML object>"
      ]
     },
     "metadata": {},
     "output_type": "display_data"
    },
    {
     "data": {
      "text/html": [
       "<h3>Test</h3>"
      ],
      "text/plain": [
       "<IPython.core.display.HTML object>"
      ]
     },
     "metadata": {},
     "output_type": "display_data"
    },
    {
     "data": {
      "text/html": [
       "<div><strong><u>1</u></strong> <button type=\"button\" class=\"btn btn-danger\" style=\"margin-right: 10px;\"title=\"Event True: 2 - Pred: 3\n",
       "Time True: 2.0 - Pred: 2.23081374168396\">2<br></button><button type=\"button\" class=\"btn btn-danger\" style=\"margin-right: 10px;\"title=\"Event True: 3 - Pred: 4\n",
       "Time True: 2.0 - Pred: 0.458578497171402\">3<br></button><button type=\"button\" class=\"btn btn-danger\" style=\"margin-right: 10px;\"title=\"Event True: 4 - Pred: 3\n",
       "Time True: 2.0 - Pred: 0.03511654585599899\">4<br></button><button type=\"button\" class=\"btn btn-success\" style=\"margin-right: 10px;\"title=\"Event True: 5 - Pred: 5\n",
       "Time True: 2.0 - Pred: 0.03469281271100044\">5<br></button></div><br><div><strong><u>2</u></strong> <button type=\"button\" class=\"btn btn-danger\" style=\"margin-right: 10px;\"title=\"Event True: 2 - Pred: 3\n",
       "Time True: 5.0 - Pred: 2.23081374168396\">2<br></button><button type=\"button\" class=\"btn btn-success\" style=\"margin-right: 10px;\"title=\"Event True: 4 - Pred: 4\n",
       "Time True: 3.0 - Pred: 0.3282305598258972\">4<br></button><button type=\"button\" class=\"btn btn-success\" style=\"margin-right: 10px;\"title=\"Event True: 3 - Pred: 3\n",
       "Time True: 3.0 - Pred: 0.021833833307027817\">3<br></button><button type=\"button\" class=\"btn btn-success\" style=\"margin-right: 10px;\"title=\"Event True: 5 - Pred: 5\n",
       "Time True: 3.0 - Pred: 0.06975165009498596\">5<br></button></div><br><div><strong><u>3</u></strong> <button type=\"button\" class=\"btn btn-danger\" style=\"margin-right: 10px;\"title=\"Event True: 2 - Pred: 3\n",
       "Time True: 5.0 - Pred: 2.23081374168396\">2<br></button><button type=\"button\" class=\"btn btn-danger\" style=\"margin-right: 10px;\"title=\"Event True: 4 - Pred: 3\n",
       "Time True: 3.0 - Pred: 0.3282305598258972\">4<br></button><button type=\"button\" class=\"btn btn-danger\" style=\"margin-right: 10px;\"title=\"Event True: 3 - Pred: 4\n",
       "Time True: 3.0 - Pred: 0.021833833307027817\">3<br></button><button type=\"button\" class=\"btn btn-success\" style=\"margin-right: 10px;\"title=\"Event True: 5 - Pred: 5\n",
       "Time True: 3.0 - Pred: 0.06975165009498596\">5<br></button></div><br><div><strong><u>4</u></strong> <button type=\"button\" class=\"btn btn-danger\" style=\"margin-right: 10px;\"title=\"Event True: 2 - Pred: 3\n",
       "Time True: 5.0 - Pred: 2.23081374168396\">2<br></button><button type=\"button\" class=\"btn btn-danger\" style=\"margin-right: 10px;\"title=\"Event True: 4 - Pred: 3\n",
       "Time True: 3.0 - Pred: 0.3282305598258972\">4<br></button><button type=\"button\" class=\"btn btn-danger\" style=\"margin-right: 10px;\"title=\"Event True: 3 - Pred: 4\n",
       "Time True: 3.0 - Pred: 0.021833833307027817\">3<br></button><button type=\"button\" class=\"btn btn-success\" style=\"margin-right: 10px;\"title=\"Event True: 5 - Pred: 5\n",
       "Time True: 3.0 - Pred: 0.06975165009498596\">5<br></button></div><br><div><strong><u>5</u></strong> <button type=\"button\" class=\"btn btn-danger\" style=\"margin-right: 10px;\"title=\"Event True: 2 - Pred: 3\n",
       "Time True: 2.0 - Pred: 2.23081374168396\">2<br></button><button type=\"button\" class=\"btn btn-success\" style=\"margin-right: 10px;\"title=\"Event True: 3 - Pred: 3\n",
       "Time True: 2.0 - Pred: 0.458578497171402\">3<br></button><button type=\"button\" class=\"btn btn-success\" style=\"margin-right: 10px;\"title=\"Event True: 4 - Pred: 4\n",
       "Time True: 2.0 - Pred: 0.03511654585599899\">4<br></button><button type=\"button\" class=\"btn btn-success\" style=\"margin-right: 10px;\"title=\"Event True: 5 - Pred: 5\n",
       "Time True: 2.0 - Pred: 0.03469281271100044\">5<br></button></div><br>"
      ],
      "text/plain": [
       "<IPython.core.display.HTML object>"
      ]
     },
     "metadata": {},
     "output_type": "display_data"
    }
   ],
   "source": [
    "input_events = Input(shape=(max_user_length, 1))\n",
    "input_deltas = Input(shape=(max_user_length, 1))\n",
    "\n",
    "inputs = Concatenate(axis=2)([input_events, input_deltas])\n",
    "inputs = Masking(mask_value=0.)(inputs)\n",
    "\n",
    "rnn = SimpleRNN(50, activation='tanh', return_sequences=True)(inputs)\n",
    "\n",
    "output_events = TimeDistributed(Dense(num_events, activation='softmax'), name='events')(rnn)\n",
    "\n",
    "output_deltas = TimeDistributed(Dense(15, activation='relu'))(rnn)\n",
    "output_deltas = TimeDistributed(Dense(1, activation='sigmoid'), name='time')(output_deltas)\n",
    "\n",
    "model = Model(inputs=[input_events, input_deltas], outputs=[output_events, output_deltas])\n",
    "\n",
    "model.compile(loss=['categorical_crossentropy', 'mse'], optimizer='adam', metrics={'events': 'accuracy'})\n",
    "\n",
    "model.fit(x['train'], y['train'], validation_data=(x['test'], y['test']), batch_size=50, epochs=5)\n",
    "\n",
    "preds_train = model.predict(x['train'])\n",
    "preds_test = model.predict(x['test'])\n",
    "\n",
    "preds_train[0] += 1\n",
    "preds_test[0] += 1\n",
    "\n",
    "preds_train[1] *= max_delta\n",
    "preds_test[1] *= max_delta\n",
    "\n",
    "show_results_nn('RNN', preds_train, preds_test)"
   ]
  },
  {
   "cell_type": "code",
   "execution_count": 31,
   "metadata": {
    "scrolled": true
   },
   "outputs": [
    {
     "name": "stdout",
     "output_type": "stream",
     "text": [
      "Train on 1000 samples, validate on 200 samples\n",
      "Epoch 1/50\n",
      "1000/1000 [==============================] - 2s 2ms/step - loss: 3.2825 - events_loss: 3.0393 - time_loss: 0.2432 - events_acc: 0.2650 - val_loss: 3.1832 - val_events_loss: 2.9533 - val_time_loss: 0.2299 - val_events_acc: 0.3333\n",
      "Epoch 2/50\n",
      "1000/1000 [==============================] - 0s 133us/step - loss: 3.0962 - events_loss: 2.8780 - time_loss: 0.2182 - events_acc: 0.3637 - val_loss: 2.9831 - val_events_loss: 2.7800 - val_time_loss: 0.2031 - val_events_acc: 0.6667\n",
      "Epoch 3/50\n",
      "1000/1000 [==============================] - 0s 102us/step - loss: 2.8798 - events_loss: 2.6887 - time_loss: 0.1911 - events_acc: 0.6280 - val_loss: 2.7421 - val_events_loss: 2.5662 - val_time_loss: 0.1759 - val_events_acc: 0.5000\n",
      "Epoch 4/50\n",
      "1000/1000 [==============================] - 0s 93us/step - loss: 2.6129 - events_loss: 2.4520 - time_loss: 0.1610 - events_acc: 0.4973 - val_loss: 2.4424 - val_events_loss: 2.3014 - val_time_loss: 0.1410 - val_events_acc: 0.5000\n",
      "Epoch 5/50\n",
      "1000/1000 [==============================] - 0s 96us/step - loss: 2.2943 - events_loss: 2.1705 - time_loss: 0.1238 - events_acc: 0.4973 - val_loss: 2.1094 - val_events_loss: 2.0063 - val_time_loss: 0.1031 - val_events_acc: 0.5000\n",
      "Epoch 6/50\n",
      "1000/1000 [==============================] - 0s 90us/step - loss: 1.9730 - events_loss: 1.8842 - time_loss: 0.0888 - events_acc: 0.4973 - val_loss: 1.8163 - val_events_loss: 1.7434 - val_time_loss: 0.0729 - val_events_acc: 0.5000\n",
      "Epoch 7/50\n",
      "1000/1000 [==============================] - 0s 90us/step - loss: 1.7168 - events_loss: 1.6533 - time_loss: 0.0635 - events_acc: 0.4973 - val_loss: 1.6060 - val_events_loss: 1.5526 - val_time_loss: 0.0534 - val_events_acc: 0.5000\n",
      "Epoch 8/50\n",
      "1000/1000 [==============================] - 0s 92us/step - loss: 1.5367 - events_loss: 1.4893 - time_loss: 0.0474 - events_acc: 0.4973 - val_loss: 1.4558 - val_events_loss: 1.4153 - val_time_loss: 0.0405 - val_events_acc: 0.5000\n",
      "Epoch 9/50\n",
      "1000/1000 [==============================] - 0s 90us/step - loss: 1.4006 - events_loss: 1.3647 - time_loss: 0.0358 - events_acc: 0.4973 - val_loss: 1.3328 - val_events_loss: 1.3022 - val_time_loss: 0.0305 - val_events_acc: 0.5000\n",
      "Epoch 10/50\n",
      "1000/1000 [==============================] - 0s 90us/step - loss: 1.2843 - events_loss: 1.2571 - time_loss: 0.0273 - events_acc: 0.4973 - val_loss: 1.2230 - val_events_loss: 1.1995 - val_time_loss: 0.0235 - val_events_acc: 0.5000\n",
      "Epoch 11/50\n",
      "1000/1000 [==============================] - 0s 91us/step - loss: 1.1785 - events_loss: 1.1574 - time_loss: 0.0211 - events_acc: 0.5837 - val_loss: 1.1215 - val_events_loss: 1.1033 - val_time_loss: 0.0182 - val_events_acc: 0.6667\n",
      "Epoch 12/50\n",
      "1000/1000 [==============================] - 0s 91us/step - loss: 1.0809 - events_loss: 1.0645 - time_loss: 0.0164 - events_acc: 0.7647 - val_loss: 1.0284 - val_events_loss: 1.0142 - val_time_loss: 0.0141 - val_events_acc: 0.8333\n",
      "Epoch 13/50\n",
      "1000/1000 [==============================] - 0s 90us/step - loss: 0.9915 - events_loss: 0.9788 - time_loss: 0.0127 - events_acc: 0.8307 - val_loss: 0.9436 - val_events_loss: 0.9326 - val_time_loss: 0.0110 - val_events_acc: 0.8333\n",
      "Epoch 14/50\n",
      "1000/1000 [==============================] - 0s 91us/step - loss: 0.9114 - events_loss: 0.9014 - time_loss: 0.0099 - events_acc: 0.8307 - val_loss: 0.8689 - val_events_loss: 0.8603 - val_time_loss: 0.0086 - val_events_acc: 0.8333\n",
      "Epoch 15/50\n",
      "1000/1000 [==============================] - 0s 90us/step - loss: 0.8416 - events_loss: 0.8338 - time_loss: 0.0077 - events_acc: 0.8127 - val_loss: 0.8048 - val_events_loss: 0.7981 - val_time_loss: 0.0067 - val_events_acc: 0.6667\n",
      "Epoch 16/50\n",
      "1000/1000 [==============================] - 0s 90us/step - loss: 0.7819 - events_loss: 0.7758 - time_loss: 0.0061 - events_acc: 0.7767 - val_loss: 0.7502 - val_events_loss: 0.7449 - val_time_loss: 0.0053 - val_events_acc: 0.8333\n",
      "Epoch 17/50\n",
      "1000/1000 [==============================] - 0s 90us/step - loss: 0.7308 - events_loss: 0.7259 - time_loss: 0.0048 - events_acc: 0.7643 - val_loss: 0.7026 - val_events_loss: 0.6985 - val_time_loss: 0.0042 - val_events_acc: 0.6667\n",
      "Epoch 18/50\n",
      "1000/1000 [==============================] - 0s 91us/step - loss: 0.6859 - events_loss: 0.6821 - time_loss: 0.0038 - events_acc: 0.7103 - val_loss: 0.6607 - val_events_loss: 0.6573 - val_time_loss: 0.0034 - val_events_acc: 0.8333\n",
      "Epoch 19/50\n",
      "1000/1000 [==============================] - 0s 92us/step - loss: 0.6461 - events_loss: 0.6430 - time_loss: 0.0031 - events_acc: 0.8307 - val_loss: 0.6229 - val_events_loss: 0.6202 - val_time_loss: 0.0027 - val_events_acc: 0.8333\n",
      "Epoch 20/50\n",
      "1000/1000 [==============================] - 0s 91us/step - loss: 0.6101 - events_loss: 0.6076 - time_loss: 0.0025 - events_acc: 0.8307 - val_loss: 0.5891 - val_events_loss: 0.5869 - val_time_loss: 0.0023 - val_events_acc: 0.8333\n",
      "Epoch 21/50\n",
      "1000/1000 [==============================] - 0s 90us/step - loss: 0.5780 - events_loss: 0.5759 - time_loss: 0.0021 - events_acc: 0.8307 - val_loss: 0.5584 - val_events_loss: 0.5565 - val_time_loss: 0.0019 - val_events_acc: 0.8333\n",
      "Epoch 22/50\n",
      "1000/1000 [==============================] - 0s 90us/step - loss: 0.5487 - events_loss: 0.5469 - time_loss: 0.0018 - events_acc: 0.8307 - val_loss: 0.5306 - val_events_loss: 0.5290 - val_time_loss: 0.0016 - val_events_acc: 0.8333\n",
      "Epoch 23/50\n",
      "1000/1000 [==============================] - 0s 90us/step - loss: 0.5220 - events_loss: 0.5205 - time_loss: 0.0015 - events_acc: 0.8307 - val_loss: 0.5052 - val_events_loss: 0.5038 - val_time_loss: 0.0014 - val_events_acc: 0.8333\n",
      "Epoch 24/50\n",
      "1000/1000 [==============================] - 0s 91us/step - loss: 0.4973 - events_loss: 0.4961 - time_loss: 0.0013 - events_acc: 0.8307 - val_loss: 0.4811 - val_events_loss: 0.4799 - val_time_loss: 0.0012 - val_events_acc: 0.8333\n",
      "Epoch 25/50\n",
      "1000/1000 [==============================] - 0s 91us/step - loss: 0.4740 - events_loss: 0.4728 - time_loss: 0.0011 - events_acc: 0.8307 - val_loss: 0.4582 - val_events_loss: 0.4572 - val_time_loss: 0.0010 - val_events_acc: 0.8333\n",
      "Epoch 26/50\n",
      "1000/1000 [==============================] - 0s 93us/step - loss: 0.4517 - events_loss: 0.4508 - time_loss: 9.8303e-04 - events_acc: 0.8307 - val_loss: 0.4370 - val_events_loss: 0.4361 - val_time_loss: 9.0212e-04 - val_events_acc: 0.8333\n",
      "Epoch 27/50\n",
      "1000/1000 [==============================] - 0s 90us/step - loss: 0.4311 - events_loss: 0.4303 - time_loss: 8.6548e-04 - events_acc: 0.8307 - val_loss: 0.4171 - val_events_loss: 0.4163 - val_time_loss: 7.9754e-04 - val_events_acc: 0.8333\n",
      "Epoch 28/50\n",
      "1000/1000 [==============================] - 0s 90us/step - loss: 0.4120 - events_loss: 0.4112 - time_loss: 7.6905e-04 - events_acc: 0.8307 - val_loss: 0.3986 - val_events_loss: 0.3979 - val_time_loss: 7.1043e-04 - val_events_acc: 0.8333\n",
      "Epoch 29/50\n",
      "1000/1000 [==============================] - 0s 91us/step - loss: 0.3938 - events_loss: 0.3931 - time_loss: 6.8740e-04 - events_acc: 0.8307 - val_loss: 0.3810 - val_events_loss: 0.3804 - val_time_loss: 6.3764e-04 - val_events_acc: 0.8333\n",
      "Epoch 30/50\n",
      "1000/1000 [==============================] - 0s 91us/step - loss: 0.3767 - events_loss: 0.3761 - time_loss: 6.1795e-04 - events_acc: 0.8307 - val_loss: 0.3644 - val_events_loss: 0.3639 - val_time_loss: 5.7668e-04 - val_events_acc: 0.8333\n",
      "Epoch 31/50\n",
      "1000/1000 [==============================] - 0s 91us/step - loss: 0.3604 - events_loss: 0.3599 - time_loss: 5.6043e-04 - events_acc: 0.8307 - val_loss: 0.3487 - val_events_loss: 0.3481 - val_time_loss: 5.2410e-04 - val_events_acc: 0.8333\n",
      "Epoch 32/50\n",
      "1000/1000 [==============================] - 0s 92us/step - loss: 0.3448 - events_loss: 0.3443 - time_loss: 5.1003e-04 - events_acc: 0.8307 - val_loss: 0.3333 - val_events_loss: 0.3328 - val_time_loss: 4.7864e-04 - val_events_acc: 0.8333\n",
      "Epoch 33/50\n",
      "1000/1000 [==============================] - 0s 91us/step - loss: 0.3295 - events_loss: 0.3291 - time_loss: 4.6692e-04 - events_acc: 0.8307 - val_loss: 0.3182 - val_events_loss: 0.3178 - val_time_loss: 4.3851e-04 - val_events_acc: 0.8333\n",
      "Epoch 34/50\n"
     ]
    },
    {
     "name": "stdout",
     "output_type": "stream",
     "text": [
      "1000/1000 [==============================] - 0s 91us/step - loss: 0.3145 - events_loss: 0.3141 - time_loss: 4.2836e-04 - events_acc: 0.8307 - val_loss: 0.3036 - val_events_loss: 0.3032 - val_time_loss: 4.0323e-04 - val_events_acc: 0.8333\n",
      "Epoch 35/50\n",
      "1000/1000 [==============================] - 0s 87us/step - loss: 0.3000 - events_loss: 0.2996 - time_loss: 3.9438e-04 - events_acc: 0.8307 - val_loss: 0.2895 - val_events_loss: 0.2891 - val_time_loss: 3.7242e-04 - val_events_acc: 0.8333\n",
      "Epoch 36/50\n",
      "1000/1000 [==============================] - 0s 83us/step - loss: 0.2860 - events_loss: 0.2857 - time_loss: 3.6527e-04 - events_acc: 0.8307 - val_loss: 0.2755 - val_events_loss: 0.2752 - val_time_loss: 3.4449e-04 - val_events_acc: 0.8333\n",
      "Epoch 37/50\n",
      "1000/1000 [==============================] - 0s 86us/step - loss: 0.2719 - events_loss: 0.2716 - time_loss: 3.3760e-04 - events_acc: 0.8307 - val_loss: 0.2620 - val_events_loss: 0.2616 - val_time_loss: 3.1971e-04 - val_events_acc: 0.8333\n",
      "Epoch 38/50\n",
      "1000/1000 [==============================] - 0s 84us/step - loss: 0.2583 - events_loss: 0.2580 - time_loss: 3.1363e-04 - events_acc: 0.8307 - val_loss: 0.2486 - val_events_loss: 0.2483 - val_time_loss: 2.9670e-04 - val_events_acc: 0.8333\n",
      "Epoch 39/50\n",
      "1000/1000 [==============================] - 0s 85us/step - loss: 0.2450 - events_loss: 0.2447 - time_loss: 2.9131e-04 - events_acc: 0.8307 - val_loss: 0.2356 - val_events_loss: 0.2353 - val_time_loss: 2.7567e-04 - val_events_acc: 0.8333\n",
      "Epoch 40/50\n",
      "1000/1000 [==============================] - 0s 85us/step - loss: 0.2322 - events_loss: 0.2319 - time_loss: 2.7100e-04 - events_acc: 0.8307 - val_loss: 0.2231 - val_events_loss: 0.2228 - val_time_loss: 2.5648e-04 - val_events_acc: 0.8333\n",
      "Epoch 41/50\n",
      "1000/1000 [==============================] - 0s 84us/step - loss: 0.2197 - events_loss: 0.2194 - time_loss: 2.5218e-04 - events_acc: 0.8617 - val_loss: 0.2110 - val_events_loss: 0.2108 - val_time_loss: 2.3899e-04 - val_events_acc: 1.0000\n",
      "Epoch 42/50\n",
      "1000/1000 [==============================] - 0s 86us/step - loss: 0.2077 - events_loss: 0.2075 - time_loss: 2.3525e-04 - events_acc: 1.0000 - val_loss: 0.1992 - val_events_loss: 0.1990 - val_time_loss: 2.2270e-04 - val_events_acc: 1.0000\n",
      "Epoch 43/50\n",
      "1000/1000 [==============================] - 0s 85us/step - loss: 0.1960 - events_loss: 0.1958 - time_loss: 2.1922e-04 - events_acc: 1.0000 - val_loss: 0.1881 - val_events_loss: 0.1878 - val_time_loss: 2.0781e-04 - val_events_acc: 1.0000\n",
      "Epoch 44/50\n",
      "1000/1000 [==============================] - 0s 85us/step - loss: 0.1849 - events_loss: 0.1846 - time_loss: 2.0461e-04 - events_acc: 1.0000 - val_loss: 0.1774 - val_events_loss: 0.1772 - val_time_loss: 1.9417e-04 - val_events_acc: 1.0000\n",
      "Epoch 45/50\n",
      "1000/1000 [==============================] - 0s 85us/step - loss: 0.1743 - events_loss: 0.1742 - time_loss: 1.9147e-04 - events_acc: 1.0000 - val_loss: 0.1671 - val_events_loss: 0.1669 - val_time_loss: 1.8163e-04 - val_events_acc: 1.0000\n",
      "Epoch 46/50\n",
      "1000/1000 [==============================] - 0s 86us/step - loss: 0.1641 - events_loss: 0.1640 - time_loss: 1.7920e-04 - events_acc: 1.0000 - val_loss: 0.1574 - val_events_loss: 0.1572 - val_time_loss: 1.7026e-04 - val_events_acc: 1.0000\n",
      "Epoch 47/50\n",
      "1000/1000 [==============================] - 0s 84us/step - loss: 0.1544 - events_loss: 0.1543 - time_loss: 1.6791e-04 - events_acc: 1.0000 - val_loss: 0.1483 - val_events_loss: 0.1481 - val_time_loss: 1.5991e-04 - val_events_acc: 1.0000\n",
      "Epoch 48/50\n",
      "1000/1000 [==============================] - 0s 86us/step - loss: 0.1455 - events_loss: 0.1453 - time_loss: 1.5789e-04 - events_acc: 1.0000 - val_loss: 0.1395 - val_events_loss: 0.1394 - val_time_loss: 1.5037e-04 - val_events_acc: 1.0000\n",
      "Epoch 49/50\n",
      "1000/1000 [==============================] - 0s 85us/step - loss: 0.1368 - events_loss: 0.1367 - time_loss: 1.4852e-04 - events_acc: 1.0000 - val_loss: 0.1313 - val_events_loss: 0.1312 - val_time_loss: 1.4165e-04 - val_events_acc: 1.0000\n",
      "Epoch 50/50\n",
      "1000/1000 [==============================] - 0s 85us/step - loss: 0.1288 - events_loss: 0.1286 - time_loss: 1.4013e-04 - events_acc: 1.0000 - val_loss: 0.1234 - val_events_loss: 0.1233 - val_time_loss: 1.3356e-04 - val_events_acc: 1.0000\n",
      "----\n",
      "Train Error:  25.0 - 2.4238859330269173\n",
      "Test Error:  25.0 - 2.4340154793141657\n"
     ]
    },
    {
     "data": {
      "text/html": [
       "<h3>Train</h3>"
      ],
      "text/plain": [
       "<IPython.core.display.HTML object>"
      ]
     },
     "metadata": {},
     "output_type": "display_data"
    },
    {
     "data": {
      "text/html": [
       "<div><strong><u>1</u></strong> <button type=\"button\" class=\"btn btn-danger\" style=\"margin-right: 10px;\"title=\"Event True: 2 - Pred: 3\n",
       "Time True: 5.0 - Pred: 1.9669344425201416\">2<br></button><button type=\"button\" class=\"btn btn-success\" style=\"margin-right: 10px;\"title=\"Event True: 4 - Pred: 4\n",
       "Time True: 3.0 - Pred: 0.021986261010169983\">4<br></button><button type=\"button\" class=\"btn btn-success\" style=\"margin-right: 10px;\"title=\"Event True: 3 - Pred: 3\n",
       "Time True: 3.0 - Pred: 0.00011021303362213075\">3<br></button><button type=\"button\" class=\"btn btn-success\" style=\"margin-right: 10px;\"title=\"Event True: 5 - Pred: 5\n",
       "Time True: 3.0 - Pred: 0.011284811422228813\">5<br></button></div><br><div><strong><u>2</u></strong> <button type=\"button\" class=\"btn btn-danger\" style=\"margin-right: 10px;\"title=\"Event True: 2 - Pred: 3\n",
       "Time True: 5.0 - Pred: 1.9669344425201416\">2<br></button><button type=\"button\" class=\"btn btn-success\" style=\"margin-right: 10px;\"title=\"Event True: 4 - Pred: 4\n",
       "Time True: 3.0 - Pred: 0.021986261010169983\">4<br></button><button type=\"button\" class=\"btn btn-success\" style=\"margin-right: 10px;\"title=\"Event True: 3 - Pred: 3\n",
       "Time True: 3.0 - Pred: 0.00011021303362213075\">3<br></button><button type=\"button\" class=\"btn btn-success\" style=\"margin-right: 10px;\"title=\"Event True: 5 - Pred: 5\n",
       "Time True: 3.0 - Pred: 0.011284811422228813\">5<br></button></div><br><div><strong><u>3</u></strong> <button type=\"button\" class=\"btn btn-danger\" style=\"margin-right: 10px;\"title=\"Event True: 2 - Pred: 3\n",
       "Time True: 2.0 - Pred: 1.9669344425201416\">2<br></button><button type=\"button\" class=\"btn btn-success\" style=\"margin-right: 10px;\"title=\"Event True: 3 - Pred: 3\n",
       "Time True: 2.0 - Pred: 0.13822486996650696\">3<br></button><button type=\"button\" class=\"btn btn-success\" style=\"margin-right: 10px;\"title=\"Event True: 4 - Pred: 4\n",
       "Time True: 2.0 - Pred: 0.00016734073869884014\">4<br></button><button type=\"button\" class=\"btn btn-success\" style=\"margin-right: 10px;\"title=\"Event True: 5 - Pred: 5\n",
       "Time True: 2.0 - Pred: 0.017826829105615616\">5<br></button></div><br><div><strong><u>4</u></strong> <button type=\"button\" class=\"btn btn-danger\" style=\"margin-right: 10px;\"title=\"Event True: 2 - Pred: 3\n",
       "Time True: 2.0 - Pred: 1.9669344425201416\">2<br></button><button type=\"button\" class=\"btn btn-success\" style=\"margin-right: 10px;\"title=\"Event True: 3 - Pred: 3\n",
       "Time True: 2.0 - Pred: 0.13822486996650696\">3<br></button><button type=\"button\" class=\"btn btn-success\" style=\"margin-right: 10px;\"title=\"Event True: 4 - Pred: 4\n",
       "Time True: 2.0 - Pred: 0.00016734073869884014\">4<br></button><button type=\"button\" class=\"btn btn-success\" style=\"margin-right: 10px;\"title=\"Event True: 5 - Pred: 5\n",
       "Time True: 2.0 - Pred: 0.017826829105615616\">5<br></button></div><br><div><strong><u>5</u></strong> <button type=\"button\" class=\"btn btn-danger\" style=\"margin-right: 10px;\"title=\"Event True: 2 - Pred: 3\n",
       "Time True: 2.0 - Pred: 1.9669344425201416\">2<br></button><button type=\"button\" class=\"btn btn-success\" style=\"margin-right: 10px;\"title=\"Event True: 3 - Pred: 3\n",
       "Time True: 2.0 - Pred: 0.13822486996650696\">3<br></button><button type=\"button\" class=\"btn btn-success\" style=\"margin-right: 10px;\"title=\"Event True: 4 - Pred: 4\n",
       "Time True: 2.0 - Pred: 0.00016734073869884014\">4<br></button><button type=\"button\" class=\"btn btn-success\" style=\"margin-right: 10px;\"title=\"Event True: 5 - Pred: 5\n",
       "Time True: 2.0 - Pred: 0.017826829105615616\">5<br></button></div><br>"
      ],
      "text/plain": [
       "<IPython.core.display.HTML object>"
      ]
     },
     "metadata": {},
     "output_type": "display_data"
    },
    {
     "data": {
      "text/html": [
       "<h3>Test</h3>"
      ],
      "text/plain": [
       "<IPython.core.display.HTML object>"
      ]
     },
     "metadata": {},
     "output_type": "display_data"
    },
    {
     "data": {
      "text/html": [
       "<div><strong><u>1</u></strong> <button type=\"button\" class=\"btn btn-danger\" style=\"margin-right: 10px;\"title=\"Event True: 2 - Pred: 3\n",
       "Time True: 2.0 - Pred: 1.9669344425201416\">2<br></button><button type=\"button\" class=\"btn btn-danger\" style=\"margin-right: 10px;\"title=\"Event True: 3 - Pred: 4\n",
       "Time True: 2.0 - Pred: 0.13822486996650696\">3<br></button><button type=\"button\" class=\"btn btn-danger\" style=\"margin-right: 10px;\"title=\"Event True: 4 - Pred: 3\n",
       "Time True: 2.0 - Pred: 0.00016734073869884014\">4<br></button><button type=\"button\" class=\"btn btn-success\" style=\"margin-right: 10px;\"title=\"Event True: 5 - Pred: 5\n",
       "Time True: 2.0 - Pred: 0.017826829105615616\">5<br></button></div><br><div><strong><u>2</u></strong> <button type=\"button\" class=\"btn btn-danger\" style=\"margin-right: 10px;\"title=\"Event True: 2 - Pred: 3\n",
       "Time True: 5.0 - Pred: 1.9669344425201416\">2<br></button><button type=\"button\" class=\"btn btn-success\" style=\"margin-right: 10px;\"title=\"Event True: 4 - Pred: 4\n",
       "Time True: 3.0 - Pred: 0.021986261010169983\">4<br></button><button type=\"button\" class=\"btn btn-success\" style=\"margin-right: 10px;\"title=\"Event True: 3 - Pred: 3\n",
       "Time True: 3.0 - Pred: 0.00011021303362213075\">3<br></button><button type=\"button\" class=\"btn btn-success\" style=\"margin-right: 10px;\"title=\"Event True: 5 - Pred: 5\n",
       "Time True: 3.0 - Pred: 0.011284811422228813\">5<br></button></div><br><div><strong><u>3</u></strong> <button type=\"button\" class=\"btn btn-danger\" style=\"margin-right: 10px;\"title=\"Event True: 2 - Pred: 3\n",
       "Time True: 5.0 - Pred: 1.9669344425201416\">2<br></button><button type=\"button\" class=\"btn btn-danger\" style=\"margin-right: 10px;\"title=\"Event True: 4 - Pred: 3\n",
       "Time True: 3.0 - Pred: 0.021986261010169983\">4<br></button><button type=\"button\" class=\"btn btn-danger\" style=\"margin-right: 10px;\"title=\"Event True: 3 - Pred: 4\n",
       "Time True: 3.0 - Pred: 0.00011021303362213075\">3<br></button><button type=\"button\" class=\"btn btn-success\" style=\"margin-right: 10px;\"title=\"Event True: 5 - Pred: 5\n",
       "Time True: 3.0 - Pred: 0.011284811422228813\">5<br></button></div><br><div><strong><u>4</u></strong> <button type=\"button\" class=\"btn btn-danger\" style=\"margin-right: 10px;\"title=\"Event True: 2 - Pred: 3\n",
       "Time True: 5.0 - Pred: 1.9669344425201416\">2<br></button><button type=\"button\" class=\"btn btn-danger\" style=\"margin-right: 10px;\"title=\"Event True: 4 - Pred: 3\n",
       "Time True: 3.0 - Pred: 0.021986261010169983\">4<br></button><button type=\"button\" class=\"btn btn-danger\" style=\"margin-right: 10px;\"title=\"Event True: 3 - Pred: 4\n",
       "Time True: 3.0 - Pred: 0.00011021303362213075\">3<br></button><button type=\"button\" class=\"btn btn-success\" style=\"margin-right: 10px;\"title=\"Event True: 5 - Pred: 5\n",
       "Time True: 3.0 - Pred: 0.011284811422228813\">5<br></button></div><br><div><strong><u>5</u></strong> <button type=\"button\" class=\"btn btn-danger\" style=\"margin-right: 10px;\"title=\"Event True: 2 - Pred: 3\n",
       "Time True: 2.0 - Pred: 1.9669344425201416\">2<br></button><button type=\"button\" class=\"btn btn-success\" style=\"margin-right: 10px;\"title=\"Event True: 3 - Pred: 3\n",
       "Time True: 2.0 - Pred: 0.13822486996650696\">3<br></button><button type=\"button\" class=\"btn btn-success\" style=\"margin-right: 10px;\"title=\"Event True: 4 - Pred: 4\n",
       "Time True: 2.0 - Pred: 0.00016734073869884014\">4<br></button><button type=\"button\" class=\"btn btn-success\" style=\"margin-right: 10px;\"title=\"Event True: 5 - Pred: 5\n",
       "Time True: 2.0 - Pred: 0.017826829105615616\">5<br></button></div><br>"
      ],
      "text/plain": [
       "<IPython.core.display.HTML object>"
      ]
     },
     "metadata": {},
     "output_type": "display_data"
    }
   ],
   "source": [
    "input_events = Input(shape=(max_user_length, 1))\n",
    "input_deltas = Input(shape=(max_user_length, 1))\n",
    "\n",
    "inputs = Concatenate(axis=2)([input_events, input_deltas])\n",
    "inputs = Masking(mask_value=0.)(inputs)\n",
    "\n",
    "rnn = LSTM(50, activation='tanh', return_sequences=True)(inputs)\n",
    "\n",
    "output_events = TimeDistributed(Dense(num_events, activation='softmax'), name='events')(rnn)\n",
    "\n",
    "output_deltas = TimeDistributed(Dense(15, activation='relu'))(rnn)\n",
    "output_deltas = TimeDistributed(Dense(1, activation='sigmoid'), name='time')(output_deltas)\n",
    "\n",
    "model = Model(inputs=[input_events, input_deltas], outputs=[output_events, output_deltas])\n",
    "\n",
    "model.compile(loss=['categorical_crossentropy', 'mse'], optimizer='adam', metrics={'events': 'accuracy'})\n",
    "\n",
    "model.fit(x['train'], y['train'], validation_data=(x['test'], y['test']), batch_size=100, epochs=50)\n",
    "\n",
    "preds_train = model.predict(x['train'])\n",
    "preds_test = model.predict(x['test'])\n",
    "\n",
    "preds_train[1] *= max_delta\n",
    "preds_test[1] *= max_delta\n",
    "\n",
    "show_results_nn('LSTM', preds_train, preds_test)"
   ]
  },
  {
   "cell_type": "markdown",
   "metadata": {},
   "source": [
    "## Phased-LSTM Model"
   ]
  },
  {
   "cell_type": "code",
   "execution_count": 32,
   "metadata": {
    "scrolled": true
   },
   "outputs": [
    {
     "name": "stdout",
     "output_type": "stream",
     "text": [
      "Train on 1000 samples, validate on 200 samples\n",
      "Epoch 1/100\n",
      "1000/1000 [==============================] - 2s 2ms/step - loss: 3.3258 - events_loss: 3.0792 - time_loss: 0.2466 - events_acc: 0.2667 - val_loss: 3.3100 - val_events_loss: 3.0682 - val_time_loss: 0.2418 - val_events_acc: 0.3333\n",
      "Epoch 2/100\n",
      "1000/1000 [==============================] - 0s 130us/step - loss: 3.2969 - events_loss: 3.0586 - time_loss: 0.2383 - events_acc: 0.3333 - val_loss: 3.2801 - val_events_loss: 3.0463 - val_time_loss: 0.2338 - val_events_acc: 0.3333\n",
      "Epoch 3/100\n",
      "1000/1000 [==============================] - 0s 123us/step - loss: 3.2650 - events_loss: 3.0352 - time_loss: 0.2298 - events_acc: 0.3333 - val_loss: 3.2459 - val_events_loss: 3.0212 - val_time_loss: 0.2247 - val_events_acc: 0.3333\n",
      "Epoch 4/100\n",
      "1000/1000 [==============================] - 0s 135us/step - loss: 3.2291 - events_loss: 3.0089 - time_loss: 0.2202 - events_acc: 0.3333 - val_loss: 3.2080 - val_events_loss: 2.9935 - val_time_loss: 0.2145 - val_events_acc: 0.3333\n",
      "Epoch 5/100\n",
      "1000/1000 [==============================] - 0s 124us/step - loss: 3.1900 - events_loss: 2.9803 - time_loss: 0.2097 - events_acc: 0.3333 - val_loss: 3.1660 - val_events_loss: 2.9628 - val_time_loss: 0.2033 - val_events_acc: 0.3333\n",
      "Epoch 6/100\n",
      "1000/1000 [==============================] - 0s 112us/step - loss: 3.1449 - events_loss: 2.9473 - time_loss: 0.1976 - events_acc: 0.3333 - val_loss: 3.1160 - val_events_loss: 2.9260 - val_time_loss: 0.1899 - val_events_acc: 0.3333\n",
      "Epoch 7/100\n",
      "1000/1000 [==============================] - 0s 114us/step - loss: 3.0885 - events_loss: 2.9054 - time_loss: 0.1831 - events_acc: 0.3333 - val_loss: 3.0482 - val_events_loss: 2.8746 - val_time_loss: 0.1736 - val_events_acc: 0.3333\n",
      "Epoch 8/100\n",
      "1000/1000 [==============================] - 0s 105us/step - loss: 3.0211 - events_loss: 2.8547 - time_loss: 0.1664 - events_acc: 0.3333 - val_loss: 2.9865 - val_events_loss: 2.8291 - val_time_loss: 0.1574 - val_events_acc: 0.3333\n",
      "Epoch 9/100\n",
      "1000/1000 [==============================] - 0s 106us/step - loss: 2.9531 - events_loss: 2.8037 - time_loss: 0.1493 - events_acc: 0.3333 - val_loss: 2.9074 - val_events_loss: 2.7686 - val_time_loss: 0.1388 - val_events_acc: 0.3333\n",
      "Epoch 10/100\n",
      "1000/1000 [==============================] - 0s 107us/step - loss: 2.8673 - events_loss: 2.7373 - time_loss: 0.1300 - events_acc: 0.3333 - val_loss: 2.8033 - val_events_loss: 2.6861 - val_time_loss: 0.1172 - val_events_acc: 0.3333\n",
      "Epoch 11/100\n",
      "1000/1000 [==============================] - 0s 117us/step - loss: 2.7538 - events_loss: 2.6457 - time_loss: 0.1081 - events_acc: 0.3333 - val_loss: 2.6957 - val_events_loss: 2.5981 - val_time_loss: 0.0976 - val_events_acc: 0.3333\n",
      "Epoch 12/100\n",
      "1000/1000 [==============================] - 0s 117us/step - loss: 2.6483 - events_loss: 2.5589 - time_loss: 0.0894 - events_acc: 0.3333 - val_loss: 2.5895 - val_events_loss: 2.5098 - val_time_loss: 0.0798 - val_events_acc: 0.3333\n",
      "Epoch 13/100\n",
      "1000/1000 [==============================] - 0s 112us/step - loss: 2.5459 - events_loss: 2.4729 - time_loss: 0.0731 - events_acc: 0.3333 - val_loss: 2.4928 - val_events_loss: 2.4274 - val_time_loss: 0.0654 - val_events_acc: 0.3333\n",
      "Epoch 14/100\n",
      "1000/1000 [==============================] - 0s 107us/step - loss: 2.4474 - events_loss: 2.3878 - time_loss: 0.0595 - events_acc: 0.3333 - val_loss: 2.3913 - val_events_loss: 2.3384 - val_time_loss: 0.0528 - val_events_acc: 0.3333\n",
      "Epoch 15/100\n",
      "1000/1000 [==============================] - 0s 107us/step - loss: 2.3396 - events_loss: 2.2917 - time_loss: 0.0479 - events_acc: 0.3333 - val_loss: 2.2730 - val_events_loss: 2.2313 - val_time_loss: 0.0417 - val_events_acc: 0.3333\n",
      "Epoch 16/100\n",
      "1000/1000 [==============================] - 0s 119us/step - loss: 2.2357 - events_loss: 2.1974 - time_loss: 0.0382 - events_acc: 0.3333 - val_loss: 2.1843 - val_events_loss: 2.1504 - val_time_loss: 0.0339 - val_events_acc: 0.3333\n",
      "Epoch 17/100\n",
      "1000/1000 [==============================] - 0s 114us/step - loss: 2.1442 - events_loss: 2.1133 - time_loss: 0.0309 - events_acc: 0.3333 - val_loss: 2.0892 - val_events_loss: 2.0621 - val_time_loss: 0.0272 - val_events_acc: 0.3333\n",
      "Epoch 18/100\n",
      "1000/1000 [==============================] - 0s 116us/step - loss: 2.0369 - events_loss: 2.0125 - time_loss: 0.0244 - events_acc: 0.3510 - val_loss: 1.9471 - val_events_loss: 1.9264 - val_time_loss: 0.0207 - val_events_acc: 0.5000\n",
      "Epoch 19/100\n",
      "1000/1000 [==============================] - 0s 113us/step - loss: 1.9165 - events_loss: 1.8974 - time_loss: 0.0191 - events_acc: 0.4973 - val_loss: 1.8674 - val_events_loss: 1.8507 - val_time_loss: 0.0167 - val_events_acc: 0.5000\n",
      "Epoch 20/100\n",
      "1000/1000 [==============================] - 0s 106us/step - loss: 1.8393 - events_loss: 1.8236 - time_loss: 0.0156 - events_acc: 0.4973 - val_loss: 1.7960 - val_events_loss: 1.7822 - val_time_loss: 0.0138 - val_events_acc: 0.5000\n",
      "Epoch 21/100\n",
      "1000/1000 [==============================] - 0s 109us/step - loss: 1.7713 - events_loss: 1.7583 - time_loss: 0.0129 - events_acc: 0.4973 - val_loss: 1.7295 - val_events_loss: 1.7180 - val_time_loss: 0.0115 - val_events_acc: 0.5000\n",
      "Epoch 22/100\n",
      "1000/1000 [==============================] - 0s 109us/step - loss: 1.7121 - events_loss: 1.7013 - time_loss: 0.0108 - events_acc: 0.4973 - val_loss: 1.6779 - val_events_loss: 1.6683 - val_time_loss: 0.0097 - val_events_acc: 0.5000\n",
      "Epoch 23/100\n",
      "1000/1000 [==============================] - 0s 111us/step - loss: 1.6599 - events_loss: 1.6508 - time_loss: 0.0091 - events_acc: 0.4973 - val_loss: 1.6240 - val_events_loss: 1.6158 - val_time_loss: 0.0082 - val_events_acc: 0.5000\n",
      "Epoch 24/100\n",
      "1000/1000 [==============================] - 0s 105us/step - loss: 1.6026 - events_loss: 1.5949 - time_loss: 0.0077 - events_acc: 0.4973 - val_loss: 1.5698 - val_events_loss: 1.5629 - val_time_loss: 0.0069 - val_events_acc: 0.5000\n",
      "Epoch 25/100\n",
      "1000/1000 [==============================] - 0s 110us/step - loss: 1.5576 - events_loss: 1.5511 - time_loss: 0.0066 - events_acc: 0.4973 - val_loss: 1.5296 - val_events_loss: 1.5236 - val_time_loss: 0.0060 - val_events_acc: 0.5000\n",
      "Epoch 26/100\n",
      "1000/1000 [==============================] - 0s 106us/step - loss: 1.5201 - events_loss: 1.5144 - time_loss: 0.0057 - events_acc: 0.4973 - val_loss: 1.4947 - val_events_loss: 1.4895 - val_time_loss: 0.0052 - val_events_acc: 0.5000\n",
      "Epoch 27/100\n",
      "1000/1000 [==============================] - 0s 106us/step - loss: 1.4895 - events_loss: 1.4845 - time_loss: 0.0050 - events_acc: 0.4973 - val_loss: 1.4693 - val_events_loss: 1.4647 - val_time_loss: 0.0046 - val_events_acc: 0.5000\n",
      "Epoch 28/100\n",
      "1000/1000 [==============================] - 0s 106us/step - loss: 1.4632 - events_loss: 1.4587 - time_loss: 0.0044 - events_acc: 0.4973 - val_loss: 1.4415 - val_events_loss: 1.4374 - val_time_loss: 0.0040 - val_events_acc: 0.5000\n",
      "Epoch 29/100\n",
      "1000/1000 [==============================] - 0s 106us/step - loss: 1.4376 - events_loss: 1.4337 - time_loss: 0.0039 - events_acc: 0.4973 - val_loss: 1.4155 - val_events_loss: 1.4119 - val_time_loss: 0.0036 - val_events_acc: 0.5000\n",
      "Epoch 30/100\n",
      "1000/1000 [==============================] - 0s 105us/step - loss: 1.4125 - events_loss: 1.4090 - time_loss: 0.0035 - events_acc: 0.4973 - val_loss: 1.3957 - val_events_loss: 1.3925 - val_time_loss: 0.0032 - val_events_acc: 0.5000\n",
      "Epoch 31/100\n",
      "1000/1000 [==============================] - 0s 107us/step - loss: 1.3944 - events_loss: 1.3912 - time_loss: 0.0031 - events_acc: 0.4973 - val_loss: 1.3788 - val_events_loss: 1.3759 - val_time_loss: 0.0029 - val_events_acc: 0.5000\n",
      "Epoch 32/100\n",
      "1000/1000 [==============================] - 0s 107us/step - loss: 1.3788 - events_loss: 1.3760 - time_loss: 0.0028 - events_acc: 0.4973 - val_loss: 1.3646 - val_events_loss: 1.3619 - val_time_loss: 0.0026 - val_events_acc: 0.5000\n",
      "Epoch 33/100\n",
      "1000/1000 [==============================] - 0s 106us/step - loss: 1.3651 - events_loss: 1.3625 - time_loss: 0.0026 - events_acc: 0.4973 - val_loss: 1.3514 - val_events_loss: 1.3490 - val_time_loss: 0.0024 - val_events_acc: 0.5000\n",
      "Epoch 34/100\n"
     ]
    },
    {
     "name": "stdout",
     "output_type": "stream",
     "text": [
      "1000/1000 [==============================] - 0s 115us/step - loss: 1.3526 - events_loss: 1.3503 - time_loss: 0.0023 - events_acc: 0.4973 - val_loss: 1.3400 - val_events_loss: 1.3378 - val_time_loss: 0.0022 - val_events_acc: 0.5000\n",
      "Epoch 35/100\n",
      "1000/1000 [==============================] - 0s 121us/step - loss: 1.3404 - events_loss: 1.3383 - time_loss: 0.0021 - events_acc: 0.4973 - val_loss: 1.3290 - val_events_loss: 1.3270 - val_time_loss: 0.0020 - val_events_acc: 0.5000\n",
      "Epoch 36/100\n",
      "1000/1000 [==============================] - 0s 115us/step - loss: 1.3298 - events_loss: 1.3279 - time_loss: 0.0019 - events_acc: 0.4973 - val_loss: 1.3167 - val_events_loss: 1.3149 - val_time_loss: 0.0018 - val_events_acc: 0.5000\n",
      "Epoch 37/100\n",
      "1000/1000 [==============================] - 0s 115us/step - loss: 1.3191 - events_loss: 1.3173 - time_loss: 0.0018 - events_acc: 0.4973 - val_loss: 1.3076 - val_events_loss: 1.3059 - val_time_loss: 0.0017 - val_events_acc: 0.5000\n",
      "Epoch 38/100\n",
      "1000/1000 [==============================] - 0s 111us/step - loss: 1.3094 - events_loss: 1.3077 - time_loss: 0.0016 - events_acc: 0.4973 - val_loss: 1.2986 - val_events_loss: 1.2970 - val_time_loss: 0.0015 - val_events_acc: 0.5000\n",
      "Epoch 39/100\n",
      "1000/1000 [==============================] - 0s 109us/step - loss: 1.3007 - events_loss: 1.2992 - time_loss: 0.0015 - events_acc: 0.4973 - val_loss: 1.2909 - val_events_loss: 1.2895 - val_time_loss: 0.0014 - val_events_acc: 0.5000\n",
      "Epoch 40/100\n",
      "1000/1000 [==============================] - 0s 110us/step - loss: 1.2927 - events_loss: 1.2913 - time_loss: 0.0014 - events_acc: 0.4973 - val_loss: 1.2819 - val_events_loss: 1.2806 - val_time_loss: 0.0013 - val_events_acc: 0.5000\n",
      "Epoch 41/100\n",
      "1000/1000 [==============================] - 0s 107us/step - loss: 1.2845 - events_loss: 1.2832 - time_loss: 0.0013 - events_acc: 0.4973 - val_loss: 1.2742 - val_events_loss: 1.2730 - val_time_loss: 0.0012 - val_events_acc: 0.5000\n",
      "Epoch 42/100\n",
      "1000/1000 [==============================] - 0s 117us/step - loss: 1.2763 - events_loss: 1.2751 - time_loss: 0.0012 - events_acc: 0.4973 - val_loss: 1.2671 - val_events_loss: 1.2660 - val_time_loss: 0.0012 - val_events_acc: 0.5000\n",
      "Epoch 43/100\n",
      "1000/1000 [==============================] - 0s 113us/step - loss: 1.2688 - events_loss: 1.2677 - time_loss: 0.0011 - events_acc: 0.4973 - val_loss: 1.2587 - val_events_loss: 1.2576 - val_time_loss: 0.0011 - val_events_acc: 0.5000\n",
      "Epoch 44/100\n",
      "1000/1000 [==============================] - 0s 111us/step - loss: 1.2613 - events_loss: 1.2603 - time_loss: 0.0011 - events_acc: 0.4973 - val_loss: 1.2523 - val_events_loss: 1.2513 - val_time_loss: 0.0010 - val_events_acc: 0.5000\n",
      "Epoch 45/100\n",
      "1000/1000 [==============================] - 0s 111us/step - loss: 1.2545 - events_loss: 1.2535 - time_loss: 9.8351e-04 - events_acc: 0.4973 - val_loss: 1.2453 - val_events_loss: 1.2444 - val_time_loss: 9.3230e-04 - val_events_acc: 0.5000\n",
      "Epoch 46/100\n",
      "1000/1000 [==============================] - 0s 122us/step - loss: 1.2482 - events_loss: 1.2473 - time_loss: 9.2566e-04 - events_acc: 0.4973 - val_loss: 1.2400 - val_events_loss: 1.2391 - val_time_loss: 8.8813e-04 - val_events_acc: 0.5000\n",
      "Epoch 47/100\n",
      "1000/1000 [==============================] - 0s 127us/step - loss: 1.2419 - events_loss: 1.2410 - time_loss: 8.6801e-04 - events_acc: 0.4973 - val_loss: 1.2329 - val_events_loss: 1.2320 - val_time_loss: 8.2125e-04 - val_events_acc: 0.5000\n",
      "Epoch 48/100\n",
      "1000/1000 [==============================] - 0s 124us/step - loss: 1.2354 - events_loss: 1.2346 - time_loss: 8.1149e-04 - events_acc: 0.4973 - val_loss: 1.2270 - val_events_loss: 1.2262 - val_time_loss: 7.7455e-04 - val_events_acc: 0.5000\n",
      "Epoch 49/100\n",
      "1000/1000 [==============================] - 0s 121us/step - loss: 1.2294 - events_loss: 1.2286 - time_loss: 7.6291e-04 - events_acc: 0.4973 - val_loss: 1.2211 - val_events_loss: 1.2204 - val_time_loss: 7.2825e-04 - val_events_acc: 0.5000\n",
      "Epoch 50/100\n",
      "1000/1000 [==============================] - 0s 121us/step - loss: 1.2236 - events_loss: 1.2229 - time_loss: 7.1938e-04 - events_acc: 0.4973 - val_loss: 1.2155 - val_events_loss: 1.2149 - val_time_loss: 6.8730e-04 - val_events_acc: 0.5000\n",
      "Epoch 51/100\n",
      "1000/1000 [==============================] - 0s 130us/step - loss: 1.2179 - events_loss: 1.2173 - time_loss: 6.7986e-04 - events_acc: 0.4973 - val_loss: 1.2097 - val_events_loss: 1.2090 - val_time_loss: 6.4764e-04 - val_events_acc: 0.5000\n",
      "Epoch 52/100\n",
      "1000/1000 [==============================] - 0s 123us/step - loss: 1.2124 - events_loss: 1.2117 - time_loss: 6.4429e-04 - events_acc: 0.4973 - val_loss: 1.2042 - val_events_loss: 1.2036 - val_time_loss: 6.1416e-04 - val_events_acc: 0.5000\n",
      "Epoch 53/100\n",
      "1000/1000 [==============================] - 0s 118us/step - loss: 1.2066 - events_loss: 1.2059 - time_loss: 6.0724e-04 - events_acc: 0.4973 - val_loss: 1.1984 - val_events_loss: 1.1978 - val_time_loss: 5.7739e-04 - val_events_acc: 0.5000\n",
      "Epoch 54/100\n",
      "1000/1000 [==============================] - 0s 115us/step - loss: 1.2007 - events_loss: 1.2001 - time_loss: 5.7313e-04 - events_acc: 0.4973 - val_loss: 1.1926 - val_events_loss: 1.1921 - val_time_loss: 5.4740e-04 - val_events_acc: 0.5000\n",
      "Epoch 55/100\n",
      "1000/1000 [==============================] - 0s 114us/step - loss: 1.1948 - events_loss: 1.1943 - time_loss: 5.4397e-04 - events_acc: 0.4973 - val_loss: 1.1869 - val_events_loss: 1.1863 - val_time_loss: 5.2157e-04 - val_events_acc: 0.5000\n",
      "Epoch 56/100\n",
      "1000/1000 [==============================] - 0s 115us/step - loss: 1.1890 - events_loss: 1.1885 - time_loss: 5.1725e-04 - events_acc: 0.4973 - val_loss: 1.1812 - val_events_loss: 1.1807 - val_time_loss: 4.9688e-04 - val_events_acc: 0.5000\n",
      "Epoch 57/100\n",
      "1000/1000 [==============================] - 0s 110us/step - loss: 1.1831 - events_loss: 1.1826 - time_loss: 4.9255e-04 - events_acc: 0.4973 - val_loss: 1.1751 - val_events_loss: 1.1746 - val_time_loss: 4.7027e-04 - val_events_acc: 0.5000\n",
      "Epoch 58/100\n",
      "1000/1000 [==============================] - 0s 109us/step - loss: 1.1773 - events_loss: 1.1768 - time_loss: 4.6828e-04 - events_acc: 0.4973 - val_loss: 1.1693 - val_events_loss: 1.1689 - val_time_loss: 4.4630e-04 - val_events_acc: 0.5000\n",
      "Epoch 59/100\n",
      "1000/1000 [==============================] - 0s 109us/step - loss: 1.1715 - events_loss: 1.1710 - time_loss: 4.4634e-04 - events_acc: 0.4973 - val_loss: 1.1637 - val_events_loss: 1.1633 - val_time_loss: 4.2907e-04 - val_events_acc: 0.5000\n",
      "Epoch 60/100\n",
      "1000/1000 [==============================] - 0s 109us/step - loss: 1.1657 - events_loss: 1.1653 - time_loss: 4.2729e-04 - events_acc: 0.4973 - val_loss: 1.1579 - val_events_loss: 1.1575 - val_time_loss: 4.0983e-04 - val_events_acc: 0.5000\n",
      "Epoch 61/100\n",
      "1000/1000 [==============================] - 0s 109us/step - loss: 1.1595 - events_loss: 1.1591 - time_loss: 4.0636e-04 - events_acc: 0.4973 - val_loss: 1.1517 - val_events_loss: 1.1513 - val_time_loss: 3.9114e-04 - val_events_acc: 0.5000\n",
      "Epoch 62/100\n",
      "1000/1000 [==============================] - 0s 108us/step - loss: 1.1532 - events_loss: 1.1528 - time_loss: 3.8739e-04 - events_acc: 0.4973 - val_loss: 1.1455 - val_events_loss: 1.1451 - val_time_loss: 3.7192e-04 - val_events_acc: 0.5000\n",
      "Epoch 63/100\n",
      "1000/1000 [==============================] - 0s 111us/step - loss: 1.1467 - events_loss: 1.1464 - time_loss: 3.6938e-04 - events_acc: 0.4973 - val_loss: 1.1391 - val_events_loss: 1.1387 - val_time_loss: 3.5631e-04 - val_events_acc: 0.5000\n",
      "Epoch 64/100\n",
      "1000/1000 [==============================] - 0s 109us/step - loss: 1.1402 - events_loss: 1.1398 - time_loss: 3.5330e-04 - events_acc: 0.4973 - val_loss: 1.1320 - val_events_loss: 1.1316 - val_time_loss: 3.3840e-04 - val_events_acc: 0.5000\n",
      "Epoch 65/100\n",
      "1000/1000 [==============================] - 0s 112us/step - loss: 1.1337 - events_loss: 1.1334 - time_loss: 3.4010e-04 - events_acc: 0.6147 - val_loss: 1.1263 - val_events_loss: 1.1259 - val_time_loss: 3.3002e-04 - val_events_acc: 0.6667\n",
      "Epoch 66/100\n",
      "1000/1000 [==============================] - 0s 114us/step - loss: 1.1266 - events_loss: 1.1263 - time_loss: 3.2398e-04 - events_acc: 0.6437 - val_loss: 1.1184 - val_events_loss: 1.1181 - val_time_loss: 3.0995e-04 - val_events_acc: 0.6667\n"
     ]
    },
    {
     "name": "stdout",
     "output_type": "stream",
     "text": [
      "Epoch 67/100\n",
      "1000/1000 [==============================] - 0s 118us/step - loss: 1.1197 - events_loss: 1.1193 - time_loss: 3.1059e-04 - events_acc: 0.6613 - val_loss: 1.1119 - val_events_loss: 1.1116 - val_time_loss: 3.0024e-04 - val_events_acc: 0.6667\n",
      "Epoch 68/100\n",
      "1000/1000 [==============================] - 0s 111us/step - loss: 1.1127 - events_loss: 1.1124 - time_loss: 2.9905e-04 - events_acc: 0.6453 - val_loss: 1.1044 - val_events_loss: 1.1041 - val_time_loss: 2.8553e-04 - val_events_acc: 0.6667\n",
      "Epoch 69/100\n",
      "1000/1000 [==============================] - 0s 109us/step - loss: 1.1055 - events_loss: 1.1052 - time_loss: 2.8543e-04 - events_acc: 0.6613 - val_loss: 1.0969 - val_events_loss: 1.0966 - val_time_loss: 2.7229e-04 - val_events_acc: 0.6667\n",
      "Epoch 70/100\n",
      "1000/1000 [==============================] - 0s 111us/step - loss: 1.0982 - events_loss: 1.0979 - time_loss: 2.7435e-04 - events_acc: 0.6613 - val_loss: 1.0906 - val_events_loss: 1.0903 - val_time_loss: 2.6784e-04 - val_events_acc: 0.6667\n",
      "Epoch 71/100\n",
      "1000/1000 [==============================] - 0s 109us/step - loss: 1.0910 - events_loss: 1.0907 - time_loss: 2.6514e-04 - events_acc: 0.6613 - val_loss: 1.0828 - val_events_loss: 1.0826 - val_time_loss: 2.5621e-04 - val_events_acc: 0.6667\n",
      "Epoch 72/100\n",
      "1000/1000 [==============================] - 0s 111us/step - loss: 1.0834 - events_loss: 1.0832 - time_loss: 2.5486e-04 - events_acc: 0.6613 - val_loss: 1.0750 - val_events_loss: 1.0748 - val_time_loss: 2.4455e-04 - val_events_acc: 0.6667\n",
      "Epoch 73/100\n",
      "1000/1000 [==============================] - 0s 111us/step - loss: 1.0758 - events_loss: 1.0755 - time_loss: 2.4499e-04 - events_acc: 0.6613 - val_loss: 1.0672 - val_events_loss: 1.0669 - val_time_loss: 2.3494e-04 - val_events_acc: 0.6667\n",
      "Epoch 74/100\n",
      "1000/1000 [==============================] - 0s 109us/step - loss: 1.0681 - events_loss: 1.0678 - time_loss: 2.3592e-04 - events_acc: 0.6613 - val_loss: 1.0599 - val_events_loss: 1.0596 - val_time_loss: 2.2818e-04 - val_events_acc: 0.6667\n",
      "Epoch 75/100\n",
      "1000/1000 [==============================] - 0s 109us/step - loss: 1.0604 - events_loss: 1.0601 - time_loss: 2.2799e-04 - events_acc: 0.6613 - val_loss: 1.0520 - val_events_loss: 1.0518 - val_time_loss: 2.2011e-04 - val_events_acc: 0.6667\n",
      "Epoch 76/100\n",
      "1000/1000 [==============================] - 0s 106us/step - loss: 1.0530 - events_loss: 1.0528 - time_loss: 2.2187e-04 - events_acc: 0.6613 - val_loss: 1.0454 - val_events_loss: 1.0452 - val_time_loss: 2.1721e-04 - val_events_acc: 0.6667\n",
      "Epoch 77/100\n",
      "1000/1000 [==============================] - 0s 108us/step - loss: 1.0457 - events_loss: 1.0455 - time_loss: 2.1651e-04 - events_acc: 0.6613 - val_loss: 1.0379 - val_events_loss: 1.0377 - val_time_loss: 2.1064e-04 - val_events_acc: 0.6667\n",
      "Epoch 78/100\n",
      "1000/1000 [==============================] - 0s 107us/step - loss: 1.0378 - events_loss: 1.0376 - time_loss: 2.0847e-04 - events_acc: 0.6613 - val_loss: 1.0300 - val_events_loss: 1.0298 - val_time_loss: 2.0365e-04 - val_events_acc: 0.6667\n",
      "Epoch 79/100\n",
      "1000/1000 [==============================] - 0s 108us/step - loss: 1.0303 - events_loss: 1.0301 - time_loss: 2.0149e-04 - events_acc: 0.6613 - val_loss: 1.0218 - val_events_loss: 1.0216 - val_time_loss: 1.9423e-04 - val_events_acc: 0.6667\n",
      "Epoch 80/100\n",
      "1000/1000 [==============================] - 0s 109us/step - loss: 1.0220 - events_loss: 1.0218 - time_loss: 1.9318e-04 - events_acc: 0.6613 - val_loss: 1.0137 - val_events_loss: 1.0135 - val_time_loss: 1.8683e-04 - val_events_acc: 0.6667\n",
      "Epoch 81/100\n",
      "1000/1000 [==============================] - 0s 111us/step - loss: 1.0142 - events_loss: 1.0140 - time_loss: 1.8641e-04 - events_acc: 0.6613 - val_loss: 1.0054 - val_events_loss: 1.0052 - val_time_loss: 1.7821e-04 - val_events_acc: 0.6667\n",
      "Epoch 82/100\n",
      "1000/1000 [==============================] - 0s 108us/step - loss: 1.0059 - events_loss: 1.0057 - time_loss: 1.7772e-04 - events_acc: 0.6613 - val_loss: 0.9979 - val_events_loss: 0.9977 - val_time_loss: 1.7281e-04 - val_events_acc: 0.6667\n",
      "Epoch 83/100\n",
      "1000/1000 [==============================] - 0s 107us/step - loss: 0.9985 - events_loss: 0.9984 - time_loss: 1.7199e-04 - events_acc: 0.6613 - val_loss: 0.9902 - val_events_loss: 0.9900 - val_time_loss: 1.6501e-04 - val_events_acc: 0.6667\n",
      "Epoch 84/100\n",
      "1000/1000 [==============================] - 0s 108us/step - loss: 0.9914 - events_loss: 0.9913 - time_loss: 1.6664e-04 - events_acc: 0.6613 - val_loss: 0.9836 - val_events_loss: 0.9835 - val_time_loss: 1.6234e-04 - val_events_acc: 0.6667\n",
      "Epoch 85/100\n",
      "1000/1000 [==============================] - 0s 108us/step - loss: 0.9849 - events_loss: 0.9847 - time_loss: 1.6334e-04 - events_acc: 0.6613 - val_loss: 0.9776 - val_events_loss: 0.9774 - val_time_loss: 1.6003e-04 - val_events_acc: 0.6667\n",
      "Epoch 86/100\n",
      "1000/1000 [==============================] - 0s 108us/step - loss: 0.9781 - events_loss: 0.9779 - time_loss: 1.5889e-04 - events_acc: 0.6613 - val_loss: 0.9697 - val_events_loss: 0.9695 - val_time_loss: 1.5273e-04 - val_events_acc: 0.6667\n",
      "Epoch 87/100\n",
      "1000/1000 [==============================] - 0s 107us/step - loss: 0.9715 - events_loss: 0.9713 - time_loss: 1.5567e-04 - events_acc: 0.6613 - val_loss: 0.9639 - val_events_loss: 0.9638 - val_time_loss: 1.5223e-04 - val_events_acc: 0.6667\n",
      "Epoch 88/100\n",
      "1000/1000 [==============================] - 0s 107us/step - loss: 0.9654 - events_loss: 0.9653 - time_loss: 1.5364e-04 - events_acc: 0.6613 - val_loss: 0.9560 - val_events_loss: 0.9559 - val_time_loss: 1.4443e-04 - val_events_acc: 0.6667\n",
      "Epoch 89/100\n",
      "1000/1000 [==============================] - 0s 107us/step - loss: 0.9580 - events_loss: 0.9579 - time_loss: 1.4760e-04 - events_acc: 0.6613 - val_loss: 0.9513 - val_events_loss: 0.9512 - val_time_loss: 1.4508e-04 - val_events_acc: 0.6667\n",
      "Epoch 90/100\n",
      "1000/1000 [==============================] - 0s 107us/step - loss: 0.9523 - events_loss: 0.9522 - time_loss: 1.4543e-04 - events_acc: 0.6613 - val_loss: 0.9444 - val_events_loss: 0.9442 - val_time_loss: 1.4117e-04 - val_events_acc: 0.6667\n",
      "Epoch 91/100\n",
      "1000/1000 [==============================] - 0s 107us/step - loss: 0.9459 - events_loss: 0.9457 - time_loss: 1.4224e-04 - events_acc: 0.6613 - val_loss: 0.9380 - val_events_loss: 0.9378 - val_time_loss: 1.3790e-04 - val_events_acc: 0.6667\n",
      "Epoch 92/100\n",
      "1000/1000 [==============================] - 0s 107us/step - loss: 0.9395 - events_loss: 0.9394 - time_loss: 1.3851e-04 - events_acc: 0.6613 - val_loss: 0.9315 - val_events_loss: 0.9314 - val_time_loss: 1.3457e-04 - val_events_acc: 0.6667\n",
      "Epoch 93/100\n",
      "1000/1000 [==============================] - 0s 109us/step - loss: 0.9335 - events_loss: 0.9334 - time_loss: 1.3662e-04 - events_acc: 0.6613 - val_loss: 0.9260 - val_events_loss: 0.9259 - val_time_loss: 1.3367e-04 - val_events_acc: 0.6667\n",
      "Epoch 94/100\n",
      "1000/1000 [==============================] - 0s 107us/step - loss: 0.9268 - events_loss: 0.9267 - time_loss: 1.3252e-04 - events_acc: 0.6613 - val_loss: 0.9185 - val_events_loss: 0.9184 - val_time_loss: 1.2765e-04 - val_events_acc: 0.6667\n",
      "Epoch 95/100\n",
      "1000/1000 [==============================] - 0s 108us/step - loss: 0.9208 - events_loss: 0.9207 - time_loss: 1.2955e-04 - events_acc: 0.6613 - val_loss: 0.9126 - val_events_loss: 0.9124 - val_time_loss: 1.2511e-04 - val_events_acc: 0.6667\n",
      "Epoch 96/100\n",
      "1000/1000 [==============================] - 0s 108us/step - loss: 0.9155 - events_loss: 0.9153 - time_loss: 1.2782e-04 - events_acc: 0.6613 - val_loss: 0.9081 - val_events_loss: 0.9080 - val_time_loss: 1.2483e-04 - val_events_acc: 0.6667\n",
      "Epoch 97/100\n",
      "1000/1000 [==============================] - 0s 107us/step - loss: 0.9091 - events_loss: 0.9089 - time_loss: 1.2433e-04 - events_acc: 0.6613 - val_loss: 0.9007 - val_events_loss: 0.9006 - val_time_loss: 1.1973e-04 - val_events_acc: 0.6667\n",
      "Epoch 98/100\n",
      "1000/1000 [==============================] - 0s 106us/step - loss: 0.9027 - events_loss: 0.9025 - time_loss: 1.2139e-04 - events_acc: 0.6613 - val_loss: 0.8950 - val_events_loss: 0.8949 - val_time_loss: 1.1739e-04 - val_events_acc: 0.6667\n",
      "Epoch 99/100\n"
     ]
    },
    {
     "name": "stdout",
     "output_type": "stream",
     "text": [
      "1000/1000 [==============================] - 0s 106us/step - loss: 0.8972 - events_loss: 0.8971 - time_loss: 1.1954e-04 - events_acc: 0.6613 - val_loss: 0.8900 - val_events_loss: 0.8899 - val_time_loss: 1.1596e-04 - val_events_acc: 0.6667\n",
      "Epoch 100/100\n",
      "1000/1000 [==============================] - 0s 107us/step - loss: 0.8918 - events_loss: 0.8917 - time_loss: 1.1733e-04 - events_acc: 0.6613 - val_loss: 0.8845 - val_events_loss: 0.8843 - val_time_loss: 1.1380e-04 - val_events_acc: 0.6667\n",
      "----\n",
      "Train Error:  50.4 - 2.6756552722802738\n",
      "Test Error:  50.0 - 2.687559008206453\n"
     ]
    },
    {
     "data": {
      "text/html": [
       "<h3>Train</h3>"
      ],
      "text/plain": [
       "<IPython.core.display.HTML object>"
      ]
     },
     "metadata": {},
     "output_type": "display_data"
    },
    {
     "data": {
      "text/html": [
       "<div><strong><u>1</u></strong> <button type=\"button\" class=\"btn btn-danger\" style=\"margin-right: 10px;\"title=\"Event True: 2 - Pred: 4\n",
       "Time True: 5.0 - Pred: 0.7747678756713867\">2<br></button><button type=\"button\" class=\"btn btn-success\" style=\"margin-right: 10px;\"title=\"Event True: 4 - Pred: 4\n",
       "Time True: 3.0 - Pred: 1.686056020844262e-05\">4<br></button><button type=\"button\" class=\"btn btn-success\" style=\"margin-right: 10px;\"title=\"Event True: 3 - Pred: 3\n",
       "Time True: 3.0 - Pred: 2.9086086215102114e-06\">3<br></button><button type=\"button\" class=\"btn btn-success\" style=\"margin-right: 10px;\"title=\"Event True: 5 - Pred: 5\n",
       "Time True: 3.0 - Pred: 4.286274020159908e-07\">5<br></button></div><br><div><strong><u>2</u></strong> <button type=\"button\" class=\"btn btn-danger\" style=\"margin-right: 10px;\"title=\"Event True: 2 - Pred: 4\n",
       "Time True: 5.0 - Pred: 0.7747678756713867\">2<br></button><button type=\"button\" class=\"btn btn-success\" style=\"margin-right: 10px;\"title=\"Event True: 4 - Pred: 4\n",
       "Time True: 3.0 - Pred: 1.686056020844262e-05\">4<br></button><button type=\"button\" class=\"btn btn-success\" style=\"margin-right: 10px;\"title=\"Event True: 3 - Pred: 3\n",
       "Time True: 3.0 - Pred: 2.9086086215102114e-06\">3<br></button><button type=\"button\" class=\"btn btn-success\" style=\"margin-right: 10px;\"title=\"Event True: 5 - Pred: 5\n",
       "Time True: 3.0 - Pred: 4.286274020159908e-07\">5<br></button></div><br><div><strong><u>3</u></strong> <button type=\"button\" class=\"btn btn-danger\" style=\"margin-right: 10px;\"title=\"Event True: 2 - Pred: 4\n",
       "Time True: 2.0 - Pred: 0.7747678756713867\">2<br></button><button type=\"button\" class=\"btn btn-danger\" style=\"margin-right: 10px;\"title=\"Event True: 3 - Pred: 5\n",
       "Time True: 2.0 - Pred: 0.12996381521224976\">3<br></button><button type=\"button\" class=\"btn btn-danger\" style=\"margin-right: 10px;\"title=\"Event True: 4 - Pred: 5\n",
       "Time True: 2.0 - Pred: 0.012745678424835205\">4<br></button><button type=\"button\" class=\"btn btn-success\" style=\"margin-right: 10px;\"title=\"Event True: 5 - Pred: 5\n",
       "Time True: 2.0 - Pred: 0.004025743342936039\">5<br></button></div><br><div><strong><u>4</u></strong> <button type=\"button\" class=\"btn btn-danger\" style=\"margin-right: 10px;\"title=\"Event True: 2 - Pred: 4\n",
       "Time True: 2.0 - Pred: 0.7747678756713867\">2<br></button><button type=\"button\" class=\"btn btn-danger\" style=\"margin-right: 10px;\"title=\"Event True: 3 - Pred: 5\n",
       "Time True: 2.0 - Pred: 0.12996381521224976\">3<br></button><button type=\"button\" class=\"btn btn-danger\" style=\"margin-right: 10px;\"title=\"Event True: 4 - Pred: 5\n",
       "Time True: 2.0 - Pred: 0.012745678424835205\">4<br></button><button type=\"button\" class=\"btn btn-success\" style=\"margin-right: 10px;\"title=\"Event True: 5 - Pred: 5\n",
       "Time True: 2.0 - Pred: 0.004025743342936039\">5<br></button></div><br><div><strong><u>5</u></strong> <button type=\"button\" class=\"btn btn-danger\" style=\"margin-right: 10px;\"title=\"Event True: 2 - Pred: 4\n",
       "Time True: 2.0 - Pred: 0.7747678756713867\">2<br></button><button type=\"button\" class=\"btn btn-danger\" style=\"margin-right: 10px;\"title=\"Event True: 3 - Pred: 5\n",
       "Time True: 2.0 - Pred: 0.12996381521224976\">3<br></button><button type=\"button\" class=\"btn btn-danger\" style=\"margin-right: 10px;\"title=\"Event True: 4 - Pred: 5\n",
       "Time True: 2.0 - Pred: 0.012745678424835205\">4<br></button><button type=\"button\" class=\"btn btn-success\" style=\"margin-right: 10px;\"title=\"Event True: 5 - Pred: 5\n",
       "Time True: 2.0 - Pred: 0.004025743342936039\">5<br></button></div><br>"
      ],
      "text/plain": [
       "<IPython.core.display.HTML object>"
      ]
     },
     "metadata": {},
     "output_type": "display_data"
    },
    {
     "data": {
      "text/html": [
       "<h3>Test</h3>"
      ],
      "text/plain": [
       "<IPython.core.display.HTML object>"
      ]
     },
     "metadata": {},
     "output_type": "display_data"
    },
    {
     "data": {
      "text/html": [
       "<div><strong><u>1</u></strong> <button type=\"button\" class=\"btn btn-danger\" style=\"margin-right: 10px;\"title=\"Event True: 2 - Pred: 4\n",
       "Time True: 2.0 - Pred: 0.7747678756713867\">2<br></button><button type=\"button\" class=\"btn btn-danger\" style=\"margin-right: 10px;\"title=\"Event True: 3 - Pred: 4\n",
       "Time True: 2.0 - Pred: 0.12996381521224976\">3<br></button><button type=\"button\" class=\"btn btn-danger\" style=\"margin-right: 10px;\"title=\"Event True: 4 - Pred: 3\n",
       "Time True: 2.0 - Pred: 0.012745678424835205\">4<br></button><button type=\"button\" class=\"btn btn-success\" style=\"margin-right: 10px;\"title=\"Event True: 5 - Pred: 5\n",
       "Time True: 2.0 - Pred: 0.004025743342936039\">5<br></button></div><br><div><strong><u>2</u></strong> <button type=\"button\" class=\"btn btn-danger\" style=\"margin-right: 10px;\"title=\"Event True: 2 - Pred: 4\n",
       "Time True: 5.0 - Pred: 0.7747678756713867\">2<br></button><button type=\"button\" class=\"btn btn-success\" style=\"margin-right: 10px;\"title=\"Event True: 4 - Pred: 4\n",
       "Time True: 3.0 - Pred: 1.686056020844262e-05\">4<br></button><button type=\"button\" class=\"btn btn-success\" style=\"margin-right: 10px;\"title=\"Event True: 3 - Pred: 3\n",
       "Time True: 3.0 - Pred: 2.9086086215102114e-06\">3<br></button><button type=\"button\" class=\"btn btn-success\" style=\"margin-right: 10px;\"title=\"Event True: 5 - Pred: 5\n",
       "Time True: 3.0 - Pred: 4.286274020159908e-07\">5<br></button></div><br><div><strong><u>3</u></strong> <button type=\"button\" class=\"btn btn-danger\" style=\"margin-right: 10px;\"title=\"Event True: 2 - Pred: 4\n",
       "Time True: 5.0 - Pred: 0.7747678756713867\">2<br></button><button type=\"button\" class=\"btn btn-danger\" style=\"margin-right: 10px;\"title=\"Event True: 4 - Pred: 5\n",
       "Time True: 3.0 - Pred: 1.686056020844262e-05\">4<br></button><button type=\"button\" class=\"btn btn-danger\" style=\"margin-right: 10px;\"title=\"Event True: 3 - Pred: 5\n",
       "Time True: 3.0 - Pred: 2.9086086215102114e-06\">3<br></button><button type=\"button\" class=\"btn btn-success\" style=\"margin-right: 10px;\"title=\"Event True: 5 - Pred: 5\n",
       "Time True: 3.0 - Pred: 4.286274020159908e-07\">5<br></button></div><br><div><strong><u>4</u></strong> <button type=\"button\" class=\"btn btn-danger\" style=\"margin-right: 10px;\"title=\"Event True: 2 - Pred: 4\n",
       "Time True: 5.0 - Pred: 0.7747678756713867\">2<br></button><button type=\"button\" class=\"btn btn-danger\" style=\"margin-right: 10px;\"title=\"Event True: 4 - Pred: 5\n",
       "Time True: 3.0 - Pred: 1.686056020844262e-05\">4<br></button><button type=\"button\" class=\"btn btn-danger\" style=\"margin-right: 10px;\"title=\"Event True: 3 - Pred: 5\n",
       "Time True: 3.0 - Pred: 2.9086086215102114e-06\">3<br></button><button type=\"button\" class=\"btn btn-success\" style=\"margin-right: 10px;\"title=\"Event True: 5 - Pred: 5\n",
       "Time True: 3.0 - Pred: 4.286274020159908e-07\">5<br></button></div><br><div><strong><u>5</u></strong> <button type=\"button\" class=\"btn btn-danger\" style=\"margin-right: 10px;\"title=\"Event True: 2 - Pred: 4\n",
       "Time True: 2.0 - Pred: 0.7747678756713867\">2<br></button><button type=\"button\" class=\"btn btn-danger\" style=\"margin-right: 10px;\"title=\"Event True: 3 - Pred: 5\n",
       "Time True: 2.0 - Pred: 0.12996381521224976\">3<br></button><button type=\"button\" class=\"btn btn-danger\" style=\"margin-right: 10px;\"title=\"Event True: 4 - Pred: 5\n",
       "Time True: 2.0 - Pred: 0.012745678424835205\">4<br></button><button type=\"button\" class=\"btn btn-success\" style=\"margin-right: 10px;\"title=\"Event True: 5 - Pred: 5\n",
       "Time True: 2.0 - Pred: 0.004025743342936039\">5<br></button></div><br>"
      ],
      "text/plain": [
       "<IPython.core.display.HTML object>"
      ]
     },
     "metadata": {},
     "output_type": "display_data"
    }
   ],
   "source": [
    "from phasedlstmcell import PhasedLSTMCell\n",
    "\n",
    "input_events = Input(shape=(max_user_length, 1))\n",
    "input_deltas = Input(shape=(max_user_length, 1))\n",
    "\n",
    "inputs = Concatenate(axis=2)([input_events, input_deltas])\n",
    "inputs = Masking(mask_value=0.)(inputs)\n",
    "\n",
    "cell = PhasedLSTMCell(50, activation='tanh')\n",
    "rnn = RNN(cell, return_sequences=True)(inputs)\n",
    "\n",
    "output_events = TimeDistributed(Dense(num_events, activation='softmax'), name='events')(rnn)\n",
    "\n",
    "output_deltas = TimeDistributed(Dense(15, activation='relu'))(rnn)\n",
    "output_deltas = TimeDistributed(Dense(1, activation='sigmoid'), name='time')(output_deltas)\n",
    "\n",
    "model = Model(inputs=[input_events, input_deltas], outputs=[output_events, output_deltas])\n",
    "\n",
    "model.compile(loss=['categorical_crossentropy', 'mse'], optimizer='adam', metrics={'events': 'accuracy'})\n",
    "\n",
    "model.fit(x['train'], y['train'], validation_data=(x['test'], y['test']), batch_size=100, epochs=100)\n",
    "\n",
    "preds_train = model.predict(x['train'])\n",
    "preds_test = model.predict(x['test'])\n",
    "\n",
    "preds_train[1] *= max_delta\n",
    "preds_test[1] *= max_delta\n",
    "\n",
    "show_results_nn('PhasedLSTM', preds_train, preds_test)"
   ]
  },
  {
   "cell_type": "code",
   "execution_count": null,
   "metadata": {},
   "outputs": [],
   "source": []
  },
  {
   "cell_type": "markdown",
   "metadata": {},
   "source": [
    "# Model Stats"
   ]
  },
  {
   "cell_type": "markdown",
   "metadata": {},
   "source": [
    "## Event Error"
   ]
  },
  {
   "cell_type": "code",
   "execution_count": 24,
   "metadata": {},
   "outputs": [
    {
     "data": {
      "text/html": [
       "<div class=\"vega-embed\" id=\"88d95365-0376-40ad-848b-d4f18b4d58af\"></div>\n",
       "\n",
       "<style>\n",
       ".vega-embed .error p {\n",
       "    color: firebrick;\n",
       "    font-size: 14px;\n",
       "}\n",
       "</style>\n"
      ]
     },
     "metadata": {
      "jupyter-vega": "#88d95365-0376-40ad-848b-d4f18b4d58af"
     },
     "output_type": "display_data"
    },
    {
     "data": {
      "application/javascript": [
       "var spec = {\"config\": {\"view\": {\"width\": 400, \"height\": 300, \"stroke\": \"transparent\"}, \"axis\": {\"domainWidth\": 0.8}}, \"data\": {\"values\": [{\"models\": \"Majority\", \"error\": 100.0, \"data_type\": \"train\"}, {\"models\": \"RNN\", \"error\": 62.7, \"data_type\": \"train\"}, {\"models\": \"LSTM\", \"error\": 50.0, \"data_type\": \"train\"}, {\"models\": \"PhasedLSTM\", \"error\": 75.0, \"data_type\": \"train\"}, {\"models\": \"Majority\", \"error\": 100.0, \"data_type\": \"test\"}, {\"models\": \"RNN\", \"error\": 62.5, \"data_type\": \"test\"}, {\"models\": \"LSTM\", \"error\": 50.0, \"data_type\": \"test\"}, {\"models\": \"PhasedLSTM\", \"error\": 75.0, \"data_type\": \"test\"}]}, \"mark\": {\"type\": \"bar\", \"stroke\": \"transparent\"}, \"encoding\": {\"color\": {\"type\": \"nominal\", \"field\": \"data_type\", \"scale\": {\"range\": [\"#1f77b4\", \"#ff7f0e\"]}, \"sort\": [\"train\", \"test\"]}, \"row\": {\"type\": \"nominal\", \"field\": \"models\"}, \"x\": {\"type\": \"quantitative\", \"axis\": {\"grid\": false, \"title\": \"error\"}, \"field\": \"error\"}, \"y\": {\"type\": \"nominal\", \"axis\": {\"title\": \"\"}, \"field\": \"data_type\", \"scale\": {\"rangeStep\": 12}, \"sort\": [\"train\", \"test\"]}}, \"$schema\": \"https://vega.github.io/schema/vega-lite/v2.4.3.json\"};\n",
       "var opt = {};\n",
       "var selector = \"#88d95365-0376-40ad-848b-d4f18b4d58af\";\n",
       "var type = \"vega-lite\";\n",
       "\n",
       "var output_area = this;\n",
       "\n",
       "require(['nbextensions/jupyter-vega/index'], function(vega) {\n",
       "  vega.render(selector, spec, type, opt, output_area);\n",
       "}, function (err) {\n",
       "  if (err.requireType !== 'scripterror') {\n",
       "    throw(err);\n",
       "  }\n",
       "});\n"
      ]
     },
     "metadata": {
      "jupyter-vega": "#88d95365-0376-40ad-848b-d4f18b4d58af"
     },
     "output_type": "display_data"
    },
    {
     "data": {
      "text/plain": []
     },
     "execution_count": 24,
     "metadata": {},
     "output_type": "execute_result"
    },
    {
     "data": {
      "image/png": "[encoded data removed]"
     },
     "metadata": {
      "jupyter-vega": "#88d95365-0376-40ad-848b-d4f18b4d58af"
     },
     "output_type": "display_data"
    }
   ],
   "source": [
    "results.grouped_bar('event')"
   ]
  },
  {
   "cell_type": "markdown",
   "metadata": {},
   "source": [
    "### Train"
   ]
  },
  {
   "cell_type": "code",
   "execution_count": 25,
   "metadata": {},
   "outputs": [
    {
     "data": {
      "text/html": [
       "<div class=\"vega-embed\" id=\"3fe9c445-3b4e-47a0-9335-a595a4a9d4ae\"></div>\n",
       "\n",
       "<style>\n",
       ".vega-embed .error p {\n",
       "    color: firebrick;\n",
       "    font-size: 14px;\n",
       "}\n",
       "</style>\n"
      ]
     },
     "metadata": {
      "jupyter-vega": "#3fe9c445-3b4e-47a0-9335-a595a4a9d4ae"
     },
     "output_type": "display_data"
    },
    {
     "data": {
      "application/javascript": [
       "var spec = {\"config\": {\"view\": {\"width\": 400, \"height\": 300}}, \"layer\": [{\"data\": {\"values\": [{\"models\": \"Majority\", \"error\": 100.0}, {\"models\": \"RNN\", \"error\": 62.7}, {\"models\": \"LSTM\", \"error\": 50.0}, {\"models\": \"PhasedLSTM\", \"error\": 75.0}]}, \"mark\": \"bar\", \"encoding\": {\"x\": {\"type\": \"quantitative\", \"field\": \"error\"}, \"y\": {\"type\": \"nominal\", \"field\": \"models\", \"sort\": [\"Majority\", \"RNN\", \"LSTM\", \"PhasedLSTM\"]}}}, {\"data\": {\"values\": [{\"models\": \"Majority\", \"error\": 100.0}, {\"models\": \"RNN\", \"error\": 62.7}, {\"models\": \"LSTM\", \"error\": 50.0}, {\"models\": \"PhasedLSTM\", \"error\": 75.0}]}, \"mark\": {\"type\": \"text\", \"align\": \"left\", \"baseline\": \"middle\", \"dx\": 3}, \"encoding\": {\"text\": {\"type\": \"quantitative\", \"field\": \"error\"}, \"x\": {\"type\": \"quantitative\", \"field\": \"error\"}, \"y\": {\"type\": \"nominal\", \"field\": \"models\", \"sort\": [\"Majority\", \"RNN\", \"LSTM\", \"PhasedLSTM\"]}}}], \"$schema\": \"https://vega.github.io/schema/vega-lite/v2.4.3.json\"};\n",
       "var opt = {};\n",
       "var selector = \"#3fe9c445-3b4e-47a0-9335-a595a4a9d4ae\";\n",
       "var type = \"vega-lite\";\n",
       "\n",
       "var output_area = this;\n",
       "\n",
       "require(['nbextensions/jupyter-vega/index'], function(vega) {\n",
       "  vega.render(selector, spec, type, opt, output_area);\n",
       "}, function (err) {\n",
       "  if (err.requireType !== 'scripterror') {\n",
       "    throw(err);\n",
       "  }\n",
       "});\n"
      ]
     },
     "metadata": {
      "jupyter-vega": "#3fe9c445-3b4e-47a0-9335-a595a4a9d4ae"
     },
     "output_type": "display_data"
    },
    {
     "data": {
      "text/plain": []
     },
     "execution_count": 25,
     "metadata": {},
     "output_type": "execute_result"
    },
    {
     "data": {
      "image/png": "[encoded data removed]"
     },
     "metadata": {
      "jupyter-vega": "#3fe9c445-3b4e-47a0-9335-a595a4a9d4ae"
     },
     "output_type": "display_data"
    }
   ],
   "source": [
    "results.graph_results('event', 'train')"
   ]
  },
  {
   "cell_type": "markdown",
   "metadata": {},
   "source": [
    "### Test"
   ]
  },
  {
   "cell_type": "code",
   "execution_count": 26,
   "metadata": {},
   "outputs": [
    {
     "data": {
      "text/html": [
       "<div class=\"vega-embed\" id=\"0b585b76-95f2-491f-92d3-061c333d0193\"></div>\n",
       "\n",
       "<style>\n",
       ".vega-embed .error p {\n",
       "    color: firebrick;\n",
       "    font-size: 14px;\n",
       "}\n",
       "</style>\n"
      ]
     },
     "metadata": {
      "jupyter-vega": "#0b585b76-95f2-491f-92d3-061c333d0193"
     },
     "output_type": "display_data"
    },
    {
     "data": {
      "application/javascript": [
       "var spec = {\"config\": {\"view\": {\"width\": 400, \"height\": 300}}, \"layer\": [{\"data\": {\"values\": [{\"models\": \"Majority\", \"error\": 100.0}, {\"models\": \"RNN\", \"error\": 62.5}, {\"models\": \"LSTM\", \"error\": 50.0}, {\"models\": \"PhasedLSTM\", \"error\": 75.0}]}, \"mark\": \"bar\", \"encoding\": {\"x\": {\"type\": \"quantitative\", \"field\": \"error\"}, \"y\": {\"type\": \"nominal\", \"field\": \"models\", \"sort\": [\"Majority\", \"RNN\", \"LSTM\", \"PhasedLSTM\"]}}}, {\"data\": {\"values\": [{\"models\": \"Majority\", \"error\": 100.0}, {\"models\": \"RNN\", \"error\": 62.5}, {\"models\": \"LSTM\", \"error\": 50.0}, {\"models\": \"PhasedLSTM\", \"error\": 75.0}]}, \"mark\": {\"type\": \"text\", \"align\": \"left\", \"baseline\": \"middle\", \"dx\": 3}, \"encoding\": {\"text\": {\"type\": \"quantitative\", \"field\": \"error\"}, \"x\": {\"type\": \"quantitative\", \"field\": \"error\"}, \"y\": {\"type\": \"nominal\", \"field\": \"models\", \"sort\": [\"Majority\", \"RNN\", \"LSTM\", \"PhasedLSTM\"]}}}], \"$schema\": \"https://vega.github.io/schema/vega-lite/v2.4.3.json\"};\n",
       "var opt = {};\n",
       "var selector = \"#0b585b76-95f2-491f-92d3-061c333d0193\";\n",
       "var type = \"vega-lite\";\n",
       "\n",
       "var output_area = this;\n",
       "\n",
       "require(['nbextensions/jupyter-vega/index'], function(vega) {\n",
       "  vega.render(selector, spec, type, opt, output_area);\n",
       "}, function (err) {\n",
       "  if (err.requireType !== 'scripterror') {\n",
       "    throw(err);\n",
       "  }\n",
       "});\n"
      ]
     },
     "metadata": {
      "jupyter-vega": "#0b585b76-95f2-491f-92d3-061c333d0193"
     },
     "output_type": "display_data"
    },
    {
     "data": {
      "text/plain": []
     },
     "execution_count": 26,
     "metadata": {},
     "output_type": "execute_result"
    },
    {
     "data": {
      "image/png": "[encoded data removed]"
     },
     "metadata": {
      "jupyter-vega": "#0b585b76-95f2-491f-92d3-061c333d0193"
     },
     "output_type": "display_data"
    }
   ],
   "source": [
    "results.graph_results('event', 'test')"
   ]
  },
  {
   "cell_type": "markdown",
   "metadata": {},
   "source": [
    "## Time Error"
   ]
  },
  {
   "cell_type": "code",
   "execution_count": 27,
   "metadata": {},
   "outputs": [
    {
     "data": {
      "text/html": [
       "<div class=\"vega-embed\" id=\"32fc4137-8aa3-471d-acdb-82a84b66e55d\"></div>\n",
       "\n",
       "<style>\n",
       ".vega-embed .error p {\n",
       "    color: firebrick;\n",
       "    font-size: 14px;\n",
       "}\n",
       "</style>\n"
      ]
     },
     "metadata": {
      "jupyter-vega": "#32fc4137-8aa3-471d-acdb-82a84b66e55d"
     },
     "output_type": "display_data"
    },
    {
     "data": {
      "application/javascript": [
       "var spec = {\"config\": {\"view\": {\"width\": 400, \"height\": 300, \"stroke\": \"transparent\"}, \"axis\": {\"domainWidth\": 0.8}}, \"data\": {\"values\": [{\"models\": \"Majority\", \"error\": 2.9005196445885346, \"data_type\": \"train\"}, {\"models\": \"RNN\", \"error\": 1.3819537097189463, \"data_type\": \"train\"}, {\"models\": \"LSTM\", \"error\": 1.0959070599894851, \"data_type\": \"train\"}, {\"models\": \"PhasedLSTM\", \"error\": 1.0120610162739974, \"data_type\": \"train\"}, {\"models\": \"Majority\", \"error\": 2.9128934921558667, \"data_type\": \"test\"}, {\"models\": \"RNN\", \"error\": 1.3911415660696946, \"data_type\": \"test\"}, {\"models\": \"LSTM\", \"error\": 1.104230462600685, \"data_type\": \"test\"}, {\"models\": \"PhasedLSTM\", \"error\": 1.0188219656683049, \"data_type\": \"test\"}]}, \"mark\": {\"type\": \"bar\", \"stroke\": \"transparent\"}, \"encoding\": {\"color\": {\"type\": \"nominal\", \"field\": \"data_type\", \"scale\": {\"range\": [\"#1f77b4\", \"#ff7f0e\"]}, \"sort\": [\"train\", \"test\"]}, \"row\": {\"type\": \"nominal\", \"field\": \"models\"}, \"x\": {\"type\": \"quantitative\", \"axis\": {\"grid\": false, \"title\": \"error\"}, \"field\": \"error\"}, \"y\": {\"type\": \"nominal\", \"axis\": {\"title\": \"\"}, \"field\": \"data_type\", \"scale\": {\"rangeStep\": 12}, \"sort\": [\"train\", \"test\"]}}, \"$schema\": \"https://vega.github.io/schema/vega-lite/v2.4.3.json\"};\n",
       "var opt = {};\n",
       "var selector = \"#32fc4137-8aa3-471d-acdb-82a84b66e55d\";\n",
       "var type = \"vega-lite\";\n",
       "\n",
       "var output_area = this;\n",
       "\n",
       "require(['nbextensions/jupyter-vega/index'], function(vega) {\n",
       "  vega.render(selector, spec, type, opt, output_area);\n",
       "}, function (err) {\n",
       "  if (err.requireType !== 'scripterror') {\n",
       "    throw(err);\n",
       "  }\n",
       "});\n"
      ]
     },
     "metadata": {
      "jupyter-vega": "#32fc4137-8aa3-471d-acdb-82a84b66e55d"
     },
     "output_type": "display_data"
    },
    {
     "data": {
      "text/plain": []
     },
     "execution_count": 27,
     "metadata": {},
     "output_type": "execute_result"
    },
    {
     "data": {
      "image/png": "[encoded data removed]"
     },
     "metadata": {
      "jupyter-vega": "#32fc4137-8aa3-471d-acdb-82a84b66e55d"
     },
     "output_type": "display_data"
    }
   ],
   "source": [
    "results.grouped_bar('time')"
   ]
  },
  {
   "cell_type": "markdown",
   "metadata": {},
   "source": [
    "### Train"
   ]
  },
  {
   "cell_type": "code",
   "execution_count": 28,
   "metadata": {},
   "outputs": [
    {
     "data": {
      "text/html": [
       "<div class=\"vega-embed\" id=\"828fafed-4eb4-4b91-8152-33284a5548dc\"></div>\n",
       "\n",
       "<style>\n",
       ".vega-embed .error p {\n",
       "    color: firebrick;\n",
       "    font-size: 14px;\n",
       "}\n",
       "</style>\n"
      ]
     },
     "metadata": {
      "jupyter-vega": "#828fafed-4eb4-4b91-8152-33284a5548dc"
     },
     "output_type": "display_data"
    },
    {
     "data": {
      "application/javascript": [
       "var spec = {\"config\": {\"view\": {\"width\": 400, \"height\": 300}}, \"layer\": [{\"data\": {\"values\": [{\"models\": \"Majority\", \"error\": 2.9005196445885346}, {\"models\": \"RNN\", \"error\": 1.3819537097189463}, {\"models\": \"LSTM\", \"error\": 1.0959070599894851}, {\"models\": \"PhasedLSTM\", \"error\": 1.0120610162739974}]}, \"mark\": \"bar\", \"encoding\": {\"x\": {\"type\": \"quantitative\", \"field\": \"error\"}, \"y\": {\"type\": \"nominal\", \"field\": \"models\", \"sort\": [\"Majority\", \"RNN\", \"LSTM\", \"PhasedLSTM\"]}}}, {\"data\": {\"values\": [{\"models\": \"Majority\", \"error\": 2.9005196445885346}, {\"models\": \"RNN\", \"error\": 1.3819537097189463}, {\"models\": \"LSTM\", \"error\": 1.0959070599894851}, {\"models\": \"PhasedLSTM\", \"error\": 1.0120610162739974}]}, \"mark\": {\"type\": \"text\", \"align\": \"left\", \"baseline\": \"middle\", \"dx\": 3}, \"encoding\": {\"text\": {\"type\": \"quantitative\", \"field\": \"error\"}, \"x\": {\"type\": \"quantitative\", \"field\": \"error\"}, \"y\": {\"type\": \"nominal\", \"field\": \"models\", \"sort\": [\"Majority\", \"RNN\", \"LSTM\", \"PhasedLSTM\"]}}}], \"$schema\": \"https://vega.github.io/schema/vega-lite/v2.4.3.json\"};\n",
       "var opt = {};\n",
       "var selector = \"#828fafed-4eb4-4b91-8152-33284a5548dc\";\n",
       "var type = \"vega-lite\";\n",
       "\n",
       "var output_area = this;\n",
       "\n",
       "require(['nbextensions/jupyter-vega/index'], function(vega) {\n",
       "  vega.render(selector, spec, type, opt, output_area);\n",
       "}, function (err) {\n",
       "  if (err.requireType !== 'scripterror') {\n",
       "    throw(err);\n",
       "  }\n",
       "});\n"
      ]
     },
     "metadata": {
      "jupyter-vega": "#828fafed-4eb4-4b91-8152-33284a5548dc"
     },
     "output_type": "display_data"
    },
    {
     "data": {
      "text/plain": []
     },
     "execution_count": 28,
     "metadata": {},
     "output_type": "execute_result"
    },
    {
     "data": {
      "image/png": "[encoded data removed]"
     },
     "metadata": {
      "jupyter-vega": "#828fafed-4eb4-4b91-8152-33284a5548dc"
     },
     "output_type": "display_data"
    }
   ],
   "source": [
    "results.graph_results('time', 'train')"
   ]
  },
  {
   "cell_type": "markdown",
   "metadata": {},
   "source": [
    "### Test"
   ]
  },
  {
   "cell_type": "code",
   "execution_count": 29,
   "metadata": {},
   "outputs": [
    {
     "data": {
      "text/html": [
       "<div class=\"vega-embed\" id=\"27f48743-0227-456c-8fbf-42f1d0854e00\"></div>\n",
       "\n",
       "<style>\n",
       ".vega-embed .error p {\n",
       "    color: firebrick;\n",
       "    font-size: 14px;\n",
       "}\n",
       "</style>\n"
      ]
     },
     "metadata": {
      "jupyter-vega": "#27f48743-0227-456c-8fbf-42f1d0854e00"
     },
     "output_type": "display_data"
    },
    {
     "data": {
      "application/javascript": [
       "var spec = {\"config\": {\"view\": {\"width\": 400, \"height\": 300}}, \"layer\": [{\"data\": {\"values\": [{\"models\": \"Majority\", \"error\": 2.9128934921558667}, {\"models\": \"RNN\", \"error\": 1.3911415660696946}, {\"models\": \"LSTM\", \"error\": 1.104230462600685}, {\"models\": \"PhasedLSTM\", \"error\": 1.0188219656683049}]}, \"mark\": \"bar\", \"encoding\": {\"x\": {\"type\": \"quantitative\", \"field\": \"error\"}, \"y\": {\"type\": \"nominal\", \"field\": \"models\", \"sort\": [\"Majority\", \"RNN\", \"LSTM\", \"PhasedLSTM\"]}}}, {\"data\": {\"values\": [{\"models\": \"Majority\", \"error\": 2.9128934921558667}, {\"models\": \"RNN\", \"error\": 1.3911415660696946}, {\"models\": \"LSTM\", \"error\": 1.104230462600685}, {\"models\": \"PhasedLSTM\", \"error\": 1.0188219656683049}]}, \"mark\": {\"type\": \"text\", \"align\": \"left\", \"baseline\": \"middle\", \"dx\": 3}, \"encoding\": {\"text\": {\"type\": \"quantitative\", \"field\": \"error\"}, \"x\": {\"type\": \"quantitative\", \"field\": \"error\"}, \"y\": {\"type\": \"nominal\", \"field\": \"models\", \"sort\": [\"Majority\", \"RNN\", \"LSTM\", \"PhasedLSTM\"]}}}], \"$schema\": \"https://vega.github.io/schema/vega-lite/v2.4.3.json\"};\n",
       "var opt = {};\n",
       "var selector = \"#27f48743-0227-456c-8fbf-42f1d0854e00\";\n",
       "var type = \"vega-lite\";\n",
       "\n",
       "var output_area = this;\n",
       "\n",
       "require(['nbextensions/jupyter-vega/index'], function(vega) {\n",
       "  vega.render(selector, spec, type, opt, output_area);\n",
       "}, function (err) {\n",
       "  if (err.requireType !== 'scripterror') {\n",
       "    throw(err);\n",
       "  }\n",
       "});\n"
      ]
     },
     "metadata": {
      "jupyter-vega": "#27f48743-0227-456c-8fbf-42f1d0854e00"
     },
     "output_type": "display_data"
    },
    {
     "data": {
      "text/plain": []
     },
     "execution_count": 29,
     "metadata": {},
     "output_type": "execute_result"
    },
    {
     "data": {
      "image/png": "[encoded data removed]"
     },
     "metadata": {
      "jupyter-vega": "#27f48743-0227-456c-8fbf-42f1d0854e00"
     },
     "output_type": "display_data"
    }
   ],
   "source": [
    "results.graph_results('time', 'test')"
   ]
  },
  {
   "cell_type": "code",
   "execution_count": null,
   "metadata": {},
   "outputs": [],
   "source": []
  }
 ],
 "metadata": {
  "kernelspec": {
   "display_name": "Python 3",
   "language": "python",
   "name": "python3"
  },
  "language_info": {
   "codemirror_mode": {
    "name": "ipython",
    "version": 3
   },
   "file_extension": ".py",
   "mimetype": "text/x-python",
   "name": "python",
   "nbconvert_exporter": "python",
   "pygments_lexer": "ipython3",
   "version": "3.6.5"
  }
 },
 "nbformat": 4,
 "nbformat_minor": 2
}
