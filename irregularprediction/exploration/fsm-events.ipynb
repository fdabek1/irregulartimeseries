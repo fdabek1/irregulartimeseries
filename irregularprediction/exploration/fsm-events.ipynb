{
 "cells": [
  {
   "cell_type": "markdown",
   "metadata": {},
   "source": [
    "Below is boilerplate items for each of these analysis notebooks."
   ]
  },
  {
   "cell_type": "code",
   "execution_count": 1,
   "metadata": {},
   "outputs": [],
   "source": [
    "DATA_FOLDER = 'data/fsm/'"
   ]
  },
  {
   "cell_type": "code",
   "execution_count": 2,
   "metadata": {},
   "outputs": [],
   "source": [
    "from IPython.display import display, HTML\n",
    "import numpy as np"
   ]
  },
  {
   "cell_type": "markdown",
   "metadata": {},
   "source": [
    "Import my own custom handlers"
   ]
  },
  {
   "cell_type": "code",
   "execution_count": 3,
   "metadata": {},
   "outputs": [],
   "source": [
    "import altair as alt\n",
    "alt.renderers.enable('notebook')\n",
    "\n",
    "from viz import visualize_seqs\n",
    "from model_stats import ModelStats\n",
    "\n",
    "results = ModelStats()"
   ]
  },
  {
   "cell_type": "markdown",
   "metadata": {},
   "source": [
    "# Data - FSM"
   ]
  },
  {
   "cell_type": "markdown",
   "metadata": {},
   "source": [
    "The data for fsm is based off of the below automaton.\n",
    "\n",
    "![alt text](data/fsm/IrregularFSM.png \"Title\")"
   ]
  },
  {
   "cell_type": "markdown",
   "metadata": {},
   "source": [
    "Read data\n",
    "\n",
    "IMPORTANT: Adding 1 to each event so that the events start at 1.  This is important for when later using one-hot models and using 0 as a padding."
   ]
  },
  {
   "cell_type": "code",
   "execution_count": 4,
   "metadata": {},
   "outputs": [],
   "source": [
    "file_index = 1\n",
    "events = {}\n",
    "times = {}\n",
    "\n",
    "for data_type in ['train', 'test']:\n",
    "    with open(DATA_FOLDER + 'event-' + str(file_index) + '-' + data_type + '.txt') as f_events:\n",
    "        events[data_type] = [[int(y) + 1 for y in x.split()] for x in f_events]\n",
    "        \n",
    "    with open(DATA_FOLDER + 'time-' + str(file_index) + '-' + data_type + '.txt') as f_times:\n",
    "        times[data_type] = [[float(y) for y in x.split()] for x in f_times]"
   ]
  },
  {
   "cell_type": "markdown",
   "metadata": {},
   "source": [
    "# Models without Time"
   ]
  },
  {
   "cell_type": "markdown",
   "metadata": {},
   "source": [
    "Errors for these models are represented as a percent where:\n",
    "\n",
    "number wrong / total predictions = error%"
   ]
  },
  {
   "cell_type": "markdown",
   "metadata": {},
   "source": [
    "## Get Event Stats"
   ]
  },
  {
   "cell_type": "code",
   "execution_count": 5,
   "metadata": {},
   "outputs": [
    {
     "name": "stdout",
     "output_type": "stream",
     "text": [
      "Events [1, 2, 3, 4, 5]\n",
      "Num events 5\n",
      "Max event 5\n",
      "\n",
      "--------\n",
      "Event counts\n",
      "{1: 1200, 2: 1200, 3: 1200, 4: 1200, 5: 1200}\n"
     ]
    }
   ],
   "source": [
    "event_dict = {}\n",
    "for data_type in ['train', 'test']:\n",
    "    for seq in events[data_type]:\n",
    "        for event in seq:\n",
    "            if event not in event_dict:\n",
    "                event_dict[event] = 0\n",
    "            event_dict[event] += 1\n",
    "            \n",
    "all_events = list(event_dict.keys())\n",
    "num_events = len(all_events)\n",
    "max_event = max(all_events)\n",
    "print('Events', all_events)\n",
    "print('Num events', num_events)\n",
    "print('Max event', max_event)\n",
    "\n",
    "print('')\n",
    "print('-' * 8)\n",
    "print('Event counts')\n",
    "print(event_dict)"
   ]
  },
  {
   "cell_type": "markdown",
   "metadata": {},
   "source": [
    "# Helper Functions"
   ]
  },
  {
   "cell_type": "code",
   "execution_count": 6,
   "metadata": {},
   "outputs": [],
   "source": [
    "def compute_error(y_true, y_pred):\n",
    "    num_error = 0\n",
    "    total = 0\n",
    "    for s, seq in enumerate(y_true):\n",
    "        total += len(seq) - 1\n",
    "        for e, event in enumerate(seq[1:]):\n",
    "            if event != y_pred[s][e]:\n",
    "                num_error += 1\n",
    "                \n",
    "    return (num_error / total) * 100\n",
    "\n",
    "def show_results(name, train_pred, test_pred):\n",
    "    print('----')\n",
    "    train_err = compute_error(events['train'], train_pred)\n",
    "    test_err = compute_error(events['test'], test_pred)\n",
    "    results.add_stat(name, {'train': train_err, 'test': test_err}, None)\n",
    "    print('Train Error: ', train_err)\n",
    "    print('Test Error: ', test_err)\n",
    "    display(HTML('<h3>Train</h3>'))\n",
    "    display(HTML(visualize_seqs(events['train'], train_pred)))\n",
    "    display(HTML('<h3>Test</h3>'))\n",
    "    display(HTML(visualize_seqs(events['test'], train_pred)))"
   ]
  },
  {
   "cell_type": "code",
   "execution_count": 7,
   "metadata": {},
   "outputs": [],
   "source": [
    "def convert_flat(predictions, data_type):\n",
    "    pred = []\n",
    "    index = 0\n",
    "    for s, seq in enumerate(events[data_type]):\n",
    "        start_index = index\n",
    "        index += len(seq) - 1\n",
    "        pred.append(predictions[start_index:index])\n",
    "        \n",
    "    return pred"
   ]
  },
  {
   "cell_type": "code",
   "execution_count": 8,
   "metadata": {},
   "outputs": [],
   "source": [
    "def convert_nn_seq(predictions, data_type):\n",
    "    pred = []\n",
    "    for s, seq in enumerate(events[data_type]):\n",
    "        seq_len = len(seq) - 1\n",
    "        pred.append(predictions[s][-seq_len:].tolist())\n",
    "        \n",
    "    return pred"
   ]
  },
  {
   "cell_type": "markdown",
   "metadata": {},
   "source": [
    "# Baselines"
   ]
  },
  {
   "cell_type": "markdown",
   "metadata": {},
   "source": [
    "## Majority Predictor\n",
    "\n",
    "Source: https://github.com/dunan/NeuralPointProcess/blob/master/code/baselines/majority_predictor/event_majority_baseline.py"
   ]
  },
  {
   "cell_type": "code",
   "execution_count": 9,
   "metadata": {},
   "outputs": [
    {
     "name": "stdout",
     "output_type": "stream",
     "text": [
      "Most commom event is 1\n",
      "----\n",
      "Train Error:  100.0\n",
      "Test Error:  100.0\n"
     ]
    },
    {
     "data": {
      "text/html": [
       "<h3>Train</h3>"
      ],
      "text/plain": [
       "<IPython.core.display.HTML object>"
      ]
     },
     "metadata": {},
     "output_type": "display_data"
    },
    {
     "data": {
      "text/html": [
       "<div><strong><u>1</u></strong> <button type=\"button\" class=\"btn btn-danger\" style=\"margin-right: 10px;\"title=\"Event True: 2 - Pred: 1\n",
       "Time True: None - Pred: None\">2</button><button type=\"button\" class=\"btn btn-danger\" style=\"margin-right: 10px;\"title=\"Event True: 3 - Pred: 1\n",
       "Time True: None - Pred: None\">3</button><button type=\"button\" class=\"btn btn-danger\" style=\"margin-right: 10px;\"title=\"Event True: 4 - Pred: 1\n",
       "Time True: None - Pred: None\">4</button><button type=\"button\" class=\"btn btn-danger\" style=\"margin-right: 10px;\"title=\"Event True: 5 - Pred: 1\n",
       "Time True: None - Pred: None\">5</button></div><br><div><strong><u>2</u></strong> <button type=\"button\" class=\"btn btn-danger\" style=\"margin-right: 10px;\"title=\"Event True: 2 - Pred: 1\n",
       "Time True: None - Pred: None\">2</button><button type=\"button\" class=\"btn btn-danger\" style=\"margin-right: 10px;\"title=\"Event True: 4 - Pred: 1\n",
       "Time True: None - Pred: None\">4</button><button type=\"button\" class=\"btn btn-danger\" style=\"margin-right: 10px;\"title=\"Event True: 3 - Pred: 1\n",
       "Time True: None - Pred: None\">3</button><button type=\"button\" class=\"btn btn-danger\" style=\"margin-right: 10px;\"title=\"Event True: 5 - Pred: 1\n",
       "Time True: None - Pred: None\">5</button></div><br><div><strong><u>3</u></strong> <button type=\"button\" class=\"btn btn-danger\" style=\"margin-right: 10px;\"title=\"Event True: 2 - Pred: 1\n",
       "Time True: None - Pred: None\">2</button><button type=\"button\" class=\"btn btn-danger\" style=\"margin-right: 10px;\"title=\"Event True: 4 - Pred: 1\n",
       "Time True: None - Pred: None\">4</button><button type=\"button\" class=\"btn btn-danger\" style=\"margin-right: 10px;\"title=\"Event True: 3 - Pred: 1\n",
       "Time True: None - Pred: None\">3</button><button type=\"button\" class=\"btn btn-danger\" style=\"margin-right: 10px;\"title=\"Event True: 5 - Pred: 1\n",
       "Time True: None - Pred: None\">5</button></div><br><div><strong><u>4</u></strong> <button type=\"button\" class=\"btn btn-danger\" style=\"margin-right: 10px;\"title=\"Event True: 2 - Pred: 1\n",
       "Time True: None - Pred: None\">2</button><button type=\"button\" class=\"btn btn-danger\" style=\"margin-right: 10px;\"title=\"Event True: 3 - Pred: 1\n",
       "Time True: None - Pred: None\">3</button><button type=\"button\" class=\"btn btn-danger\" style=\"margin-right: 10px;\"title=\"Event True: 4 - Pred: 1\n",
       "Time True: None - Pred: None\">4</button><button type=\"button\" class=\"btn btn-danger\" style=\"margin-right: 10px;\"title=\"Event True: 5 - Pred: 1\n",
       "Time True: None - Pred: None\">5</button></div><br><div><strong><u>5</u></strong> <button type=\"button\" class=\"btn btn-danger\" style=\"margin-right: 10px;\"title=\"Event True: 2 - Pred: 1\n",
       "Time True: None - Pred: None\">2</button><button type=\"button\" class=\"btn btn-danger\" style=\"margin-right: 10px;\"title=\"Event True: 3 - Pred: 1\n",
       "Time True: None - Pred: None\">3</button><button type=\"button\" class=\"btn btn-danger\" style=\"margin-right: 10px;\"title=\"Event True: 4 - Pred: 1\n",
       "Time True: None - Pred: None\">4</button><button type=\"button\" class=\"btn btn-danger\" style=\"margin-right: 10px;\"title=\"Event True: 5 - Pred: 1\n",
       "Time True: None - Pred: None\">5</button></div><br>"
      ],
      "text/plain": [
       "<IPython.core.display.HTML object>"
      ]
     },
     "metadata": {},
     "output_type": "display_data"
    },
    {
     "data": {
      "text/html": [
       "<h3>Test</h3>"
      ],
      "text/plain": [
       "<IPython.core.display.HTML object>"
      ]
     },
     "metadata": {},
     "output_type": "display_data"
    },
    {
     "data": {
      "text/html": [
       "<div><strong><u>1</u></strong> <button type=\"button\" class=\"btn btn-danger\" style=\"margin-right: 10px;\"title=\"Event True: 2 - Pred: 1\n",
       "Time True: None - Pred: None\">2</button><button type=\"button\" class=\"btn btn-danger\" style=\"margin-right: 10px;\"title=\"Event True: 4 - Pred: 1\n",
       "Time True: None - Pred: None\">4</button><button type=\"button\" class=\"btn btn-danger\" style=\"margin-right: 10px;\"title=\"Event True: 3 - Pred: 1\n",
       "Time True: None - Pred: None\">3</button><button type=\"button\" class=\"btn btn-danger\" style=\"margin-right: 10px;\"title=\"Event True: 5 - Pred: 1\n",
       "Time True: None - Pred: None\">5</button></div><br><div><strong><u>2</u></strong> <button type=\"button\" class=\"btn btn-danger\" style=\"margin-right: 10px;\"title=\"Event True: 2 - Pred: 1\n",
       "Time True: None - Pred: None\">2</button><button type=\"button\" class=\"btn btn-danger\" style=\"margin-right: 10px;\"title=\"Event True: 4 - Pred: 1\n",
       "Time True: None - Pred: None\">4</button><button type=\"button\" class=\"btn btn-danger\" style=\"margin-right: 10px;\"title=\"Event True: 3 - Pred: 1\n",
       "Time True: None - Pred: None\">3</button><button type=\"button\" class=\"btn btn-danger\" style=\"margin-right: 10px;\"title=\"Event True: 5 - Pred: 1\n",
       "Time True: None - Pred: None\">5</button></div><br><div><strong><u>3</u></strong> <button type=\"button\" class=\"btn btn-danger\" style=\"margin-right: 10px;\"title=\"Event True: 2 - Pred: 1\n",
       "Time True: None - Pred: None\">2</button><button type=\"button\" class=\"btn btn-danger\" style=\"margin-right: 10px;\"title=\"Event True: 4 - Pred: 1\n",
       "Time True: None - Pred: None\">4</button><button type=\"button\" class=\"btn btn-danger\" style=\"margin-right: 10px;\"title=\"Event True: 3 - Pred: 1\n",
       "Time True: None - Pred: None\">3</button><button type=\"button\" class=\"btn btn-danger\" style=\"margin-right: 10px;\"title=\"Event True: 5 - Pred: 1\n",
       "Time True: None - Pred: None\">5</button></div><br><div><strong><u>4</u></strong> <button type=\"button\" class=\"btn btn-danger\" style=\"margin-right: 10px;\"title=\"Event True: 2 - Pred: 1\n",
       "Time True: None - Pred: None\">2</button><button type=\"button\" class=\"btn btn-danger\" style=\"margin-right: 10px;\"title=\"Event True: 4 - Pred: 1\n",
       "Time True: None - Pred: None\">4</button><button type=\"button\" class=\"btn btn-danger\" style=\"margin-right: 10px;\"title=\"Event True: 3 - Pred: 1\n",
       "Time True: None - Pred: None\">3</button><button type=\"button\" class=\"btn btn-danger\" style=\"margin-right: 10px;\"title=\"Event True: 5 - Pred: 1\n",
       "Time True: None - Pred: None\">5</button></div><br><div><strong><u>5</u></strong> <button type=\"button\" class=\"btn btn-danger\" style=\"margin-right: 10px;\"title=\"Event True: 2 - Pred: 1\n",
       "Time True: None - Pred: None\">2</button><button type=\"button\" class=\"btn btn-danger\" style=\"margin-right: 10px;\"title=\"Event True: 3 - Pred: 1\n",
       "Time True: None - Pred: None\">3</button><button type=\"button\" class=\"btn btn-danger\" style=\"margin-right: 10px;\"title=\"Event True: 4 - Pred: 1\n",
       "Time True: None - Pred: None\">4</button><button type=\"button\" class=\"btn btn-danger\" style=\"margin-right: 10px;\"title=\"Event True: 5 - Pred: 1\n",
       "Time True: None - Pred: None\">5</button></div><br>"
      ],
      "text/plain": [
       "<IPython.core.display.HTML object>"
      ]
     },
     "metadata": {},
     "output_type": "display_data"
    }
   ],
   "source": [
    "from collections import Counter\n",
    "\n",
    "cnt = Counter()\n",
    "for seq in events['train']:\n",
    "    for event in seq:\n",
    "        cnt[event] += 1\n",
    "\n",
    "top = cnt.most_common(1)[0][0]\n",
    "print('Most commom event is', top)\n",
    "\n",
    "train_pred = [[top for event in seq[1:]] for seq in events['train']]\n",
    "test_pred = [[top for event in seq[1:]] for seq in events['test']]\n",
    "show_results('Majority', train_pred, test_pred)"
   ]
  },
  {
   "cell_type": "markdown",
   "metadata": {},
   "source": [
    "## Markov Chain"
   ]
  },
  {
   "cell_type": "code",
   "execution_count": 10,
   "metadata": {},
   "outputs": [],
   "source": [
    "from markov_chain import predict_mc_model"
   ]
  },
  {
   "cell_type": "markdown",
   "metadata": {},
   "source": [
    "### MC-1"
   ]
  },
  {
   "cell_type": "code",
   "execution_count": 11,
   "metadata": {},
   "outputs": [
    {
     "name": "stdout",
     "output_type": "stream",
     "text": [
      "----\n",
      "Train Error:  37.275000000000006\n",
      "Test Error:  40.5\n"
     ]
    },
    {
     "data": {
      "text/html": [
       "<h3>Train</h3>"
      ],
      "text/plain": [
       "<IPython.core.display.HTML object>"
      ]
     },
     "metadata": {},
     "output_type": "display_data"
    },
    {
     "data": {
      "text/html": [
       "<div><strong><u>1</u></strong> <button type=\"button\" class=\"btn btn-success\" style=\"margin-right: 10px;\"title=\"Event True: 2 - Pred: 2\n",
       "Time True: None - Pred: None\">2</button><button type=\"button\" class=\"btn btn-success\" style=\"margin-right: 10px;\"title=\"Event True: 3 - Pred: 3\n",
       "Time True: None - Pred: None\">3</button><button type=\"button\" class=\"btn btn-success\" style=\"margin-right: 10px;\"title=\"Event True: 4 - Pred: 4\n",
       "Time True: None - Pred: None\">4</button><button type=\"button\" class=\"btn btn-success\" style=\"margin-right: 10px;\"title=\"Event True: 5 - Pred: 5\n",
       "Time True: None - Pred: None\">5</button></div><br><div><strong><u>2</u></strong> <button type=\"button\" class=\"btn btn-success\" style=\"margin-right: 10px;\"title=\"Event True: 2 - Pred: 2\n",
       "Time True: None - Pred: None\">2</button><button type=\"button\" class=\"btn btn-danger\" style=\"margin-right: 10px;\"title=\"Event True: 4 - Pred: 3\n",
       "Time True: None - Pred: None\">4</button><button type=\"button\" class=\"btn btn-danger\" style=\"margin-right: 10px;\"title=\"Event True: 3 - Pred: 5\n",
       "Time True: None - Pred: None\">3</button><button type=\"button\" class=\"btn btn-danger\" style=\"margin-right: 10px;\"title=\"Event True: 5 - Pred: 4\n",
       "Time True: None - Pred: None\">5</button></div><br><div><strong><u>3</u></strong> <button type=\"button\" class=\"btn btn-success\" style=\"margin-right: 10px;\"title=\"Event True: 2 - Pred: 2\n",
       "Time True: None - Pred: None\">2</button><button type=\"button\" class=\"btn btn-danger\" style=\"margin-right: 10px;\"title=\"Event True: 4 - Pred: 3\n",
       "Time True: None - Pred: None\">4</button><button type=\"button\" class=\"btn btn-danger\" style=\"margin-right: 10px;\"title=\"Event True: 3 - Pred: 5\n",
       "Time True: None - Pred: None\">3</button><button type=\"button\" class=\"btn btn-danger\" style=\"margin-right: 10px;\"title=\"Event True: 5 - Pred: 4\n",
       "Time True: None - Pred: None\">5</button></div><br><div><strong><u>4</u></strong> <button type=\"button\" class=\"btn btn-success\" style=\"margin-right: 10px;\"title=\"Event True: 2 - Pred: 2\n",
       "Time True: None - Pred: None\">2</button><button type=\"button\" class=\"btn btn-success\" style=\"margin-right: 10px;\"title=\"Event True: 3 - Pred: 3\n",
       "Time True: None - Pred: None\">3</button><button type=\"button\" class=\"btn btn-success\" style=\"margin-right: 10px;\"title=\"Event True: 4 - Pred: 4\n",
       "Time True: None - Pred: None\">4</button><button type=\"button\" class=\"btn btn-success\" style=\"margin-right: 10px;\"title=\"Event True: 5 - Pred: 5\n",
       "Time True: None - Pred: None\">5</button></div><br><div><strong><u>5</u></strong> <button type=\"button\" class=\"btn btn-success\" style=\"margin-right: 10px;\"title=\"Event True: 2 - Pred: 2\n",
       "Time True: None - Pred: None\">2</button><button type=\"button\" class=\"btn btn-success\" style=\"margin-right: 10px;\"title=\"Event True: 3 - Pred: 3\n",
       "Time True: None - Pred: None\">3</button><button type=\"button\" class=\"btn btn-success\" style=\"margin-right: 10px;\"title=\"Event True: 4 - Pred: 4\n",
       "Time True: None - Pred: None\">4</button><button type=\"button\" class=\"btn btn-success\" style=\"margin-right: 10px;\"title=\"Event True: 5 - Pred: 5\n",
       "Time True: None - Pred: None\">5</button></div><br>"
      ],
      "text/plain": [
       "<IPython.core.display.HTML object>"
      ]
     },
     "metadata": {},
     "output_type": "display_data"
    },
    {
     "data": {
      "text/html": [
       "<h3>Test</h3>"
      ],
      "text/plain": [
       "<IPython.core.display.HTML object>"
      ]
     },
     "metadata": {},
     "output_type": "display_data"
    },
    {
     "data": {
      "text/html": [
       "<div><strong><u>1</u></strong> <button type=\"button\" class=\"btn btn-success\" style=\"margin-right: 10px;\"title=\"Event True: 2 - Pred: 2\n",
       "Time True: None - Pred: None\">2</button><button type=\"button\" class=\"btn btn-danger\" style=\"margin-right: 10px;\"title=\"Event True: 4 - Pred: 3\n",
       "Time True: None - Pred: None\">4</button><button type=\"button\" class=\"btn btn-danger\" style=\"margin-right: 10px;\"title=\"Event True: 3 - Pred: 4\n",
       "Time True: None - Pred: None\">3</button><button type=\"button\" class=\"btn btn-success\" style=\"margin-right: 10px;\"title=\"Event True: 5 - Pred: 5\n",
       "Time True: None - Pred: None\">5</button></div><br><div><strong><u>2</u></strong> <button type=\"button\" class=\"btn btn-success\" style=\"margin-right: 10px;\"title=\"Event True: 2 - Pred: 2\n",
       "Time True: None - Pred: None\">2</button><button type=\"button\" class=\"btn btn-danger\" style=\"margin-right: 10px;\"title=\"Event True: 4 - Pred: 3\n",
       "Time True: None - Pred: None\">4</button><button type=\"button\" class=\"btn btn-danger\" style=\"margin-right: 10px;\"title=\"Event True: 3 - Pred: 5\n",
       "Time True: None - Pred: None\">3</button><button type=\"button\" class=\"btn btn-danger\" style=\"margin-right: 10px;\"title=\"Event True: 5 - Pred: 4\n",
       "Time True: None - Pred: None\">5</button></div><br><div><strong><u>3</u></strong> <button type=\"button\" class=\"btn btn-success\" style=\"margin-right: 10px;\"title=\"Event True: 2 - Pred: 2\n",
       "Time True: None - Pred: None\">2</button><button type=\"button\" class=\"btn btn-danger\" style=\"margin-right: 10px;\"title=\"Event True: 4 - Pred: 3\n",
       "Time True: None - Pred: None\">4</button><button type=\"button\" class=\"btn btn-danger\" style=\"margin-right: 10px;\"title=\"Event True: 3 - Pred: 5\n",
       "Time True: None - Pred: None\">3</button><button type=\"button\" class=\"btn btn-danger\" style=\"margin-right: 10px;\"title=\"Event True: 5 - Pred: 4\n",
       "Time True: None - Pred: None\">5</button></div><br><div><strong><u>4</u></strong> <button type=\"button\" class=\"btn btn-success\" style=\"margin-right: 10px;\"title=\"Event True: 2 - Pred: 2\n",
       "Time True: None - Pred: None\">2</button><button type=\"button\" class=\"btn btn-danger\" style=\"margin-right: 10px;\"title=\"Event True: 4 - Pred: 3\n",
       "Time True: None - Pred: None\">4</button><button type=\"button\" class=\"btn btn-danger\" style=\"margin-right: 10px;\"title=\"Event True: 3 - Pred: 4\n",
       "Time True: None - Pred: None\">3</button><button type=\"button\" class=\"btn btn-success\" style=\"margin-right: 10px;\"title=\"Event True: 5 - Pred: 5\n",
       "Time True: None - Pred: None\">5</button></div><br><div><strong><u>5</u></strong> <button type=\"button\" class=\"btn btn-success\" style=\"margin-right: 10px;\"title=\"Event True: 2 - Pred: 2\n",
       "Time True: None - Pred: None\">2</button><button type=\"button\" class=\"btn btn-success\" style=\"margin-right: 10px;\"title=\"Event True: 3 - Pred: 3\n",
       "Time True: None - Pred: None\">3</button><button type=\"button\" class=\"btn btn-success\" style=\"margin-right: 10px;\"title=\"Event True: 4 - Pred: 4\n",
       "Time True: None - Pred: None\">4</button><button type=\"button\" class=\"btn btn-success\" style=\"margin-right: 10px;\"title=\"Event True: 5 - Pred: 5\n",
       "Time True: None - Pred: None\">5</button></div><br>"
      ],
      "text/plain": [
       "<IPython.core.display.HTML object>"
      ]
     },
     "metadata": {},
     "output_type": "display_data"
    }
   ],
   "source": [
    "preds = predict_mc_model(events, 1)\n",
    "show_results('MC-1', preds['train'], preds['test'])"
   ]
  },
  {
   "cell_type": "markdown",
   "metadata": {},
   "source": [
    "### MC-2"
   ]
  },
  {
   "cell_type": "code",
   "execution_count": 12,
   "metadata": {
    "scrolled": true
   },
   "outputs": [
    {
     "name": "stdout",
     "output_type": "stream",
     "text": [
      "----\n",
      "Train Error:  37.425000000000004\n",
      "Test Error:  38.5\n"
     ]
    },
    {
     "data": {
      "text/html": [
       "<h3>Train</h3>"
      ],
      "text/plain": [
       "<IPython.core.display.HTML object>"
      ]
     },
     "metadata": {},
     "output_type": "display_data"
    },
    {
     "data": {
      "text/html": [
       "<div><strong><u>1</u></strong> <button type=\"button\" class=\"btn btn-danger\" style=\"margin-right: 10px;\"title=\"Event True: 2 - Pred: 1\n",
       "Time True: None - Pred: None\">2</button><button type=\"button\" class=\"btn btn-success\" style=\"margin-right: 10px;\"title=\"Event True: 3 - Pred: 3\n",
       "Time True: None - Pred: None\">3</button><button type=\"button\" class=\"btn btn-success\" style=\"margin-right: 10px;\"title=\"Event True: 4 - Pred: 4\n",
       "Time True: None - Pred: None\">4</button><button type=\"button\" class=\"btn btn-success\" style=\"margin-right: 10px;\"title=\"Event True: 5 - Pred: 5\n",
       "Time True: None - Pred: None\">5</button></div><br><div><strong><u>2</u></strong> <button type=\"button\" class=\"btn btn-danger\" style=\"margin-right: 10px;\"title=\"Event True: 2 - Pred: 1\n",
       "Time True: None - Pred: None\">2</button><button type=\"button\" class=\"btn btn-danger\" style=\"margin-right: 10px;\"title=\"Event True: 4 - Pred: 3\n",
       "Time True: None - Pred: None\">4</button><button type=\"button\" class=\"btn btn-success\" style=\"margin-right: 10px;\"title=\"Event True: 3 - Pred: 3\n",
       "Time True: None - Pred: None\">3</button><button type=\"button\" class=\"btn btn-success\" style=\"margin-right: 10px;\"title=\"Event True: 5 - Pred: 5\n",
       "Time True: None - Pred: None\">5</button></div><br><div><strong><u>3</u></strong> <button type=\"button\" class=\"btn btn-danger\" style=\"margin-right: 10px;\"title=\"Event True: 2 - Pred: 1\n",
       "Time True: None - Pred: None\">2</button><button type=\"button\" class=\"btn btn-danger\" style=\"margin-right: 10px;\"title=\"Event True: 4 - Pred: 3\n",
       "Time True: None - Pred: None\">4</button><button type=\"button\" class=\"btn btn-success\" style=\"margin-right: 10px;\"title=\"Event True: 3 - Pred: 3\n",
       "Time True: None - Pred: None\">3</button><button type=\"button\" class=\"btn btn-success\" style=\"margin-right: 10px;\"title=\"Event True: 5 - Pred: 5\n",
       "Time True: None - Pred: None\">5</button></div><br><div><strong><u>4</u></strong> <button type=\"button\" class=\"btn btn-danger\" style=\"margin-right: 10px;\"title=\"Event True: 2 - Pred: 1\n",
       "Time True: None - Pred: None\">2</button><button type=\"button\" class=\"btn btn-success\" style=\"margin-right: 10px;\"title=\"Event True: 3 - Pred: 3\n",
       "Time True: None - Pred: None\">3</button><button type=\"button\" class=\"btn btn-success\" style=\"margin-right: 10px;\"title=\"Event True: 4 - Pred: 4\n",
       "Time True: None - Pred: None\">4</button><button type=\"button\" class=\"btn btn-success\" style=\"margin-right: 10px;\"title=\"Event True: 5 - Pred: 5\n",
       "Time True: None - Pred: None\">5</button></div><br><div><strong><u>5</u></strong> <button type=\"button\" class=\"btn btn-danger\" style=\"margin-right: 10px;\"title=\"Event True: 2 - Pred: 1\n",
       "Time True: None - Pred: None\">2</button><button type=\"button\" class=\"btn btn-success\" style=\"margin-right: 10px;\"title=\"Event True: 3 - Pred: 3\n",
       "Time True: None - Pred: None\">3</button><button type=\"button\" class=\"btn btn-success\" style=\"margin-right: 10px;\"title=\"Event True: 4 - Pred: 4\n",
       "Time True: None - Pred: None\">4</button><button type=\"button\" class=\"btn btn-success\" style=\"margin-right: 10px;\"title=\"Event True: 5 - Pred: 5\n",
       "Time True: None - Pred: None\">5</button></div><br>"
      ],
      "text/plain": [
       "<IPython.core.display.HTML object>"
      ]
     },
     "metadata": {},
     "output_type": "display_data"
    },
    {
     "data": {
      "text/html": [
       "<h3>Test</h3>"
      ],
      "text/plain": [
       "<IPython.core.display.HTML object>"
      ]
     },
     "metadata": {},
     "output_type": "display_data"
    },
    {
     "data": {
      "text/html": [
       "<div><strong><u>1</u></strong> <button type=\"button\" class=\"btn btn-danger\" style=\"margin-right: 10px;\"title=\"Event True: 2 - Pred: 1\n",
       "Time True: None - Pred: None\">2</button><button type=\"button\" class=\"btn btn-danger\" style=\"margin-right: 10px;\"title=\"Event True: 4 - Pred: 3\n",
       "Time True: None - Pred: None\">4</button><button type=\"button\" class=\"btn btn-danger\" style=\"margin-right: 10px;\"title=\"Event True: 3 - Pred: 4\n",
       "Time True: None - Pred: None\">3</button><button type=\"button\" class=\"btn btn-success\" style=\"margin-right: 10px;\"title=\"Event True: 5 - Pred: 5\n",
       "Time True: None - Pred: None\">5</button></div><br><div><strong><u>2</u></strong> <button type=\"button\" class=\"btn btn-danger\" style=\"margin-right: 10px;\"title=\"Event True: 2 - Pred: 1\n",
       "Time True: None - Pred: None\">2</button><button type=\"button\" class=\"btn btn-danger\" style=\"margin-right: 10px;\"title=\"Event True: 4 - Pred: 3\n",
       "Time True: None - Pred: None\">4</button><button type=\"button\" class=\"btn btn-success\" style=\"margin-right: 10px;\"title=\"Event True: 3 - Pred: 3\n",
       "Time True: None - Pred: None\">3</button><button type=\"button\" class=\"btn btn-success\" style=\"margin-right: 10px;\"title=\"Event True: 5 - Pred: 5\n",
       "Time True: None - Pred: None\">5</button></div><br><div><strong><u>3</u></strong> <button type=\"button\" class=\"btn btn-danger\" style=\"margin-right: 10px;\"title=\"Event True: 2 - Pred: 1\n",
       "Time True: None - Pred: None\">2</button><button type=\"button\" class=\"btn btn-danger\" style=\"margin-right: 10px;\"title=\"Event True: 4 - Pred: 3\n",
       "Time True: None - Pred: None\">4</button><button type=\"button\" class=\"btn btn-success\" style=\"margin-right: 10px;\"title=\"Event True: 3 - Pred: 3\n",
       "Time True: None - Pred: None\">3</button><button type=\"button\" class=\"btn btn-success\" style=\"margin-right: 10px;\"title=\"Event True: 5 - Pred: 5\n",
       "Time True: None - Pred: None\">5</button></div><br><div><strong><u>4</u></strong> <button type=\"button\" class=\"btn btn-danger\" style=\"margin-right: 10px;\"title=\"Event True: 2 - Pred: 1\n",
       "Time True: None - Pred: None\">2</button><button type=\"button\" class=\"btn btn-danger\" style=\"margin-right: 10px;\"title=\"Event True: 4 - Pred: 3\n",
       "Time True: None - Pred: None\">4</button><button type=\"button\" class=\"btn btn-danger\" style=\"margin-right: 10px;\"title=\"Event True: 3 - Pred: 4\n",
       "Time True: None - Pred: None\">3</button><button type=\"button\" class=\"btn btn-success\" style=\"margin-right: 10px;\"title=\"Event True: 5 - Pred: 5\n",
       "Time True: None - Pred: None\">5</button></div><br><div><strong><u>5</u></strong> <button type=\"button\" class=\"btn btn-danger\" style=\"margin-right: 10px;\"title=\"Event True: 2 - Pred: 1\n",
       "Time True: None - Pred: None\">2</button><button type=\"button\" class=\"btn btn-success\" style=\"margin-right: 10px;\"title=\"Event True: 3 - Pred: 3\n",
       "Time True: None - Pred: None\">3</button><button type=\"button\" class=\"btn btn-success\" style=\"margin-right: 10px;\"title=\"Event True: 4 - Pred: 4\n",
       "Time True: None - Pred: None\">4</button><button type=\"button\" class=\"btn btn-success\" style=\"margin-right: 10px;\"title=\"Event True: 5 - Pred: 5\n",
       "Time True: None - Pred: None\">5</button></div><br>"
      ],
      "text/plain": [
       "<IPython.core.display.HTML object>"
      ]
     },
     "metadata": {},
     "output_type": "display_data"
    }
   ],
   "source": [
    "preds = predict_mc_model(events, 2)\n",
    "show_results('MC-2', preds['train'], preds['test'])"
   ]
  },
  {
   "cell_type": "markdown",
   "metadata": {},
   "source": [
    "### MC-3"
   ]
  },
  {
   "cell_type": "code",
   "execution_count": 13,
   "metadata": {},
   "outputs": [
    {
     "name": "stdout",
     "output_type": "stream",
     "text": [
      "----\n",
      "Train Error:  50.0\n",
      "Test Error:  50.0\n"
     ]
    },
    {
     "data": {
      "text/html": [
       "<h3>Train</h3>"
      ],
      "text/plain": [
       "<IPython.core.display.HTML object>"
      ]
     },
     "metadata": {},
     "output_type": "display_data"
    },
    {
     "data": {
      "text/html": [
       "<div><strong><u>1</u></strong> <button type=\"button\" class=\"btn btn-danger\" style=\"margin-right: 10px;\"title=\"Event True: 2 - Pred: 1\n",
       "Time True: None - Pred: None\">2</button><button type=\"button\" class=\"btn btn-danger\" style=\"margin-right: 10px;\"title=\"Event True: 3 - Pred: 1\n",
       "Time True: None - Pred: None\">3</button><button type=\"button\" class=\"btn btn-success\" style=\"margin-right: 10px;\"title=\"Event True: 4 - Pred: 4\n",
       "Time True: None - Pred: None\">4</button><button type=\"button\" class=\"btn btn-success\" style=\"margin-right: 10px;\"title=\"Event True: 5 - Pred: 5\n",
       "Time True: None - Pred: None\">5</button></div><br><div><strong><u>2</u></strong> <button type=\"button\" class=\"btn btn-danger\" style=\"margin-right: 10px;\"title=\"Event True: 2 - Pred: 1\n",
       "Time True: None - Pred: None\">2</button><button type=\"button\" class=\"btn btn-danger\" style=\"margin-right: 10px;\"title=\"Event True: 4 - Pred: 1\n",
       "Time True: None - Pred: None\">4</button><button type=\"button\" class=\"btn btn-success\" style=\"margin-right: 10px;\"title=\"Event True: 3 - Pred: 3\n",
       "Time True: None - Pred: None\">3</button><button type=\"button\" class=\"btn btn-success\" style=\"margin-right: 10px;\"title=\"Event True: 5 - Pred: 5\n",
       "Time True: None - Pred: None\">5</button></div><br><div><strong><u>3</u></strong> <button type=\"button\" class=\"btn btn-danger\" style=\"margin-right: 10px;\"title=\"Event True: 2 - Pred: 1\n",
       "Time True: None - Pred: None\">2</button><button type=\"button\" class=\"btn btn-danger\" style=\"margin-right: 10px;\"title=\"Event True: 4 - Pred: 1\n",
       "Time True: None - Pred: None\">4</button><button type=\"button\" class=\"btn btn-success\" style=\"margin-right: 10px;\"title=\"Event True: 3 - Pred: 3\n",
       "Time True: None - Pred: None\">3</button><button type=\"button\" class=\"btn btn-success\" style=\"margin-right: 10px;\"title=\"Event True: 5 - Pred: 5\n",
       "Time True: None - Pred: None\">5</button></div><br><div><strong><u>4</u></strong> <button type=\"button\" class=\"btn btn-danger\" style=\"margin-right: 10px;\"title=\"Event True: 2 - Pred: 1\n",
       "Time True: None - Pred: None\">2</button><button type=\"button\" class=\"btn btn-danger\" style=\"margin-right: 10px;\"title=\"Event True: 3 - Pred: 1\n",
       "Time True: None - Pred: None\">3</button><button type=\"button\" class=\"btn btn-success\" style=\"margin-right: 10px;\"title=\"Event True: 4 - Pred: 4\n",
       "Time True: None - Pred: None\">4</button><button type=\"button\" class=\"btn btn-success\" style=\"margin-right: 10px;\"title=\"Event True: 5 - Pred: 5\n",
       "Time True: None - Pred: None\">5</button></div><br><div><strong><u>5</u></strong> <button type=\"button\" class=\"btn btn-danger\" style=\"margin-right: 10px;\"title=\"Event True: 2 - Pred: 1\n",
       "Time True: None - Pred: None\">2</button><button type=\"button\" class=\"btn btn-danger\" style=\"margin-right: 10px;\"title=\"Event True: 3 - Pred: 1\n",
       "Time True: None - Pred: None\">3</button><button type=\"button\" class=\"btn btn-success\" style=\"margin-right: 10px;\"title=\"Event True: 4 - Pred: 4\n",
       "Time True: None - Pred: None\">4</button><button type=\"button\" class=\"btn btn-success\" style=\"margin-right: 10px;\"title=\"Event True: 5 - Pred: 5\n",
       "Time True: None - Pred: None\">5</button></div><br>"
      ],
      "text/plain": [
       "<IPython.core.display.HTML object>"
      ]
     },
     "metadata": {},
     "output_type": "display_data"
    },
    {
     "data": {
      "text/html": [
       "<h3>Test</h3>"
      ],
      "text/plain": [
       "<IPython.core.display.HTML object>"
      ]
     },
     "metadata": {},
     "output_type": "display_data"
    },
    {
     "data": {
      "text/html": [
       "<div><strong><u>1</u></strong> <button type=\"button\" class=\"btn btn-danger\" style=\"margin-right: 10px;\"title=\"Event True: 2 - Pred: 1\n",
       "Time True: None - Pred: None\">2</button><button type=\"button\" class=\"btn btn-danger\" style=\"margin-right: 10px;\"title=\"Event True: 4 - Pred: 1\n",
       "Time True: None - Pred: None\">4</button><button type=\"button\" class=\"btn btn-danger\" style=\"margin-right: 10px;\"title=\"Event True: 3 - Pred: 4\n",
       "Time True: None - Pred: None\">3</button><button type=\"button\" class=\"btn btn-success\" style=\"margin-right: 10px;\"title=\"Event True: 5 - Pred: 5\n",
       "Time True: None - Pred: None\">5</button></div><br><div><strong><u>2</u></strong> <button type=\"button\" class=\"btn btn-danger\" style=\"margin-right: 10px;\"title=\"Event True: 2 - Pred: 1\n",
       "Time True: None - Pred: None\">2</button><button type=\"button\" class=\"btn btn-danger\" style=\"margin-right: 10px;\"title=\"Event True: 4 - Pred: 1\n",
       "Time True: None - Pred: None\">4</button><button type=\"button\" class=\"btn btn-success\" style=\"margin-right: 10px;\"title=\"Event True: 3 - Pred: 3\n",
       "Time True: None - Pred: None\">3</button><button type=\"button\" class=\"btn btn-success\" style=\"margin-right: 10px;\"title=\"Event True: 5 - Pred: 5\n",
       "Time True: None - Pred: None\">5</button></div><br><div><strong><u>3</u></strong> <button type=\"button\" class=\"btn btn-danger\" style=\"margin-right: 10px;\"title=\"Event True: 2 - Pred: 1\n",
       "Time True: None - Pred: None\">2</button><button type=\"button\" class=\"btn btn-danger\" style=\"margin-right: 10px;\"title=\"Event True: 4 - Pred: 1\n",
       "Time True: None - Pred: None\">4</button><button type=\"button\" class=\"btn btn-success\" style=\"margin-right: 10px;\"title=\"Event True: 3 - Pred: 3\n",
       "Time True: None - Pred: None\">3</button><button type=\"button\" class=\"btn btn-success\" style=\"margin-right: 10px;\"title=\"Event True: 5 - Pred: 5\n",
       "Time True: None - Pred: None\">5</button></div><br><div><strong><u>4</u></strong> <button type=\"button\" class=\"btn btn-danger\" style=\"margin-right: 10px;\"title=\"Event True: 2 - Pred: 1\n",
       "Time True: None - Pred: None\">2</button><button type=\"button\" class=\"btn btn-danger\" style=\"margin-right: 10px;\"title=\"Event True: 4 - Pred: 1\n",
       "Time True: None - Pred: None\">4</button><button type=\"button\" class=\"btn btn-danger\" style=\"margin-right: 10px;\"title=\"Event True: 3 - Pred: 4\n",
       "Time True: None - Pred: None\">3</button><button type=\"button\" class=\"btn btn-success\" style=\"margin-right: 10px;\"title=\"Event True: 5 - Pred: 5\n",
       "Time True: None - Pred: None\">5</button></div><br><div><strong><u>5</u></strong> <button type=\"button\" class=\"btn btn-danger\" style=\"margin-right: 10px;\"title=\"Event True: 2 - Pred: 1\n",
       "Time True: None - Pred: None\">2</button><button type=\"button\" class=\"btn btn-danger\" style=\"margin-right: 10px;\"title=\"Event True: 3 - Pred: 1\n",
       "Time True: None - Pred: None\">3</button><button type=\"button\" class=\"btn btn-success\" style=\"margin-right: 10px;\"title=\"Event True: 4 - Pred: 4\n",
       "Time True: None - Pred: None\">4</button><button type=\"button\" class=\"btn btn-success\" style=\"margin-right: 10px;\"title=\"Event True: 5 - Pred: 5\n",
       "Time True: None - Pred: None\">5</button></div><br>"
      ],
      "text/plain": [
       "<IPython.core.display.HTML object>"
      ]
     },
     "metadata": {},
     "output_type": "display_data"
    }
   ],
   "source": [
    "preds = predict_mc_model(events, 3)\n",
    "show_results('MC-3', preds['train'], preds['test'])"
   ]
  },
  {
   "cell_type": "markdown",
   "metadata": {},
   "source": [
    "### MC-4"
   ]
  },
  {
   "cell_type": "code",
   "execution_count": 14,
   "metadata": {},
   "outputs": [
    {
     "name": "stdout",
     "output_type": "stream",
     "text": [
      "----\n",
      "Train Error:  75.0\n",
      "Test Error:  75.0\n"
     ]
    },
    {
     "data": {
      "text/html": [
       "<h3>Train</h3>"
      ],
      "text/plain": [
       "<IPython.core.display.HTML object>"
      ]
     },
     "metadata": {},
     "output_type": "display_data"
    },
    {
     "data": {
      "text/html": [
       "<div><strong><u>1</u></strong> <button type=\"button\" class=\"btn btn-danger\" style=\"margin-right: 10px;\"title=\"Event True: 2 - Pred: 1\n",
       "Time True: None - Pred: None\">2</button><button type=\"button\" class=\"btn btn-danger\" style=\"margin-right: 10px;\"title=\"Event True: 3 - Pred: 1\n",
       "Time True: None - Pred: None\">3</button><button type=\"button\" class=\"btn btn-danger\" style=\"margin-right: 10px;\"title=\"Event True: 4 - Pred: 1\n",
       "Time True: None - Pred: None\">4</button><button type=\"button\" class=\"btn btn-success\" style=\"margin-right: 10px;\"title=\"Event True: 5 - Pred: 5\n",
       "Time True: None - Pred: None\">5</button></div><br><div><strong><u>2</u></strong> <button type=\"button\" class=\"btn btn-danger\" style=\"margin-right: 10px;\"title=\"Event True: 2 - Pred: 1\n",
       "Time True: None - Pred: None\">2</button><button type=\"button\" class=\"btn btn-danger\" style=\"margin-right: 10px;\"title=\"Event True: 4 - Pred: 1\n",
       "Time True: None - Pred: None\">4</button><button type=\"button\" class=\"btn btn-danger\" style=\"margin-right: 10px;\"title=\"Event True: 3 - Pred: 1\n",
       "Time True: None - Pred: None\">3</button><button type=\"button\" class=\"btn btn-success\" style=\"margin-right: 10px;\"title=\"Event True: 5 - Pred: 5\n",
       "Time True: None - Pred: None\">5</button></div><br><div><strong><u>3</u></strong> <button type=\"button\" class=\"btn btn-danger\" style=\"margin-right: 10px;\"title=\"Event True: 2 - Pred: 1\n",
       "Time True: None - Pred: None\">2</button><button type=\"button\" class=\"btn btn-danger\" style=\"margin-right: 10px;\"title=\"Event True: 4 - Pred: 1\n",
       "Time True: None - Pred: None\">4</button><button type=\"button\" class=\"btn btn-danger\" style=\"margin-right: 10px;\"title=\"Event True: 3 - Pred: 1\n",
       "Time True: None - Pred: None\">3</button><button type=\"button\" class=\"btn btn-success\" style=\"margin-right: 10px;\"title=\"Event True: 5 - Pred: 5\n",
       "Time True: None - Pred: None\">5</button></div><br><div><strong><u>4</u></strong> <button type=\"button\" class=\"btn btn-danger\" style=\"margin-right: 10px;\"title=\"Event True: 2 - Pred: 1\n",
       "Time True: None - Pred: None\">2</button><button type=\"button\" class=\"btn btn-danger\" style=\"margin-right: 10px;\"title=\"Event True: 3 - Pred: 1\n",
       "Time True: None - Pred: None\">3</button><button type=\"button\" class=\"btn btn-danger\" style=\"margin-right: 10px;\"title=\"Event True: 4 - Pred: 1\n",
       "Time True: None - Pred: None\">4</button><button type=\"button\" class=\"btn btn-success\" style=\"margin-right: 10px;\"title=\"Event True: 5 - Pred: 5\n",
       "Time True: None - Pred: None\">5</button></div><br><div><strong><u>5</u></strong> <button type=\"button\" class=\"btn btn-danger\" style=\"margin-right: 10px;\"title=\"Event True: 2 - Pred: 1\n",
       "Time True: None - Pred: None\">2</button><button type=\"button\" class=\"btn btn-danger\" style=\"margin-right: 10px;\"title=\"Event True: 3 - Pred: 1\n",
       "Time True: None - Pred: None\">3</button><button type=\"button\" class=\"btn btn-danger\" style=\"margin-right: 10px;\"title=\"Event True: 4 - Pred: 1\n",
       "Time True: None - Pred: None\">4</button><button type=\"button\" class=\"btn btn-success\" style=\"margin-right: 10px;\"title=\"Event True: 5 - Pred: 5\n",
       "Time True: None - Pred: None\">5</button></div><br>"
      ],
      "text/plain": [
       "<IPython.core.display.HTML object>"
      ]
     },
     "metadata": {},
     "output_type": "display_data"
    },
    {
     "data": {
      "text/html": [
       "<h3>Test</h3>"
      ],
      "text/plain": [
       "<IPython.core.display.HTML object>"
      ]
     },
     "metadata": {},
     "output_type": "display_data"
    },
    {
     "data": {
      "text/html": [
       "<div><strong><u>1</u></strong> <button type=\"button\" class=\"btn btn-danger\" style=\"margin-right: 10px;\"title=\"Event True: 2 - Pred: 1\n",
       "Time True: None - Pred: None\">2</button><button type=\"button\" class=\"btn btn-danger\" style=\"margin-right: 10px;\"title=\"Event True: 4 - Pred: 1\n",
       "Time True: None - Pred: None\">4</button><button type=\"button\" class=\"btn btn-danger\" style=\"margin-right: 10px;\"title=\"Event True: 3 - Pred: 1\n",
       "Time True: None - Pred: None\">3</button><button type=\"button\" class=\"btn btn-success\" style=\"margin-right: 10px;\"title=\"Event True: 5 - Pred: 5\n",
       "Time True: None - Pred: None\">5</button></div><br><div><strong><u>2</u></strong> <button type=\"button\" class=\"btn btn-danger\" style=\"margin-right: 10px;\"title=\"Event True: 2 - Pred: 1\n",
       "Time True: None - Pred: None\">2</button><button type=\"button\" class=\"btn btn-danger\" style=\"margin-right: 10px;\"title=\"Event True: 4 - Pred: 1\n",
       "Time True: None - Pred: None\">4</button><button type=\"button\" class=\"btn btn-danger\" style=\"margin-right: 10px;\"title=\"Event True: 3 - Pred: 1\n",
       "Time True: None - Pred: None\">3</button><button type=\"button\" class=\"btn btn-success\" style=\"margin-right: 10px;\"title=\"Event True: 5 - Pred: 5\n",
       "Time True: None - Pred: None\">5</button></div><br><div><strong><u>3</u></strong> <button type=\"button\" class=\"btn btn-danger\" style=\"margin-right: 10px;\"title=\"Event True: 2 - Pred: 1\n",
       "Time True: None - Pred: None\">2</button><button type=\"button\" class=\"btn btn-danger\" style=\"margin-right: 10px;\"title=\"Event True: 4 - Pred: 1\n",
       "Time True: None - Pred: None\">4</button><button type=\"button\" class=\"btn btn-danger\" style=\"margin-right: 10px;\"title=\"Event True: 3 - Pred: 1\n",
       "Time True: None - Pred: None\">3</button><button type=\"button\" class=\"btn btn-success\" style=\"margin-right: 10px;\"title=\"Event True: 5 - Pred: 5\n",
       "Time True: None - Pred: None\">5</button></div><br><div><strong><u>4</u></strong> <button type=\"button\" class=\"btn btn-danger\" style=\"margin-right: 10px;\"title=\"Event True: 2 - Pred: 1\n",
       "Time True: None - Pred: None\">2</button><button type=\"button\" class=\"btn btn-danger\" style=\"margin-right: 10px;\"title=\"Event True: 4 - Pred: 1\n",
       "Time True: None - Pred: None\">4</button><button type=\"button\" class=\"btn btn-danger\" style=\"margin-right: 10px;\"title=\"Event True: 3 - Pred: 1\n",
       "Time True: None - Pred: None\">3</button><button type=\"button\" class=\"btn btn-success\" style=\"margin-right: 10px;\"title=\"Event True: 5 - Pred: 5\n",
       "Time True: None - Pred: None\">5</button></div><br><div><strong><u>5</u></strong> <button type=\"button\" class=\"btn btn-danger\" style=\"margin-right: 10px;\"title=\"Event True: 2 - Pred: 1\n",
       "Time True: None - Pred: None\">2</button><button type=\"button\" class=\"btn btn-danger\" style=\"margin-right: 10px;\"title=\"Event True: 3 - Pred: 1\n",
       "Time True: None - Pred: None\">3</button><button type=\"button\" class=\"btn btn-danger\" style=\"margin-right: 10px;\"title=\"Event True: 4 - Pred: 1\n",
       "Time True: None - Pred: None\">4</button><button type=\"button\" class=\"btn btn-success\" style=\"margin-right: 10px;\"title=\"Event True: 5 - Pred: 5\n",
       "Time True: None - Pred: None\">5</button></div><br>"
      ],
      "text/plain": [
       "<IPython.core.display.HTML object>"
      ]
     },
     "metadata": {},
     "output_type": "display_data"
    }
   ],
   "source": [
    "preds = predict_mc_model(events, 4)\n",
    "show_results('MC-4', preds['train'], preds['test'])"
   ]
  },
  {
   "cell_type": "markdown",
   "metadata": {},
   "source": [
    "## Chunking Models"
   ]
  },
  {
   "cell_type": "code",
   "execution_count": 15,
   "metadata": {},
   "outputs": [],
   "source": [
    "CHUNK_SIZE = 5"
   ]
  },
  {
   "cell_type": "code",
   "execution_count": 16,
   "metadata": {
    "scrolled": true
   },
   "outputs": [],
   "source": [
    "x = {}\n",
    "y = {}\n",
    "\n",
    "for data_type in ['train', 'test']:\n",
    "    x[data_type] = []\n",
    "    y[data_type] = []\n",
    "    for seq in events[data_type]:\n",
    "        current_seq = [0] * (CHUNK_SIZE - 1) + seq\n",
    "        for e, event in enumerate(current_seq):\n",
    "            if e >= CHUNK_SIZE:\n",
    "                y[data_type].append(event)\n",
    "                index_lookback = e - CHUNK_SIZE\n",
    "                x[data_type].append(current_seq[index_lookback:e])\n",
    "\n",
    "    x[data_type] = np.asarray(x[data_type])\n",
    "    y[data_type] = np.asarray(y[data_type])"
   ]
  },
  {
   "cell_type": "markdown",
   "metadata": {},
   "source": [
    "## Linear Regression"
   ]
  },
  {
   "cell_type": "code",
   "execution_count": 17,
   "metadata": {},
   "outputs": [
    {
     "name": "stdout",
     "output_type": "stream",
     "text": [
      "Without rounding\n",
      "----\n",
      "Train Error:  100.0\n",
      "Test Error:  100.0\n"
     ]
    },
    {
     "data": {
      "text/html": [
       "<h3>Train</h3>"
      ],
      "text/plain": [
       "<IPython.core.display.HTML object>"
      ]
     },
     "metadata": {},
     "output_type": "display_data"
    },
    {
     "data": {
      "text/html": [
       "<div><strong><u>1</u></strong> <button type=\"button\" class=\"btn btn-danger\" style=\"margin-right: 10px;\"title=\"Event True: 2 - Pred: 2.1589493432887608\n",
       "Time True: None - Pred: None\">2</button><button type=\"button\" class=\"btn btn-danger\" style=\"margin-right: 10px;\"title=\"Event True: 3 - Pred: 3.3380506567112427\n",
       "Time True: None - Pred: None\">3</button><button type=\"button\" class=\"btn btn-danger\" style=\"margin-right: 10px;\"title=\"Event True: 4 - Pred: 3.3679946588915888\n",
       "Time True: None - Pred: None\">4</button><button type=\"button\" class=\"btn btn-danger\" style=\"margin-right: 10px;\"title=\"Event True: 5 - Pred: 4.68399732944582\n",
       "Time True: None - Pred: None\">5</button></div><br><div><strong><u>2</u></strong> <button type=\"button\" class=\"btn btn-danger\" style=\"margin-right: 10px;\"title=\"Event True: 2 - Pred: 2.1589493432887608\n",
       "Time True: None - Pred: None\">2</button><button type=\"button\" class=\"btn btn-danger\" style=\"margin-right: 10px;\"title=\"Event True: 4 - Pred: 3.3380506567112427\n",
       "Time True: None - Pred: None\">4</button><button type=\"button\" class=\"btn btn-danger\" style=\"margin-right: 10px;\"title=\"Event True: 3 - Pred: 3.639635184260575\n",
       "Time True: None - Pred: None\">3</button><button type=\"button\" class=\"btn btn-danger\" style=\"margin-right: 10px;\"title=\"Event True: 5 - Pred: 5.319817592130329\n",
       "Time True: None - Pred: None\">5</button></div><br><div><strong><u>3</u></strong> <button type=\"button\" class=\"btn btn-danger\" style=\"margin-right: 10px;\"title=\"Event True: 2 - Pred: 2.1589493432887608\n",
       "Time True: None - Pred: None\">2</button><button type=\"button\" class=\"btn btn-danger\" style=\"margin-right: 10px;\"title=\"Event True: 4 - Pred: 3.3380506567112427\n",
       "Time True: None - Pred: None\">4</button><button type=\"button\" class=\"btn btn-danger\" style=\"margin-right: 10px;\"title=\"Event True: 3 - Pred: 3.639635184260575\n",
       "Time True: None - Pred: None\">3</button><button type=\"button\" class=\"btn btn-danger\" style=\"margin-right: 10px;\"title=\"Event True: 5 - Pred: 5.319817592130329\n",
       "Time True: None - Pred: None\">5</button></div><br><div><strong><u>4</u></strong> <button type=\"button\" class=\"btn btn-danger\" style=\"margin-right: 10px;\"title=\"Event True: 2 - Pred: 2.1589493432887608\n",
       "Time True: None - Pred: None\">2</button><button type=\"button\" class=\"btn btn-danger\" style=\"margin-right: 10px;\"title=\"Event True: 3 - Pred: 3.3380506567112427\n",
       "Time True: None - Pred: None\">3</button><button type=\"button\" class=\"btn btn-danger\" style=\"margin-right: 10px;\"title=\"Event True: 4 - Pred: 3.3679946588915888\n",
       "Time True: None - Pred: None\">4</button><button type=\"button\" class=\"btn btn-danger\" style=\"margin-right: 10px;\"title=\"Event True: 5 - Pred: 4.68399732944582\n",
       "Time True: None - Pred: None\">5</button></div><br><div><strong><u>5</u></strong> <button type=\"button\" class=\"btn btn-danger\" style=\"margin-right: 10px;\"title=\"Event True: 2 - Pred: 2.1589493432887608\n",
       "Time True: None - Pred: None\">2</button><button type=\"button\" class=\"btn btn-danger\" style=\"margin-right: 10px;\"title=\"Event True: 3 - Pred: 3.3380506567112427\n",
       "Time True: None - Pred: None\">3</button><button type=\"button\" class=\"btn btn-danger\" style=\"margin-right: 10px;\"title=\"Event True: 4 - Pred: 3.3679946588915888\n",
       "Time True: None - Pred: None\">4</button><button type=\"button\" class=\"btn btn-danger\" style=\"margin-right: 10px;\"title=\"Event True: 5 - Pred: 4.68399732944582\n",
       "Time True: None - Pred: None\">5</button></div><br>"
      ],
      "text/plain": [
       "<IPython.core.display.HTML object>"
      ]
     },
     "metadata": {},
     "output_type": "display_data"
    },
    {
     "data": {
      "text/html": [
       "<h3>Test</h3>"
      ],
      "text/plain": [
       "<IPython.core.display.HTML object>"
      ]
     },
     "metadata": {},
     "output_type": "display_data"
    },
    {
     "data": {
      "text/html": [
       "<div><strong><u>1</u></strong> <button type=\"button\" class=\"btn btn-danger\" style=\"margin-right: 10px;\"title=\"Event True: 2 - Pred: 2.1589493432887608\n",
       "Time True: None - Pred: None\">2</button><button type=\"button\" class=\"btn btn-danger\" style=\"margin-right: 10px;\"title=\"Event True: 4 - Pred: 3.3380506567112427\n",
       "Time True: None - Pred: None\">4</button><button type=\"button\" class=\"btn btn-danger\" style=\"margin-right: 10px;\"title=\"Event True: 3 - Pred: 3.3679946588915888\n",
       "Time True: None - Pred: None\">3</button><button type=\"button\" class=\"btn btn-danger\" style=\"margin-right: 10px;\"title=\"Event True: 5 - Pred: 4.68399732944582\n",
       "Time True: None - Pred: None\">5</button></div><br><div><strong><u>2</u></strong> <button type=\"button\" class=\"btn btn-danger\" style=\"margin-right: 10px;\"title=\"Event True: 2 - Pred: 2.1589493432887608\n",
       "Time True: None - Pred: None\">2</button><button type=\"button\" class=\"btn btn-danger\" style=\"margin-right: 10px;\"title=\"Event True: 4 - Pred: 3.3380506567112427\n",
       "Time True: None - Pred: None\">4</button><button type=\"button\" class=\"btn btn-danger\" style=\"margin-right: 10px;\"title=\"Event True: 3 - Pred: 3.639635184260575\n",
       "Time True: None - Pred: None\">3</button><button type=\"button\" class=\"btn btn-danger\" style=\"margin-right: 10px;\"title=\"Event True: 5 - Pred: 5.319817592130329\n",
       "Time True: None - Pred: None\">5</button></div><br><div><strong><u>3</u></strong> <button type=\"button\" class=\"btn btn-danger\" style=\"margin-right: 10px;\"title=\"Event True: 2 - Pred: 2.1589493432887608\n",
       "Time True: None - Pred: None\">2</button><button type=\"button\" class=\"btn btn-danger\" style=\"margin-right: 10px;\"title=\"Event True: 4 - Pred: 3.3380506567112427\n",
       "Time True: None - Pred: None\">4</button><button type=\"button\" class=\"btn btn-danger\" style=\"margin-right: 10px;\"title=\"Event True: 3 - Pred: 3.639635184260575\n",
       "Time True: None - Pred: None\">3</button><button type=\"button\" class=\"btn btn-danger\" style=\"margin-right: 10px;\"title=\"Event True: 5 - Pred: 5.319817592130329\n",
       "Time True: None - Pred: None\">5</button></div><br><div><strong><u>4</u></strong> <button type=\"button\" class=\"btn btn-danger\" style=\"margin-right: 10px;\"title=\"Event True: 2 - Pred: 2.1589493432887608\n",
       "Time True: None - Pred: None\">2</button><button type=\"button\" class=\"btn btn-danger\" style=\"margin-right: 10px;\"title=\"Event True: 4 - Pred: 3.3380506567112427\n",
       "Time True: None - Pred: None\">4</button><button type=\"button\" class=\"btn btn-danger\" style=\"margin-right: 10px;\"title=\"Event True: 3 - Pred: 3.3679946588915888\n",
       "Time True: None - Pred: None\">3</button><button type=\"button\" class=\"btn btn-danger\" style=\"margin-right: 10px;\"title=\"Event True: 5 - Pred: 4.68399732944582\n",
       "Time True: None - Pred: None\">5</button></div><br><div><strong><u>5</u></strong> <button type=\"button\" class=\"btn btn-danger\" style=\"margin-right: 10px;\"title=\"Event True: 2 - Pred: 2.1589493432887608\n",
       "Time True: None - Pred: None\">2</button><button type=\"button\" class=\"btn btn-danger\" style=\"margin-right: 10px;\"title=\"Event True: 3 - Pred: 3.3380506567112427\n",
       "Time True: None - Pred: None\">3</button><button type=\"button\" class=\"btn btn-danger\" style=\"margin-right: 10px;\"title=\"Event True: 4 - Pred: 3.3679946588915888\n",
       "Time True: None - Pred: None\">4</button><button type=\"button\" class=\"btn btn-danger\" style=\"margin-right: 10px;\"title=\"Event True: 5 - Pred: 4.68399732944582\n",
       "Time True: None - Pred: None\">5</button></div><br>"
      ],
      "text/plain": [
       "<IPython.core.display.HTML object>"
      ]
     },
     "metadata": {},
     "output_type": "display_data"
    }
   ],
   "source": [
    "from sklearn.linear_model import LinearRegression\n",
    "\n",
    "model = LinearRegression()\n",
    "model.fit(x['train'], y['train'])\n",
    "train_pred = convert_flat(model.predict(x['train']), 'train')\n",
    "test_pred = convert_flat(model.predict(x['test']), 'test')\n",
    "\n",
    "print('Without rounding')\n",
    "show_results('LinReg', train_pred, test_pred)"
   ]
  },
  {
   "cell_type": "code",
   "execution_count": 18,
   "metadata": {},
   "outputs": [
    {
     "name": "stdout",
     "output_type": "stream",
     "text": [
      "With rounding\n",
      "----\n",
      "Train Error:  37.425000000000004\n",
      "Test Error:  38.5\n"
     ]
    },
    {
     "data": {
      "text/html": [
       "<h3>Train</h3>"
      ],
      "text/plain": [
       "<IPython.core.display.HTML object>"
      ]
     },
     "metadata": {},
     "output_type": "display_data"
    },
    {
     "data": {
      "text/html": [
       "<div><strong><u>1</u></strong> <button type=\"button\" class=\"btn btn-success\" style=\"margin-right: 10px;\"title=\"Event True: 2 - Pred: 2.0\n",
       "Time True: None - Pred: None\">2</button><button type=\"button\" class=\"btn btn-success\" style=\"margin-right: 10px;\"title=\"Event True: 3 - Pred: 3.0\n",
       "Time True: None - Pred: None\">3</button><button type=\"button\" class=\"btn btn-danger\" style=\"margin-right: 10px;\"title=\"Event True: 4 - Pred: 3.0\n",
       "Time True: None - Pred: None\">4</button><button type=\"button\" class=\"btn btn-success\" style=\"margin-right: 10px;\"title=\"Event True: 5 - Pred: 5.0\n",
       "Time True: None - Pred: None\">5</button></div><br><div><strong><u>2</u></strong> <button type=\"button\" class=\"btn btn-success\" style=\"margin-right: 10px;\"title=\"Event True: 2 - Pred: 2.0\n",
       "Time True: None - Pred: None\">2</button><button type=\"button\" class=\"btn btn-danger\" style=\"margin-right: 10px;\"title=\"Event True: 4 - Pred: 3.0\n",
       "Time True: None - Pred: None\">4</button><button type=\"button\" class=\"btn btn-danger\" style=\"margin-right: 10px;\"title=\"Event True: 3 - Pred: 4.0\n",
       "Time True: None - Pred: None\">3</button><button type=\"button\" class=\"btn btn-success\" style=\"margin-right: 10px;\"title=\"Event True: 5 - Pred: 5.0\n",
       "Time True: None - Pred: None\">5</button></div><br><div><strong><u>3</u></strong> <button type=\"button\" class=\"btn btn-success\" style=\"margin-right: 10px;\"title=\"Event True: 2 - Pred: 2.0\n",
       "Time True: None - Pred: None\">2</button><button type=\"button\" class=\"btn btn-danger\" style=\"margin-right: 10px;\"title=\"Event True: 4 - Pred: 3.0\n",
       "Time True: None - Pred: None\">4</button><button type=\"button\" class=\"btn btn-danger\" style=\"margin-right: 10px;\"title=\"Event True: 3 - Pred: 4.0\n",
       "Time True: None - Pred: None\">3</button><button type=\"button\" class=\"btn btn-success\" style=\"margin-right: 10px;\"title=\"Event True: 5 - Pred: 5.0\n",
       "Time True: None - Pred: None\">5</button></div><br><div><strong><u>4</u></strong> <button type=\"button\" class=\"btn btn-success\" style=\"margin-right: 10px;\"title=\"Event True: 2 - Pred: 2.0\n",
       "Time True: None - Pred: None\">2</button><button type=\"button\" class=\"btn btn-success\" style=\"margin-right: 10px;\"title=\"Event True: 3 - Pred: 3.0\n",
       "Time True: None - Pred: None\">3</button><button type=\"button\" class=\"btn btn-danger\" style=\"margin-right: 10px;\"title=\"Event True: 4 - Pred: 3.0\n",
       "Time True: None - Pred: None\">4</button><button type=\"button\" class=\"btn btn-success\" style=\"margin-right: 10px;\"title=\"Event True: 5 - Pred: 5.0\n",
       "Time True: None - Pred: None\">5</button></div><br><div><strong><u>5</u></strong> <button type=\"button\" class=\"btn btn-success\" style=\"margin-right: 10px;\"title=\"Event True: 2 - Pred: 2.0\n",
       "Time True: None - Pred: None\">2</button><button type=\"button\" class=\"btn btn-success\" style=\"margin-right: 10px;\"title=\"Event True: 3 - Pred: 3.0\n",
       "Time True: None - Pred: None\">3</button><button type=\"button\" class=\"btn btn-danger\" style=\"margin-right: 10px;\"title=\"Event True: 4 - Pred: 3.0\n",
       "Time True: None - Pred: None\">4</button><button type=\"button\" class=\"btn btn-success\" style=\"margin-right: 10px;\"title=\"Event True: 5 - Pred: 5.0\n",
       "Time True: None - Pred: None\">5</button></div><br>"
      ],
      "text/plain": [
       "<IPython.core.display.HTML object>"
      ]
     },
     "metadata": {},
     "output_type": "display_data"
    },
    {
     "data": {
      "text/html": [
       "<h3>Test</h3>"
      ],
      "text/plain": [
       "<IPython.core.display.HTML object>"
      ]
     },
     "metadata": {},
     "output_type": "display_data"
    },
    {
     "data": {
      "text/html": [
       "<div><strong><u>1</u></strong> <button type=\"button\" class=\"btn btn-success\" style=\"margin-right: 10px;\"title=\"Event True: 2 - Pred: 2.0\n",
       "Time True: None - Pred: None\">2</button><button type=\"button\" class=\"btn btn-danger\" style=\"margin-right: 10px;\"title=\"Event True: 4 - Pred: 3.0\n",
       "Time True: None - Pred: None\">4</button><button type=\"button\" class=\"btn btn-success\" style=\"margin-right: 10px;\"title=\"Event True: 3 - Pred: 3.0\n",
       "Time True: None - Pred: None\">3</button><button type=\"button\" class=\"btn btn-success\" style=\"margin-right: 10px;\"title=\"Event True: 5 - Pred: 5.0\n",
       "Time True: None - Pred: None\">5</button></div><br><div><strong><u>2</u></strong> <button type=\"button\" class=\"btn btn-success\" style=\"margin-right: 10px;\"title=\"Event True: 2 - Pred: 2.0\n",
       "Time True: None - Pred: None\">2</button><button type=\"button\" class=\"btn btn-danger\" style=\"margin-right: 10px;\"title=\"Event True: 4 - Pred: 3.0\n",
       "Time True: None - Pred: None\">4</button><button type=\"button\" class=\"btn btn-danger\" style=\"margin-right: 10px;\"title=\"Event True: 3 - Pred: 4.0\n",
       "Time True: None - Pred: None\">3</button><button type=\"button\" class=\"btn btn-success\" style=\"margin-right: 10px;\"title=\"Event True: 5 - Pred: 5.0\n",
       "Time True: None - Pred: None\">5</button></div><br><div><strong><u>3</u></strong> <button type=\"button\" class=\"btn btn-success\" style=\"margin-right: 10px;\"title=\"Event True: 2 - Pred: 2.0\n",
       "Time True: None - Pred: None\">2</button><button type=\"button\" class=\"btn btn-danger\" style=\"margin-right: 10px;\"title=\"Event True: 4 - Pred: 3.0\n",
       "Time True: None - Pred: None\">4</button><button type=\"button\" class=\"btn btn-danger\" style=\"margin-right: 10px;\"title=\"Event True: 3 - Pred: 4.0\n",
       "Time True: None - Pred: None\">3</button><button type=\"button\" class=\"btn btn-success\" style=\"margin-right: 10px;\"title=\"Event True: 5 - Pred: 5.0\n",
       "Time True: None - Pred: None\">5</button></div><br><div><strong><u>4</u></strong> <button type=\"button\" class=\"btn btn-success\" style=\"margin-right: 10px;\"title=\"Event True: 2 - Pred: 2.0\n",
       "Time True: None - Pred: None\">2</button><button type=\"button\" class=\"btn btn-danger\" style=\"margin-right: 10px;\"title=\"Event True: 4 - Pred: 3.0\n",
       "Time True: None - Pred: None\">4</button><button type=\"button\" class=\"btn btn-success\" style=\"margin-right: 10px;\"title=\"Event True: 3 - Pred: 3.0\n",
       "Time True: None - Pred: None\">3</button><button type=\"button\" class=\"btn btn-success\" style=\"margin-right: 10px;\"title=\"Event True: 5 - Pred: 5.0\n",
       "Time True: None - Pred: None\">5</button></div><br><div><strong><u>5</u></strong> <button type=\"button\" class=\"btn btn-success\" style=\"margin-right: 10px;\"title=\"Event True: 2 - Pred: 2.0\n",
       "Time True: None - Pred: None\">2</button><button type=\"button\" class=\"btn btn-success\" style=\"margin-right: 10px;\"title=\"Event True: 3 - Pred: 3.0\n",
       "Time True: None - Pred: None\">3</button><button type=\"button\" class=\"btn btn-danger\" style=\"margin-right: 10px;\"title=\"Event True: 4 - Pred: 3.0\n",
       "Time True: None - Pred: None\">4</button><button type=\"button\" class=\"btn btn-success\" style=\"margin-right: 10px;\"title=\"Event True: 5 - Pred: 5.0\n",
       "Time True: None - Pred: None\">5</button></div><br>"
      ],
      "text/plain": [
       "<IPython.core.display.HTML object>"
      ]
     },
     "metadata": {},
     "output_type": "display_data"
    }
   ],
   "source": [
    "from sklearn.linear_model import LinearRegression\n",
    "\n",
    "model = LinearRegression()\n",
    "model.fit(x['train'], y['train'])\n",
    "train_pred = convert_flat(np.round(model.predict(x['train'])), 'train')\n",
    "test_pred = convert_flat(np.round(model.predict(x['test'])), 'test')\n",
    "\n",
    "print('With rounding')\n",
    "show_results('LinRegRound', train_pred, test_pred)"
   ]
  },
  {
   "cell_type": "markdown",
   "metadata": {},
   "source": [
    "Going to normalize before inputting to LinearRegression"
   ]
  },
  {
   "cell_type": "code",
   "execution_count": 19,
   "metadata": {},
   "outputs": [
    {
     "name": "stdout",
     "output_type": "stream",
     "text": [
      "With rounding\n",
      "----\n",
      "Train Error:  37.425000000000004\n",
      "Test Error:  38.5\n"
     ]
    },
    {
     "data": {
      "text/html": [
       "<h3>Train</h3>"
      ],
      "text/plain": [
       "<IPython.core.display.HTML object>"
      ]
     },
     "metadata": {},
     "output_type": "display_data"
    },
    {
     "data": {
      "text/html": [
       "<div><strong><u>1</u></strong> <button type=\"button\" class=\"btn btn-success\" style=\"margin-right: 10px;\"title=\"Event True: 2 - Pred: 2.0\n",
       "Time True: None - Pred: None\">2</button><button type=\"button\" class=\"btn btn-success\" style=\"margin-right: 10px;\"title=\"Event True: 3 - Pred: 3.0\n",
       "Time True: None - Pred: None\">3</button><button type=\"button\" class=\"btn btn-danger\" style=\"margin-right: 10px;\"title=\"Event True: 4 - Pred: 3.0\n",
       "Time True: None - Pred: None\">4</button><button type=\"button\" class=\"btn btn-success\" style=\"margin-right: 10px;\"title=\"Event True: 5 - Pred: 5.0\n",
       "Time True: None - Pred: None\">5</button></div><br><div><strong><u>2</u></strong> <button type=\"button\" class=\"btn btn-success\" style=\"margin-right: 10px;\"title=\"Event True: 2 - Pred: 2.0\n",
       "Time True: None - Pred: None\">2</button><button type=\"button\" class=\"btn btn-danger\" style=\"margin-right: 10px;\"title=\"Event True: 4 - Pred: 3.0\n",
       "Time True: None - Pred: None\">4</button><button type=\"button\" class=\"btn btn-danger\" style=\"margin-right: 10px;\"title=\"Event True: 3 - Pred: 4.0\n",
       "Time True: None - Pred: None\">3</button><button type=\"button\" class=\"btn btn-success\" style=\"margin-right: 10px;\"title=\"Event True: 5 - Pred: 5.0\n",
       "Time True: None - Pred: None\">5</button></div><br><div><strong><u>3</u></strong> <button type=\"button\" class=\"btn btn-success\" style=\"margin-right: 10px;\"title=\"Event True: 2 - Pred: 2.0\n",
       "Time True: None - Pred: None\">2</button><button type=\"button\" class=\"btn btn-danger\" style=\"margin-right: 10px;\"title=\"Event True: 4 - Pred: 3.0\n",
       "Time True: None - Pred: None\">4</button><button type=\"button\" class=\"btn btn-danger\" style=\"margin-right: 10px;\"title=\"Event True: 3 - Pred: 4.0\n",
       "Time True: None - Pred: None\">3</button><button type=\"button\" class=\"btn btn-success\" style=\"margin-right: 10px;\"title=\"Event True: 5 - Pred: 5.0\n",
       "Time True: None - Pred: None\">5</button></div><br><div><strong><u>4</u></strong> <button type=\"button\" class=\"btn btn-success\" style=\"margin-right: 10px;\"title=\"Event True: 2 - Pred: 2.0\n",
       "Time True: None - Pred: None\">2</button><button type=\"button\" class=\"btn btn-success\" style=\"margin-right: 10px;\"title=\"Event True: 3 - Pred: 3.0\n",
       "Time True: None - Pred: None\">3</button><button type=\"button\" class=\"btn btn-danger\" style=\"margin-right: 10px;\"title=\"Event True: 4 - Pred: 3.0\n",
       "Time True: None - Pred: None\">4</button><button type=\"button\" class=\"btn btn-success\" style=\"margin-right: 10px;\"title=\"Event True: 5 - Pred: 5.0\n",
       "Time True: None - Pred: None\">5</button></div><br><div><strong><u>5</u></strong> <button type=\"button\" class=\"btn btn-success\" style=\"margin-right: 10px;\"title=\"Event True: 2 - Pred: 2.0\n",
       "Time True: None - Pred: None\">2</button><button type=\"button\" class=\"btn btn-success\" style=\"margin-right: 10px;\"title=\"Event True: 3 - Pred: 3.0\n",
       "Time True: None - Pred: None\">3</button><button type=\"button\" class=\"btn btn-danger\" style=\"margin-right: 10px;\"title=\"Event True: 4 - Pred: 3.0\n",
       "Time True: None - Pred: None\">4</button><button type=\"button\" class=\"btn btn-success\" style=\"margin-right: 10px;\"title=\"Event True: 5 - Pred: 5.0\n",
       "Time True: None - Pred: None\">5</button></div><br>"
      ],
      "text/plain": [
       "<IPython.core.display.HTML object>"
      ]
     },
     "metadata": {},
     "output_type": "display_data"
    },
    {
     "data": {
      "text/html": [
       "<h3>Test</h3>"
      ],
      "text/plain": [
       "<IPython.core.display.HTML object>"
      ]
     },
     "metadata": {},
     "output_type": "display_data"
    },
    {
     "data": {
      "text/html": [
       "<div><strong><u>1</u></strong> <button type=\"button\" class=\"btn btn-success\" style=\"margin-right: 10px;\"title=\"Event True: 2 - Pred: 2.0\n",
       "Time True: None - Pred: None\">2</button><button type=\"button\" class=\"btn btn-danger\" style=\"margin-right: 10px;\"title=\"Event True: 4 - Pred: 3.0\n",
       "Time True: None - Pred: None\">4</button><button type=\"button\" class=\"btn btn-success\" style=\"margin-right: 10px;\"title=\"Event True: 3 - Pred: 3.0\n",
       "Time True: None - Pred: None\">3</button><button type=\"button\" class=\"btn btn-success\" style=\"margin-right: 10px;\"title=\"Event True: 5 - Pred: 5.0\n",
       "Time True: None - Pred: None\">5</button></div><br><div><strong><u>2</u></strong> <button type=\"button\" class=\"btn btn-success\" style=\"margin-right: 10px;\"title=\"Event True: 2 - Pred: 2.0\n",
       "Time True: None - Pred: None\">2</button><button type=\"button\" class=\"btn btn-danger\" style=\"margin-right: 10px;\"title=\"Event True: 4 - Pred: 3.0\n",
       "Time True: None - Pred: None\">4</button><button type=\"button\" class=\"btn btn-danger\" style=\"margin-right: 10px;\"title=\"Event True: 3 - Pred: 4.0\n",
       "Time True: None - Pred: None\">3</button><button type=\"button\" class=\"btn btn-success\" style=\"margin-right: 10px;\"title=\"Event True: 5 - Pred: 5.0\n",
       "Time True: None - Pred: None\">5</button></div><br><div><strong><u>3</u></strong> <button type=\"button\" class=\"btn btn-success\" style=\"margin-right: 10px;\"title=\"Event True: 2 - Pred: 2.0\n",
       "Time True: None - Pred: None\">2</button><button type=\"button\" class=\"btn btn-danger\" style=\"margin-right: 10px;\"title=\"Event True: 4 - Pred: 3.0\n",
       "Time True: None - Pred: None\">4</button><button type=\"button\" class=\"btn btn-danger\" style=\"margin-right: 10px;\"title=\"Event True: 3 - Pred: 4.0\n",
       "Time True: None - Pred: None\">3</button><button type=\"button\" class=\"btn btn-success\" style=\"margin-right: 10px;\"title=\"Event True: 5 - Pred: 5.0\n",
       "Time True: None - Pred: None\">5</button></div><br><div><strong><u>4</u></strong> <button type=\"button\" class=\"btn btn-success\" style=\"margin-right: 10px;\"title=\"Event True: 2 - Pred: 2.0\n",
       "Time True: None - Pred: None\">2</button><button type=\"button\" class=\"btn btn-danger\" style=\"margin-right: 10px;\"title=\"Event True: 4 - Pred: 3.0\n",
       "Time True: None - Pred: None\">4</button><button type=\"button\" class=\"btn btn-success\" style=\"margin-right: 10px;\"title=\"Event True: 3 - Pred: 3.0\n",
       "Time True: None - Pred: None\">3</button><button type=\"button\" class=\"btn btn-success\" style=\"margin-right: 10px;\"title=\"Event True: 5 - Pred: 5.0\n",
       "Time True: None - Pred: None\">5</button></div><br><div><strong><u>5</u></strong> <button type=\"button\" class=\"btn btn-success\" style=\"margin-right: 10px;\"title=\"Event True: 2 - Pred: 2.0\n",
       "Time True: None - Pred: None\">2</button><button type=\"button\" class=\"btn btn-success\" style=\"margin-right: 10px;\"title=\"Event True: 3 - Pred: 3.0\n",
       "Time True: None - Pred: None\">3</button><button type=\"button\" class=\"btn btn-danger\" style=\"margin-right: 10px;\"title=\"Event True: 4 - Pred: 3.0\n",
       "Time True: None - Pred: None\">4</button><button type=\"button\" class=\"btn btn-success\" style=\"margin-right: 10px;\"title=\"Event True: 5 - Pred: 5.0\n",
       "Time True: None - Pred: None\">5</button></div><br>"
      ],
      "text/plain": [
       "<IPython.core.display.HTML object>"
      ]
     },
     "metadata": {},
     "output_type": "display_data"
    }
   ],
   "source": [
    "from sklearn.linear_model import LinearRegression\n",
    "\n",
    "x_train = x['train'] / max_event\n",
    "y_train = y['train'] / max_event\n",
    "x_test = x['test'] / max_event\n",
    "y_test = y['test'] / max_event\n",
    "\n",
    "model = LinearRegression()\n",
    "model.fit(x_train, y_train)\n",
    "train_pred = model.predict(x_train)\n",
    "test_pred = model.predict(x_test)\n",
    "\n",
    "train_pred = np.round(train_pred * max_event)\n",
    "test_pred = np.round(test_pred * max_event)\n",
    "\n",
    "train_pred = convert_flat(train_pred, 'train')\n",
    "test_pred = convert_flat(test_pred, 'test')\n",
    "\n",
    "\n",
    "print('With rounding')\n",
    "show_results('LinRegRoundNorm', train_pred, test_pred)"
   ]
  },
  {
   "cell_type": "markdown",
   "metadata": {},
   "source": [
    "## Decision Tree"
   ]
  },
  {
   "cell_type": "code",
   "execution_count": 20,
   "metadata": {},
   "outputs": [
    {
     "name": "stdout",
     "output_type": "stream",
     "text": [
      "----\n",
      "Train Error:  12.425\n",
      "Test Error:  13.5\n"
     ]
    },
    {
     "data": {
      "text/html": [
       "<h3>Train</h3>"
      ],
      "text/plain": [
       "<IPython.core.display.HTML object>"
      ]
     },
     "metadata": {},
     "output_type": "display_data"
    },
    {
     "data": {
      "text/html": [
       "<div><strong><u>1</u></strong> <button type=\"button\" class=\"btn btn-success\" style=\"margin-right: 10px;\"title=\"Event True: 2 - Pred: 2\n",
       "Time True: None - Pred: None\">2</button><button type=\"button\" class=\"btn btn-success\" style=\"margin-right: 10px;\"title=\"Event True: 3 - Pred: 3\n",
       "Time True: None - Pred: None\">3</button><button type=\"button\" class=\"btn btn-success\" style=\"margin-right: 10px;\"title=\"Event True: 4 - Pred: 4\n",
       "Time True: None - Pred: None\">4</button><button type=\"button\" class=\"btn btn-success\" style=\"margin-right: 10px;\"title=\"Event True: 5 - Pred: 5\n",
       "Time True: None - Pred: None\">5</button></div><br><div><strong><u>2</u></strong> <button type=\"button\" class=\"btn btn-success\" style=\"margin-right: 10px;\"title=\"Event True: 2 - Pred: 2\n",
       "Time True: None - Pred: None\">2</button><button type=\"button\" class=\"btn btn-danger\" style=\"margin-right: 10px;\"title=\"Event True: 4 - Pred: 3\n",
       "Time True: None - Pred: None\">4</button><button type=\"button\" class=\"btn btn-success\" style=\"margin-right: 10px;\"title=\"Event True: 3 - Pred: 3\n",
       "Time True: None - Pred: None\">3</button><button type=\"button\" class=\"btn btn-success\" style=\"margin-right: 10px;\"title=\"Event True: 5 - Pred: 5\n",
       "Time True: None - Pred: None\">5</button></div><br><div><strong><u>3</u></strong> <button type=\"button\" class=\"btn btn-success\" style=\"margin-right: 10px;\"title=\"Event True: 2 - Pred: 2\n",
       "Time True: None - Pred: None\">2</button><button type=\"button\" class=\"btn btn-danger\" style=\"margin-right: 10px;\"title=\"Event True: 4 - Pred: 3\n",
       "Time True: None - Pred: None\">4</button><button type=\"button\" class=\"btn btn-success\" style=\"margin-right: 10px;\"title=\"Event True: 3 - Pred: 3\n",
       "Time True: None - Pred: None\">3</button><button type=\"button\" class=\"btn btn-success\" style=\"margin-right: 10px;\"title=\"Event True: 5 - Pred: 5\n",
       "Time True: None - Pred: None\">5</button></div><br><div><strong><u>4</u></strong> <button type=\"button\" class=\"btn btn-success\" style=\"margin-right: 10px;\"title=\"Event True: 2 - Pred: 2\n",
       "Time True: None - Pred: None\">2</button><button type=\"button\" class=\"btn btn-success\" style=\"margin-right: 10px;\"title=\"Event True: 3 - Pred: 3\n",
       "Time True: None - Pred: None\">3</button><button type=\"button\" class=\"btn btn-success\" style=\"margin-right: 10px;\"title=\"Event True: 4 - Pred: 4\n",
       "Time True: None - Pred: None\">4</button><button type=\"button\" class=\"btn btn-success\" style=\"margin-right: 10px;\"title=\"Event True: 5 - Pred: 5\n",
       "Time True: None - Pred: None\">5</button></div><br><div><strong><u>5</u></strong> <button type=\"button\" class=\"btn btn-success\" style=\"margin-right: 10px;\"title=\"Event True: 2 - Pred: 2\n",
       "Time True: None - Pred: None\">2</button><button type=\"button\" class=\"btn btn-success\" style=\"margin-right: 10px;\"title=\"Event True: 3 - Pred: 3\n",
       "Time True: None - Pred: None\">3</button><button type=\"button\" class=\"btn btn-success\" style=\"margin-right: 10px;\"title=\"Event True: 4 - Pred: 4\n",
       "Time True: None - Pred: None\">4</button><button type=\"button\" class=\"btn btn-success\" style=\"margin-right: 10px;\"title=\"Event True: 5 - Pred: 5\n",
       "Time True: None - Pred: None\">5</button></div><br>"
      ],
      "text/plain": [
       "<IPython.core.display.HTML object>"
      ]
     },
     "metadata": {},
     "output_type": "display_data"
    },
    {
     "data": {
      "text/html": [
       "<h3>Test</h3>"
      ],
      "text/plain": [
       "<IPython.core.display.HTML object>"
      ]
     },
     "metadata": {},
     "output_type": "display_data"
    },
    {
     "data": {
      "text/html": [
       "<div><strong><u>1</u></strong> <button type=\"button\" class=\"btn btn-success\" style=\"margin-right: 10px;\"title=\"Event True: 2 - Pred: 2\n",
       "Time True: None - Pred: None\">2</button><button type=\"button\" class=\"btn btn-danger\" style=\"margin-right: 10px;\"title=\"Event True: 4 - Pred: 3\n",
       "Time True: None - Pred: None\">4</button><button type=\"button\" class=\"btn btn-danger\" style=\"margin-right: 10px;\"title=\"Event True: 3 - Pred: 4\n",
       "Time True: None - Pred: None\">3</button><button type=\"button\" class=\"btn btn-success\" style=\"margin-right: 10px;\"title=\"Event True: 5 - Pred: 5\n",
       "Time True: None - Pred: None\">5</button></div><br><div><strong><u>2</u></strong> <button type=\"button\" class=\"btn btn-success\" style=\"margin-right: 10px;\"title=\"Event True: 2 - Pred: 2\n",
       "Time True: None - Pred: None\">2</button><button type=\"button\" class=\"btn btn-danger\" style=\"margin-right: 10px;\"title=\"Event True: 4 - Pred: 3\n",
       "Time True: None - Pred: None\">4</button><button type=\"button\" class=\"btn btn-success\" style=\"margin-right: 10px;\"title=\"Event True: 3 - Pred: 3\n",
       "Time True: None - Pred: None\">3</button><button type=\"button\" class=\"btn btn-success\" style=\"margin-right: 10px;\"title=\"Event True: 5 - Pred: 5\n",
       "Time True: None - Pred: None\">5</button></div><br><div><strong><u>3</u></strong> <button type=\"button\" class=\"btn btn-success\" style=\"margin-right: 10px;\"title=\"Event True: 2 - Pred: 2\n",
       "Time True: None - Pred: None\">2</button><button type=\"button\" class=\"btn btn-danger\" style=\"margin-right: 10px;\"title=\"Event True: 4 - Pred: 3\n",
       "Time True: None - Pred: None\">4</button><button type=\"button\" class=\"btn btn-success\" style=\"margin-right: 10px;\"title=\"Event True: 3 - Pred: 3\n",
       "Time True: None - Pred: None\">3</button><button type=\"button\" class=\"btn btn-success\" style=\"margin-right: 10px;\"title=\"Event True: 5 - Pred: 5\n",
       "Time True: None - Pred: None\">5</button></div><br><div><strong><u>4</u></strong> <button type=\"button\" class=\"btn btn-success\" style=\"margin-right: 10px;\"title=\"Event True: 2 - Pred: 2\n",
       "Time True: None - Pred: None\">2</button><button type=\"button\" class=\"btn btn-danger\" style=\"margin-right: 10px;\"title=\"Event True: 4 - Pred: 3\n",
       "Time True: None - Pred: None\">4</button><button type=\"button\" class=\"btn btn-danger\" style=\"margin-right: 10px;\"title=\"Event True: 3 - Pred: 4\n",
       "Time True: None - Pred: None\">3</button><button type=\"button\" class=\"btn btn-success\" style=\"margin-right: 10px;\"title=\"Event True: 5 - Pred: 5\n",
       "Time True: None - Pred: None\">5</button></div><br><div><strong><u>5</u></strong> <button type=\"button\" class=\"btn btn-success\" style=\"margin-right: 10px;\"title=\"Event True: 2 - Pred: 2\n",
       "Time True: None - Pred: None\">2</button><button type=\"button\" class=\"btn btn-success\" style=\"margin-right: 10px;\"title=\"Event True: 3 - Pred: 3\n",
       "Time True: None - Pred: None\">3</button><button type=\"button\" class=\"btn btn-success\" style=\"margin-right: 10px;\"title=\"Event True: 4 - Pred: 4\n",
       "Time True: None - Pred: None\">4</button><button type=\"button\" class=\"btn btn-success\" style=\"margin-right: 10px;\"title=\"Event True: 5 - Pred: 5\n",
       "Time True: None - Pred: None\">5</button></div><br>"
      ],
      "text/plain": [
       "<IPython.core.display.HTML object>"
      ]
     },
     "metadata": {},
     "output_type": "display_data"
    }
   ],
   "source": [
    "from sklearn.tree import DecisionTreeClassifier\n",
    "\n",
    "model = DecisionTreeClassifier()\n",
    "model.fit(x['train'], y['train'])\n",
    "train_pred = convert_flat(model.predict(x['train']), 'train')\n",
    "test_pred = convert_flat(model.predict(x['test']), 'test')\n",
    "\n",
    "show_results('DecisionTree', train_pred, test_pred)"
   ]
  },
  {
   "cell_type": "markdown",
   "metadata": {},
   "source": [
    "Visualize the decision tree"
   ]
  },
  {
   "cell_type": "code",
   "execution_count": 21,
   "metadata": {},
   "outputs": [],
   "source": [
    "from sklearn.tree import export_graphviz\n",
    "from IPython.display import Image\n",
    "import pydot\n",
    "\n",
    "# model_dot = export_graphviz(model,\n",
    "#                             out_file=None,\n",
    "#                             filled=True,\n",
    "#                             rounded=True)\n",
    "# \n",
    "# graph = pydot.graph_from_dot_data(model_dot)\n",
    "# display(Image(graph[0].create_png()))"
   ]
  },
  {
   "cell_type": "markdown",
   "metadata": {},
   "source": [
    "## Random Forest"
   ]
  },
  {
   "cell_type": "code",
   "execution_count": 22,
   "metadata": {},
   "outputs": [
    {
     "name": "stdout",
     "output_type": "stream",
     "text": [
      "----\n",
      "Train Error:  12.575\n",
      "Test Error:  11.5\n"
     ]
    },
    {
     "data": {
      "text/html": [
       "<h3>Train</h3>"
      ],
      "text/plain": [
       "<IPython.core.display.HTML object>"
      ]
     },
     "metadata": {},
     "output_type": "display_data"
    },
    {
     "data": {
      "text/html": [
       "<div><strong><u>1</u></strong> <button type=\"button\" class=\"btn btn-success\" style=\"margin-right: 10px;\"title=\"Event True: 2 - Pred: 2\n",
       "Time True: None - Pred: None\">2</button><button type=\"button\" class=\"btn btn-danger\" style=\"margin-right: 10px;\"title=\"Event True: 3 - Pred: 4\n",
       "Time True: None - Pred: None\">3</button><button type=\"button\" class=\"btn btn-success\" style=\"margin-right: 10px;\"title=\"Event True: 4 - Pred: 4\n",
       "Time True: None - Pred: None\">4</button><button type=\"button\" class=\"btn btn-success\" style=\"margin-right: 10px;\"title=\"Event True: 5 - Pred: 5\n",
       "Time True: None - Pred: None\">5</button></div><br><div><strong><u>2</u></strong> <button type=\"button\" class=\"btn btn-success\" style=\"margin-right: 10px;\"title=\"Event True: 2 - Pred: 2\n",
       "Time True: None - Pred: None\">2</button><button type=\"button\" class=\"btn btn-success\" style=\"margin-right: 10px;\"title=\"Event True: 4 - Pred: 4\n",
       "Time True: None - Pred: None\">4</button><button type=\"button\" class=\"btn btn-success\" style=\"margin-right: 10px;\"title=\"Event True: 3 - Pred: 3\n",
       "Time True: None - Pred: None\">3</button><button type=\"button\" class=\"btn btn-success\" style=\"margin-right: 10px;\"title=\"Event True: 5 - Pred: 5\n",
       "Time True: None - Pred: None\">5</button></div><br><div><strong><u>3</u></strong> <button type=\"button\" class=\"btn btn-success\" style=\"margin-right: 10px;\"title=\"Event True: 2 - Pred: 2\n",
       "Time True: None - Pred: None\">2</button><button type=\"button\" class=\"btn btn-success\" style=\"margin-right: 10px;\"title=\"Event True: 4 - Pred: 4\n",
       "Time True: None - Pred: None\">4</button><button type=\"button\" class=\"btn btn-success\" style=\"margin-right: 10px;\"title=\"Event True: 3 - Pred: 3\n",
       "Time True: None - Pred: None\">3</button><button type=\"button\" class=\"btn btn-success\" style=\"margin-right: 10px;\"title=\"Event True: 5 - Pred: 5\n",
       "Time True: None - Pred: None\">5</button></div><br><div><strong><u>4</u></strong> <button type=\"button\" class=\"btn btn-success\" style=\"margin-right: 10px;\"title=\"Event True: 2 - Pred: 2\n",
       "Time True: None - Pred: None\">2</button><button type=\"button\" class=\"btn btn-danger\" style=\"margin-right: 10px;\"title=\"Event True: 3 - Pred: 4\n",
       "Time True: None - Pred: None\">3</button><button type=\"button\" class=\"btn btn-success\" style=\"margin-right: 10px;\"title=\"Event True: 4 - Pred: 4\n",
       "Time True: None - Pred: None\">4</button><button type=\"button\" class=\"btn btn-success\" style=\"margin-right: 10px;\"title=\"Event True: 5 - Pred: 5\n",
       "Time True: None - Pred: None\">5</button></div><br><div><strong><u>5</u></strong> <button type=\"button\" class=\"btn btn-success\" style=\"margin-right: 10px;\"title=\"Event True: 2 - Pred: 2\n",
       "Time True: None - Pred: None\">2</button><button type=\"button\" class=\"btn btn-danger\" style=\"margin-right: 10px;\"title=\"Event True: 3 - Pred: 4\n",
       "Time True: None - Pred: None\">3</button><button type=\"button\" class=\"btn btn-success\" style=\"margin-right: 10px;\"title=\"Event True: 4 - Pred: 4\n",
       "Time True: None - Pred: None\">4</button><button type=\"button\" class=\"btn btn-success\" style=\"margin-right: 10px;\"title=\"Event True: 5 - Pred: 5\n",
       "Time True: None - Pred: None\">5</button></div><br>"
      ],
      "text/plain": [
       "<IPython.core.display.HTML object>"
      ]
     },
     "metadata": {},
     "output_type": "display_data"
    },
    {
     "data": {
      "text/html": [
       "<h3>Test</h3>"
      ],
      "text/plain": [
       "<IPython.core.display.HTML object>"
      ]
     },
     "metadata": {},
     "output_type": "display_data"
    },
    {
     "data": {
      "text/html": [
       "<div><strong><u>1</u></strong> <button type=\"button\" class=\"btn btn-success\" style=\"margin-right: 10px;\"title=\"Event True: 2 - Pred: 2\n",
       "Time True: None - Pred: None\">2</button><button type=\"button\" class=\"btn btn-success\" style=\"margin-right: 10px;\"title=\"Event True: 4 - Pred: 4\n",
       "Time True: None - Pred: None\">4</button><button type=\"button\" class=\"btn btn-danger\" style=\"margin-right: 10px;\"title=\"Event True: 3 - Pred: 4\n",
       "Time True: None - Pred: None\">3</button><button type=\"button\" class=\"btn btn-success\" style=\"margin-right: 10px;\"title=\"Event True: 5 - Pred: 5\n",
       "Time True: None - Pred: None\">5</button></div><br><div><strong><u>2</u></strong> <button type=\"button\" class=\"btn btn-success\" style=\"margin-right: 10px;\"title=\"Event True: 2 - Pred: 2\n",
       "Time True: None - Pred: None\">2</button><button type=\"button\" class=\"btn btn-success\" style=\"margin-right: 10px;\"title=\"Event True: 4 - Pred: 4\n",
       "Time True: None - Pred: None\">4</button><button type=\"button\" class=\"btn btn-success\" style=\"margin-right: 10px;\"title=\"Event True: 3 - Pred: 3\n",
       "Time True: None - Pred: None\">3</button><button type=\"button\" class=\"btn btn-success\" style=\"margin-right: 10px;\"title=\"Event True: 5 - Pred: 5\n",
       "Time True: None - Pred: None\">5</button></div><br><div><strong><u>3</u></strong> <button type=\"button\" class=\"btn btn-success\" style=\"margin-right: 10px;\"title=\"Event True: 2 - Pred: 2\n",
       "Time True: None - Pred: None\">2</button><button type=\"button\" class=\"btn btn-success\" style=\"margin-right: 10px;\"title=\"Event True: 4 - Pred: 4\n",
       "Time True: None - Pred: None\">4</button><button type=\"button\" class=\"btn btn-success\" style=\"margin-right: 10px;\"title=\"Event True: 3 - Pred: 3\n",
       "Time True: None - Pred: None\">3</button><button type=\"button\" class=\"btn btn-success\" style=\"margin-right: 10px;\"title=\"Event True: 5 - Pred: 5\n",
       "Time True: None - Pred: None\">5</button></div><br><div><strong><u>4</u></strong> <button type=\"button\" class=\"btn btn-success\" style=\"margin-right: 10px;\"title=\"Event True: 2 - Pred: 2\n",
       "Time True: None - Pred: None\">2</button><button type=\"button\" class=\"btn btn-success\" style=\"margin-right: 10px;\"title=\"Event True: 4 - Pred: 4\n",
       "Time True: None - Pred: None\">4</button><button type=\"button\" class=\"btn btn-danger\" style=\"margin-right: 10px;\"title=\"Event True: 3 - Pred: 4\n",
       "Time True: None - Pred: None\">3</button><button type=\"button\" class=\"btn btn-success\" style=\"margin-right: 10px;\"title=\"Event True: 5 - Pred: 5\n",
       "Time True: None - Pred: None\">5</button></div><br><div><strong><u>5</u></strong> <button type=\"button\" class=\"btn btn-success\" style=\"margin-right: 10px;\"title=\"Event True: 2 - Pred: 2\n",
       "Time True: None - Pred: None\">2</button><button type=\"button\" class=\"btn btn-danger\" style=\"margin-right: 10px;\"title=\"Event True: 3 - Pred: 4\n",
       "Time True: None - Pred: None\">3</button><button type=\"button\" class=\"btn btn-success\" style=\"margin-right: 10px;\"title=\"Event True: 4 - Pred: 4\n",
       "Time True: None - Pred: None\">4</button><button type=\"button\" class=\"btn btn-success\" style=\"margin-right: 10px;\"title=\"Event True: 5 - Pred: 5\n",
       "Time True: None - Pred: None\">5</button></div><br>"
      ],
      "text/plain": [
       "<IPython.core.display.HTML object>"
      ]
     },
     "metadata": {},
     "output_type": "display_data"
    }
   ],
   "source": [
    "from sklearn.ensemble import RandomForestClassifier\n",
    "\n",
    "model = RandomForestClassifier()\n",
    "model.fit(x['train'], y['train'])\n",
    "train_pred = convert_flat(model.predict(x['train']), 'train')\n",
    "test_pred = convert_flat(model.predict(x['test']), 'test')\n",
    "\n",
    "show_results('RandomForest', train_pred, test_pred)"
   ]
  },
  {
   "cell_type": "markdown",
   "metadata": {},
   "source": [
    "## AdaBoost Classifier"
   ]
  },
  {
   "cell_type": "code",
   "execution_count": 23,
   "metadata": {},
   "outputs": [
    {
     "name": "stdout",
     "output_type": "stream",
     "text": [
      "----\n",
      "Train Error:  25.0\n",
      "Test Error:  25.0\n"
     ]
    },
    {
     "data": {
      "text/html": [
       "<h3>Train</h3>"
      ],
      "text/plain": [
       "<IPython.core.display.HTML object>"
      ]
     },
     "metadata": {},
     "output_type": "display_data"
    },
    {
     "data": {
      "text/html": [
       "<div><strong><u>1</u></strong> <button type=\"button\" class=\"btn btn-success\" style=\"margin-right: 10px;\"title=\"Event True: 2 - Pred: 2\n",
       "Time True: None - Pred: None\">2</button><button type=\"button\" class=\"btn btn-success\" style=\"margin-right: 10px;\"title=\"Event True: 3 - Pred: 3\n",
       "Time True: None - Pred: None\">3</button><button type=\"button\" class=\"btn btn-danger\" style=\"margin-right: 10px;\"title=\"Event True: 4 - Pred: 3\n",
       "Time True: None - Pred: None\">4</button><button type=\"button\" class=\"btn btn-success\" style=\"margin-right: 10px;\"title=\"Event True: 5 - Pred: 5\n",
       "Time True: None - Pred: None\">5</button></div><br><div><strong><u>2</u></strong> <button type=\"button\" class=\"btn btn-success\" style=\"margin-right: 10px;\"title=\"Event True: 2 - Pred: 2\n",
       "Time True: None - Pred: None\">2</button><button type=\"button\" class=\"btn btn-danger\" style=\"margin-right: 10px;\"title=\"Event True: 4 - Pred: 3\n",
       "Time True: None - Pred: None\">4</button><button type=\"button\" class=\"btn btn-success\" style=\"margin-right: 10px;\"title=\"Event True: 3 - Pred: 3\n",
       "Time True: None - Pred: None\">3</button><button type=\"button\" class=\"btn btn-success\" style=\"margin-right: 10px;\"title=\"Event True: 5 - Pred: 5\n",
       "Time True: None - Pred: None\">5</button></div><br><div><strong><u>3</u></strong> <button type=\"button\" class=\"btn btn-success\" style=\"margin-right: 10px;\"title=\"Event True: 2 - Pred: 2\n",
       "Time True: None - Pred: None\">2</button><button type=\"button\" class=\"btn btn-danger\" style=\"margin-right: 10px;\"title=\"Event True: 4 - Pred: 3\n",
       "Time True: None - Pred: None\">4</button><button type=\"button\" class=\"btn btn-success\" style=\"margin-right: 10px;\"title=\"Event True: 3 - Pred: 3\n",
       "Time True: None - Pred: None\">3</button><button type=\"button\" class=\"btn btn-success\" style=\"margin-right: 10px;\"title=\"Event True: 5 - Pred: 5\n",
       "Time True: None - Pred: None\">5</button></div><br><div><strong><u>4</u></strong> <button type=\"button\" class=\"btn btn-success\" style=\"margin-right: 10px;\"title=\"Event True: 2 - Pred: 2\n",
       "Time True: None - Pred: None\">2</button><button type=\"button\" class=\"btn btn-success\" style=\"margin-right: 10px;\"title=\"Event True: 3 - Pred: 3\n",
       "Time True: None - Pred: None\">3</button><button type=\"button\" class=\"btn btn-danger\" style=\"margin-right: 10px;\"title=\"Event True: 4 - Pred: 3\n",
       "Time True: None - Pred: None\">4</button><button type=\"button\" class=\"btn btn-success\" style=\"margin-right: 10px;\"title=\"Event True: 5 - Pred: 5\n",
       "Time True: None - Pred: None\">5</button></div><br><div><strong><u>5</u></strong> <button type=\"button\" class=\"btn btn-success\" style=\"margin-right: 10px;\"title=\"Event True: 2 - Pred: 2\n",
       "Time True: None - Pred: None\">2</button><button type=\"button\" class=\"btn btn-success\" style=\"margin-right: 10px;\"title=\"Event True: 3 - Pred: 3\n",
       "Time True: None - Pred: None\">3</button><button type=\"button\" class=\"btn btn-danger\" style=\"margin-right: 10px;\"title=\"Event True: 4 - Pred: 3\n",
       "Time True: None - Pred: None\">4</button><button type=\"button\" class=\"btn btn-success\" style=\"margin-right: 10px;\"title=\"Event True: 5 - Pred: 5\n",
       "Time True: None - Pred: None\">5</button></div><br>"
      ],
      "text/plain": [
       "<IPython.core.display.HTML object>"
      ]
     },
     "metadata": {},
     "output_type": "display_data"
    },
    {
     "data": {
      "text/html": [
       "<h3>Test</h3>"
      ],
      "text/plain": [
       "<IPython.core.display.HTML object>"
      ]
     },
     "metadata": {},
     "output_type": "display_data"
    },
    {
     "data": {
      "text/html": [
       "<div><strong><u>1</u></strong> <button type=\"button\" class=\"btn btn-success\" style=\"margin-right: 10px;\"title=\"Event True: 2 - Pred: 2\n",
       "Time True: None - Pred: None\">2</button><button type=\"button\" class=\"btn btn-danger\" style=\"margin-right: 10px;\"title=\"Event True: 4 - Pred: 3\n",
       "Time True: None - Pred: None\">4</button><button type=\"button\" class=\"btn btn-success\" style=\"margin-right: 10px;\"title=\"Event True: 3 - Pred: 3\n",
       "Time True: None - Pred: None\">3</button><button type=\"button\" class=\"btn btn-success\" style=\"margin-right: 10px;\"title=\"Event True: 5 - Pred: 5\n",
       "Time True: None - Pred: None\">5</button></div><br><div><strong><u>2</u></strong> <button type=\"button\" class=\"btn btn-success\" style=\"margin-right: 10px;\"title=\"Event True: 2 - Pred: 2\n",
       "Time True: None - Pred: None\">2</button><button type=\"button\" class=\"btn btn-danger\" style=\"margin-right: 10px;\"title=\"Event True: 4 - Pred: 3\n",
       "Time True: None - Pred: None\">4</button><button type=\"button\" class=\"btn btn-success\" style=\"margin-right: 10px;\"title=\"Event True: 3 - Pred: 3\n",
       "Time True: None - Pred: None\">3</button><button type=\"button\" class=\"btn btn-success\" style=\"margin-right: 10px;\"title=\"Event True: 5 - Pred: 5\n",
       "Time True: None - Pred: None\">5</button></div><br><div><strong><u>3</u></strong> <button type=\"button\" class=\"btn btn-success\" style=\"margin-right: 10px;\"title=\"Event True: 2 - Pred: 2\n",
       "Time True: None - Pred: None\">2</button><button type=\"button\" class=\"btn btn-danger\" style=\"margin-right: 10px;\"title=\"Event True: 4 - Pred: 3\n",
       "Time True: None - Pred: None\">4</button><button type=\"button\" class=\"btn btn-success\" style=\"margin-right: 10px;\"title=\"Event True: 3 - Pred: 3\n",
       "Time True: None - Pred: None\">3</button><button type=\"button\" class=\"btn btn-success\" style=\"margin-right: 10px;\"title=\"Event True: 5 - Pred: 5\n",
       "Time True: None - Pred: None\">5</button></div><br><div><strong><u>4</u></strong> <button type=\"button\" class=\"btn btn-success\" style=\"margin-right: 10px;\"title=\"Event True: 2 - Pred: 2\n",
       "Time True: None - Pred: None\">2</button><button type=\"button\" class=\"btn btn-danger\" style=\"margin-right: 10px;\"title=\"Event True: 4 - Pred: 3\n",
       "Time True: None - Pred: None\">4</button><button type=\"button\" class=\"btn btn-success\" style=\"margin-right: 10px;\"title=\"Event True: 3 - Pred: 3\n",
       "Time True: None - Pred: None\">3</button><button type=\"button\" class=\"btn btn-success\" style=\"margin-right: 10px;\"title=\"Event True: 5 - Pred: 5\n",
       "Time True: None - Pred: None\">5</button></div><br><div><strong><u>5</u></strong> <button type=\"button\" class=\"btn btn-success\" style=\"margin-right: 10px;\"title=\"Event True: 2 - Pred: 2\n",
       "Time True: None - Pred: None\">2</button><button type=\"button\" class=\"btn btn-success\" style=\"margin-right: 10px;\"title=\"Event True: 3 - Pred: 3\n",
       "Time True: None - Pred: None\">3</button><button type=\"button\" class=\"btn btn-danger\" style=\"margin-right: 10px;\"title=\"Event True: 4 - Pred: 3\n",
       "Time True: None - Pred: None\">4</button><button type=\"button\" class=\"btn btn-success\" style=\"margin-right: 10px;\"title=\"Event True: 5 - Pred: 5\n",
       "Time True: None - Pred: None\">5</button></div><br>"
      ],
      "text/plain": [
       "<IPython.core.display.HTML object>"
      ]
     },
     "metadata": {},
     "output_type": "display_data"
    }
   ],
   "source": [
    "from sklearn.ensemble import AdaBoostClassifier\n",
    "\n",
    "model = AdaBoostClassifier()\n",
    "model.fit(x['train'], y['train'])\n",
    "train_pred = convert_flat(model.predict(x['train']), 'train')\n",
    "test_pred = convert_flat(model.predict(x['test']), 'test')\n",
    "\n",
    "show_results('AdaBoost', train_pred, test_pred)"
   ]
  },
  {
   "cell_type": "markdown",
   "metadata": {},
   "source": [
    "# One-Hot Data\n",
    "\n",
    "Convert the data into one-hot so that rather than using an integer for the category, use a vector:\n",
    "\n",
    "2 ===>  <0, 0, 1, 0, 0>"
   ]
  },
  {
   "cell_type": "code",
   "execution_count": 24,
   "metadata": {},
   "outputs": [],
   "source": [
    "x = {}\n",
    "y = {}\n",
    "\n",
    "for data_type in ['train', 'test']:\n",
    "    x[data_type] = []\n",
    "    y[data_type] = []\n",
    "    for seq in events[data_type]:\n",
    "        current_seq = [-1] * (CHUNK_SIZE - 1) + seq\n",
    "        for e, event in enumerate(current_seq):\n",
    "            if e >= CHUNK_SIZE:\n",
    "                y[data_type].append(event)\n",
    "                index_lookback = e - CHUNK_SIZE\n",
    "                \n",
    "                current_x = []\n",
    "                for back_event in current_seq[index_lookback:e]:\n",
    "                    vector = [0] * max_event\n",
    "                    if back_event > 0:\n",
    "                        vector[back_event-1] = 1\n",
    "                    current_x += vector\n",
    "                x[data_type].append(current_x)\n",
    "\n",
    "    x[data_type] = np.asarray(x[data_type])\n",
    "    y[data_type] = np.asarray(y[data_type])"
   ]
  },
  {
   "cell_type": "markdown",
   "metadata": {},
   "source": [
    "## Decision Tree"
   ]
  },
  {
   "cell_type": "code",
   "execution_count": 25,
   "metadata": {},
   "outputs": [
    {
     "name": "stdout",
     "output_type": "stream",
     "text": [
      "----\n",
      "Train Error:  12.425\n",
      "Test Error:  13.5\n"
     ]
    },
    {
     "data": {
      "text/html": [
       "<h3>Train</h3>"
      ],
      "text/plain": [
       "<IPython.core.display.HTML object>"
      ]
     },
     "metadata": {},
     "output_type": "display_data"
    },
    {
     "data": {
      "text/html": [
       "<div><strong><u>1</u></strong> <button type=\"button\" class=\"btn btn-success\" style=\"margin-right: 10px;\"title=\"Event True: 2 - Pred: 2\n",
       "Time True: None - Pred: None\">2</button><button type=\"button\" class=\"btn btn-success\" style=\"margin-right: 10px;\"title=\"Event True: 3 - Pred: 3\n",
       "Time True: None - Pred: None\">3</button><button type=\"button\" class=\"btn btn-success\" style=\"margin-right: 10px;\"title=\"Event True: 4 - Pred: 4\n",
       "Time True: None - Pred: None\">4</button><button type=\"button\" class=\"btn btn-success\" style=\"margin-right: 10px;\"title=\"Event True: 5 - Pred: 5\n",
       "Time True: None - Pred: None\">5</button></div><br><div><strong><u>2</u></strong> <button type=\"button\" class=\"btn btn-success\" style=\"margin-right: 10px;\"title=\"Event True: 2 - Pred: 2\n",
       "Time True: None - Pred: None\">2</button><button type=\"button\" class=\"btn btn-danger\" style=\"margin-right: 10px;\"title=\"Event True: 4 - Pred: 3\n",
       "Time True: None - Pred: None\">4</button><button type=\"button\" class=\"btn btn-success\" style=\"margin-right: 10px;\"title=\"Event True: 3 - Pred: 3\n",
       "Time True: None - Pred: None\">3</button><button type=\"button\" class=\"btn btn-success\" style=\"margin-right: 10px;\"title=\"Event True: 5 - Pred: 5\n",
       "Time True: None - Pred: None\">5</button></div><br><div><strong><u>3</u></strong> <button type=\"button\" class=\"btn btn-success\" style=\"margin-right: 10px;\"title=\"Event True: 2 - Pred: 2\n",
       "Time True: None - Pred: None\">2</button><button type=\"button\" class=\"btn btn-danger\" style=\"margin-right: 10px;\"title=\"Event True: 4 - Pred: 3\n",
       "Time True: None - Pred: None\">4</button><button type=\"button\" class=\"btn btn-success\" style=\"margin-right: 10px;\"title=\"Event True: 3 - Pred: 3\n",
       "Time True: None - Pred: None\">3</button><button type=\"button\" class=\"btn btn-success\" style=\"margin-right: 10px;\"title=\"Event True: 5 - Pred: 5\n",
       "Time True: None - Pred: None\">5</button></div><br><div><strong><u>4</u></strong> <button type=\"button\" class=\"btn btn-success\" style=\"margin-right: 10px;\"title=\"Event True: 2 - Pred: 2\n",
       "Time True: None - Pred: None\">2</button><button type=\"button\" class=\"btn btn-success\" style=\"margin-right: 10px;\"title=\"Event True: 3 - Pred: 3\n",
       "Time True: None - Pred: None\">3</button><button type=\"button\" class=\"btn btn-success\" style=\"margin-right: 10px;\"title=\"Event True: 4 - Pred: 4\n",
       "Time True: None - Pred: None\">4</button><button type=\"button\" class=\"btn btn-success\" style=\"margin-right: 10px;\"title=\"Event True: 5 - Pred: 5\n",
       "Time True: None - Pred: None\">5</button></div><br><div><strong><u>5</u></strong> <button type=\"button\" class=\"btn btn-success\" style=\"margin-right: 10px;\"title=\"Event True: 2 - Pred: 2\n",
       "Time True: None - Pred: None\">2</button><button type=\"button\" class=\"btn btn-success\" style=\"margin-right: 10px;\"title=\"Event True: 3 - Pred: 3\n",
       "Time True: None - Pred: None\">3</button><button type=\"button\" class=\"btn btn-success\" style=\"margin-right: 10px;\"title=\"Event True: 4 - Pred: 4\n",
       "Time True: None - Pred: None\">4</button><button type=\"button\" class=\"btn btn-success\" style=\"margin-right: 10px;\"title=\"Event True: 5 - Pred: 5\n",
       "Time True: None - Pred: None\">5</button></div><br>"
      ],
      "text/plain": [
       "<IPython.core.display.HTML object>"
      ]
     },
     "metadata": {},
     "output_type": "display_data"
    },
    {
     "data": {
      "text/html": [
       "<h3>Test</h3>"
      ],
      "text/plain": [
       "<IPython.core.display.HTML object>"
      ]
     },
     "metadata": {},
     "output_type": "display_data"
    },
    {
     "data": {
      "text/html": [
       "<div><strong><u>1</u></strong> <button type=\"button\" class=\"btn btn-success\" style=\"margin-right: 10px;\"title=\"Event True: 2 - Pred: 2\n",
       "Time True: None - Pred: None\">2</button><button type=\"button\" class=\"btn btn-danger\" style=\"margin-right: 10px;\"title=\"Event True: 4 - Pred: 3\n",
       "Time True: None - Pred: None\">4</button><button type=\"button\" class=\"btn btn-danger\" style=\"margin-right: 10px;\"title=\"Event True: 3 - Pred: 4\n",
       "Time True: None - Pred: None\">3</button><button type=\"button\" class=\"btn btn-success\" style=\"margin-right: 10px;\"title=\"Event True: 5 - Pred: 5\n",
       "Time True: None - Pred: None\">5</button></div><br><div><strong><u>2</u></strong> <button type=\"button\" class=\"btn btn-success\" style=\"margin-right: 10px;\"title=\"Event True: 2 - Pred: 2\n",
       "Time True: None - Pred: None\">2</button><button type=\"button\" class=\"btn btn-danger\" style=\"margin-right: 10px;\"title=\"Event True: 4 - Pred: 3\n",
       "Time True: None - Pred: None\">4</button><button type=\"button\" class=\"btn btn-success\" style=\"margin-right: 10px;\"title=\"Event True: 3 - Pred: 3\n",
       "Time True: None - Pred: None\">3</button><button type=\"button\" class=\"btn btn-success\" style=\"margin-right: 10px;\"title=\"Event True: 5 - Pred: 5\n",
       "Time True: None - Pred: None\">5</button></div><br><div><strong><u>3</u></strong> <button type=\"button\" class=\"btn btn-success\" style=\"margin-right: 10px;\"title=\"Event True: 2 - Pred: 2\n",
       "Time True: None - Pred: None\">2</button><button type=\"button\" class=\"btn btn-danger\" style=\"margin-right: 10px;\"title=\"Event True: 4 - Pred: 3\n",
       "Time True: None - Pred: None\">4</button><button type=\"button\" class=\"btn btn-success\" style=\"margin-right: 10px;\"title=\"Event True: 3 - Pred: 3\n",
       "Time True: None - Pred: None\">3</button><button type=\"button\" class=\"btn btn-success\" style=\"margin-right: 10px;\"title=\"Event True: 5 - Pred: 5\n",
       "Time True: None - Pred: None\">5</button></div><br><div><strong><u>4</u></strong> <button type=\"button\" class=\"btn btn-success\" style=\"margin-right: 10px;\"title=\"Event True: 2 - Pred: 2\n",
       "Time True: None - Pred: None\">2</button><button type=\"button\" class=\"btn btn-danger\" style=\"margin-right: 10px;\"title=\"Event True: 4 - Pred: 3\n",
       "Time True: None - Pred: None\">4</button><button type=\"button\" class=\"btn btn-danger\" style=\"margin-right: 10px;\"title=\"Event True: 3 - Pred: 4\n",
       "Time True: None - Pred: None\">3</button><button type=\"button\" class=\"btn btn-success\" style=\"margin-right: 10px;\"title=\"Event True: 5 - Pred: 5\n",
       "Time True: None - Pred: None\">5</button></div><br><div><strong><u>5</u></strong> <button type=\"button\" class=\"btn btn-success\" style=\"margin-right: 10px;\"title=\"Event True: 2 - Pred: 2\n",
       "Time True: None - Pred: None\">2</button><button type=\"button\" class=\"btn btn-success\" style=\"margin-right: 10px;\"title=\"Event True: 3 - Pred: 3\n",
       "Time True: None - Pred: None\">3</button><button type=\"button\" class=\"btn btn-success\" style=\"margin-right: 10px;\"title=\"Event True: 4 - Pred: 4\n",
       "Time True: None - Pred: None\">4</button><button type=\"button\" class=\"btn btn-success\" style=\"margin-right: 10px;\"title=\"Event True: 5 - Pred: 5\n",
       "Time True: None - Pred: None\">5</button></div><br>"
      ],
      "text/plain": [
       "<IPython.core.display.HTML object>"
      ]
     },
     "metadata": {},
     "output_type": "display_data"
    }
   ],
   "source": [
    "from sklearn.tree import DecisionTreeClassifier\n",
    "\n",
    "model = DecisionTreeClassifier()\n",
    "model.fit(x['train'], y['train'])\n",
    "train_pred = convert_flat(model.predict(x['train']), 'train')\n",
    "test_pred = convert_flat(model.predict(x['test']), 'test')\n",
    "\n",
    "show_results('DecisionTreeOneHot', train_pred, test_pred)"
   ]
  },
  {
   "cell_type": "markdown",
   "metadata": {},
   "source": [
    "## Random Forest"
   ]
  },
  {
   "cell_type": "code",
   "execution_count": 26,
   "metadata": {},
   "outputs": [
    {
     "name": "stdout",
     "output_type": "stream",
     "text": [
      "----\n",
      "Train Error:  12.425\n",
      "Test Error:  13.5\n"
     ]
    },
    {
     "data": {
      "text/html": [
       "<h3>Train</h3>"
      ],
      "text/plain": [
       "<IPython.core.display.HTML object>"
      ]
     },
     "metadata": {},
     "output_type": "display_data"
    },
    {
     "data": {
      "text/html": [
       "<div><strong><u>1</u></strong> <button type=\"button\" class=\"btn btn-success\" style=\"margin-right: 10px;\"title=\"Event True: 2 - Pred: 2\n",
       "Time True: None - Pred: None\">2</button><button type=\"button\" class=\"btn btn-success\" style=\"margin-right: 10px;\"title=\"Event True: 3 - Pred: 3\n",
       "Time True: None - Pred: None\">3</button><button type=\"button\" class=\"btn btn-success\" style=\"margin-right: 10px;\"title=\"Event True: 4 - Pred: 4\n",
       "Time True: None - Pred: None\">4</button><button type=\"button\" class=\"btn btn-success\" style=\"margin-right: 10px;\"title=\"Event True: 5 - Pred: 5\n",
       "Time True: None - Pred: None\">5</button></div><br><div><strong><u>2</u></strong> <button type=\"button\" class=\"btn btn-success\" style=\"margin-right: 10px;\"title=\"Event True: 2 - Pred: 2\n",
       "Time True: None - Pred: None\">2</button><button type=\"button\" class=\"btn btn-danger\" style=\"margin-right: 10px;\"title=\"Event True: 4 - Pred: 3\n",
       "Time True: None - Pred: None\">4</button><button type=\"button\" class=\"btn btn-success\" style=\"margin-right: 10px;\"title=\"Event True: 3 - Pred: 3\n",
       "Time True: None - Pred: None\">3</button><button type=\"button\" class=\"btn btn-success\" style=\"margin-right: 10px;\"title=\"Event True: 5 - Pred: 5\n",
       "Time True: None - Pred: None\">5</button></div><br><div><strong><u>3</u></strong> <button type=\"button\" class=\"btn btn-success\" style=\"margin-right: 10px;\"title=\"Event True: 2 - Pred: 2\n",
       "Time True: None - Pred: None\">2</button><button type=\"button\" class=\"btn btn-danger\" style=\"margin-right: 10px;\"title=\"Event True: 4 - Pred: 3\n",
       "Time True: None - Pred: None\">4</button><button type=\"button\" class=\"btn btn-success\" style=\"margin-right: 10px;\"title=\"Event True: 3 - Pred: 3\n",
       "Time True: None - Pred: None\">3</button><button type=\"button\" class=\"btn btn-success\" style=\"margin-right: 10px;\"title=\"Event True: 5 - Pred: 5\n",
       "Time True: None - Pred: None\">5</button></div><br><div><strong><u>4</u></strong> <button type=\"button\" class=\"btn btn-success\" style=\"margin-right: 10px;\"title=\"Event True: 2 - Pred: 2\n",
       "Time True: None - Pred: None\">2</button><button type=\"button\" class=\"btn btn-success\" style=\"margin-right: 10px;\"title=\"Event True: 3 - Pred: 3\n",
       "Time True: None - Pred: None\">3</button><button type=\"button\" class=\"btn btn-success\" style=\"margin-right: 10px;\"title=\"Event True: 4 - Pred: 4\n",
       "Time True: None - Pred: None\">4</button><button type=\"button\" class=\"btn btn-success\" style=\"margin-right: 10px;\"title=\"Event True: 5 - Pred: 5\n",
       "Time True: None - Pred: None\">5</button></div><br><div><strong><u>5</u></strong> <button type=\"button\" class=\"btn btn-success\" style=\"margin-right: 10px;\"title=\"Event True: 2 - Pred: 2\n",
       "Time True: None - Pred: None\">2</button><button type=\"button\" class=\"btn btn-success\" style=\"margin-right: 10px;\"title=\"Event True: 3 - Pred: 3\n",
       "Time True: None - Pred: None\">3</button><button type=\"button\" class=\"btn btn-success\" style=\"margin-right: 10px;\"title=\"Event True: 4 - Pred: 4\n",
       "Time True: None - Pred: None\">4</button><button type=\"button\" class=\"btn btn-success\" style=\"margin-right: 10px;\"title=\"Event True: 5 - Pred: 5\n",
       "Time True: None - Pred: None\">5</button></div><br>"
      ],
      "text/plain": [
       "<IPython.core.display.HTML object>"
      ]
     },
     "metadata": {},
     "output_type": "display_data"
    },
    {
     "data": {
      "text/html": [
       "<h3>Test</h3>"
      ],
      "text/plain": [
       "<IPython.core.display.HTML object>"
      ]
     },
     "metadata": {},
     "output_type": "display_data"
    },
    {
     "data": {
      "text/html": [
       "<div><strong><u>1</u></strong> <button type=\"button\" class=\"btn btn-success\" style=\"margin-right: 10px;\"title=\"Event True: 2 - Pred: 2\n",
       "Time True: None - Pred: None\">2</button><button type=\"button\" class=\"btn btn-danger\" style=\"margin-right: 10px;\"title=\"Event True: 4 - Pred: 3\n",
       "Time True: None - Pred: None\">4</button><button type=\"button\" class=\"btn btn-danger\" style=\"margin-right: 10px;\"title=\"Event True: 3 - Pred: 4\n",
       "Time True: None - Pred: None\">3</button><button type=\"button\" class=\"btn btn-success\" style=\"margin-right: 10px;\"title=\"Event True: 5 - Pred: 5\n",
       "Time True: None - Pred: None\">5</button></div><br><div><strong><u>2</u></strong> <button type=\"button\" class=\"btn btn-success\" style=\"margin-right: 10px;\"title=\"Event True: 2 - Pred: 2\n",
       "Time True: None - Pred: None\">2</button><button type=\"button\" class=\"btn btn-danger\" style=\"margin-right: 10px;\"title=\"Event True: 4 - Pred: 3\n",
       "Time True: None - Pred: None\">4</button><button type=\"button\" class=\"btn btn-success\" style=\"margin-right: 10px;\"title=\"Event True: 3 - Pred: 3\n",
       "Time True: None - Pred: None\">3</button><button type=\"button\" class=\"btn btn-success\" style=\"margin-right: 10px;\"title=\"Event True: 5 - Pred: 5\n",
       "Time True: None - Pred: None\">5</button></div><br><div><strong><u>3</u></strong> <button type=\"button\" class=\"btn btn-success\" style=\"margin-right: 10px;\"title=\"Event True: 2 - Pred: 2\n",
       "Time True: None - Pred: None\">2</button><button type=\"button\" class=\"btn btn-danger\" style=\"margin-right: 10px;\"title=\"Event True: 4 - Pred: 3\n",
       "Time True: None - Pred: None\">4</button><button type=\"button\" class=\"btn btn-success\" style=\"margin-right: 10px;\"title=\"Event True: 3 - Pred: 3\n",
       "Time True: None - Pred: None\">3</button><button type=\"button\" class=\"btn btn-success\" style=\"margin-right: 10px;\"title=\"Event True: 5 - Pred: 5\n",
       "Time True: None - Pred: None\">5</button></div><br><div><strong><u>4</u></strong> <button type=\"button\" class=\"btn btn-success\" style=\"margin-right: 10px;\"title=\"Event True: 2 - Pred: 2\n",
       "Time True: None - Pred: None\">2</button><button type=\"button\" class=\"btn btn-danger\" style=\"margin-right: 10px;\"title=\"Event True: 4 - Pred: 3\n",
       "Time True: None - Pred: None\">4</button><button type=\"button\" class=\"btn btn-danger\" style=\"margin-right: 10px;\"title=\"Event True: 3 - Pred: 4\n",
       "Time True: None - Pred: None\">3</button><button type=\"button\" class=\"btn btn-success\" style=\"margin-right: 10px;\"title=\"Event True: 5 - Pred: 5\n",
       "Time True: None - Pred: None\">5</button></div><br><div><strong><u>5</u></strong> <button type=\"button\" class=\"btn btn-success\" style=\"margin-right: 10px;\"title=\"Event True: 2 - Pred: 2\n",
       "Time True: None - Pred: None\">2</button><button type=\"button\" class=\"btn btn-success\" style=\"margin-right: 10px;\"title=\"Event True: 3 - Pred: 3\n",
       "Time True: None - Pred: None\">3</button><button type=\"button\" class=\"btn btn-success\" style=\"margin-right: 10px;\"title=\"Event True: 4 - Pred: 4\n",
       "Time True: None - Pred: None\">4</button><button type=\"button\" class=\"btn btn-success\" style=\"margin-right: 10px;\"title=\"Event True: 5 - Pred: 5\n",
       "Time True: None - Pred: None\">5</button></div><br>"
      ],
      "text/plain": [
       "<IPython.core.display.HTML object>"
      ]
     },
     "metadata": {},
     "output_type": "display_data"
    }
   ],
   "source": [
    "from sklearn.ensemble import RandomForestClassifier\n",
    "\n",
    "model = RandomForestClassifier()\n",
    "model.fit(x['train'], y['train'])\n",
    "train_pred = convert_flat(model.predict(x['train']), 'train')\n",
    "test_pred = convert_flat(model.predict(x['test']), 'test')\n",
    "\n",
    "show_results('RandomForestOneHot', train_pred, test_pred)"
   ]
  },
  {
   "cell_type": "markdown",
   "metadata": {},
   "source": [
    "# Neural Networks"
   ]
  },
  {
   "cell_type": "markdown",
   "metadata": {},
   "source": [
    "We are going to try a bunch of different network configurations so let's import stuff that we'll need."
   ]
  },
  {
   "cell_type": "code",
   "execution_count": 27,
   "metadata": {},
   "outputs": [
    {
     "name": "stderr",
     "output_type": "stream",
     "text": [
      "D:\\Users\\fjd10\\Anaconda3\\envs\\tensorflow\\lib\\site-packages\\h5py\\__init__.py:36: FutureWarning: Conversion of the second argument of issubdtype from `float` to `np.floating` is deprecated. In future, it will be treated as `np.float64 == np.dtype(float).type`.\n",
      "  from ._conv import register_converters as _register_converters\n",
      "Using TensorFlow backend.\n"
     ]
    }
   ],
   "source": [
    "from keras.models import Sequential\n",
    "from keras import optimizers\n",
    "from keras import layers"
   ]
  },
  {
   "cell_type": "markdown",
   "metadata": {},
   "source": [
    "## Regular FeedForward Neural Network"
   ]
  },
  {
   "cell_type": "markdown",
   "metadata": {},
   "source": [
    "We need to alter the data for the FNN, such that the y variable is all one-hot."
   ]
  },
  {
   "cell_type": "code",
   "execution_count": 28,
   "metadata": {},
   "outputs": [],
   "source": [
    "y_train = np.zeros((y['train'].shape[0], num_events))\n",
    "y_train[np.arange(y['train'].shape[0]), y['train'] - 1] = 1\n",
    "\n",
    "y_test = np.zeros((y['test'].shape[0], num_events))\n",
    "y_test[np.arange(y['test'].shape[0]), y['test'] - 1] = 1"
   ]
  },
  {
   "cell_type": "markdown",
   "metadata": {},
   "source": [
    "#### Single - tanh\n",
    "\n",
    "A single hidden layer using tanh activation"
   ]
  },
  {
   "cell_type": "code",
   "execution_count": 29,
   "metadata": {
    "scrolled": true
   },
   "outputs": [
    {
     "name": "stdout",
     "output_type": "stream",
     "text": [
      "Train on 4000 samples, validate on 800 samples\n",
      "Epoch 1/3\n",
      "4000/4000 [==============================] - 0s 55us/step - loss: 1.4884 - acc: 0.3507 - val_loss: 1.1559 - val_acc: 0.7300\n",
      "Epoch 2/3\n",
      "4000/4000 [==============================] - 0s 11us/step - loss: 0.9292 - acc: 0.8163 - val_loss: 0.7414 - val_acc: 0.8650\n",
      "Epoch 3/3\n",
      "4000/4000 [==============================] - 0s 10us/step - loss: 0.6075 - acc: 0.8758 - val_loss: 0.4937 - val_acc: 0.8650\n",
      "----\n",
      "Train Error:  12.425\n",
      "Test Error:  13.5\n"
     ]
    },
    {
     "data": {
      "text/html": [
       "<h3>Train</h3>"
      ],
      "text/plain": [
       "<IPython.core.display.HTML object>"
      ]
     },
     "metadata": {},
     "output_type": "display_data"
    },
    {
     "data": {
      "text/html": [
       "<div><strong><u>1</u></strong> <button type=\"button\" class=\"btn btn-success\" style=\"margin-right: 10px;\"title=\"Event True: 2 - Pred: 2\n",
       "Time True: None - Pred: None\">2</button><button type=\"button\" class=\"btn btn-success\" style=\"margin-right: 10px;\"title=\"Event True: 3 - Pred: 3\n",
       "Time True: None - Pred: None\">3</button><button type=\"button\" class=\"btn btn-success\" style=\"margin-right: 10px;\"title=\"Event True: 4 - Pred: 4\n",
       "Time True: None - Pred: None\">4</button><button type=\"button\" class=\"btn btn-success\" style=\"margin-right: 10px;\"title=\"Event True: 5 - Pred: 5\n",
       "Time True: None - Pred: None\">5</button></div><br><div><strong><u>2</u></strong> <button type=\"button\" class=\"btn btn-success\" style=\"margin-right: 10px;\"title=\"Event True: 2 - Pred: 2\n",
       "Time True: None - Pred: None\">2</button><button type=\"button\" class=\"btn btn-danger\" style=\"margin-right: 10px;\"title=\"Event True: 4 - Pred: 3\n",
       "Time True: None - Pred: None\">4</button><button type=\"button\" class=\"btn btn-success\" style=\"margin-right: 10px;\"title=\"Event True: 3 - Pred: 3\n",
       "Time True: None - Pred: None\">3</button><button type=\"button\" class=\"btn btn-success\" style=\"margin-right: 10px;\"title=\"Event True: 5 - Pred: 5\n",
       "Time True: None - Pred: None\">5</button></div><br><div><strong><u>3</u></strong> <button type=\"button\" class=\"btn btn-success\" style=\"margin-right: 10px;\"title=\"Event True: 2 - Pred: 2\n",
       "Time True: None - Pred: None\">2</button><button type=\"button\" class=\"btn btn-danger\" style=\"margin-right: 10px;\"title=\"Event True: 4 - Pred: 3\n",
       "Time True: None - Pred: None\">4</button><button type=\"button\" class=\"btn btn-success\" style=\"margin-right: 10px;\"title=\"Event True: 3 - Pred: 3\n",
       "Time True: None - Pred: None\">3</button><button type=\"button\" class=\"btn btn-success\" style=\"margin-right: 10px;\"title=\"Event True: 5 - Pred: 5\n",
       "Time True: None - Pred: None\">5</button></div><br><div><strong><u>4</u></strong> <button type=\"button\" class=\"btn btn-success\" style=\"margin-right: 10px;\"title=\"Event True: 2 - Pred: 2\n",
       "Time True: None - Pred: None\">2</button><button type=\"button\" class=\"btn btn-success\" style=\"margin-right: 10px;\"title=\"Event True: 3 - Pred: 3\n",
       "Time True: None - Pred: None\">3</button><button type=\"button\" class=\"btn btn-success\" style=\"margin-right: 10px;\"title=\"Event True: 4 - Pred: 4\n",
       "Time True: None - Pred: None\">4</button><button type=\"button\" class=\"btn btn-success\" style=\"margin-right: 10px;\"title=\"Event True: 5 - Pred: 5\n",
       "Time True: None - Pred: None\">5</button></div><br><div><strong><u>5</u></strong> <button type=\"button\" class=\"btn btn-success\" style=\"margin-right: 10px;\"title=\"Event True: 2 - Pred: 2\n",
       "Time True: None - Pred: None\">2</button><button type=\"button\" class=\"btn btn-success\" style=\"margin-right: 10px;\"title=\"Event True: 3 - Pred: 3\n",
       "Time True: None - Pred: None\">3</button><button type=\"button\" class=\"btn btn-success\" style=\"margin-right: 10px;\"title=\"Event True: 4 - Pred: 4\n",
       "Time True: None - Pred: None\">4</button><button type=\"button\" class=\"btn btn-success\" style=\"margin-right: 10px;\"title=\"Event True: 5 - Pred: 5\n",
       "Time True: None - Pred: None\">5</button></div><br>"
      ],
      "text/plain": [
       "<IPython.core.display.HTML object>"
      ]
     },
     "metadata": {},
     "output_type": "display_data"
    },
    {
     "data": {
      "text/html": [
       "<h3>Test</h3>"
      ],
      "text/plain": [
       "<IPython.core.display.HTML object>"
      ]
     },
     "metadata": {},
     "output_type": "display_data"
    },
    {
     "data": {
      "text/html": [
       "<div><strong><u>1</u></strong> <button type=\"button\" class=\"btn btn-success\" style=\"margin-right: 10px;\"title=\"Event True: 2 - Pred: 2\n",
       "Time True: None - Pred: None\">2</button><button type=\"button\" class=\"btn btn-danger\" style=\"margin-right: 10px;\"title=\"Event True: 4 - Pred: 3\n",
       "Time True: None - Pred: None\">4</button><button type=\"button\" class=\"btn btn-danger\" style=\"margin-right: 10px;\"title=\"Event True: 3 - Pred: 4\n",
       "Time True: None - Pred: None\">3</button><button type=\"button\" class=\"btn btn-success\" style=\"margin-right: 10px;\"title=\"Event True: 5 - Pred: 5\n",
       "Time True: None - Pred: None\">5</button></div><br><div><strong><u>2</u></strong> <button type=\"button\" class=\"btn btn-success\" style=\"margin-right: 10px;\"title=\"Event True: 2 - Pred: 2\n",
       "Time True: None - Pred: None\">2</button><button type=\"button\" class=\"btn btn-danger\" style=\"margin-right: 10px;\"title=\"Event True: 4 - Pred: 3\n",
       "Time True: None - Pred: None\">4</button><button type=\"button\" class=\"btn btn-success\" style=\"margin-right: 10px;\"title=\"Event True: 3 - Pred: 3\n",
       "Time True: None - Pred: None\">3</button><button type=\"button\" class=\"btn btn-success\" style=\"margin-right: 10px;\"title=\"Event True: 5 - Pred: 5\n",
       "Time True: None - Pred: None\">5</button></div><br><div><strong><u>3</u></strong> <button type=\"button\" class=\"btn btn-success\" style=\"margin-right: 10px;\"title=\"Event True: 2 - Pred: 2\n",
       "Time True: None - Pred: None\">2</button><button type=\"button\" class=\"btn btn-danger\" style=\"margin-right: 10px;\"title=\"Event True: 4 - Pred: 3\n",
       "Time True: None - Pred: None\">4</button><button type=\"button\" class=\"btn btn-success\" style=\"margin-right: 10px;\"title=\"Event True: 3 - Pred: 3\n",
       "Time True: None - Pred: None\">3</button><button type=\"button\" class=\"btn btn-success\" style=\"margin-right: 10px;\"title=\"Event True: 5 - Pred: 5\n",
       "Time True: None - Pred: None\">5</button></div><br><div><strong><u>4</u></strong> <button type=\"button\" class=\"btn btn-success\" style=\"margin-right: 10px;\"title=\"Event True: 2 - Pred: 2\n",
       "Time True: None - Pred: None\">2</button><button type=\"button\" class=\"btn btn-danger\" style=\"margin-right: 10px;\"title=\"Event True: 4 - Pred: 3\n",
       "Time True: None - Pred: None\">4</button><button type=\"button\" class=\"btn btn-danger\" style=\"margin-right: 10px;\"title=\"Event True: 3 - Pred: 4\n",
       "Time True: None - Pred: None\">3</button><button type=\"button\" class=\"btn btn-success\" style=\"margin-right: 10px;\"title=\"Event True: 5 - Pred: 5\n",
       "Time True: None - Pred: None\">5</button></div><br><div><strong><u>5</u></strong> <button type=\"button\" class=\"btn btn-success\" style=\"margin-right: 10px;\"title=\"Event True: 2 - Pred: 2\n",
       "Time True: None - Pred: None\">2</button><button type=\"button\" class=\"btn btn-success\" style=\"margin-right: 10px;\"title=\"Event True: 3 - Pred: 3\n",
       "Time True: None - Pred: None\">3</button><button type=\"button\" class=\"btn btn-success\" style=\"margin-right: 10px;\"title=\"Event True: 4 - Pred: 4\n",
       "Time True: None - Pred: None\">4</button><button type=\"button\" class=\"btn btn-success\" style=\"margin-right: 10px;\"title=\"Event True: 5 - Pred: 5\n",
       "Time True: None - Pred: None\">5</button></div><br>"
      ],
      "text/plain": [
       "<IPython.core.display.HTML object>"
      ]
     },
     "metadata": {},
     "output_type": "display_data"
    }
   ],
   "source": [
    "model = Sequential()\n",
    "model.add(layers.Dense(50, activation='tanh', batch_input_shape=(None, x['train'].shape[1])))\n",
    "model.add(layers.Dense(num_events, activation='softmax'))\n",
    "\n",
    "model.compile(loss='categorical_crossentropy', optimizer='adam', metrics=['accuracy'])\n",
    "\n",
    "model.fit(x['train'], y_train, validation_data=(x['test'], y_test), batch_size=100, epochs=3)\n",
    "\n",
    "train_pred = convert_flat(np.argmax(model.predict(x['train']), axis=1) + 1, 'train')\n",
    "test_pred = convert_flat(np.argmax(model.predict(x['test']), axis=1) + 1, 'test')\n",
    "show_results('FNN-SingleTanh', train_pred, test_pred)"
   ]
  },
  {
   "cell_type": "markdown",
   "metadata": {},
   "source": [
    "#### Single - linear\n",
    "\n",
    "A single hidden layer using linear activation"
   ]
  },
  {
   "cell_type": "code",
   "execution_count": 30,
   "metadata": {},
   "outputs": [
    {
     "name": "stdout",
     "output_type": "stream",
     "text": [
      "Train on 4000 samples, validate on 800 samples\n",
      "Epoch 1/3\n",
      "4000/4000 [==============================] - 0s 75us/step - loss: 1.2146 - acc: 0.6692 - val_loss: 0.9220 - val_acc: 0.8650\n",
      "Epoch 2/3\n",
      "4000/4000 [==============================] - 0s 11us/step - loss: 0.7300 - acc: 0.8758 - val_loss: 0.5752 - val_acc: 0.8650\n",
      "Epoch 3/3\n",
      "4000/4000 [==============================] - 0s 11us/step - loss: 0.4705 - acc: 0.8758 - val_loss: 0.3902 - val_acc: 0.8650\n",
      "----\n",
      "Train Error:  12.425\n",
      "Test Error:  13.5\n"
     ]
    },
    {
     "data": {
      "text/html": [
       "<h3>Train</h3>"
      ],
      "text/plain": [
       "<IPython.core.display.HTML object>"
      ]
     },
     "metadata": {},
     "output_type": "display_data"
    },
    {
     "data": {
      "text/html": [
       "<div><strong><u>1</u></strong> <button type=\"button\" class=\"btn btn-success\" style=\"margin-right: 10px;\"title=\"Event True: 2 - Pred: 2\n",
       "Time True: None - Pred: None\">2</button><button type=\"button\" class=\"btn btn-success\" style=\"margin-right: 10px;\"title=\"Event True: 3 - Pred: 3\n",
       "Time True: None - Pred: None\">3</button><button type=\"button\" class=\"btn btn-success\" style=\"margin-right: 10px;\"title=\"Event True: 4 - Pred: 4\n",
       "Time True: None - Pred: None\">4</button><button type=\"button\" class=\"btn btn-success\" style=\"margin-right: 10px;\"title=\"Event True: 5 - Pred: 5\n",
       "Time True: None - Pred: None\">5</button></div><br><div><strong><u>2</u></strong> <button type=\"button\" class=\"btn btn-success\" style=\"margin-right: 10px;\"title=\"Event True: 2 - Pred: 2\n",
       "Time True: None - Pred: None\">2</button><button type=\"button\" class=\"btn btn-danger\" style=\"margin-right: 10px;\"title=\"Event True: 4 - Pred: 3\n",
       "Time True: None - Pred: None\">4</button><button type=\"button\" class=\"btn btn-success\" style=\"margin-right: 10px;\"title=\"Event True: 3 - Pred: 3\n",
       "Time True: None - Pred: None\">3</button><button type=\"button\" class=\"btn btn-success\" style=\"margin-right: 10px;\"title=\"Event True: 5 - Pred: 5\n",
       "Time True: None - Pred: None\">5</button></div><br><div><strong><u>3</u></strong> <button type=\"button\" class=\"btn btn-success\" style=\"margin-right: 10px;\"title=\"Event True: 2 - Pred: 2\n",
       "Time True: None - Pred: None\">2</button><button type=\"button\" class=\"btn btn-danger\" style=\"margin-right: 10px;\"title=\"Event True: 4 - Pred: 3\n",
       "Time True: None - Pred: None\">4</button><button type=\"button\" class=\"btn btn-success\" style=\"margin-right: 10px;\"title=\"Event True: 3 - Pred: 3\n",
       "Time True: None - Pred: None\">3</button><button type=\"button\" class=\"btn btn-success\" style=\"margin-right: 10px;\"title=\"Event True: 5 - Pred: 5\n",
       "Time True: None - Pred: None\">5</button></div><br><div><strong><u>4</u></strong> <button type=\"button\" class=\"btn btn-success\" style=\"margin-right: 10px;\"title=\"Event True: 2 - Pred: 2\n",
       "Time True: None - Pred: None\">2</button><button type=\"button\" class=\"btn btn-success\" style=\"margin-right: 10px;\"title=\"Event True: 3 - Pred: 3\n",
       "Time True: None - Pred: None\">3</button><button type=\"button\" class=\"btn btn-success\" style=\"margin-right: 10px;\"title=\"Event True: 4 - Pred: 4\n",
       "Time True: None - Pred: None\">4</button><button type=\"button\" class=\"btn btn-success\" style=\"margin-right: 10px;\"title=\"Event True: 5 - Pred: 5\n",
       "Time True: None - Pred: None\">5</button></div><br><div><strong><u>5</u></strong> <button type=\"button\" class=\"btn btn-success\" style=\"margin-right: 10px;\"title=\"Event True: 2 - Pred: 2\n",
       "Time True: None - Pred: None\">2</button><button type=\"button\" class=\"btn btn-success\" style=\"margin-right: 10px;\"title=\"Event True: 3 - Pred: 3\n",
       "Time True: None - Pred: None\">3</button><button type=\"button\" class=\"btn btn-success\" style=\"margin-right: 10px;\"title=\"Event True: 4 - Pred: 4\n",
       "Time True: None - Pred: None\">4</button><button type=\"button\" class=\"btn btn-success\" style=\"margin-right: 10px;\"title=\"Event True: 5 - Pred: 5\n",
       "Time True: None - Pred: None\">5</button></div><br>"
      ],
      "text/plain": [
       "<IPython.core.display.HTML object>"
      ]
     },
     "metadata": {},
     "output_type": "display_data"
    },
    {
     "data": {
      "text/html": [
       "<h3>Test</h3>"
      ],
      "text/plain": [
       "<IPython.core.display.HTML object>"
      ]
     },
     "metadata": {},
     "output_type": "display_data"
    },
    {
     "data": {
      "text/html": [
       "<div><strong><u>1</u></strong> <button type=\"button\" class=\"btn btn-success\" style=\"margin-right: 10px;\"title=\"Event True: 2 - Pred: 2\n",
       "Time True: None - Pred: None\">2</button><button type=\"button\" class=\"btn btn-danger\" style=\"margin-right: 10px;\"title=\"Event True: 4 - Pred: 3\n",
       "Time True: None - Pred: None\">4</button><button type=\"button\" class=\"btn btn-danger\" style=\"margin-right: 10px;\"title=\"Event True: 3 - Pred: 4\n",
       "Time True: None - Pred: None\">3</button><button type=\"button\" class=\"btn btn-success\" style=\"margin-right: 10px;\"title=\"Event True: 5 - Pred: 5\n",
       "Time True: None - Pred: None\">5</button></div><br><div><strong><u>2</u></strong> <button type=\"button\" class=\"btn btn-success\" style=\"margin-right: 10px;\"title=\"Event True: 2 - Pred: 2\n",
       "Time True: None - Pred: None\">2</button><button type=\"button\" class=\"btn btn-danger\" style=\"margin-right: 10px;\"title=\"Event True: 4 - Pred: 3\n",
       "Time True: None - Pred: None\">4</button><button type=\"button\" class=\"btn btn-success\" style=\"margin-right: 10px;\"title=\"Event True: 3 - Pred: 3\n",
       "Time True: None - Pred: None\">3</button><button type=\"button\" class=\"btn btn-success\" style=\"margin-right: 10px;\"title=\"Event True: 5 - Pred: 5\n",
       "Time True: None - Pred: None\">5</button></div><br><div><strong><u>3</u></strong> <button type=\"button\" class=\"btn btn-success\" style=\"margin-right: 10px;\"title=\"Event True: 2 - Pred: 2\n",
       "Time True: None - Pred: None\">2</button><button type=\"button\" class=\"btn btn-danger\" style=\"margin-right: 10px;\"title=\"Event True: 4 - Pred: 3\n",
       "Time True: None - Pred: None\">4</button><button type=\"button\" class=\"btn btn-success\" style=\"margin-right: 10px;\"title=\"Event True: 3 - Pred: 3\n",
       "Time True: None - Pred: None\">3</button><button type=\"button\" class=\"btn btn-success\" style=\"margin-right: 10px;\"title=\"Event True: 5 - Pred: 5\n",
       "Time True: None - Pred: None\">5</button></div><br><div><strong><u>4</u></strong> <button type=\"button\" class=\"btn btn-success\" style=\"margin-right: 10px;\"title=\"Event True: 2 - Pred: 2\n",
       "Time True: None - Pred: None\">2</button><button type=\"button\" class=\"btn btn-danger\" style=\"margin-right: 10px;\"title=\"Event True: 4 - Pred: 3\n",
       "Time True: None - Pred: None\">4</button><button type=\"button\" class=\"btn btn-danger\" style=\"margin-right: 10px;\"title=\"Event True: 3 - Pred: 4\n",
       "Time True: None - Pred: None\">3</button><button type=\"button\" class=\"btn btn-success\" style=\"margin-right: 10px;\"title=\"Event True: 5 - Pred: 5\n",
       "Time True: None - Pred: None\">5</button></div><br><div><strong><u>5</u></strong> <button type=\"button\" class=\"btn btn-success\" style=\"margin-right: 10px;\"title=\"Event True: 2 - Pred: 2\n",
       "Time True: None - Pred: None\">2</button><button type=\"button\" class=\"btn btn-success\" style=\"margin-right: 10px;\"title=\"Event True: 3 - Pred: 3\n",
       "Time True: None - Pred: None\">3</button><button type=\"button\" class=\"btn btn-success\" style=\"margin-right: 10px;\"title=\"Event True: 4 - Pred: 4\n",
       "Time True: None - Pred: None\">4</button><button type=\"button\" class=\"btn btn-success\" style=\"margin-right: 10px;\"title=\"Event True: 5 - Pred: 5\n",
       "Time True: None - Pred: None\">5</button></div><br>"
      ],
      "text/plain": [
       "<IPython.core.display.HTML object>"
      ]
     },
     "metadata": {},
     "output_type": "display_data"
    }
   ],
   "source": [
    "model = Sequential()\n",
    "model.add(layers.Dense(50, activation='linear', batch_input_shape=(None, x['train'].shape[1])))\n",
    "model.add(layers.Dense(num_events, activation='softmax'))\n",
    "\n",
    "model.compile(loss='categorical_crossentropy', optimizer='adam', metrics=['accuracy'])\n",
    "\n",
    "model.fit(x['train'], y_train, validation_data=(x['test'], y_test), batch_size=100, epochs=3)\n",
    "\n",
    "train_pred = convert_flat(np.argmax(model.predict(x['train']), axis=1) + 1, 'train')\n",
    "test_pred = convert_flat(np.argmax(model.predict(x['test']), axis=1) + 1, 'test')\n",
    "show_results('FNN-SingleLinear', train_pred, test_pred)"
   ]
  },
  {
   "cell_type": "markdown",
   "metadata": {},
   "source": [
    "#### Single - relu\n",
    "\n",
    "A single hidden layer using relu activation"
   ]
  },
  {
   "cell_type": "code",
   "execution_count": 31,
   "metadata": {},
   "outputs": [
    {
     "name": "stdout",
     "output_type": "stream",
     "text": [
      "Train on 4000 samples, validate on 800 samples\n",
      "Epoch 1/3\n",
      "4000/4000 [==============================] - 0s 97us/step - loss: 1.5048 - acc: 0.4763 - val_loss: 1.2881 - val_acc: 0.7500\n",
      "Epoch 2/3\n",
      "4000/4000 [==============================] - 0s 12us/step - loss: 1.0992 - acc: 0.7620 - val_loss: 0.9070 - val_acc: 0.8850\n",
      "Epoch 3/3\n",
      "4000/4000 [==============================] - 0s 11us/step - loss: 0.7402 - acc: 0.8742 - val_loss: 0.5870 - val_acc: 0.8850\n",
      "----\n",
      "Train Error:  12.575\n",
      "Test Error:  11.5\n"
     ]
    },
    {
     "data": {
      "text/html": [
       "<h3>Train</h3>"
      ],
      "text/plain": [
       "<IPython.core.display.HTML object>"
      ]
     },
     "metadata": {},
     "output_type": "display_data"
    },
    {
     "data": {
      "text/html": [
       "<div><strong><u>1</u></strong> <button type=\"button\" class=\"btn btn-success\" style=\"margin-right: 10px;\"title=\"Event True: 2 - Pred: 2\n",
       "Time True: None - Pred: None\">2</button><button type=\"button\" class=\"btn btn-danger\" style=\"margin-right: 10px;\"title=\"Event True: 3 - Pred: 4\n",
       "Time True: None - Pred: None\">3</button><button type=\"button\" class=\"btn btn-success\" style=\"margin-right: 10px;\"title=\"Event True: 4 - Pred: 4\n",
       "Time True: None - Pred: None\">4</button><button type=\"button\" class=\"btn btn-success\" style=\"margin-right: 10px;\"title=\"Event True: 5 - Pred: 5\n",
       "Time True: None - Pred: None\">5</button></div><br><div><strong><u>2</u></strong> <button type=\"button\" class=\"btn btn-success\" style=\"margin-right: 10px;\"title=\"Event True: 2 - Pred: 2\n",
       "Time True: None - Pred: None\">2</button><button type=\"button\" class=\"btn btn-success\" style=\"margin-right: 10px;\"title=\"Event True: 4 - Pred: 4\n",
       "Time True: None - Pred: None\">4</button><button type=\"button\" class=\"btn btn-success\" style=\"margin-right: 10px;\"title=\"Event True: 3 - Pred: 3\n",
       "Time True: None - Pred: None\">3</button><button type=\"button\" class=\"btn btn-success\" style=\"margin-right: 10px;\"title=\"Event True: 5 - Pred: 5\n",
       "Time True: None - Pred: None\">5</button></div><br><div><strong><u>3</u></strong> <button type=\"button\" class=\"btn btn-success\" style=\"margin-right: 10px;\"title=\"Event True: 2 - Pred: 2\n",
       "Time True: None - Pred: None\">2</button><button type=\"button\" class=\"btn btn-success\" style=\"margin-right: 10px;\"title=\"Event True: 4 - Pred: 4\n",
       "Time True: None - Pred: None\">4</button><button type=\"button\" class=\"btn btn-success\" style=\"margin-right: 10px;\"title=\"Event True: 3 - Pred: 3\n",
       "Time True: None - Pred: None\">3</button><button type=\"button\" class=\"btn btn-success\" style=\"margin-right: 10px;\"title=\"Event True: 5 - Pred: 5\n",
       "Time True: None - Pred: None\">5</button></div><br><div><strong><u>4</u></strong> <button type=\"button\" class=\"btn btn-success\" style=\"margin-right: 10px;\"title=\"Event True: 2 - Pred: 2\n",
       "Time True: None - Pred: None\">2</button><button type=\"button\" class=\"btn btn-danger\" style=\"margin-right: 10px;\"title=\"Event True: 3 - Pred: 4\n",
       "Time True: None - Pred: None\">3</button><button type=\"button\" class=\"btn btn-success\" style=\"margin-right: 10px;\"title=\"Event True: 4 - Pred: 4\n",
       "Time True: None - Pred: None\">4</button><button type=\"button\" class=\"btn btn-success\" style=\"margin-right: 10px;\"title=\"Event True: 5 - Pred: 5\n",
       "Time True: None - Pred: None\">5</button></div><br><div><strong><u>5</u></strong> <button type=\"button\" class=\"btn btn-success\" style=\"margin-right: 10px;\"title=\"Event True: 2 - Pred: 2\n",
       "Time True: None - Pred: None\">2</button><button type=\"button\" class=\"btn btn-danger\" style=\"margin-right: 10px;\"title=\"Event True: 3 - Pred: 4\n",
       "Time True: None - Pred: None\">3</button><button type=\"button\" class=\"btn btn-success\" style=\"margin-right: 10px;\"title=\"Event True: 4 - Pred: 4\n",
       "Time True: None - Pred: None\">4</button><button type=\"button\" class=\"btn btn-success\" style=\"margin-right: 10px;\"title=\"Event True: 5 - Pred: 5\n",
       "Time True: None - Pred: None\">5</button></div><br>"
      ],
      "text/plain": [
       "<IPython.core.display.HTML object>"
      ]
     },
     "metadata": {},
     "output_type": "display_data"
    },
    {
     "data": {
      "text/html": [
       "<h3>Test</h3>"
      ],
      "text/plain": [
       "<IPython.core.display.HTML object>"
      ]
     },
     "metadata": {},
     "output_type": "display_data"
    },
    {
     "data": {
      "text/html": [
       "<div><strong><u>1</u></strong> <button type=\"button\" class=\"btn btn-success\" style=\"margin-right: 10px;\"title=\"Event True: 2 - Pred: 2\n",
       "Time True: None - Pred: None\">2</button><button type=\"button\" class=\"btn btn-success\" style=\"margin-right: 10px;\"title=\"Event True: 4 - Pred: 4\n",
       "Time True: None - Pred: None\">4</button><button type=\"button\" class=\"btn btn-danger\" style=\"margin-right: 10px;\"title=\"Event True: 3 - Pred: 4\n",
       "Time True: None - Pred: None\">3</button><button type=\"button\" class=\"btn btn-success\" style=\"margin-right: 10px;\"title=\"Event True: 5 - Pred: 5\n",
       "Time True: None - Pred: None\">5</button></div><br><div><strong><u>2</u></strong> <button type=\"button\" class=\"btn btn-success\" style=\"margin-right: 10px;\"title=\"Event True: 2 - Pred: 2\n",
       "Time True: None - Pred: None\">2</button><button type=\"button\" class=\"btn btn-success\" style=\"margin-right: 10px;\"title=\"Event True: 4 - Pred: 4\n",
       "Time True: None - Pred: None\">4</button><button type=\"button\" class=\"btn btn-success\" style=\"margin-right: 10px;\"title=\"Event True: 3 - Pred: 3\n",
       "Time True: None - Pred: None\">3</button><button type=\"button\" class=\"btn btn-success\" style=\"margin-right: 10px;\"title=\"Event True: 5 - Pred: 5\n",
       "Time True: None - Pred: None\">5</button></div><br><div><strong><u>3</u></strong> <button type=\"button\" class=\"btn btn-success\" style=\"margin-right: 10px;\"title=\"Event True: 2 - Pred: 2\n",
       "Time True: None - Pred: None\">2</button><button type=\"button\" class=\"btn btn-success\" style=\"margin-right: 10px;\"title=\"Event True: 4 - Pred: 4\n",
       "Time True: None - Pred: None\">4</button><button type=\"button\" class=\"btn btn-success\" style=\"margin-right: 10px;\"title=\"Event True: 3 - Pred: 3\n",
       "Time True: None - Pred: None\">3</button><button type=\"button\" class=\"btn btn-success\" style=\"margin-right: 10px;\"title=\"Event True: 5 - Pred: 5\n",
       "Time True: None - Pred: None\">5</button></div><br><div><strong><u>4</u></strong> <button type=\"button\" class=\"btn btn-success\" style=\"margin-right: 10px;\"title=\"Event True: 2 - Pred: 2\n",
       "Time True: None - Pred: None\">2</button><button type=\"button\" class=\"btn btn-success\" style=\"margin-right: 10px;\"title=\"Event True: 4 - Pred: 4\n",
       "Time True: None - Pred: None\">4</button><button type=\"button\" class=\"btn btn-danger\" style=\"margin-right: 10px;\"title=\"Event True: 3 - Pred: 4\n",
       "Time True: None - Pred: None\">3</button><button type=\"button\" class=\"btn btn-success\" style=\"margin-right: 10px;\"title=\"Event True: 5 - Pred: 5\n",
       "Time True: None - Pred: None\">5</button></div><br><div><strong><u>5</u></strong> <button type=\"button\" class=\"btn btn-success\" style=\"margin-right: 10px;\"title=\"Event True: 2 - Pred: 2\n",
       "Time True: None - Pred: None\">2</button><button type=\"button\" class=\"btn btn-danger\" style=\"margin-right: 10px;\"title=\"Event True: 3 - Pred: 4\n",
       "Time True: None - Pred: None\">3</button><button type=\"button\" class=\"btn btn-success\" style=\"margin-right: 10px;\"title=\"Event True: 4 - Pred: 4\n",
       "Time True: None - Pred: None\">4</button><button type=\"button\" class=\"btn btn-success\" style=\"margin-right: 10px;\"title=\"Event True: 5 - Pred: 5\n",
       "Time True: None - Pred: None\">5</button></div><br>"
      ],
      "text/plain": [
       "<IPython.core.display.HTML object>"
      ]
     },
     "metadata": {},
     "output_type": "display_data"
    }
   ],
   "source": [
    "model = Sequential()\n",
    "model.add(layers.Dense(50, activation='relu', batch_input_shape=(None, x['train'].shape[1])))\n",
    "model.add(layers.Dense(num_events, activation='softmax'))\n",
    "\n",
    "model.compile(loss='categorical_crossentropy', optimizer='adam', metrics=['accuracy'])\n",
    "\n",
    "model.fit(x['train'], y_train, validation_data=(x['test'], y_test), batch_size=100, epochs=3)\n",
    "\n",
    "train_pred = convert_flat(np.argmax(model.predict(x['train']), axis=1) + 1, 'train')\n",
    "test_pred = convert_flat(np.argmax(model.predict(x['test']), axis=1) + 1, 'test')\n",
    "show_results('FNN-SingleRelu', train_pred, test_pred)"
   ]
  },
  {
   "cell_type": "markdown",
   "metadata": {},
   "source": [
    "#### Multiple - tanh\n",
    "\n",
    "Multiple hidden layers with tanh activation"
   ]
  },
  {
   "cell_type": "code",
   "execution_count": 32,
   "metadata": {},
   "outputs": [
    {
     "name": "stdout",
     "output_type": "stream",
     "text": [
      "Train on 4000 samples, validate on 800 samples\n",
      "Epoch 1/3\n",
      "4000/4000 [==============================] - 0s 115us/step - loss: 1.0146 - acc: 0.7957 - val_loss: 0.6722 - val_acc: 0.8850\n",
      "Epoch 2/3\n",
      "4000/4000 [==============================] - 0s 12us/step - loss: 0.5056 - acc: 0.8697 - val_loss: 0.3824 - val_acc: 0.8850\n",
      "Epoch 3/3\n",
      "4000/4000 [==============================] - 0s 12us/step - loss: 0.3246 - acc: 0.8697 - val_loss: 0.2791 - val_acc: 0.8850\n",
      "----\n",
      "Train Error:  12.575\n",
      "Test Error:  11.5\n"
     ]
    },
    {
     "data": {
      "text/html": [
       "<h3>Train</h3>"
      ],
      "text/plain": [
       "<IPython.core.display.HTML object>"
      ]
     },
     "metadata": {},
     "output_type": "display_data"
    },
    {
     "data": {
      "text/html": [
       "<div><strong><u>1</u></strong> <button type=\"button\" class=\"btn btn-success\" style=\"margin-right: 10px;\"title=\"Event True: 2 - Pred: 2\n",
       "Time True: None - Pred: None\">2</button><button type=\"button\" class=\"btn btn-danger\" style=\"margin-right: 10px;\"title=\"Event True: 3 - Pred: 4\n",
       "Time True: None - Pred: None\">3</button><button type=\"button\" class=\"btn btn-success\" style=\"margin-right: 10px;\"title=\"Event True: 4 - Pred: 4\n",
       "Time True: None - Pred: None\">4</button><button type=\"button\" class=\"btn btn-success\" style=\"margin-right: 10px;\"title=\"Event True: 5 - Pred: 5\n",
       "Time True: None - Pred: None\">5</button></div><br><div><strong><u>2</u></strong> <button type=\"button\" class=\"btn btn-success\" style=\"margin-right: 10px;\"title=\"Event True: 2 - Pred: 2\n",
       "Time True: None - Pred: None\">2</button><button type=\"button\" class=\"btn btn-success\" style=\"margin-right: 10px;\"title=\"Event True: 4 - Pred: 4\n",
       "Time True: None - Pred: None\">4</button><button type=\"button\" class=\"btn btn-success\" style=\"margin-right: 10px;\"title=\"Event True: 3 - Pred: 3\n",
       "Time True: None - Pred: None\">3</button><button type=\"button\" class=\"btn btn-success\" style=\"margin-right: 10px;\"title=\"Event True: 5 - Pred: 5\n",
       "Time True: None - Pred: None\">5</button></div><br><div><strong><u>3</u></strong> <button type=\"button\" class=\"btn btn-success\" style=\"margin-right: 10px;\"title=\"Event True: 2 - Pred: 2\n",
       "Time True: None - Pred: None\">2</button><button type=\"button\" class=\"btn btn-success\" style=\"margin-right: 10px;\"title=\"Event True: 4 - Pred: 4\n",
       "Time True: None - Pred: None\">4</button><button type=\"button\" class=\"btn btn-success\" style=\"margin-right: 10px;\"title=\"Event True: 3 - Pred: 3\n",
       "Time True: None - Pred: None\">3</button><button type=\"button\" class=\"btn btn-success\" style=\"margin-right: 10px;\"title=\"Event True: 5 - Pred: 5\n",
       "Time True: None - Pred: None\">5</button></div><br><div><strong><u>4</u></strong> <button type=\"button\" class=\"btn btn-success\" style=\"margin-right: 10px;\"title=\"Event True: 2 - Pred: 2\n",
       "Time True: None - Pred: None\">2</button><button type=\"button\" class=\"btn btn-danger\" style=\"margin-right: 10px;\"title=\"Event True: 3 - Pred: 4\n",
       "Time True: None - Pred: None\">3</button><button type=\"button\" class=\"btn btn-success\" style=\"margin-right: 10px;\"title=\"Event True: 4 - Pred: 4\n",
       "Time True: None - Pred: None\">4</button><button type=\"button\" class=\"btn btn-success\" style=\"margin-right: 10px;\"title=\"Event True: 5 - Pred: 5\n",
       "Time True: None - Pred: None\">5</button></div><br><div><strong><u>5</u></strong> <button type=\"button\" class=\"btn btn-success\" style=\"margin-right: 10px;\"title=\"Event True: 2 - Pred: 2\n",
       "Time True: None - Pred: None\">2</button><button type=\"button\" class=\"btn btn-danger\" style=\"margin-right: 10px;\"title=\"Event True: 3 - Pred: 4\n",
       "Time True: None - Pred: None\">3</button><button type=\"button\" class=\"btn btn-success\" style=\"margin-right: 10px;\"title=\"Event True: 4 - Pred: 4\n",
       "Time True: None - Pred: None\">4</button><button type=\"button\" class=\"btn btn-success\" style=\"margin-right: 10px;\"title=\"Event True: 5 - Pred: 5\n",
       "Time True: None - Pred: None\">5</button></div><br>"
      ],
      "text/plain": [
       "<IPython.core.display.HTML object>"
      ]
     },
     "metadata": {},
     "output_type": "display_data"
    },
    {
     "data": {
      "text/html": [
       "<h3>Test</h3>"
      ],
      "text/plain": [
       "<IPython.core.display.HTML object>"
      ]
     },
     "metadata": {},
     "output_type": "display_data"
    },
    {
     "data": {
      "text/html": [
       "<div><strong><u>1</u></strong> <button type=\"button\" class=\"btn btn-success\" style=\"margin-right: 10px;\"title=\"Event True: 2 - Pred: 2\n",
       "Time True: None - Pred: None\">2</button><button type=\"button\" class=\"btn btn-success\" style=\"margin-right: 10px;\"title=\"Event True: 4 - Pred: 4\n",
       "Time True: None - Pred: None\">4</button><button type=\"button\" class=\"btn btn-danger\" style=\"margin-right: 10px;\"title=\"Event True: 3 - Pred: 4\n",
       "Time True: None - Pred: None\">3</button><button type=\"button\" class=\"btn btn-success\" style=\"margin-right: 10px;\"title=\"Event True: 5 - Pred: 5\n",
       "Time True: None - Pred: None\">5</button></div><br><div><strong><u>2</u></strong> <button type=\"button\" class=\"btn btn-success\" style=\"margin-right: 10px;\"title=\"Event True: 2 - Pred: 2\n",
       "Time True: None - Pred: None\">2</button><button type=\"button\" class=\"btn btn-success\" style=\"margin-right: 10px;\"title=\"Event True: 4 - Pred: 4\n",
       "Time True: None - Pred: None\">4</button><button type=\"button\" class=\"btn btn-success\" style=\"margin-right: 10px;\"title=\"Event True: 3 - Pred: 3\n",
       "Time True: None - Pred: None\">3</button><button type=\"button\" class=\"btn btn-success\" style=\"margin-right: 10px;\"title=\"Event True: 5 - Pred: 5\n",
       "Time True: None - Pred: None\">5</button></div><br><div><strong><u>3</u></strong> <button type=\"button\" class=\"btn btn-success\" style=\"margin-right: 10px;\"title=\"Event True: 2 - Pred: 2\n",
       "Time True: None - Pred: None\">2</button><button type=\"button\" class=\"btn btn-success\" style=\"margin-right: 10px;\"title=\"Event True: 4 - Pred: 4\n",
       "Time True: None - Pred: None\">4</button><button type=\"button\" class=\"btn btn-success\" style=\"margin-right: 10px;\"title=\"Event True: 3 - Pred: 3\n",
       "Time True: None - Pred: None\">3</button><button type=\"button\" class=\"btn btn-success\" style=\"margin-right: 10px;\"title=\"Event True: 5 - Pred: 5\n",
       "Time True: None - Pred: None\">5</button></div><br><div><strong><u>4</u></strong> <button type=\"button\" class=\"btn btn-success\" style=\"margin-right: 10px;\"title=\"Event True: 2 - Pred: 2\n",
       "Time True: None - Pred: None\">2</button><button type=\"button\" class=\"btn btn-success\" style=\"margin-right: 10px;\"title=\"Event True: 4 - Pred: 4\n",
       "Time True: None - Pred: None\">4</button><button type=\"button\" class=\"btn btn-danger\" style=\"margin-right: 10px;\"title=\"Event True: 3 - Pred: 4\n",
       "Time True: None - Pred: None\">3</button><button type=\"button\" class=\"btn btn-success\" style=\"margin-right: 10px;\"title=\"Event True: 5 - Pred: 5\n",
       "Time True: None - Pred: None\">5</button></div><br><div><strong><u>5</u></strong> <button type=\"button\" class=\"btn btn-success\" style=\"margin-right: 10px;\"title=\"Event True: 2 - Pred: 2\n",
       "Time True: None - Pred: None\">2</button><button type=\"button\" class=\"btn btn-danger\" style=\"margin-right: 10px;\"title=\"Event True: 3 - Pred: 4\n",
       "Time True: None - Pred: None\">3</button><button type=\"button\" class=\"btn btn-success\" style=\"margin-right: 10px;\"title=\"Event True: 4 - Pred: 4\n",
       "Time True: None - Pred: None\">4</button><button type=\"button\" class=\"btn btn-success\" style=\"margin-right: 10px;\"title=\"Event True: 5 - Pred: 5\n",
       "Time True: None - Pred: None\">5</button></div><br>"
      ],
      "text/plain": [
       "<IPython.core.display.HTML object>"
      ]
     },
     "metadata": {},
     "output_type": "display_data"
    }
   ],
   "source": [
    "model = Sequential()\n",
    "model.add(layers.Dense(50, activation='tanh', batch_input_shape=(None, x['train'].shape[1])))\n",
    "model.add(layers.Dense(15, activation='tanh'))\n",
    "model.add(layers.Dense(num_events, activation='softmax'))\n",
    "\n",
    "model.compile(loss='categorical_crossentropy', optimizer='adam', metrics=['accuracy'])\n",
    "\n",
    "model.fit(x['train'], y_train, validation_data=(x['test'], y_test), batch_size=100, epochs=3)\n",
    "\n",
    "train_pred = convert_flat(np.argmax(model.predict(x['train']), axis=1) + 1, 'train')\n",
    "test_pred = convert_flat(np.argmax(model.predict(x['test']), axis=1) + 1, 'test')\n",
    "show_results('FNN-MultipleTanh', train_pred, test_pred)"
   ]
  },
  {
   "cell_type": "markdown",
   "metadata": {},
   "source": [
    "#### Multiple - linear\n",
    "\n",
    "Multiple hidden layers with linear activation"
   ]
  },
  {
   "cell_type": "code",
   "execution_count": 33,
   "metadata": {
    "scrolled": true
   },
   "outputs": [
    {
     "name": "stdout",
     "output_type": "stream",
     "text": [
      "Train on 4000 samples, validate on 800 samples\n",
      "Epoch 1/3\n",
      "4000/4000 [==============================] - 0s 121us/step - loss: 1.1222 - acc: 0.7115 - val_loss: 0.6886 - val_acc: 0.8650\n",
      "Epoch 2/3\n",
      "4000/4000 [==============================] - 0s 12us/step - loss: 0.4600 - acc: 0.8727 - val_loss: 0.3104 - val_acc: 0.8850\n",
      "Epoch 3/3\n",
      "4000/4000 [==============================] - 0s 11us/step - loss: 0.2585 - acc: 0.8810 - val_loss: 0.2240 - val_acc: 0.8850\n",
      "----\n",
      "Train Error:  12.575\n",
      "Test Error:  11.5\n"
     ]
    },
    {
     "data": {
      "text/html": [
       "<h3>Train</h3>"
      ],
      "text/plain": [
       "<IPython.core.display.HTML object>"
      ]
     },
     "metadata": {},
     "output_type": "display_data"
    },
    {
     "data": {
      "text/html": [
       "<div><strong><u>1</u></strong> <button type=\"button\" class=\"btn btn-success\" style=\"margin-right: 10px;\"title=\"Event True: 2 - Pred: 2\n",
       "Time True: None - Pred: None\">2</button><button type=\"button\" class=\"btn btn-danger\" style=\"margin-right: 10px;\"title=\"Event True: 3 - Pred: 4\n",
       "Time True: None - Pred: None\">3</button><button type=\"button\" class=\"btn btn-success\" style=\"margin-right: 10px;\"title=\"Event True: 4 - Pred: 4\n",
       "Time True: None - Pred: None\">4</button><button type=\"button\" class=\"btn btn-success\" style=\"margin-right: 10px;\"title=\"Event True: 5 - Pred: 5\n",
       "Time True: None - Pred: None\">5</button></div><br><div><strong><u>2</u></strong> <button type=\"button\" class=\"btn btn-success\" style=\"margin-right: 10px;\"title=\"Event True: 2 - Pred: 2\n",
       "Time True: None - Pred: None\">2</button><button type=\"button\" class=\"btn btn-success\" style=\"margin-right: 10px;\"title=\"Event True: 4 - Pred: 4\n",
       "Time True: None - Pred: None\">4</button><button type=\"button\" class=\"btn btn-success\" style=\"margin-right: 10px;\"title=\"Event True: 3 - Pred: 3\n",
       "Time True: None - Pred: None\">3</button><button type=\"button\" class=\"btn btn-success\" style=\"margin-right: 10px;\"title=\"Event True: 5 - Pred: 5\n",
       "Time True: None - Pred: None\">5</button></div><br><div><strong><u>3</u></strong> <button type=\"button\" class=\"btn btn-success\" style=\"margin-right: 10px;\"title=\"Event True: 2 - Pred: 2\n",
       "Time True: None - Pred: None\">2</button><button type=\"button\" class=\"btn btn-success\" style=\"margin-right: 10px;\"title=\"Event True: 4 - Pred: 4\n",
       "Time True: None - Pred: None\">4</button><button type=\"button\" class=\"btn btn-success\" style=\"margin-right: 10px;\"title=\"Event True: 3 - Pred: 3\n",
       "Time True: None - Pred: None\">3</button><button type=\"button\" class=\"btn btn-success\" style=\"margin-right: 10px;\"title=\"Event True: 5 - Pred: 5\n",
       "Time True: None - Pred: None\">5</button></div><br><div><strong><u>4</u></strong> <button type=\"button\" class=\"btn btn-success\" style=\"margin-right: 10px;\"title=\"Event True: 2 - Pred: 2\n",
       "Time True: None - Pred: None\">2</button><button type=\"button\" class=\"btn btn-danger\" style=\"margin-right: 10px;\"title=\"Event True: 3 - Pred: 4\n",
       "Time True: None - Pred: None\">3</button><button type=\"button\" class=\"btn btn-success\" style=\"margin-right: 10px;\"title=\"Event True: 4 - Pred: 4\n",
       "Time True: None - Pred: None\">4</button><button type=\"button\" class=\"btn btn-success\" style=\"margin-right: 10px;\"title=\"Event True: 5 - Pred: 5\n",
       "Time True: None - Pred: None\">5</button></div><br><div><strong><u>5</u></strong> <button type=\"button\" class=\"btn btn-success\" style=\"margin-right: 10px;\"title=\"Event True: 2 - Pred: 2\n",
       "Time True: None - Pred: None\">2</button><button type=\"button\" class=\"btn btn-danger\" style=\"margin-right: 10px;\"title=\"Event True: 3 - Pred: 4\n",
       "Time True: None - Pred: None\">3</button><button type=\"button\" class=\"btn btn-success\" style=\"margin-right: 10px;\"title=\"Event True: 4 - Pred: 4\n",
       "Time True: None - Pred: None\">4</button><button type=\"button\" class=\"btn btn-success\" style=\"margin-right: 10px;\"title=\"Event True: 5 - Pred: 5\n",
       "Time True: None - Pred: None\">5</button></div><br>"
      ],
      "text/plain": [
       "<IPython.core.display.HTML object>"
      ]
     },
     "metadata": {},
     "output_type": "display_data"
    },
    {
     "data": {
      "text/html": [
       "<h3>Test</h3>"
      ],
      "text/plain": [
       "<IPython.core.display.HTML object>"
      ]
     },
     "metadata": {},
     "output_type": "display_data"
    },
    {
     "data": {
      "text/html": [
       "<div><strong><u>1</u></strong> <button type=\"button\" class=\"btn btn-success\" style=\"margin-right: 10px;\"title=\"Event True: 2 - Pred: 2\n",
       "Time True: None - Pred: None\">2</button><button type=\"button\" class=\"btn btn-success\" style=\"margin-right: 10px;\"title=\"Event True: 4 - Pred: 4\n",
       "Time True: None - Pred: None\">4</button><button type=\"button\" class=\"btn btn-danger\" style=\"margin-right: 10px;\"title=\"Event True: 3 - Pred: 4\n",
       "Time True: None - Pred: None\">3</button><button type=\"button\" class=\"btn btn-success\" style=\"margin-right: 10px;\"title=\"Event True: 5 - Pred: 5\n",
       "Time True: None - Pred: None\">5</button></div><br><div><strong><u>2</u></strong> <button type=\"button\" class=\"btn btn-success\" style=\"margin-right: 10px;\"title=\"Event True: 2 - Pred: 2\n",
       "Time True: None - Pred: None\">2</button><button type=\"button\" class=\"btn btn-success\" style=\"margin-right: 10px;\"title=\"Event True: 4 - Pred: 4\n",
       "Time True: None - Pred: None\">4</button><button type=\"button\" class=\"btn btn-success\" style=\"margin-right: 10px;\"title=\"Event True: 3 - Pred: 3\n",
       "Time True: None - Pred: None\">3</button><button type=\"button\" class=\"btn btn-success\" style=\"margin-right: 10px;\"title=\"Event True: 5 - Pred: 5\n",
       "Time True: None - Pred: None\">5</button></div><br><div><strong><u>3</u></strong> <button type=\"button\" class=\"btn btn-success\" style=\"margin-right: 10px;\"title=\"Event True: 2 - Pred: 2\n",
       "Time True: None - Pred: None\">2</button><button type=\"button\" class=\"btn btn-success\" style=\"margin-right: 10px;\"title=\"Event True: 4 - Pred: 4\n",
       "Time True: None - Pred: None\">4</button><button type=\"button\" class=\"btn btn-success\" style=\"margin-right: 10px;\"title=\"Event True: 3 - Pred: 3\n",
       "Time True: None - Pred: None\">3</button><button type=\"button\" class=\"btn btn-success\" style=\"margin-right: 10px;\"title=\"Event True: 5 - Pred: 5\n",
       "Time True: None - Pred: None\">5</button></div><br><div><strong><u>4</u></strong> <button type=\"button\" class=\"btn btn-success\" style=\"margin-right: 10px;\"title=\"Event True: 2 - Pred: 2\n",
       "Time True: None - Pred: None\">2</button><button type=\"button\" class=\"btn btn-success\" style=\"margin-right: 10px;\"title=\"Event True: 4 - Pred: 4\n",
       "Time True: None - Pred: None\">4</button><button type=\"button\" class=\"btn btn-danger\" style=\"margin-right: 10px;\"title=\"Event True: 3 - Pred: 4\n",
       "Time True: None - Pred: None\">3</button><button type=\"button\" class=\"btn btn-success\" style=\"margin-right: 10px;\"title=\"Event True: 5 - Pred: 5\n",
       "Time True: None - Pred: None\">5</button></div><br><div><strong><u>5</u></strong> <button type=\"button\" class=\"btn btn-success\" style=\"margin-right: 10px;\"title=\"Event True: 2 - Pred: 2\n",
       "Time True: None - Pred: None\">2</button><button type=\"button\" class=\"btn btn-danger\" style=\"margin-right: 10px;\"title=\"Event True: 3 - Pred: 4\n",
       "Time True: None - Pred: None\">3</button><button type=\"button\" class=\"btn btn-success\" style=\"margin-right: 10px;\"title=\"Event True: 4 - Pred: 4\n",
       "Time True: None - Pred: None\">4</button><button type=\"button\" class=\"btn btn-success\" style=\"margin-right: 10px;\"title=\"Event True: 5 - Pred: 5\n",
       "Time True: None - Pred: None\">5</button></div><br>"
      ],
      "text/plain": [
       "<IPython.core.display.HTML object>"
      ]
     },
     "metadata": {},
     "output_type": "display_data"
    }
   ],
   "source": [
    "model = Sequential()\n",
    "model.add(layers.Dense(50, activation='linear', batch_input_shape=(None, x['train'].shape[1])))\n",
    "model.add(layers.Dense(15, activation='linear'))\n",
    "model.add(layers.Dense(num_events, activation='softmax'))\n",
    "\n",
    "model.compile(loss='categorical_crossentropy', optimizer='adam', metrics=['accuracy'])\n",
    "\n",
    "model.fit(x['train'], y_train, validation_data=(x['test'], y_test), batch_size=100, epochs=3)\n",
    "\n",
    "train_pred = convert_flat(np.argmax(model.predict(x['train']), axis=1) + 1, 'train')\n",
    "test_pred = convert_flat(np.argmax(model.predict(x['test']), axis=1) + 1, 'test')\n",
    "show_results('FNN-MultipleLinear', train_pred, test_pred)"
   ]
  },
  {
   "cell_type": "markdown",
   "metadata": {},
   "source": [
    "#### Multiple - relu\n",
    "\n",
    "Multiple hidden layers with relu activation"
   ]
  },
  {
   "cell_type": "code",
   "execution_count": 34,
   "metadata": {
    "scrolled": true
   },
   "outputs": [
    {
     "name": "stdout",
     "output_type": "stream",
     "text": [
      "Train on 4000 samples, validate on 800 samples\n",
      "Epoch 1/3\n",
      "4000/4000 [==============================] - 1s 137us/step - loss: 1.4668 - acc: 0.6175 - val_loss: 1.3040 - val_acc: 0.7500\n",
      "Epoch 2/3\n",
      "4000/4000 [==============================] - 0s 24us/step - loss: 1.1332 - acc: 0.8202 - val_loss: 0.9541 - val_acc: 0.8650\n",
      "Epoch 3/3\n",
      "4000/4000 [==============================] - 0s 13us/step - loss: 0.7813 - acc: 0.8757 - val_loss: 0.6198 - val_acc: 0.8650\n",
      "----\n",
      "Train Error:  12.425\n",
      "Test Error:  13.5\n"
     ]
    },
    {
     "data": {
      "text/html": [
       "<h3>Train</h3>"
      ],
      "text/plain": [
       "<IPython.core.display.HTML object>"
      ]
     },
     "metadata": {},
     "output_type": "display_data"
    },
    {
     "data": {
      "text/html": [
       "<div><strong><u>1</u></strong> <button type=\"button\" class=\"btn btn-success\" style=\"margin-right: 10px;\"title=\"Event True: 2 - Pred: 2\n",
       "Time True: None - Pred: None\">2</button><button type=\"button\" class=\"btn btn-success\" style=\"margin-right: 10px;\"title=\"Event True: 3 - Pred: 3\n",
       "Time True: None - Pred: None\">3</button><button type=\"button\" class=\"btn btn-success\" style=\"margin-right: 10px;\"title=\"Event True: 4 - Pred: 4\n",
       "Time True: None - Pred: None\">4</button><button type=\"button\" class=\"btn btn-success\" style=\"margin-right: 10px;\"title=\"Event True: 5 - Pred: 5\n",
       "Time True: None - Pred: None\">5</button></div><br><div><strong><u>2</u></strong> <button type=\"button\" class=\"btn btn-success\" style=\"margin-right: 10px;\"title=\"Event True: 2 - Pred: 2\n",
       "Time True: None - Pred: None\">2</button><button type=\"button\" class=\"btn btn-danger\" style=\"margin-right: 10px;\"title=\"Event True: 4 - Pred: 3\n",
       "Time True: None - Pred: None\">4</button><button type=\"button\" class=\"btn btn-success\" style=\"margin-right: 10px;\"title=\"Event True: 3 - Pred: 3\n",
       "Time True: None - Pred: None\">3</button><button type=\"button\" class=\"btn btn-success\" style=\"margin-right: 10px;\"title=\"Event True: 5 - Pred: 5\n",
       "Time True: None - Pred: None\">5</button></div><br><div><strong><u>3</u></strong> <button type=\"button\" class=\"btn btn-success\" style=\"margin-right: 10px;\"title=\"Event True: 2 - Pred: 2\n",
       "Time True: None - Pred: None\">2</button><button type=\"button\" class=\"btn btn-danger\" style=\"margin-right: 10px;\"title=\"Event True: 4 - Pred: 3\n",
       "Time True: None - Pred: None\">4</button><button type=\"button\" class=\"btn btn-success\" style=\"margin-right: 10px;\"title=\"Event True: 3 - Pred: 3\n",
       "Time True: None - Pred: None\">3</button><button type=\"button\" class=\"btn btn-success\" style=\"margin-right: 10px;\"title=\"Event True: 5 - Pred: 5\n",
       "Time True: None - Pred: None\">5</button></div><br><div><strong><u>4</u></strong> <button type=\"button\" class=\"btn btn-success\" style=\"margin-right: 10px;\"title=\"Event True: 2 - Pred: 2\n",
       "Time True: None - Pred: None\">2</button><button type=\"button\" class=\"btn btn-success\" style=\"margin-right: 10px;\"title=\"Event True: 3 - Pred: 3\n",
       "Time True: None - Pred: None\">3</button><button type=\"button\" class=\"btn btn-success\" style=\"margin-right: 10px;\"title=\"Event True: 4 - Pred: 4\n",
       "Time True: None - Pred: None\">4</button><button type=\"button\" class=\"btn btn-success\" style=\"margin-right: 10px;\"title=\"Event True: 5 - Pred: 5\n",
       "Time True: None - Pred: None\">5</button></div><br><div><strong><u>5</u></strong> <button type=\"button\" class=\"btn btn-success\" style=\"margin-right: 10px;\"title=\"Event True: 2 - Pred: 2\n",
       "Time True: None - Pred: None\">2</button><button type=\"button\" class=\"btn btn-success\" style=\"margin-right: 10px;\"title=\"Event True: 3 - Pred: 3\n",
       "Time True: None - Pred: None\">3</button><button type=\"button\" class=\"btn btn-success\" style=\"margin-right: 10px;\"title=\"Event True: 4 - Pred: 4\n",
       "Time True: None - Pred: None\">4</button><button type=\"button\" class=\"btn btn-success\" style=\"margin-right: 10px;\"title=\"Event True: 5 - Pred: 5\n",
       "Time True: None - Pred: None\">5</button></div><br>"
      ],
      "text/plain": [
       "<IPython.core.display.HTML object>"
      ]
     },
     "metadata": {},
     "output_type": "display_data"
    },
    {
     "data": {
      "text/html": [
       "<h3>Test</h3>"
      ],
      "text/plain": [
       "<IPython.core.display.HTML object>"
      ]
     },
     "metadata": {},
     "output_type": "display_data"
    },
    {
     "data": {
      "text/html": [
       "<div><strong><u>1</u></strong> <button type=\"button\" class=\"btn btn-success\" style=\"margin-right: 10px;\"title=\"Event True: 2 - Pred: 2\n",
       "Time True: None - Pred: None\">2</button><button type=\"button\" class=\"btn btn-danger\" style=\"margin-right: 10px;\"title=\"Event True: 4 - Pred: 3\n",
       "Time True: None - Pred: None\">4</button><button type=\"button\" class=\"btn btn-danger\" style=\"margin-right: 10px;\"title=\"Event True: 3 - Pred: 4\n",
       "Time True: None - Pred: None\">3</button><button type=\"button\" class=\"btn btn-success\" style=\"margin-right: 10px;\"title=\"Event True: 5 - Pred: 5\n",
       "Time True: None - Pred: None\">5</button></div><br><div><strong><u>2</u></strong> <button type=\"button\" class=\"btn btn-success\" style=\"margin-right: 10px;\"title=\"Event True: 2 - Pred: 2\n",
       "Time True: None - Pred: None\">2</button><button type=\"button\" class=\"btn btn-danger\" style=\"margin-right: 10px;\"title=\"Event True: 4 - Pred: 3\n",
       "Time True: None - Pred: None\">4</button><button type=\"button\" class=\"btn btn-success\" style=\"margin-right: 10px;\"title=\"Event True: 3 - Pred: 3\n",
       "Time True: None - Pred: None\">3</button><button type=\"button\" class=\"btn btn-success\" style=\"margin-right: 10px;\"title=\"Event True: 5 - Pred: 5\n",
       "Time True: None - Pred: None\">5</button></div><br><div><strong><u>3</u></strong> <button type=\"button\" class=\"btn btn-success\" style=\"margin-right: 10px;\"title=\"Event True: 2 - Pred: 2\n",
       "Time True: None - Pred: None\">2</button><button type=\"button\" class=\"btn btn-danger\" style=\"margin-right: 10px;\"title=\"Event True: 4 - Pred: 3\n",
       "Time True: None - Pred: None\">4</button><button type=\"button\" class=\"btn btn-success\" style=\"margin-right: 10px;\"title=\"Event True: 3 - Pred: 3\n",
       "Time True: None - Pred: None\">3</button><button type=\"button\" class=\"btn btn-success\" style=\"margin-right: 10px;\"title=\"Event True: 5 - Pred: 5\n",
       "Time True: None - Pred: None\">5</button></div><br><div><strong><u>4</u></strong> <button type=\"button\" class=\"btn btn-success\" style=\"margin-right: 10px;\"title=\"Event True: 2 - Pred: 2\n",
       "Time True: None - Pred: None\">2</button><button type=\"button\" class=\"btn btn-danger\" style=\"margin-right: 10px;\"title=\"Event True: 4 - Pred: 3\n",
       "Time True: None - Pred: None\">4</button><button type=\"button\" class=\"btn btn-danger\" style=\"margin-right: 10px;\"title=\"Event True: 3 - Pred: 4\n",
       "Time True: None - Pred: None\">3</button><button type=\"button\" class=\"btn btn-success\" style=\"margin-right: 10px;\"title=\"Event True: 5 - Pred: 5\n",
       "Time True: None - Pred: None\">5</button></div><br><div><strong><u>5</u></strong> <button type=\"button\" class=\"btn btn-success\" style=\"margin-right: 10px;\"title=\"Event True: 2 - Pred: 2\n",
       "Time True: None - Pred: None\">2</button><button type=\"button\" class=\"btn btn-success\" style=\"margin-right: 10px;\"title=\"Event True: 3 - Pred: 3\n",
       "Time True: None - Pred: None\">3</button><button type=\"button\" class=\"btn btn-success\" style=\"margin-right: 10px;\"title=\"Event True: 4 - Pred: 4\n",
       "Time True: None - Pred: None\">4</button><button type=\"button\" class=\"btn btn-success\" style=\"margin-right: 10px;\"title=\"Event True: 5 - Pred: 5\n",
       "Time True: None - Pred: None\">5</button></div><br>"
      ],
      "text/plain": [
       "<IPython.core.display.HTML object>"
      ]
     },
     "metadata": {},
     "output_type": "display_data"
    }
   ],
   "source": [
    "model = Sequential()\n",
    "model.add(layers.Dense(50, activation='relu', batch_input_shape=(None, x['train'].shape[1])))\n",
    "model.add(layers.Dense(15, activation='relu'))\n",
    "model.add(layers.Dense(num_events, activation='softmax'))\n",
    "\n",
    "model.compile(loss='categorical_crossentropy', optimizer='adam', metrics=['accuracy'])\n",
    "\n",
    "model.fit(x['train'], y_train, validation_data=(x['test'], y_test), batch_size=100, epochs=3)\n",
    "\n",
    "train_pred = convert_flat(np.argmax(model.predict(x['train']), axis=1) + 1, 'train')\n",
    "test_pred = convert_flat(np.argmax(model.predict(x['test']), axis=1) + 1, 'test')\n",
    "show_results('FNN-MultipleRelu', train_pred, test_pred)"
   ]
  },
  {
   "cell_type": "markdown",
   "metadata": {},
   "source": [
    "# Entire Sequences\n",
    "\n",
    "Instead of using a lookback of CHUNK_SIZE, going to input the entire user history.  (Will use CNN and RNN for this.)\n",
    "\n",
    "Padding the sequences with 0's at the beginning"
   ]
  },
  {
   "cell_type": "markdown",
   "metadata": {},
   "source": [
    "Sequence Data"
   ]
  },
  {
   "cell_type": "code",
   "execution_count": 35,
   "metadata": {},
   "outputs": [],
   "source": [
    "x = {}\n",
    "y = {}\n",
    "\n",
    "for data_type in ['train', 'test']:\n",
    "    x[data_type] = []\n",
    "    y[data_type] = []\n",
    "    for seq in events[data_type]:\n",
    "        x[data_type].append(seq[:-1])\n",
    "        y[data_type].append(seq[1:])\n",
    "\n",
    "    x[data_type] = np.asarray(x[data_type])\n",
    "    y[data_type] = np.asarray(y[data_type])"
   ]
  },
  {
   "cell_type": "code",
   "execution_count": 36,
   "metadata": {},
   "outputs": [
    {
     "name": "stdout",
     "output_type": "stream",
     "text": [
      "Max Seq Length 5\n"
     ]
    }
   ],
   "source": [
    "# Find the max user length\n",
    "user_lengths = [len(seq) for seq in events['train']] + [len(seq) for seq in events['test']]\n",
    "user_length_counts = {}\n",
    "for length in user_lengths:\n",
    "    if length not in user_length_counts:\n",
    "        user_length_counts[length] = 0\n",
    "        \n",
    "    user_length_counts[length] += 1\n",
    "user_lengths = list(set(user_lengths))\n",
    "user_lengths = sorted(user_lengths, reverse=True)\n",
    "max_user_length = max(user_lengths)\n",
    "\n",
    "print('Max Seq Length', max_user_length)\n",
    "# print(user_lengths)"
   ]
  },
  {
   "cell_type": "markdown",
   "metadata": {},
   "source": [
    "Subtract one from x"
   ]
  },
  {
   "cell_type": "code",
   "execution_count": 37,
   "metadata": {},
   "outputs": [],
   "source": [
    "for data_type in ['train', 'test']:\n",
    "    x[data_type] = [[event - 1 for event in seq] for seq in x[data_type]]"
   ]
  },
  {
   "cell_type": "code",
   "execution_count": 38,
   "metadata": {},
   "outputs": [],
   "source": [
    "# Pad sequences\n",
    "from keras.preprocessing import sequence\n",
    "\n",
    "for data_type in ['train', 'test']:\n",
    "    x[data_type] = sequence.pad_sequences(x[data_type], maxlen=max_user_length)\n",
    "    y[data_type] = sequence.pad_sequences(y[data_type], maxlen=max_user_length)"
   ]
  },
  {
   "cell_type": "markdown",
   "metadata": {},
   "source": [
    "y variable needs to be one-hot for everything.  (x will be made one-hot later for different models)"
   ]
  },
  {
   "cell_type": "code",
   "execution_count": 39,
   "metadata": {},
   "outputs": [],
   "source": [
    "num_events = 22\n",
    "one_hot = np.eye(num_events)\n",
    "for data_type in ['train', 'test']:\n",
    "    y[data_type] = [[one_hot[event-1] if event > 0 else np.zeros(num_events) for event in seq] for seq in y[data_type]]\n",
    "    y[data_type] = np.asarray(y[data_type])"
   ]
  },
  {
   "cell_type": "markdown",
   "metadata": {},
   "source": [
    "## Embedding Models"
   ]
  },
  {
   "cell_type": "markdown",
   "metadata": {},
   "source": [
    "### Convolutional Neural Network (CNN)\n",
    "\n",
    "Using the model found here: https://github.com/mhjabreel/CharCnn_Keras/blob/master/models/char_cnn_kim.py\n",
    "\n",
    "*REMOVED*"
   ]
  },
  {
   "cell_type": "markdown",
   "metadata": {},
   "source": [
    "### RNN Cell"
   ]
  },
  {
   "cell_type": "code",
   "execution_count": 40,
   "metadata": {},
   "outputs": [
    {
     "name": "stdout",
     "output_type": "stream",
     "text": [
      "Train on 1000 samples, validate on 200 samples\n",
      "Epoch 1/3\n",
      "1000/1000 [==============================] - 1s 889us/step - loss: 2.2254 - acc: 0.3400 - val_loss: 1.9041 - val_acc: 0.4000\n",
      "Epoch 2/3\n",
      "1000/1000 [==============================] - 0s 116us/step - loss: 1.5957 - acc: 0.4600 - val_loss: 1.2360 - val_acc: 0.6000\n",
      "Epoch 3/3\n",
      "1000/1000 [==============================] - 0s 95us/step - loss: 1.0009 - acc: 0.6602 - val_loss: 0.7472 - val_acc: 0.7080\n",
      "----\n",
      "Train Error:  12.575\n",
      "Test Error:  11.5\n"
     ]
    },
    {
     "data": {
      "text/html": [
       "<h3>Train</h3>"
      ],
      "text/plain": [
       "<IPython.core.display.HTML object>"
      ]
     },
     "metadata": {},
     "output_type": "display_data"
    },
    {
     "data": {
      "text/html": [
       "<div><strong><u>1</u></strong> <button type=\"button\" class=\"btn btn-success\" style=\"margin-right: 10px;\"title=\"Event True: 2 - Pred: 2\n",
       "Time True: None - Pred: None\">2</button><button type=\"button\" class=\"btn btn-danger\" style=\"margin-right: 10px;\"title=\"Event True: 3 - Pred: 4\n",
       "Time True: None - Pred: None\">3</button><button type=\"button\" class=\"btn btn-success\" style=\"margin-right: 10px;\"title=\"Event True: 4 - Pred: 4\n",
       "Time True: None - Pred: None\">4</button><button type=\"button\" class=\"btn btn-success\" style=\"margin-right: 10px;\"title=\"Event True: 5 - Pred: 5\n",
       "Time True: None - Pred: None\">5</button></div><br><div><strong><u>2</u></strong> <button type=\"button\" class=\"btn btn-success\" style=\"margin-right: 10px;\"title=\"Event True: 2 - Pred: 2\n",
       "Time True: None - Pred: None\">2</button><button type=\"button\" class=\"btn btn-success\" style=\"margin-right: 10px;\"title=\"Event True: 4 - Pred: 4\n",
       "Time True: None - Pred: None\">4</button><button type=\"button\" class=\"btn btn-success\" style=\"margin-right: 10px;\"title=\"Event True: 3 - Pred: 3\n",
       "Time True: None - Pred: None\">3</button><button type=\"button\" class=\"btn btn-success\" style=\"margin-right: 10px;\"title=\"Event True: 5 - Pred: 5\n",
       "Time True: None - Pred: None\">5</button></div><br><div><strong><u>3</u></strong> <button type=\"button\" class=\"btn btn-success\" style=\"margin-right: 10px;\"title=\"Event True: 2 - Pred: 2\n",
       "Time True: None - Pred: None\">2</button><button type=\"button\" class=\"btn btn-success\" style=\"margin-right: 10px;\"title=\"Event True: 4 - Pred: 4\n",
       "Time True: None - Pred: None\">4</button><button type=\"button\" class=\"btn btn-success\" style=\"margin-right: 10px;\"title=\"Event True: 3 - Pred: 3\n",
       "Time True: None - Pred: None\">3</button><button type=\"button\" class=\"btn btn-success\" style=\"margin-right: 10px;\"title=\"Event True: 5 - Pred: 5\n",
       "Time True: None - Pred: None\">5</button></div><br><div><strong><u>4</u></strong> <button type=\"button\" class=\"btn btn-success\" style=\"margin-right: 10px;\"title=\"Event True: 2 - Pred: 2\n",
       "Time True: None - Pred: None\">2</button><button type=\"button\" class=\"btn btn-danger\" style=\"margin-right: 10px;\"title=\"Event True: 3 - Pred: 4\n",
       "Time True: None - Pred: None\">3</button><button type=\"button\" class=\"btn btn-success\" style=\"margin-right: 10px;\"title=\"Event True: 4 - Pred: 4\n",
       "Time True: None - Pred: None\">4</button><button type=\"button\" class=\"btn btn-success\" style=\"margin-right: 10px;\"title=\"Event True: 5 - Pred: 5\n",
       "Time True: None - Pred: None\">5</button></div><br><div><strong><u>5</u></strong> <button type=\"button\" class=\"btn btn-success\" style=\"margin-right: 10px;\"title=\"Event True: 2 - Pred: 2\n",
       "Time True: None - Pred: None\">2</button><button type=\"button\" class=\"btn btn-danger\" style=\"margin-right: 10px;\"title=\"Event True: 3 - Pred: 4\n",
       "Time True: None - Pred: None\">3</button><button type=\"button\" class=\"btn btn-success\" style=\"margin-right: 10px;\"title=\"Event True: 4 - Pred: 4\n",
       "Time True: None - Pred: None\">4</button><button type=\"button\" class=\"btn btn-success\" style=\"margin-right: 10px;\"title=\"Event True: 5 - Pred: 5\n",
       "Time True: None - Pred: None\">5</button></div><br>"
      ],
      "text/plain": [
       "<IPython.core.display.HTML object>"
      ]
     },
     "metadata": {},
     "output_type": "display_data"
    },
    {
     "data": {
      "text/html": [
       "<h3>Test</h3>"
      ],
      "text/plain": [
       "<IPython.core.display.HTML object>"
      ]
     },
     "metadata": {},
     "output_type": "display_data"
    },
    {
     "data": {
      "text/html": [
       "<div><strong><u>1</u></strong> <button type=\"button\" class=\"btn btn-success\" style=\"margin-right: 10px;\"title=\"Event True: 2 - Pred: 2\n",
       "Time True: None - Pred: None\">2</button><button type=\"button\" class=\"btn btn-success\" style=\"margin-right: 10px;\"title=\"Event True: 4 - Pred: 4\n",
       "Time True: None - Pred: None\">4</button><button type=\"button\" class=\"btn btn-danger\" style=\"margin-right: 10px;\"title=\"Event True: 3 - Pred: 4\n",
       "Time True: None - Pred: None\">3</button><button type=\"button\" class=\"btn btn-success\" style=\"margin-right: 10px;\"title=\"Event True: 5 - Pred: 5\n",
       "Time True: None - Pred: None\">5</button></div><br><div><strong><u>2</u></strong> <button type=\"button\" class=\"btn btn-success\" style=\"margin-right: 10px;\"title=\"Event True: 2 - Pred: 2\n",
       "Time True: None - Pred: None\">2</button><button type=\"button\" class=\"btn btn-success\" style=\"margin-right: 10px;\"title=\"Event True: 4 - Pred: 4\n",
       "Time True: None - Pred: None\">4</button><button type=\"button\" class=\"btn btn-success\" style=\"margin-right: 10px;\"title=\"Event True: 3 - Pred: 3\n",
       "Time True: None - Pred: None\">3</button><button type=\"button\" class=\"btn btn-success\" style=\"margin-right: 10px;\"title=\"Event True: 5 - Pred: 5\n",
       "Time True: None - Pred: None\">5</button></div><br><div><strong><u>3</u></strong> <button type=\"button\" class=\"btn btn-success\" style=\"margin-right: 10px;\"title=\"Event True: 2 - Pred: 2\n",
       "Time True: None - Pred: None\">2</button><button type=\"button\" class=\"btn btn-success\" style=\"margin-right: 10px;\"title=\"Event True: 4 - Pred: 4\n",
       "Time True: None - Pred: None\">4</button><button type=\"button\" class=\"btn btn-success\" style=\"margin-right: 10px;\"title=\"Event True: 3 - Pred: 3\n",
       "Time True: None - Pred: None\">3</button><button type=\"button\" class=\"btn btn-success\" style=\"margin-right: 10px;\"title=\"Event True: 5 - Pred: 5\n",
       "Time True: None - Pred: None\">5</button></div><br><div><strong><u>4</u></strong> <button type=\"button\" class=\"btn btn-success\" style=\"margin-right: 10px;\"title=\"Event True: 2 - Pred: 2\n",
       "Time True: None - Pred: None\">2</button><button type=\"button\" class=\"btn btn-success\" style=\"margin-right: 10px;\"title=\"Event True: 4 - Pred: 4\n",
       "Time True: None - Pred: None\">4</button><button type=\"button\" class=\"btn btn-danger\" style=\"margin-right: 10px;\"title=\"Event True: 3 - Pred: 4\n",
       "Time True: None - Pred: None\">3</button><button type=\"button\" class=\"btn btn-success\" style=\"margin-right: 10px;\"title=\"Event True: 5 - Pred: 5\n",
       "Time True: None - Pred: None\">5</button></div><br><div><strong><u>5</u></strong> <button type=\"button\" class=\"btn btn-success\" style=\"margin-right: 10px;\"title=\"Event True: 2 - Pred: 2\n",
       "Time True: None - Pred: None\">2</button><button type=\"button\" class=\"btn btn-danger\" style=\"margin-right: 10px;\"title=\"Event True: 3 - Pred: 4\n",
       "Time True: None - Pred: None\">3</button><button type=\"button\" class=\"btn btn-success\" style=\"margin-right: 10px;\"title=\"Event True: 4 - Pred: 4\n",
       "Time True: None - Pred: None\">4</button><button type=\"button\" class=\"btn btn-success\" style=\"margin-right: 10px;\"title=\"Event True: 5 - Pred: 5\n",
       "Time True: None - Pred: None\">5</button></div><br>"
      ],
      "text/plain": [
       "<IPython.core.display.HTML object>"
      ]
     },
     "metadata": {},
     "output_type": "display_data"
    }
   ],
   "source": [
    "model = Sequential()\n",
    "model.add(layers.Embedding(num_events, 128, mask_zero=True))\n",
    "model.add(layers.Masking(mask_value=0.))\n",
    "model.add(layers.SimpleRNN(50, activation='tanh', return_sequences=True))\n",
    "model.add(layers.TimeDistributed(layers.Dense(num_events, activation='softmax')))\n",
    "\n",
    "model.compile(loss='categorical_crossentropy', optimizer='adam', metrics=['accuracy'])\n",
    "\n",
    "model.fit(x['train'], y['train'], validation_data=(x['test'], y['test']), batch_size=100, epochs=3)\n",
    "\n",
    "train_pred = convert_nn_seq(np.argmax(model.predict(x['train']), axis=2) + 1, 'train')\n",
    "test_pred = convert_nn_seq(np.argmax(model.predict(x['test']), axis=2) + 1, 'test')\n",
    "show_results('RNN-Embedded',train_pred, test_pred)"
   ]
  },
  {
   "cell_type": "code",
   "execution_count": 41,
   "metadata": {},
   "outputs": [
    {
     "name": "stdout",
     "output_type": "stream",
     "text": [
      "Train on 1000 samples, validate on 200 samples\n",
      "Epoch 1/3\n",
      "1000/1000 [==============================] - 1s 1ms/step - loss: 2.0956 - acc: 0.3504 - val_loss: 1.6470 - val_acc: 0.6000\n",
      "Epoch 2/3\n",
      "1000/1000 [==============================] - 0s 139us/step - loss: 1.4093 - acc: 0.6000 - val_loss: 1.1763 - val_acc: 0.6000\n",
      "Epoch 3/3\n",
      "1000/1000 [==============================] - 0s 137us/step - loss: 1.0359 - acc: 0.6000 - val_loss: 0.8878 - val_acc: 0.6000\n",
      "----\n",
      "Train Error:  25.0\n",
      "Test Error:  25.0\n"
     ]
    },
    {
     "data": {
      "text/html": [
       "<h3>Train</h3>"
      ],
      "text/plain": [
       "<IPython.core.display.HTML object>"
      ]
     },
     "metadata": {},
     "output_type": "display_data"
    },
    {
     "data": {
      "text/html": [
       "<div><strong><u>1</u></strong> <button type=\"button\" class=\"btn btn-success\" style=\"margin-right: 10px;\"title=\"Event True: 2 - Pred: 2\n",
       "Time True: None - Pred: None\">2</button><button type=\"button\" class=\"btn btn-danger\" style=\"margin-right: 10px;\"title=\"Event True: 3 - Pred: 4\n",
       "Time True: None - Pred: None\">3</button><button type=\"button\" class=\"btn btn-success\" style=\"margin-right: 10px;\"title=\"Event True: 4 - Pred: 4\n",
       "Time True: None - Pred: None\">4</button><button type=\"button\" class=\"btn btn-success\" style=\"margin-right: 10px;\"title=\"Event True: 5 - Pred: 5\n",
       "Time True: None - Pred: None\">5</button></div><br><div><strong><u>2</u></strong> <button type=\"button\" class=\"btn btn-success\" style=\"margin-right: 10px;\"title=\"Event True: 2 - Pred: 2\n",
       "Time True: None - Pred: None\">2</button><button type=\"button\" class=\"btn btn-success\" style=\"margin-right: 10px;\"title=\"Event True: 4 - Pred: 4\n",
       "Time True: None - Pred: None\">4</button><button type=\"button\" class=\"btn btn-danger\" style=\"margin-right: 10px;\"title=\"Event True: 3 - Pred: 4\n",
       "Time True: None - Pred: None\">3</button><button type=\"button\" class=\"btn btn-success\" style=\"margin-right: 10px;\"title=\"Event True: 5 - Pred: 5\n",
       "Time True: None - Pred: None\">5</button></div><br><div><strong><u>3</u></strong> <button type=\"button\" class=\"btn btn-success\" style=\"margin-right: 10px;\"title=\"Event True: 2 - Pred: 2\n",
       "Time True: None - Pred: None\">2</button><button type=\"button\" class=\"btn btn-success\" style=\"margin-right: 10px;\"title=\"Event True: 4 - Pred: 4\n",
       "Time True: None - Pred: None\">4</button><button type=\"button\" class=\"btn btn-danger\" style=\"margin-right: 10px;\"title=\"Event True: 3 - Pred: 4\n",
       "Time True: None - Pred: None\">3</button><button type=\"button\" class=\"btn btn-success\" style=\"margin-right: 10px;\"title=\"Event True: 5 - Pred: 5\n",
       "Time True: None - Pred: None\">5</button></div><br><div><strong><u>4</u></strong> <button type=\"button\" class=\"btn btn-success\" style=\"margin-right: 10px;\"title=\"Event True: 2 - Pred: 2\n",
       "Time True: None - Pred: None\">2</button><button type=\"button\" class=\"btn btn-danger\" style=\"margin-right: 10px;\"title=\"Event True: 3 - Pred: 4\n",
       "Time True: None - Pred: None\">3</button><button type=\"button\" class=\"btn btn-success\" style=\"margin-right: 10px;\"title=\"Event True: 4 - Pred: 4\n",
       "Time True: None - Pred: None\">4</button><button type=\"button\" class=\"btn btn-success\" style=\"margin-right: 10px;\"title=\"Event True: 5 - Pred: 5\n",
       "Time True: None - Pred: None\">5</button></div><br><div><strong><u>5</u></strong> <button type=\"button\" class=\"btn btn-success\" style=\"margin-right: 10px;\"title=\"Event True: 2 - Pred: 2\n",
       "Time True: None - Pred: None\">2</button><button type=\"button\" class=\"btn btn-danger\" style=\"margin-right: 10px;\"title=\"Event True: 3 - Pred: 4\n",
       "Time True: None - Pred: None\">3</button><button type=\"button\" class=\"btn btn-success\" style=\"margin-right: 10px;\"title=\"Event True: 4 - Pred: 4\n",
       "Time True: None - Pred: None\">4</button><button type=\"button\" class=\"btn btn-success\" style=\"margin-right: 10px;\"title=\"Event True: 5 - Pred: 5\n",
       "Time True: None - Pred: None\">5</button></div><br>"
      ],
      "text/plain": [
       "<IPython.core.display.HTML object>"
      ]
     },
     "metadata": {},
     "output_type": "display_data"
    },
    {
     "data": {
      "text/html": [
       "<h3>Test</h3>"
      ],
      "text/plain": [
       "<IPython.core.display.HTML object>"
      ]
     },
     "metadata": {},
     "output_type": "display_data"
    },
    {
     "data": {
      "text/html": [
       "<div><strong><u>1</u></strong> <button type=\"button\" class=\"btn btn-success\" style=\"margin-right: 10px;\"title=\"Event True: 2 - Pred: 2\n",
       "Time True: None - Pred: None\">2</button><button type=\"button\" class=\"btn btn-success\" style=\"margin-right: 10px;\"title=\"Event True: 4 - Pred: 4\n",
       "Time True: None - Pred: None\">4</button><button type=\"button\" class=\"btn btn-danger\" style=\"margin-right: 10px;\"title=\"Event True: 3 - Pred: 4\n",
       "Time True: None - Pred: None\">3</button><button type=\"button\" class=\"btn btn-success\" style=\"margin-right: 10px;\"title=\"Event True: 5 - Pred: 5\n",
       "Time True: None - Pred: None\">5</button></div><br><div><strong><u>2</u></strong> <button type=\"button\" class=\"btn btn-success\" style=\"margin-right: 10px;\"title=\"Event True: 2 - Pred: 2\n",
       "Time True: None - Pred: None\">2</button><button type=\"button\" class=\"btn btn-success\" style=\"margin-right: 10px;\"title=\"Event True: 4 - Pred: 4\n",
       "Time True: None - Pred: None\">4</button><button type=\"button\" class=\"btn btn-danger\" style=\"margin-right: 10px;\"title=\"Event True: 3 - Pred: 4\n",
       "Time True: None - Pred: None\">3</button><button type=\"button\" class=\"btn btn-success\" style=\"margin-right: 10px;\"title=\"Event True: 5 - Pred: 5\n",
       "Time True: None - Pred: None\">5</button></div><br><div><strong><u>3</u></strong> <button type=\"button\" class=\"btn btn-success\" style=\"margin-right: 10px;\"title=\"Event True: 2 - Pred: 2\n",
       "Time True: None - Pred: None\">2</button><button type=\"button\" class=\"btn btn-success\" style=\"margin-right: 10px;\"title=\"Event True: 4 - Pred: 4\n",
       "Time True: None - Pred: None\">4</button><button type=\"button\" class=\"btn btn-danger\" style=\"margin-right: 10px;\"title=\"Event True: 3 - Pred: 4\n",
       "Time True: None - Pred: None\">3</button><button type=\"button\" class=\"btn btn-success\" style=\"margin-right: 10px;\"title=\"Event True: 5 - Pred: 5\n",
       "Time True: None - Pred: None\">5</button></div><br><div><strong><u>4</u></strong> <button type=\"button\" class=\"btn btn-success\" style=\"margin-right: 10px;\"title=\"Event True: 2 - Pred: 2\n",
       "Time True: None - Pred: None\">2</button><button type=\"button\" class=\"btn btn-success\" style=\"margin-right: 10px;\"title=\"Event True: 4 - Pred: 4\n",
       "Time True: None - Pred: None\">4</button><button type=\"button\" class=\"btn btn-danger\" style=\"margin-right: 10px;\"title=\"Event True: 3 - Pred: 4\n",
       "Time True: None - Pred: None\">3</button><button type=\"button\" class=\"btn btn-success\" style=\"margin-right: 10px;\"title=\"Event True: 5 - Pred: 5\n",
       "Time True: None - Pred: None\">5</button></div><br><div><strong><u>5</u></strong> <button type=\"button\" class=\"btn btn-success\" style=\"margin-right: 10px;\"title=\"Event True: 2 - Pred: 2\n",
       "Time True: None - Pred: None\">2</button><button type=\"button\" class=\"btn btn-danger\" style=\"margin-right: 10px;\"title=\"Event True: 3 - Pred: 4\n",
       "Time True: None - Pred: None\">3</button><button type=\"button\" class=\"btn btn-success\" style=\"margin-right: 10px;\"title=\"Event True: 4 - Pred: 4\n",
       "Time True: None - Pred: None\">4</button><button type=\"button\" class=\"btn btn-success\" style=\"margin-right: 10px;\"title=\"Event True: 5 - Pred: 5\n",
       "Time True: None - Pred: None\">5</button></div><br>"
      ],
      "text/plain": [
       "<IPython.core.display.HTML object>"
      ]
     },
     "metadata": {},
     "output_type": "display_data"
    }
   ],
   "source": [
    "model = Sequential()\n",
    "model.add(layers.Embedding(num_events, 512, mask_zero=True))\n",
    "model.add(layers.Masking(mask_value=0.))\n",
    "model.add(layers.SimpleRNN(50, activation='tanh', return_sequences=True))\n",
    "model.add(layers.TimeDistributed(layers.Dense(10, activation='relu')))\n",
    "model.add(layers.TimeDistributed(layers.Dense(num_events, activation='softmax')))\n",
    "\n",
    "model.compile(loss='categorical_crossentropy', optimizer='adam', metrics=['accuracy'])\n",
    "\n",
    "model.fit(x['train'], y['train'], validation_data=(x['test'], y['test']), batch_size=100, epochs=3)\n",
    "\n",
    "train_pred = convert_nn_seq(np.argmax(model.predict(x['train']), axis=2) + 1, 'train')\n",
    "test_pred = convert_nn_seq(np.argmax(model.predict(x['test']), axis=2) + 1, 'test')\n",
    "show_results('RNN-EmbeddedForwards', train_pred, test_pred)"
   ]
  },
  {
   "cell_type": "markdown",
   "metadata": {},
   "source": [
    "### LSTM Cell"
   ]
  },
  {
   "cell_type": "code",
   "execution_count": 42,
   "metadata": {},
   "outputs": [
    {
     "name": "stdout",
     "output_type": "stream",
     "text": [
      "Train on 1000 samples, validate on 200 samples\n",
      "Epoch 1/3\n",
      "1000/1000 [==============================] - 1s 1ms/step - loss: 2.4253 - acc: 0.4002 - val_loss: 2.3610 - val_acc: 0.6000\n",
      "Epoch 2/3\n",
      "1000/1000 [==============================] - 0s 115us/step - loss: 2.2797 - acc: 0.5318 - val_loss: 2.1486 - val_acc: 0.4920\n",
      "Epoch 3/3\n",
      "1000/1000 [==============================] - 0s 111us/step - loss: 1.9605 - acc: 0.5006 - val_loss: 1.6682 - val_acc: 0.2920\n",
      "----\n",
      "Train Error:  62.425\n",
      "Test Error:  63.5\n"
     ]
    },
    {
     "data": {
      "text/html": [
       "<h3>Train</h3>"
      ],
      "text/plain": [
       "<IPython.core.display.HTML object>"
      ]
     },
     "metadata": {},
     "output_type": "display_data"
    },
    {
     "data": {
      "text/html": [
       "<div><strong><u>1</u></strong> <button type=\"button\" class=\"btn btn-danger\" style=\"margin-right: 10px;\"title=\"Event True: 2 - Pred: 3\n",
       "Time True: None - Pred: None\">2</button><button type=\"button\" class=\"btn btn-success\" style=\"margin-right: 10px;\"title=\"Event True: 3 - Pred: 3\n",
       "Time True: None - Pred: None\">3</button><button type=\"button\" class=\"btn btn-danger\" style=\"margin-right: 10px;\"title=\"Event True: 4 - Pred: 5\n",
       "Time True: None - Pred: None\">4</button><button type=\"button\" class=\"btn btn-success\" style=\"margin-right: 10px;\"title=\"Event True: 5 - Pred: 5\n",
       "Time True: None - Pred: None\">5</button></div><br><div><strong><u>2</u></strong> <button type=\"button\" class=\"btn btn-danger\" style=\"margin-right: 10px;\"title=\"Event True: 2 - Pred: 3\n",
       "Time True: None - Pred: None\">2</button><button type=\"button\" class=\"btn btn-danger\" style=\"margin-right: 10px;\"title=\"Event True: 4 - Pred: 3\n",
       "Time True: None - Pred: None\">4</button><button type=\"button\" class=\"btn btn-danger\" style=\"margin-right: 10px;\"title=\"Event True: 3 - Pred: 5\n",
       "Time True: None - Pred: None\">3</button><button type=\"button\" class=\"btn btn-success\" style=\"margin-right: 10px;\"title=\"Event True: 5 - Pred: 5\n",
       "Time True: None - Pred: None\">5</button></div><br><div><strong><u>3</u></strong> <button type=\"button\" class=\"btn btn-danger\" style=\"margin-right: 10px;\"title=\"Event True: 2 - Pred: 3\n",
       "Time True: None - Pred: None\">2</button><button type=\"button\" class=\"btn btn-danger\" style=\"margin-right: 10px;\"title=\"Event True: 4 - Pred: 3\n",
       "Time True: None - Pred: None\">4</button><button type=\"button\" class=\"btn btn-danger\" style=\"margin-right: 10px;\"title=\"Event True: 3 - Pred: 5\n",
       "Time True: None - Pred: None\">3</button><button type=\"button\" class=\"btn btn-success\" style=\"margin-right: 10px;\"title=\"Event True: 5 - Pred: 5\n",
       "Time True: None - Pred: None\">5</button></div><br><div><strong><u>4</u></strong> <button type=\"button\" class=\"btn btn-danger\" style=\"margin-right: 10px;\"title=\"Event True: 2 - Pred: 3\n",
       "Time True: None - Pred: None\">2</button><button type=\"button\" class=\"btn btn-success\" style=\"margin-right: 10px;\"title=\"Event True: 3 - Pred: 3\n",
       "Time True: None - Pred: None\">3</button><button type=\"button\" class=\"btn btn-danger\" style=\"margin-right: 10px;\"title=\"Event True: 4 - Pred: 5\n",
       "Time True: None - Pred: None\">4</button><button type=\"button\" class=\"btn btn-success\" style=\"margin-right: 10px;\"title=\"Event True: 5 - Pred: 5\n",
       "Time True: None - Pred: None\">5</button></div><br><div><strong><u>5</u></strong> <button type=\"button\" class=\"btn btn-danger\" style=\"margin-right: 10px;\"title=\"Event True: 2 - Pred: 3\n",
       "Time True: None - Pred: None\">2</button><button type=\"button\" class=\"btn btn-success\" style=\"margin-right: 10px;\"title=\"Event True: 3 - Pred: 3\n",
       "Time True: None - Pred: None\">3</button><button type=\"button\" class=\"btn btn-danger\" style=\"margin-right: 10px;\"title=\"Event True: 4 - Pred: 5\n",
       "Time True: None - Pred: None\">4</button><button type=\"button\" class=\"btn btn-success\" style=\"margin-right: 10px;\"title=\"Event True: 5 - Pred: 5\n",
       "Time True: None - Pred: None\">5</button></div><br>"
      ],
      "text/plain": [
       "<IPython.core.display.HTML object>"
      ]
     },
     "metadata": {},
     "output_type": "display_data"
    },
    {
     "data": {
      "text/html": [
       "<h3>Test</h3>"
      ],
      "text/plain": [
       "<IPython.core.display.HTML object>"
      ]
     },
     "metadata": {},
     "output_type": "display_data"
    },
    {
     "data": {
      "text/html": [
       "<div><strong><u>1</u></strong> <button type=\"button\" class=\"btn btn-danger\" style=\"margin-right: 10px;\"title=\"Event True: 2 - Pred: 3\n",
       "Time True: None - Pred: None\">2</button><button type=\"button\" class=\"btn btn-danger\" style=\"margin-right: 10px;\"title=\"Event True: 4 - Pred: 3\n",
       "Time True: None - Pred: None\">4</button><button type=\"button\" class=\"btn btn-danger\" style=\"margin-right: 10px;\"title=\"Event True: 3 - Pred: 5\n",
       "Time True: None - Pred: None\">3</button><button type=\"button\" class=\"btn btn-success\" style=\"margin-right: 10px;\"title=\"Event True: 5 - Pred: 5\n",
       "Time True: None - Pred: None\">5</button></div><br><div><strong><u>2</u></strong> <button type=\"button\" class=\"btn btn-danger\" style=\"margin-right: 10px;\"title=\"Event True: 2 - Pred: 3\n",
       "Time True: None - Pred: None\">2</button><button type=\"button\" class=\"btn btn-danger\" style=\"margin-right: 10px;\"title=\"Event True: 4 - Pred: 3\n",
       "Time True: None - Pred: None\">4</button><button type=\"button\" class=\"btn btn-danger\" style=\"margin-right: 10px;\"title=\"Event True: 3 - Pred: 5\n",
       "Time True: None - Pred: None\">3</button><button type=\"button\" class=\"btn btn-success\" style=\"margin-right: 10px;\"title=\"Event True: 5 - Pred: 5\n",
       "Time True: None - Pred: None\">5</button></div><br><div><strong><u>3</u></strong> <button type=\"button\" class=\"btn btn-danger\" style=\"margin-right: 10px;\"title=\"Event True: 2 - Pred: 3\n",
       "Time True: None - Pred: None\">2</button><button type=\"button\" class=\"btn btn-danger\" style=\"margin-right: 10px;\"title=\"Event True: 4 - Pred: 3\n",
       "Time True: None - Pred: None\">4</button><button type=\"button\" class=\"btn btn-danger\" style=\"margin-right: 10px;\"title=\"Event True: 3 - Pred: 5\n",
       "Time True: None - Pred: None\">3</button><button type=\"button\" class=\"btn btn-success\" style=\"margin-right: 10px;\"title=\"Event True: 5 - Pred: 5\n",
       "Time True: None - Pred: None\">5</button></div><br><div><strong><u>4</u></strong> <button type=\"button\" class=\"btn btn-danger\" style=\"margin-right: 10px;\"title=\"Event True: 2 - Pred: 3\n",
       "Time True: None - Pred: None\">2</button><button type=\"button\" class=\"btn btn-danger\" style=\"margin-right: 10px;\"title=\"Event True: 4 - Pred: 3\n",
       "Time True: None - Pred: None\">4</button><button type=\"button\" class=\"btn btn-danger\" style=\"margin-right: 10px;\"title=\"Event True: 3 - Pred: 5\n",
       "Time True: None - Pred: None\">3</button><button type=\"button\" class=\"btn btn-success\" style=\"margin-right: 10px;\"title=\"Event True: 5 - Pred: 5\n",
       "Time True: None - Pred: None\">5</button></div><br><div><strong><u>5</u></strong> <button type=\"button\" class=\"btn btn-danger\" style=\"margin-right: 10px;\"title=\"Event True: 2 - Pred: 3\n",
       "Time True: None - Pred: None\">2</button><button type=\"button\" class=\"btn btn-success\" style=\"margin-right: 10px;\"title=\"Event True: 3 - Pred: 3\n",
       "Time True: None - Pred: None\">3</button><button type=\"button\" class=\"btn btn-danger\" style=\"margin-right: 10px;\"title=\"Event True: 4 - Pred: 5\n",
       "Time True: None - Pred: None\">4</button><button type=\"button\" class=\"btn btn-success\" style=\"margin-right: 10px;\"title=\"Event True: 5 - Pred: 5\n",
       "Time True: None - Pred: None\">5</button></div><br>"
      ],
      "text/plain": [
       "<IPython.core.display.HTML object>"
      ]
     },
     "metadata": {},
     "output_type": "display_data"
    }
   ],
   "source": [
    "model = Sequential()\n",
    "model.add(layers.Embedding(num_events, 128, mask_zero=True))\n",
    "model.add(layers.Masking(mask_value=0.))\n",
    "model.add(layers.LSTM(50, activation='tanh', return_sequences=True))\n",
    "model.add(layers.TimeDistributed(layers.Dense(num_events, activation='softmax')))\n",
    "\n",
    "model.compile(loss='categorical_crossentropy', optimizer='adam', metrics=['accuracy'])\n",
    "\n",
    "model.fit(x['train'], y['train'], validation_data=(x['test'], y['test']), batch_size=100, epochs=3)\n",
    "\n",
    "train_pred = convert_nn_seq(np.argmax(model.predict(x['train']), axis=2) + 1, 'train')\n",
    "test_pred = convert_nn_seq(np.argmax(model.predict(x['test']), axis=2) + 1, 'test')\n",
    "show_results('LSTM-Embedded',train_pred, test_pred)"
   ]
  },
  {
   "cell_type": "code",
   "execution_count": 43,
   "metadata": {},
   "outputs": [
    {
     "name": "stdout",
     "output_type": "stream",
     "text": [
      "Train on 1000 samples, validate on 200 samples\n",
      "Epoch 1/3\n",
      "1000/1000 [==============================] - 1s 1ms/step - loss: 2.4346 - acc: 0.2000 - val_loss: 2.3798 - val_acc: 0.2000\n",
      "Epoch 2/3\n",
      "1000/1000 [==============================] - 0s 129us/step - loss: 2.3070 - acc: 0.2000 - val_loss: 2.1871 - val_acc: 0.2000\n",
      "Epoch 3/3\n",
      "1000/1000 [==============================] - 0s 115us/step - loss: 2.0177 - acc: 0.2000 - val_loss: 1.7656 - val_acc: 0.2000\n",
      "----\n",
      "Train Error:  75.0\n",
      "Test Error:  75.0\n"
     ]
    },
    {
     "data": {
      "text/html": [
       "<h3>Train</h3>"
      ],
      "text/plain": [
       "<IPython.core.display.HTML object>"
      ]
     },
     "metadata": {},
     "output_type": "display_data"
    },
    {
     "data": {
      "text/html": [
       "<div><strong><u>1</u></strong> <button type=\"button\" class=\"btn btn-danger\" style=\"margin-right: 10px;\"title=\"Event True: 2 - Pred: 5\n",
       "Time True: None - Pred: None\">2</button><button type=\"button\" class=\"btn btn-danger\" style=\"margin-right: 10px;\"title=\"Event True: 3 - Pred: 5\n",
       "Time True: None - Pred: None\">3</button><button type=\"button\" class=\"btn btn-danger\" style=\"margin-right: 10px;\"title=\"Event True: 4 - Pred: 5\n",
       "Time True: None - Pred: None\">4</button><button type=\"button\" class=\"btn btn-success\" style=\"margin-right: 10px;\"title=\"Event True: 5 - Pred: 5\n",
       "Time True: None - Pred: None\">5</button></div><br><div><strong><u>2</u></strong> <button type=\"button\" class=\"btn btn-danger\" style=\"margin-right: 10px;\"title=\"Event True: 2 - Pred: 5\n",
       "Time True: None - Pred: None\">2</button><button type=\"button\" class=\"btn btn-danger\" style=\"margin-right: 10px;\"title=\"Event True: 4 - Pred: 5\n",
       "Time True: None - Pred: None\">4</button><button type=\"button\" class=\"btn btn-danger\" style=\"margin-right: 10px;\"title=\"Event True: 3 - Pred: 5\n",
       "Time True: None - Pred: None\">3</button><button type=\"button\" class=\"btn btn-success\" style=\"margin-right: 10px;\"title=\"Event True: 5 - Pred: 5\n",
       "Time True: None - Pred: None\">5</button></div><br><div><strong><u>3</u></strong> <button type=\"button\" class=\"btn btn-danger\" style=\"margin-right: 10px;\"title=\"Event True: 2 - Pred: 5\n",
       "Time True: None - Pred: None\">2</button><button type=\"button\" class=\"btn btn-danger\" style=\"margin-right: 10px;\"title=\"Event True: 4 - Pred: 5\n",
       "Time True: None - Pred: None\">4</button><button type=\"button\" class=\"btn btn-danger\" style=\"margin-right: 10px;\"title=\"Event True: 3 - Pred: 5\n",
       "Time True: None - Pred: None\">3</button><button type=\"button\" class=\"btn btn-success\" style=\"margin-right: 10px;\"title=\"Event True: 5 - Pred: 5\n",
       "Time True: None - Pred: None\">5</button></div><br><div><strong><u>4</u></strong> <button type=\"button\" class=\"btn btn-danger\" style=\"margin-right: 10px;\"title=\"Event True: 2 - Pred: 5\n",
       "Time True: None - Pred: None\">2</button><button type=\"button\" class=\"btn btn-danger\" style=\"margin-right: 10px;\"title=\"Event True: 3 - Pred: 5\n",
       "Time True: None - Pred: None\">3</button><button type=\"button\" class=\"btn btn-danger\" style=\"margin-right: 10px;\"title=\"Event True: 4 - Pred: 5\n",
       "Time True: None - Pred: None\">4</button><button type=\"button\" class=\"btn btn-success\" style=\"margin-right: 10px;\"title=\"Event True: 5 - Pred: 5\n",
       "Time True: None - Pred: None\">5</button></div><br><div><strong><u>5</u></strong> <button type=\"button\" class=\"btn btn-danger\" style=\"margin-right: 10px;\"title=\"Event True: 2 - Pred: 5\n",
       "Time True: None - Pred: None\">2</button><button type=\"button\" class=\"btn btn-danger\" style=\"margin-right: 10px;\"title=\"Event True: 3 - Pred: 5\n",
       "Time True: None - Pred: None\">3</button><button type=\"button\" class=\"btn btn-danger\" style=\"margin-right: 10px;\"title=\"Event True: 4 - Pred: 5\n",
       "Time True: None - Pred: None\">4</button><button type=\"button\" class=\"btn btn-success\" style=\"margin-right: 10px;\"title=\"Event True: 5 - Pred: 5\n",
       "Time True: None - Pred: None\">5</button></div><br>"
      ],
      "text/plain": [
       "<IPython.core.display.HTML object>"
      ]
     },
     "metadata": {},
     "output_type": "display_data"
    },
    {
     "data": {
      "text/html": [
       "<h3>Test</h3>"
      ],
      "text/plain": [
       "<IPython.core.display.HTML object>"
      ]
     },
     "metadata": {},
     "output_type": "display_data"
    },
    {
     "data": {
      "text/html": [
       "<div><strong><u>1</u></strong> <button type=\"button\" class=\"btn btn-danger\" style=\"margin-right: 10px;\"title=\"Event True: 2 - Pred: 5\n",
       "Time True: None - Pred: None\">2</button><button type=\"button\" class=\"btn btn-danger\" style=\"margin-right: 10px;\"title=\"Event True: 4 - Pred: 5\n",
       "Time True: None - Pred: None\">4</button><button type=\"button\" class=\"btn btn-danger\" style=\"margin-right: 10px;\"title=\"Event True: 3 - Pred: 5\n",
       "Time True: None - Pred: None\">3</button><button type=\"button\" class=\"btn btn-success\" style=\"margin-right: 10px;\"title=\"Event True: 5 - Pred: 5\n",
       "Time True: None - Pred: None\">5</button></div><br><div><strong><u>2</u></strong> <button type=\"button\" class=\"btn btn-danger\" style=\"margin-right: 10px;\"title=\"Event True: 2 - Pred: 5\n",
       "Time True: None - Pred: None\">2</button><button type=\"button\" class=\"btn btn-danger\" style=\"margin-right: 10px;\"title=\"Event True: 4 - Pred: 5\n",
       "Time True: None - Pred: None\">4</button><button type=\"button\" class=\"btn btn-danger\" style=\"margin-right: 10px;\"title=\"Event True: 3 - Pred: 5\n",
       "Time True: None - Pred: None\">3</button><button type=\"button\" class=\"btn btn-success\" style=\"margin-right: 10px;\"title=\"Event True: 5 - Pred: 5\n",
       "Time True: None - Pred: None\">5</button></div><br><div><strong><u>3</u></strong> <button type=\"button\" class=\"btn btn-danger\" style=\"margin-right: 10px;\"title=\"Event True: 2 - Pred: 5\n",
       "Time True: None - Pred: None\">2</button><button type=\"button\" class=\"btn btn-danger\" style=\"margin-right: 10px;\"title=\"Event True: 4 - Pred: 5\n",
       "Time True: None - Pred: None\">4</button><button type=\"button\" class=\"btn btn-danger\" style=\"margin-right: 10px;\"title=\"Event True: 3 - Pred: 5\n",
       "Time True: None - Pred: None\">3</button><button type=\"button\" class=\"btn btn-success\" style=\"margin-right: 10px;\"title=\"Event True: 5 - Pred: 5\n",
       "Time True: None - Pred: None\">5</button></div><br><div><strong><u>4</u></strong> <button type=\"button\" class=\"btn btn-danger\" style=\"margin-right: 10px;\"title=\"Event True: 2 - Pred: 5\n",
       "Time True: None - Pred: None\">2</button><button type=\"button\" class=\"btn btn-danger\" style=\"margin-right: 10px;\"title=\"Event True: 4 - Pred: 5\n",
       "Time True: None - Pred: None\">4</button><button type=\"button\" class=\"btn btn-danger\" style=\"margin-right: 10px;\"title=\"Event True: 3 - Pred: 5\n",
       "Time True: None - Pred: None\">3</button><button type=\"button\" class=\"btn btn-success\" style=\"margin-right: 10px;\"title=\"Event True: 5 - Pred: 5\n",
       "Time True: None - Pred: None\">5</button></div><br><div><strong><u>5</u></strong> <button type=\"button\" class=\"btn btn-danger\" style=\"margin-right: 10px;\"title=\"Event True: 2 - Pred: 5\n",
       "Time True: None - Pred: None\">2</button><button type=\"button\" class=\"btn btn-danger\" style=\"margin-right: 10px;\"title=\"Event True: 3 - Pred: 5\n",
       "Time True: None - Pred: None\">3</button><button type=\"button\" class=\"btn btn-danger\" style=\"margin-right: 10px;\"title=\"Event True: 4 - Pred: 5\n",
       "Time True: None - Pred: None\">4</button><button type=\"button\" class=\"btn btn-success\" style=\"margin-right: 10px;\"title=\"Event True: 5 - Pred: 5\n",
       "Time True: None - Pred: None\">5</button></div><br>"
      ],
      "text/plain": [
       "<IPython.core.display.HTML object>"
      ]
     },
     "metadata": {},
     "output_type": "display_data"
    }
   ],
   "source": [
    "model = Sequential()\n",
    "model.add(layers.Embedding(num_events, 128, mask_zero=True))\n",
    "model.add(layers.Masking(mask_value=0.))\n",
    "model.add(layers.LSTM(50, activation='tanh', return_sequences=True))\n",
    "model.add(layers.TimeDistributed(layers.Dense(10, activation='relu')))\n",
    "model.add(layers.TimeDistributed(layers.Dense(num_events, activation='softmax')))\n",
    "\n",
    "model.compile(loss='categorical_crossentropy', optimizer='adam', metrics=['accuracy'])\n",
    "\n",
    "model.fit(x['train'], y['train'], validation_data=(x['test'], y['test']), batch_size=100, epochs=3)\n",
    "\n",
    "train_pred = convert_nn_seq(np.argmax(model.predict(x['train']), axis=2) + 1, 'train')\n",
    "test_pred = convert_nn_seq(np.argmax(model.predict(x['test']), axis=2) + 1, 'test')\n",
    "show_results('LSTM-EmbeddedForwards',train_pred, test_pred)"
   ]
  },
  {
   "cell_type": "markdown",
   "metadata": {},
   "source": [
    "## One Hot Models"
   ]
  },
  {
   "cell_type": "markdown",
   "metadata": {},
   "source": [
    "Convert x integers into one-hot as well"
   ]
  },
  {
   "cell_type": "code",
   "execution_count": 44,
   "metadata": {},
   "outputs": [],
   "source": [
    "num_events = 22\n",
    "one_hot = np.eye(num_events)\n",
    "for data_type in ['train', 'test']:\n",
    "    x[data_type] = [[one_hot[event-1] if event > 0 else np.zeros(num_events) for event in seq] for seq in x[data_type]]\n",
    "    x[data_type] = np.asarray(x[data_type])"
   ]
  },
  {
   "cell_type": "markdown",
   "metadata": {},
   "source": [
    "### RNN Cell"
   ]
  },
  {
   "cell_type": "code",
   "execution_count": 45,
   "metadata": {
    "scrolled": true
   },
   "outputs": [
    {
     "name": "stdout",
     "output_type": "stream",
     "text": [
      "Train on 1000 samples, validate on 200 samples\n",
      "Epoch 1/10\n",
      "1000/1000 [==============================] - 1s 1ms/step - loss: 3.0274 - acc: 0.0000e+00 - val_loss: 2.8879 - val_acc: 0.0000e+00\n",
      "Epoch 2/10\n",
      "1000/1000 [==============================] - 0s 79us/step - loss: 2.7783 - acc: 0.2313 - val_loss: 2.6332 - val_acc: 0.3333\n",
      "Epoch 3/10\n",
      "1000/1000 [==============================] - 0s 80us/step - loss: 2.5127 - acc: 0.3333 - val_loss: 2.3505 - val_acc: 0.3333\n",
      "Epoch 4/10\n",
      "1000/1000 [==============================] - 0s 82us/step - loss: 2.2206 - acc: 0.5167 - val_loss: 2.0456 - val_acc: 0.6667\n",
      "Epoch 5/10\n",
      "1000/1000 [==============================] - 0s 82us/step - loss: 1.9068 - acc: 0.6667 - val_loss: 1.7243 - val_acc: 0.6667\n",
      "Epoch 6/10\n",
      "1000/1000 [==============================] - 0s 82us/step - loss: 1.5902 - acc: 0.6667 - val_loss: 1.4098 - val_acc: 0.6667\n",
      "Epoch 7/10\n",
      "1000/1000 [==============================] - 0s 79us/step - loss: 1.2772 - acc: 0.6997 - val_loss: 1.1211 - val_acc: 0.8200\n",
      "Epoch 8/10\n",
      "1000/1000 [==============================] - ETA: 0s - loss: 1.0359 - acc: 0.835 - 0s 82us/step - loss: 1.0148 - acc: 0.8343 - val_loss: 0.9054 - val_acc: 0.8200\n",
      "Epoch 9/10\n",
      "1000/1000 [==============================] - 0s 81us/step - loss: 0.8242 - acc: 0.8343 - val_loss: 0.7475 - val_acc: 0.8200\n",
      "Epoch 10/10\n",
      "1000/1000 [==============================] - 0s 78us/step - loss: 0.6821 - acc: 0.8343 - val_loss: 0.6297 - val_acc: 0.8200\n",
      "----\n",
      "Train Error:  37.425000000000004\n",
      "Test Error:  38.5\n"
     ]
    },
    {
     "data": {
      "text/html": [
       "<h3>Train</h3>"
      ],
      "text/plain": [
       "<IPython.core.display.HTML object>"
      ]
     },
     "metadata": {},
     "output_type": "display_data"
    },
    {
     "data": {
      "text/html": [
       "<div><strong><u>1</u></strong> <button type=\"button\" class=\"btn btn-danger\" style=\"margin-right: 10px;\"title=\"Event True: 2 - Pred: 4\n",
       "Time True: None - Pred: None\">2</button><button type=\"button\" class=\"btn btn-success\" style=\"margin-right: 10px;\"title=\"Event True: 3 - Pred: 3\n",
       "Time True: None - Pred: None\">3</button><button type=\"button\" class=\"btn btn-success\" style=\"margin-right: 10px;\"title=\"Event True: 4 - Pred: 4\n",
       "Time True: None - Pred: None\">4</button><button type=\"button\" class=\"btn btn-success\" style=\"margin-right: 10px;\"title=\"Event True: 5 - Pred: 5\n",
       "Time True: None - Pred: None\">5</button></div><br><div><strong><u>2</u></strong> <button type=\"button\" class=\"btn btn-danger\" style=\"margin-right: 10px;\"title=\"Event True: 2 - Pred: 4\n",
       "Time True: None - Pred: None\">2</button><button type=\"button\" class=\"btn btn-danger\" style=\"margin-right: 10px;\"title=\"Event True: 4 - Pred: 3\n",
       "Time True: None - Pred: None\">4</button><button type=\"button\" class=\"btn btn-success\" style=\"margin-right: 10px;\"title=\"Event True: 3 - Pred: 3\n",
       "Time True: None - Pred: None\">3</button><button type=\"button\" class=\"btn btn-success\" style=\"margin-right: 10px;\"title=\"Event True: 5 - Pred: 5\n",
       "Time True: None - Pred: None\">5</button></div><br><div><strong><u>3</u></strong> <button type=\"button\" class=\"btn btn-danger\" style=\"margin-right: 10px;\"title=\"Event True: 2 - Pred: 4\n",
       "Time True: None - Pred: None\">2</button><button type=\"button\" class=\"btn btn-danger\" style=\"margin-right: 10px;\"title=\"Event True: 4 - Pred: 3\n",
       "Time True: None - Pred: None\">4</button><button type=\"button\" class=\"btn btn-success\" style=\"margin-right: 10px;\"title=\"Event True: 3 - Pred: 3\n",
       "Time True: None - Pred: None\">3</button><button type=\"button\" class=\"btn btn-success\" style=\"margin-right: 10px;\"title=\"Event True: 5 - Pred: 5\n",
       "Time True: None - Pred: None\">5</button></div><br><div><strong><u>4</u></strong> <button type=\"button\" class=\"btn btn-danger\" style=\"margin-right: 10px;\"title=\"Event True: 2 - Pred: 4\n",
       "Time True: None - Pred: None\">2</button><button type=\"button\" class=\"btn btn-success\" style=\"margin-right: 10px;\"title=\"Event True: 3 - Pred: 3\n",
       "Time True: None - Pred: None\">3</button><button type=\"button\" class=\"btn btn-success\" style=\"margin-right: 10px;\"title=\"Event True: 4 - Pred: 4\n",
       "Time True: None - Pred: None\">4</button><button type=\"button\" class=\"btn btn-success\" style=\"margin-right: 10px;\"title=\"Event True: 5 - Pred: 5\n",
       "Time True: None - Pred: None\">5</button></div><br><div><strong><u>5</u></strong> <button type=\"button\" class=\"btn btn-danger\" style=\"margin-right: 10px;\"title=\"Event True: 2 - Pred: 4\n",
       "Time True: None - Pred: None\">2</button><button type=\"button\" class=\"btn btn-success\" style=\"margin-right: 10px;\"title=\"Event True: 3 - Pred: 3\n",
       "Time True: None - Pred: None\">3</button><button type=\"button\" class=\"btn btn-success\" style=\"margin-right: 10px;\"title=\"Event True: 4 - Pred: 4\n",
       "Time True: None - Pred: None\">4</button><button type=\"button\" class=\"btn btn-success\" style=\"margin-right: 10px;\"title=\"Event True: 5 - Pred: 5\n",
       "Time True: None - Pred: None\">5</button></div><br>"
      ],
      "text/plain": [
       "<IPython.core.display.HTML object>"
      ]
     },
     "metadata": {},
     "output_type": "display_data"
    },
    {
     "data": {
      "text/html": [
       "<h3>Test</h3>"
      ],
      "text/plain": [
       "<IPython.core.display.HTML object>"
      ]
     },
     "metadata": {},
     "output_type": "display_data"
    },
    {
     "data": {
      "text/html": [
       "<div><strong><u>1</u></strong> <button type=\"button\" class=\"btn btn-danger\" style=\"margin-right: 10px;\"title=\"Event True: 2 - Pred: 4\n",
       "Time True: None - Pred: None\">2</button><button type=\"button\" class=\"btn btn-danger\" style=\"margin-right: 10px;\"title=\"Event True: 4 - Pred: 3\n",
       "Time True: None - Pred: None\">4</button><button type=\"button\" class=\"btn btn-danger\" style=\"margin-right: 10px;\"title=\"Event True: 3 - Pred: 4\n",
       "Time True: None - Pred: None\">3</button><button type=\"button\" class=\"btn btn-success\" style=\"margin-right: 10px;\"title=\"Event True: 5 - Pred: 5\n",
       "Time True: None - Pred: None\">5</button></div><br><div><strong><u>2</u></strong> <button type=\"button\" class=\"btn btn-danger\" style=\"margin-right: 10px;\"title=\"Event True: 2 - Pred: 4\n",
       "Time True: None - Pred: None\">2</button><button type=\"button\" class=\"btn btn-danger\" style=\"margin-right: 10px;\"title=\"Event True: 4 - Pred: 3\n",
       "Time True: None - Pred: None\">4</button><button type=\"button\" class=\"btn btn-success\" style=\"margin-right: 10px;\"title=\"Event True: 3 - Pred: 3\n",
       "Time True: None - Pred: None\">3</button><button type=\"button\" class=\"btn btn-success\" style=\"margin-right: 10px;\"title=\"Event True: 5 - Pred: 5\n",
       "Time True: None - Pred: None\">5</button></div><br><div><strong><u>3</u></strong> <button type=\"button\" class=\"btn btn-danger\" style=\"margin-right: 10px;\"title=\"Event True: 2 - Pred: 4\n",
       "Time True: None - Pred: None\">2</button><button type=\"button\" class=\"btn btn-danger\" style=\"margin-right: 10px;\"title=\"Event True: 4 - Pred: 3\n",
       "Time True: None - Pred: None\">4</button><button type=\"button\" class=\"btn btn-success\" style=\"margin-right: 10px;\"title=\"Event True: 3 - Pred: 3\n",
       "Time True: None - Pred: None\">3</button><button type=\"button\" class=\"btn btn-success\" style=\"margin-right: 10px;\"title=\"Event True: 5 - Pred: 5\n",
       "Time True: None - Pred: None\">5</button></div><br><div><strong><u>4</u></strong> <button type=\"button\" class=\"btn btn-danger\" style=\"margin-right: 10px;\"title=\"Event True: 2 - Pred: 4\n",
       "Time True: None - Pred: None\">2</button><button type=\"button\" class=\"btn btn-danger\" style=\"margin-right: 10px;\"title=\"Event True: 4 - Pred: 3\n",
       "Time True: None - Pred: None\">4</button><button type=\"button\" class=\"btn btn-danger\" style=\"margin-right: 10px;\"title=\"Event True: 3 - Pred: 4\n",
       "Time True: None - Pred: None\">3</button><button type=\"button\" class=\"btn btn-success\" style=\"margin-right: 10px;\"title=\"Event True: 5 - Pred: 5\n",
       "Time True: None - Pred: None\">5</button></div><br><div><strong><u>5</u></strong> <button type=\"button\" class=\"btn btn-danger\" style=\"margin-right: 10px;\"title=\"Event True: 2 - Pred: 4\n",
       "Time True: None - Pred: None\">2</button><button type=\"button\" class=\"btn btn-success\" style=\"margin-right: 10px;\"title=\"Event True: 3 - Pred: 3\n",
       "Time True: None - Pred: None\">3</button><button type=\"button\" class=\"btn btn-success\" style=\"margin-right: 10px;\"title=\"Event True: 4 - Pred: 4\n",
       "Time True: None - Pred: None\">4</button><button type=\"button\" class=\"btn btn-success\" style=\"margin-right: 10px;\"title=\"Event True: 5 - Pred: 5\n",
       "Time True: None - Pred: None\">5</button></div><br>"
      ],
      "text/plain": [
       "<IPython.core.display.HTML object>"
      ]
     },
     "metadata": {},
     "output_type": "display_data"
    }
   ],
   "source": [
    "model = Sequential()\n",
    "model.add(layers.Masking(mask_value=0., input_shape=(max_user_length, num_events)))\n",
    "model.add(layers.SimpleRNN(50, activation='tanh', return_sequences=True))\n",
    "model.add(layers.TimeDistributed(layers.Dense(10, activation='relu')))\n",
    "model.add(layers.TimeDistributed(layers.Dense(num_events, activation='softmax')))\n",
    "\n",
    "model.compile(loss='categorical_crossentropy', optimizer='adam', metrics=['accuracy'])\n",
    "\n",
    "model.fit(x['train'], y['train'], validation_data=(x['test'], y['test']), batch_size=100, epochs=10)\n",
    "\n",
    "train_pred = convert_nn_seq(np.argmax(model.predict(x['train']), axis=2) + 1, 'train')\n",
    "test_pred = convert_nn_seq(np.argmax(model.predict(x['test']), axis=2) + 1, 'test')\n",
    "show_results('RNN-OneHotForwards', train_pred, test_pred)"
   ]
  },
  {
   "cell_type": "markdown",
   "metadata": {},
   "source": [
    "### LSTM Cell"
   ]
  },
  {
   "cell_type": "code",
   "execution_count": 46,
   "metadata": {
    "scrolled": true
   },
   "outputs": [
    {
     "name": "stdout",
     "output_type": "stream",
     "text": [
      "Train on 1000 samples, validate on 200 samples\n",
      "Epoch 1/10\n",
      "1000/1000 [==============================] - 2s 2ms/step - loss: 3.0730 - acc: 0.2487 - val_loss: 3.0450 - val_acc: 0.4867\n",
      "Epoch 2/10\n",
      "1000/1000 [==============================] - 0s 99us/step - loss: 3.0198 - acc: 0.5010 - val_loss: 2.9866 - val_acc: 0.4867\n",
      "Epoch 3/10\n",
      "1000/1000 [==============================] - 0s 96us/step - loss: 2.9539 - acc: 0.5317 - val_loss: 2.9104 - val_acc: 0.6667\n",
      "Epoch 4/10\n",
      "1000/1000 [==============================] - 0s 96us/step - loss: 2.8675 - acc: 0.6840 - val_loss: 2.8091 - val_acc: 0.8200\n",
      "Epoch 5/10\n",
      "1000/1000 [==============================] - 0s 96us/step - loss: 2.7476 - acc: 0.7990 - val_loss: 2.6625 - val_acc: 0.8200\n",
      "Epoch 6/10\n",
      "1000/1000 [==============================] - 0s 99us/step - loss: 2.5726 - acc: 0.5840 - val_loss: 2.4497 - val_acc: 0.4867\n",
      "Epoch 7/10\n",
      "1000/1000 [==============================] - 0s 99us/step - loss: 2.3270 - acc: 0.5010 - val_loss: 2.1670 - val_acc: 0.4867\n",
      "Epoch 8/10\n",
      "1000/1000 [==============================] - 0s 97us/step - loss: 2.0294 - acc: 0.5010 - val_loss: 1.8647 - val_acc: 0.4867\n",
      "Epoch 9/10\n",
      "1000/1000 [==============================] - 0s 97us/step - loss: 1.7390 - acc: 0.8010 - val_loss: 1.5908 - val_acc: 0.8200\n",
      "Epoch 10/10\n",
      "1000/1000 [==============================] - 0s 96us/step - loss: 1.4771 - acc: 0.8343 - val_loss: 1.3475 - val_acc: 0.8200\n",
      "----\n",
      "Train Error:  37.425000000000004\n",
      "Test Error:  38.5\n"
     ]
    },
    {
     "data": {
      "text/html": [
       "<h3>Train</h3>"
      ],
      "text/plain": [
       "<IPython.core.display.HTML object>"
      ]
     },
     "metadata": {},
     "output_type": "display_data"
    },
    {
     "data": {
      "text/html": [
       "<div><strong><u>1</u></strong> <button type=\"button\" class=\"btn btn-danger\" style=\"margin-right: 10px;\"title=\"Event True: 2 - Pred: 3\n",
       "Time True: None - Pred: None\">2</button><button type=\"button\" class=\"btn btn-success\" style=\"margin-right: 10px;\"title=\"Event True: 3 - Pred: 3\n",
       "Time True: None - Pred: None\">3</button><button type=\"button\" class=\"btn btn-success\" style=\"margin-right: 10px;\"title=\"Event True: 4 - Pred: 4\n",
       "Time True: None - Pred: None\">4</button><button type=\"button\" class=\"btn btn-success\" style=\"margin-right: 10px;\"title=\"Event True: 5 - Pred: 5\n",
       "Time True: None - Pred: None\">5</button></div><br><div><strong><u>2</u></strong> <button type=\"button\" class=\"btn btn-danger\" style=\"margin-right: 10px;\"title=\"Event True: 2 - Pred: 3\n",
       "Time True: None - Pred: None\">2</button><button type=\"button\" class=\"btn btn-danger\" style=\"margin-right: 10px;\"title=\"Event True: 4 - Pred: 3\n",
       "Time True: None - Pred: None\">4</button><button type=\"button\" class=\"btn btn-success\" style=\"margin-right: 10px;\"title=\"Event True: 3 - Pred: 3\n",
       "Time True: None - Pred: None\">3</button><button type=\"button\" class=\"btn btn-success\" style=\"margin-right: 10px;\"title=\"Event True: 5 - Pred: 5\n",
       "Time True: None - Pred: None\">5</button></div><br><div><strong><u>3</u></strong> <button type=\"button\" class=\"btn btn-danger\" style=\"margin-right: 10px;\"title=\"Event True: 2 - Pred: 3\n",
       "Time True: None - Pred: None\">2</button><button type=\"button\" class=\"btn btn-danger\" style=\"margin-right: 10px;\"title=\"Event True: 4 - Pred: 3\n",
       "Time True: None - Pred: None\">4</button><button type=\"button\" class=\"btn btn-success\" style=\"margin-right: 10px;\"title=\"Event True: 3 - Pred: 3\n",
       "Time True: None - Pred: None\">3</button><button type=\"button\" class=\"btn btn-success\" style=\"margin-right: 10px;\"title=\"Event True: 5 - Pred: 5\n",
       "Time True: None - Pred: None\">5</button></div><br><div><strong><u>4</u></strong> <button type=\"button\" class=\"btn btn-danger\" style=\"margin-right: 10px;\"title=\"Event True: 2 - Pred: 3\n",
       "Time True: None - Pred: None\">2</button><button type=\"button\" class=\"btn btn-success\" style=\"margin-right: 10px;\"title=\"Event True: 3 - Pred: 3\n",
       "Time True: None - Pred: None\">3</button><button type=\"button\" class=\"btn btn-success\" style=\"margin-right: 10px;\"title=\"Event True: 4 - Pred: 4\n",
       "Time True: None - Pred: None\">4</button><button type=\"button\" class=\"btn btn-success\" style=\"margin-right: 10px;\"title=\"Event True: 5 - Pred: 5\n",
       "Time True: None - Pred: None\">5</button></div><br><div><strong><u>5</u></strong> <button type=\"button\" class=\"btn btn-danger\" style=\"margin-right: 10px;\"title=\"Event True: 2 - Pred: 3\n",
       "Time True: None - Pred: None\">2</button><button type=\"button\" class=\"btn btn-success\" style=\"margin-right: 10px;\"title=\"Event True: 3 - Pred: 3\n",
       "Time True: None - Pred: None\">3</button><button type=\"button\" class=\"btn btn-success\" style=\"margin-right: 10px;\"title=\"Event True: 4 - Pred: 4\n",
       "Time True: None - Pred: None\">4</button><button type=\"button\" class=\"btn btn-success\" style=\"margin-right: 10px;\"title=\"Event True: 5 - Pred: 5\n",
       "Time True: None - Pred: None\">5</button></div><br>"
      ],
      "text/plain": [
       "<IPython.core.display.HTML object>"
      ]
     },
     "metadata": {},
     "output_type": "display_data"
    },
    {
     "data": {
      "text/html": [
       "<h3>Test</h3>"
      ],
      "text/plain": [
       "<IPython.core.display.HTML object>"
      ]
     },
     "metadata": {},
     "output_type": "display_data"
    },
    {
     "data": {
      "text/html": [
       "<div><strong><u>1</u></strong> <button type=\"button\" class=\"btn btn-danger\" style=\"margin-right: 10px;\"title=\"Event True: 2 - Pred: 3\n",
       "Time True: None - Pred: None\">2</button><button type=\"button\" class=\"btn btn-danger\" style=\"margin-right: 10px;\"title=\"Event True: 4 - Pred: 3\n",
       "Time True: None - Pred: None\">4</button><button type=\"button\" class=\"btn btn-danger\" style=\"margin-right: 10px;\"title=\"Event True: 3 - Pred: 4\n",
       "Time True: None - Pred: None\">3</button><button type=\"button\" class=\"btn btn-success\" style=\"margin-right: 10px;\"title=\"Event True: 5 - Pred: 5\n",
       "Time True: None - Pred: None\">5</button></div><br><div><strong><u>2</u></strong> <button type=\"button\" class=\"btn btn-danger\" style=\"margin-right: 10px;\"title=\"Event True: 2 - Pred: 3\n",
       "Time True: None - Pred: None\">2</button><button type=\"button\" class=\"btn btn-danger\" style=\"margin-right: 10px;\"title=\"Event True: 4 - Pred: 3\n",
       "Time True: None - Pred: None\">4</button><button type=\"button\" class=\"btn btn-success\" style=\"margin-right: 10px;\"title=\"Event True: 3 - Pred: 3\n",
       "Time True: None - Pred: None\">3</button><button type=\"button\" class=\"btn btn-success\" style=\"margin-right: 10px;\"title=\"Event True: 5 - Pred: 5\n",
       "Time True: None - Pred: None\">5</button></div><br><div><strong><u>3</u></strong> <button type=\"button\" class=\"btn btn-danger\" style=\"margin-right: 10px;\"title=\"Event True: 2 - Pred: 3\n",
       "Time True: None - Pred: None\">2</button><button type=\"button\" class=\"btn btn-danger\" style=\"margin-right: 10px;\"title=\"Event True: 4 - Pred: 3\n",
       "Time True: None - Pred: None\">4</button><button type=\"button\" class=\"btn btn-success\" style=\"margin-right: 10px;\"title=\"Event True: 3 - Pred: 3\n",
       "Time True: None - Pred: None\">3</button><button type=\"button\" class=\"btn btn-success\" style=\"margin-right: 10px;\"title=\"Event True: 5 - Pred: 5\n",
       "Time True: None - Pred: None\">5</button></div><br><div><strong><u>4</u></strong> <button type=\"button\" class=\"btn btn-danger\" style=\"margin-right: 10px;\"title=\"Event True: 2 - Pred: 3\n",
       "Time True: None - Pred: None\">2</button><button type=\"button\" class=\"btn btn-danger\" style=\"margin-right: 10px;\"title=\"Event True: 4 - Pred: 3\n",
       "Time True: None - Pred: None\">4</button><button type=\"button\" class=\"btn btn-danger\" style=\"margin-right: 10px;\"title=\"Event True: 3 - Pred: 4\n",
       "Time True: None - Pred: None\">3</button><button type=\"button\" class=\"btn btn-success\" style=\"margin-right: 10px;\"title=\"Event True: 5 - Pred: 5\n",
       "Time True: None - Pred: None\">5</button></div><br><div><strong><u>5</u></strong> <button type=\"button\" class=\"btn btn-danger\" style=\"margin-right: 10px;\"title=\"Event True: 2 - Pred: 3\n",
       "Time True: None - Pred: None\">2</button><button type=\"button\" class=\"btn btn-success\" style=\"margin-right: 10px;\"title=\"Event True: 3 - Pred: 3\n",
       "Time True: None - Pred: None\">3</button><button type=\"button\" class=\"btn btn-success\" style=\"margin-right: 10px;\"title=\"Event True: 4 - Pred: 4\n",
       "Time True: None - Pred: None\">4</button><button type=\"button\" class=\"btn btn-success\" style=\"margin-right: 10px;\"title=\"Event True: 5 - Pred: 5\n",
       "Time True: None - Pred: None\">5</button></div><br>"
      ],
      "text/plain": [
       "<IPython.core.display.HTML object>"
      ]
     },
     "metadata": {},
     "output_type": "display_data"
    }
   ],
   "source": [
    "model = Sequential()\n",
    "model.add(layers.Masking(mask_value=0., input_shape=(max_user_length, num_events)))\n",
    "model.add(layers.LSTM(50, activation='tanh', return_sequences=True))\n",
    "model.add(layers.TimeDistributed(layers.Dense(10, activation='relu')))\n",
    "model.add(layers.TimeDistributed(layers.Dense(num_events, activation='softmax')))\n",
    "\n",
    "model.compile(loss='categorical_crossentropy', optimizer='adam', metrics=['accuracy'])\n",
    "\n",
    "model.fit(x['train'], y['train'], validation_data=(x['test'], y['test']), batch_size=100, epochs=10)\n",
    "\n",
    "train_pred = convert_nn_seq(np.argmax(model.predict(x['train']), axis=2) + 1, 'train')\n",
    "test_pred = convert_nn_seq(np.argmax(model.predict(x['test']), axis=2) + 1, 'test')\n",
    "show_results('LSTM-OneHotForwards', train_pred, test_pred)"
   ]
  },
  {
   "cell_type": "markdown",
   "metadata": {},
   "source": [
    "# Model Stats"
   ]
  },
  {
   "cell_type": "code",
   "execution_count": 47,
   "metadata": {},
   "outputs": [
    {
     "data": {
      "text/html": [
       "<div class=\"vega-embed\" id=\"8747e00f-9566-44b2-b6ce-877fed2a5b80\"></div>\n",
       "\n",
       "<style>\n",
       ".vega-embed .error p {\n",
       "    color: firebrick;\n",
       "    font-size: 14px;\n",
       "}\n",
       "</style>\n"
      ]
     },
     "metadata": {
      "jupyter-vega": "#8747e00f-9566-44b2-b6ce-877fed2a5b80"
     },
     "output_type": "display_data"
    },
    {
     "data": {
      "application/javascript": [
       "var spec = {\"config\": {\"view\": {\"width\": 400, \"height\": 300, \"stroke\": \"transparent\"}, \"axis\": {\"domainWidth\": 0.8}}, \"data\": {\"values\": [{\"models\": \"Majority\", \"error\": 100.0, \"data_type\": \"train\"}, {\"models\": \"MC-1\", \"error\": 37.275000000000006, \"data_type\": \"train\"}, {\"models\": \"MC-2\", \"error\": 37.425000000000004, \"data_type\": \"train\"}, {\"models\": \"MC-3\", \"error\": 50.0, \"data_type\": \"train\"}, {\"models\": \"MC-4\", \"error\": 75.0, \"data_type\": \"train\"}, {\"models\": \"LinReg\", \"error\": 100.0, \"data_type\": \"train\"}, {\"models\": \"LinRegRound\", \"error\": 37.425000000000004, \"data_type\": \"train\"}, {\"models\": \"LinRegRoundNorm\", \"error\": 37.425000000000004, \"data_type\": \"train\"}, {\"models\": \"DecisionTree\", \"error\": 12.425, \"data_type\": \"train\"}, {\"models\": \"RandomForest\", \"error\": 12.575, \"data_type\": \"train\"}, {\"models\": \"AdaBoost\", \"error\": 25.0, \"data_type\": \"train\"}, {\"models\": \"DecisionTreeOneHot\", \"error\": 12.425, \"data_type\": \"train\"}, {\"models\": \"RandomForestOneHot\", \"error\": 12.425, \"data_type\": \"train\"}, {\"models\": \"FNN-SingleTanh\", \"error\": 12.425, \"data_type\": \"train\"}, {\"models\": \"FNN-SingleLinear\", \"error\": 12.425, \"data_type\": \"train\"}, {\"models\": \"FNN-SingleRelu\", \"error\": 12.575, \"data_type\": \"train\"}, {\"models\": \"FNN-MultipleTanh\", \"error\": 12.575, \"data_type\": \"train\"}, {\"models\": \"FNN-MultipleLinear\", \"error\": 12.575, \"data_type\": \"train\"}, {\"models\": \"FNN-MultipleRelu\", \"error\": 12.425, \"data_type\": \"train\"}, {\"models\": \"RNN-Embedded\", \"error\": 12.575, \"data_type\": \"train\"}, {\"models\": \"RNN-EmbeddedForwards\", \"error\": 25.0, \"data_type\": \"train\"}, {\"models\": \"LSTM-Embedded\", \"error\": 62.425, \"data_type\": \"train\"}, {\"models\": \"LSTM-EmbeddedForwards\", \"error\": 75.0, \"data_type\": \"train\"}, {\"models\": \"RNN-OneHotForwards\", \"error\": 37.425000000000004, \"data_type\": \"train\"}, {\"models\": \"LSTM-OneHotForwards\", \"error\": 37.425000000000004, \"data_type\": \"train\"}, {\"models\": \"Majority\", \"error\": 100.0, \"data_type\": \"test\"}, {\"models\": \"MC-1\", \"error\": 40.5, \"data_type\": \"test\"}, {\"models\": \"MC-2\", \"error\": 38.5, \"data_type\": \"test\"}, {\"models\": \"MC-3\", \"error\": 50.0, \"data_type\": \"test\"}, {\"models\": \"MC-4\", \"error\": 75.0, \"data_type\": \"test\"}, {\"models\": \"LinReg\", \"error\": 100.0, \"data_type\": \"test\"}, {\"models\": \"LinRegRound\", \"error\": 38.5, \"data_type\": \"test\"}, {\"models\": \"LinRegRoundNorm\", \"error\": 38.5, \"data_type\": \"test\"}, {\"models\": \"DecisionTree\", \"error\": 13.5, \"data_type\": \"test\"}, {\"models\": \"RandomForest\", \"error\": 11.5, \"data_type\": \"test\"}, {\"models\": \"AdaBoost\", \"error\": 25.0, \"data_type\": \"test\"}, {\"models\": \"DecisionTreeOneHot\", \"error\": 13.5, \"data_type\": \"test\"}, {\"models\": \"RandomForestOneHot\", \"error\": 13.5, \"data_type\": \"test\"}, {\"models\": \"FNN-SingleTanh\", \"error\": 13.5, \"data_type\": \"test\"}, {\"models\": \"FNN-SingleLinear\", \"error\": 13.5, \"data_type\": \"test\"}, {\"models\": \"FNN-SingleRelu\", \"error\": 11.5, \"data_type\": \"test\"}, {\"models\": \"FNN-MultipleTanh\", \"error\": 11.5, \"data_type\": \"test\"}, {\"models\": \"FNN-MultipleLinear\", \"error\": 11.5, \"data_type\": \"test\"}, {\"models\": \"FNN-MultipleRelu\", \"error\": 13.5, \"data_type\": \"test\"}, {\"models\": \"RNN-Embedded\", \"error\": 11.5, \"data_type\": \"test\"}, {\"models\": \"RNN-EmbeddedForwards\", \"error\": 25.0, \"data_type\": \"test\"}, {\"models\": \"LSTM-Embedded\", \"error\": 63.5, \"data_type\": \"test\"}, {\"models\": \"LSTM-EmbeddedForwards\", \"error\": 75.0, \"data_type\": \"test\"}, {\"models\": \"RNN-OneHotForwards\", \"error\": 38.5, \"data_type\": \"test\"}, {\"models\": \"LSTM-OneHotForwards\", \"error\": 38.5, \"data_type\": \"test\"}]}, \"mark\": {\"type\": \"bar\", \"stroke\": \"transparent\"}, \"encoding\": {\"color\": {\"type\": \"nominal\", \"field\": \"data_type\", \"scale\": {\"range\": [\"#1f77b4\", \"#ff7f0e\"]}, \"sort\": [\"train\", \"test\"]}, \"row\": {\"type\": \"nominal\", \"field\": \"models\"}, \"x\": {\"type\": \"quantitative\", \"axis\": {\"grid\": false, \"title\": \"error\"}, \"field\": \"error\"}, \"y\": {\"type\": \"nominal\", \"axis\": {\"title\": \"\"}, \"field\": \"data_type\", \"scale\": {\"rangeStep\": 12}, \"sort\": [\"train\", \"test\"]}}, \"$schema\": \"https://vega.github.io/schema/vega-lite/v2.4.3.json\"};\n",
       "var opt = {};\n",
       "var selector = \"#8747e00f-9566-44b2-b6ce-877fed2a5b80\";\n",
       "var type = \"vega-lite\";\n",
       "\n",
       "var output_area = this;\n",
       "\n",
       "require(['nbextensions/jupyter-vega/index'], function(vega) {\n",
       "  vega.render(selector, spec, type, opt, output_area);\n",
       "}, function (err) {\n",
       "  if (err.requireType !== 'scripterror') {\n",
       "    throw(err);\n",
       "  }\n",
       "});\n"
      ]
     },
     "metadata": {
      "jupyter-vega": "#8747e00f-9566-44b2-b6ce-877fed2a5b80"
     },
     "output_type": "display_data"
    },
    {
     "data": {
      "text/plain": []
     },
     "execution_count": 47,
     "metadata": {},
     "output_type": "execute_result"
    },
    {
     "data": {
      "image/png": "[encoded data removed]"
     },
     "metadata": {
      "jupyter-vega": "#8747e00f-9566-44b2-b6ce-877fed2a5b80"
     },
     "output_type": "display_data"
    }
   ],
   "source": [
    "results.grouped_bar('event')"
   ]
  },
  {
   "cell_type": "markdown",
   "metadata": {},
   "source": [
    "## Train"
   ]
  },
  {
   "cell_type": "code",
   "execution_count": 48,
   "metadata": {},
   "outputs": [
    {
     "data": {
      "text/html": [
       "<div class=\"vega-embed\" id=\"dc7afb84-eb40-47d4-9491-59b07ad6b089\"></div>\n",
       "\n",
       "<style>\n",
       ".vega-embed .error p {\n",
       "    color: firebrick;\n",
       "    font-size: 14px;\n",
       "}\n",
       "</style>\n"
      ]
     },
     "metadata": {
      "jupyter-vega": "#dc7afb84-eb40-47d4-9491-59b07ad6b089"
     },
     "output_type": "display_data"
    },
    {
     "data": {
      "application/javascript": [
       "var spec = {\"config\": {\"view\": {\"width\": 400, \"height\": 300}}, \"layer\": [{\"data\": {\"values\": [{\"models\": \"Majority\", \"error\": 100.0}, {\"models\": \"MC-1\", \"error\": 37.275000000000006}, {\"models\": \"MC-2\", \"error\": 37.425000000000004}, {\"models\": \"MC-3\", \"error\": 50.0}, {\"models\": \"MC-4\", \"error\": 75.0}, {\"models\": \"LinReg\", \"error\": 100.0}, {\"models\": \"LinRegRound\", \"error\": 37.425000000000004}, {\"models\": \"LinRegRoundNorm\", \"error\": 37.425000000000004}, {\"models\": \"DecisionTree\", \"error\": 12.425}, {\"models\": \"RandomForest\", \"error\": 12.575}, {\"models\": \"AdaBoost\", \"error\": 25.0}, {\"models\": \"DecisionTreeOneHot\", \"error\": 12.425}, {\"models\": \"RandomForestOneHot\", \"error\": 12.425}, {\"models\": \"FNN-SingleTanh\", \"error\": 12.425}, {\"models\": \"FNN-SingleLinear\", \"error\": 12.425}, {\"models\": \"FNN-SingleRelu\", \"error\": 12.575}, {\"models\": \"FNN-MultipleTanh\", \"error\": 12.575}, {\"models\": \"FNN-MultipleLinear\", \"error\": 12.575}, {\"models\": \"FNN-MultipleRelu\", \"error\": 12.425}, {\"models\": \"RNN-Embedded\", \"error\": 12.575}, {\"models\": \"RNN-EmbeddedForwards\", \"error\": 25.0}, {\"models\": \"LSTM-Embedded\", \"error\": 62.425}, {\"models\": \"LSTM-EmbeddedForwards\", \"error\": 75.0}, {\"models\": \"RNN-OneHotForwards\", \"error\": 37.425000000000004}, {\"models\": \"LSTM-OneHotForwards\", \"error\": 37.425000000000004}]}, \"mark\": \"bar\", \"encoding\": {\"x\": {\"type\": \"quantitative\", \"field\": \"error\"}, \"y\": {\"type\": \"nominal\", \"field\": \"models\", \"sort\": [\"Majority\", \"MC-1\", \"MC-2\", \"MC-3\", \"MC-4\", \"LinReg\", \"LinRegRound\", \"LinRegRoundNorm\", \"DecisionTree\", \"RandomForest\", \"AdaBoost\", \"DecisionTreeOneHot\", \"RandomForestOneHot\", \"FNN-SingleTanh\", \"FNN-SingleLinear\", \"FNN-SingleRelu\", \"FNN-MultipleTanh\", \"FNN-MultipleLinear\", \"FNN-MultipleRelu\", \"RNN-Embedded\", \"RNN-EmbeddedForwards\", \"LSTM-Embedded\", \"LSTM-EmbeddedForwards\", \"RNN-OneHotForwards\", \"LSTM-OneHotForwards\"]}}}, {\"data\": {\"values\": [{\"models\": \"Majority\", \"error\": 100.0}, {\"models\": \"MC-1\", \"error\": 37.275000000000006}, {\"models\": \"MC-2\", \"error\": 37.425000000000004}, {\"models\": \"MC-3\", \"error\": 50.0}, {\"models\": \"MC-4\", \"error\": 75.0}, {\"models\": \"LinReg\", \"error\": 100.0}, {\"models\": \"LinRegRound\", \"error\": 37.425000000000004}, {\"models\": \"LinRegRoundNorm\", \"error\": 37.425000000000004}, {\"models\": \"DecisionTree\", \"error\": 12.425}, {\"models\": \"RandomForest\", \"error\": 12.575}, {\"models\": \"AdaBoost\", \"error\": 25.0}, {\"models\": \"DecisionTreeOneHot\", \"error\": 12.425}, {\"models\": \"RandomForestOneHot\", \"error\": 12.425}, {\"models\": \"FNN-SingleTanh\", \"error\": 12.425}, {\"models\": \"FNN-SingleLinear\", \"error\": 12.425}, {\"models\": \"FNN-SingleRelu\", \"error\": 12.575}, {\"models\": \"FNN-MultipleTanh\", \"error\": 12.575}, {\"models\": \"FNN-MultipleLinear\", \"error\": 12.575}, {\"models\": \"FNN-MultipleRelu\", \"error\": 12.425}, {\"models\": \"RNN-Embedded\", \"error\": 12.575}, {\"models\": \"RNN-EmbeddedForwards\", \"error\": 25.0}, {\"models\": \"LSTM-Embedded\", \"error\": 62.425}, {\"models\": \"LSTM-EmbeddedForwards\", \"error\": 75.0}, {\"models\": \"RNN-OneHotForwards\", \"error\": 37.425000000000004}, {\"models\": \"LSTM-OneHotForwards\", \"error\": 37.425000000000004}]}, \"mark\": {\"type\": \"text\", \"align\": \"left\", \"baseline\": \"middle\", \"dx\": 3}, \"encoding\": {\"text\": {\"type\": \"quantitative\", \"field\": \"error\"}, \"x\": {\"type\": \"quantitative\", \"field\": \"error\"}, \"y\": {\"type\": \"nominal\", \"field\": \"models\", \"sort\": [\"Majority\", \"MC-1\", \"MC-2\", \"MC-3\", \"MC-4\", \"LinReg\", \"LinRegRound\", \"LinRegRoundNorm\", \"DecisionTree\", \"RandomForest\", \"AdaBoost\", \"DecisionTreeOneHot\", \"RandomForestOneHot\", \"FNN-SingleTanh\", \"FNN-SingleLinear\", \"FNN-SingleRelu\", \"FNN-MultipleTanh\", \"FNN-MultipleLinear\", \"FNN-MultipleRelu\", \"RNN-Embedded\", \"RNN-EmbeddedForwards\", \"LSTM-Embedded\", \"LSTM-EmbeddedForwards\", \"RNN-OneHotForwards\", \"LSTM-OneHotForwards\"]}}}], \"$schema\": \"https://vega.github.io/schema/vega-lite/v2.4.3.json\"};\n",
       "var opt = {};\n",
       "var selector = \"#dc7afb84-eb40-47d4-9491-59b07ad6b089\";\n",
       "var type = \"vega-lite\";\n",
       "\n",
       "var output_area = this;\n",
       "\n",
       "require(['nbextensions/jupyter-vega/index'], function(vega) {\n",
       "  vega.render(selector, spec, type, opt, output_area);\n",
       "}, function (err) {\n",
       "  if (err.requireType !== 'scripterror') {\n",
       "    throw(err);\n",
       "  }\n",
       "});\n"
      ]
     },
     "metadata": {
      "jupyter-vega": "#dc7afb84-eb40-47d4-9491-59b07ad6b089"
     },
     "output_type": "display_data"
    },
    {
     "data": {
      "text/plain": []
     },
     "execution_count": 48,
     "metadata": {},
     "output_type": "execute_result"
    },
    {
     "data": {
      "image/png": "[encoded data removed]"
     },
     "metadata": {
      "jupyter-vega": "#dc7afb84-eb40-47d4-9491-59b07ad6b089"
     },
     "output_type": "display_data"
    }
   ],
   "source": [
    "results.graph_results('event', 'train')"
   ]
  },
  {
   "cell_type": "markdown",
   "metadata": {},
   "source": [
    "## Test"
   ]
  },
  {
   "cell_type": "code",
   "execution_count": 49,
   "metadata": {},
   "outputs": [
    {
     "data": {
      "text/html": [
       "<div class=\"vega-embed\" id=\"9aeb1872-d7b9-46a3-ac41-3d7e212c6606\"></div>\n",
       "\n",
       "<style>\n",
       ".vega-embed .error p {\n",
       "    color: firebrick;\n",
       "    font-size: 14px;\n",
       "}\n",
       "</style>\n"
      ]
     },
     "metadata": {
      "jupyter-vega": "#9aeb1872-d7b9-46a3-ac41-3d7e212c6606"
     },
     "output_type": "display_data"
    },
    {
     "data": {
      "application/javascript": [
       "var spec = {\"config\": {\"view\": {\"width\": 400, \"height\": 300}}, \"layer\": [{\"data\": {\"values\": [{\"models\": \"Majority\", \"error\": 100.0}, {\"models\": \"MC-1\", \"error\": 40.5}, {\"models\": \"MC-2\", \"error\": 38.5}, {\"models\": \"MC-3\", \"error\": 50.0}, {\"models\": \"MC-4\", \"error\": 75.0}, {\"models\": \"LinReg\", \"error\": 100.0}, {\"models\": \"LinRegRound\", \"error\": 38.5}, {\"models\": \"LinRegRoundNorm\", \"error\": 38.5}, {\"models\": \"DecisionTree\", \"error\": 13.5}, {\"models\": \"RandomForest\", \"error\": 11.5}, {\"models\": \"AdaBoost\", \"error\": 25.0}, {\"models\": \"DecisionTreeOneHot\", \"error\": 13.5}, {\"models\": \"RandomForestOneHot\", \"error\": 13.5}, {\"models\": \"FNN-SingleTanh\", \"error\": 13.5}, {\"models\": \"FNN-SingleLinear\", \"error\": 13.5}, {\"models\": \"FNN-SingleRelu\", \"error\": 11.5}, {\"models\": \"FNN-MultipleTanh\", \"error\": 11.5}, {\"models\": \"FNN-MultipleLinear\", \"error\": 11.5}, {\"models\": \"FNN-MultipleRelu\", \"error\": 13.5}, {\"models\": \"RNN-Embedded\", \"error\": 11.5}, {\"models\": \"RNN-EmbeddedForwards\", \"error\": 25.0}, {\"models\": \"LSTM-Embedded\", \"error\": 63.5}, {\"models\": \"LSTM-EmbeddedForwards\", \"error\": 75.0}, {\"models\": \"RNN-OneHotForwards\", \"error\": 38.5}, {\"models\": \"LSTM-OneHotForwards\", \"error\": 38.5}]}, \"mark\": \"bar\", \"encoding\": {\"x\": {\"type\": \"quantitative\", \"field\": \"error\"}, \"y\": {\"type\": \"nominal\", \"field\": \"models\", \"sort\": [\"Majority\", \"MC-1\", \"MC-2\", \"MC-3\", \"MC-4\", \"LinReg\", \"LinRegRound\", \"LinRegRoundNorm\", \"DecisionTree\", \"RandomForest\", \"AdaBoost\", \"DecisionTreeOneHot\", \"RandomForestOneHot\", \"FNN-SingleTanh\", \"FNN-SingleLinear\", \"FNN-SingleRelu\", \"FNN-MultipleTanh\", \"FNN-MultipleLinear\", \"FNN-MultipleRelu\", \"RNN-Embedded\", \"RNN-EmbeddedForwards\", \"LSTM-Embedded\", \"LSTM-EmbeddedForwards\", \"RNN-OneHotForwards\", \"LSTM-OneHotForwards\"]}}}, {\"data\": {\"values\": [{\"models\": \"Majority\", \"error\": 100.0}, {\"models\": \"MC-1\", \"error\": 40.5}, {\"models\": \"MC-2\", \"error\": 38.5}, {\"models\": \"MC-3\", \"error\": 50.0}, {\"models\": \"MC-4\", \"error\": 75.0}, {\"models\": \"LinReg\", \"error\": 100.0}, {\"models\": \"LinRegRound\", \"error\": 38.5}, {\"models\": \"LinRegRoundNorm\", \"error\": 38.5}, {\"models\": \"DecisionTree\", \"error\": 13.5}, {\"models\": \"RandomForest\", \"error\": 11.5}, {\"models\": \"AdaBoost\", \"error\": 25.0}, {\"models\": \"DecisionTreeOneHot\", \"error\": 13.5}, {\"models\": \"RandomForestOneHot\", \"error\": 13.5}, {\"models\": \"FNN-SingleTanh\", \"error\": 13.5}, {\"models\": \"FNN-SingleLinear\", \"error\": 13.5}, {\"models\": \"FNN-SingleRelu\", \"error\": 11.5}, {\"models\": \"FNN-MultipleTanh\", \"error\": 11.5}, {\"models\": \"FNN-MultipleLinear\", \"error\": 11.5}, {\"models\": \"FNN-MultipleRelu\", \"error\": 13.5}, {\"models\": \"RNN-Embedded\", \"error\": 11.5}, {\"models\": \"RNN-EmbeddedForwards\", \"error\": 25.0}, {\"models\": \"LSTM-Embedded\", \"error\": 63.5}, {\"models\": \"LSTM-EmbeddedForwards\", \"error\": 75.0}, {\"models\": \"RNN-OneHotForwards\", \"error\": 38.5}, {\"models\": \"LSTM-OneHotForwards\", \"error\": 38.5}]}, \"mark\": {\"type\": \"text\", \"align\": \"left\", \"baseline\": \"middle\", \"dx\": 3}, \"encoding\": {\"text\": {\"type\": \"quantitative\", \"field\": \"error\"}, \"x\": {\"type\": \"quantitative\", \"field\": \"error\"}, \"y\": {\"type\": \"nominal\", \"field\": \"models\", \"sort\": [\"Majority\", \"MC-1\", \"MC-2\", \"MC-3\", \"MC-4\", \"LinReg\", \"LinRegRound\", \"LinRegRoundNorm\", \"DecisionTree\", \"RandomForest\", \"AdaBoost\", \"DecisionTreeOneHot\", \"RandomForestOneHot\", \"FNN-SingleTanh\", \"FNN-SingleLinear\", \"FNN-SingleRelu\", \"FNN-MultipleTanh\", \"FNN-MultipleLinear\", \"FNN-MultipleRelu\", \"RNN-Embedded\", \"RNN-EmbeddedForwards\", \"LSTM-Embedded\", \"LSTM-EmbeddedForwards\", \"RNN-OneHotForwards\", \"LSTM-OneHotForwards\"]}}}], \"$schema\": \"https://vega.github.io/schema/vega-lite/v2.4.3.json\"};\n",
       "var opt = {};\n",
       "var selector = \"#9aeb1872-d7b9-46a3-ac41-3d7e212c6606\";\n",
       "var type = \"vega-lite\";\n",
       "\n",
       "var output_area = this;\n",
       "\n",
       "require(['nbextensions/jupyter-vega/index'], function(vega) {\n",
       "  vega.render(selector, spec, type, opt, output_area);\n",
       "}, function (err) {\n",
       "  if (err.requireType !== 'scripterror') {\n",
       "    throw(err);\n",
       "  }\n",
       "});\n"
      ]
     },
     "metadata": {
      "jupyter-vega": "#9aeb1872-d7b9-46a3-ac41-3d7e212c6606"
     },
     "output_type": "display_data"
    },
    {
     "data": {
      "text/plain": []
     },
     "execution_count": 49,
     "metadata": {},
     "output_type": "execute_result"
    },
    {
     "data": {
      "image/png": "[encoded data removed]"
     },
     "metadata": {
      "jupyter-vega": "#9aeb1872-d7b9-46a3-ac41-3d7e212c6606"
     },
     "output_type": "display_data"
    }
   ],
   "source": [
    "results.graph_results('event', 'test')"
   ]
  },
  {
   "cell_type": "code",
   "execution_count": null,
   "metadata": {},
   "outputs": [],
   "source": []
  }
 ],
 "metadata": {
  "kernelspec": {
   "display_name": "Python 3",
   "language": "python",
   "name": "python3"
  },
  "language_info": {
   "codemirror_mode": {
    "name": "ipython",
    "version": 3
   },
   "file_extension": ".py",
   "mimetype": "text/x-python",
   "name": "python",
   "nbconvert_exporter": "python",
   "pygments_lexer": "ipython3",
   "version": "3.6.5"
  }
 },
 "nbformat": 4,
 "nbformat_minor": 2
}
