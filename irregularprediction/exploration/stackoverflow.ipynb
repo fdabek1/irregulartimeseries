{
 "cells": [
  {
   "cell_type": "code",
   "execution_count": 1,
   "metadata": {},
   "outputs": [],
   "source": [
    "DATA_FOLDER = 'data/so/'"
   ]
  },
  {
   "cell_type": "code",
   "execution_count": 2,
   "metadata": {},
   "outputs": [],
   "source": [
    "from IPython.display import display, HTML\n",
    "from viz import visualize_seqs\n",
    "import numpy as np"
   ]
  },
  {
   "cell_type": "markdown",
   "metadata": {},
   "source": [
    "Read data"
   ]
  },
  {
   "cell_type": "code",
   "execution_count": 3,
   "metadata": {},
   "outputs": [],
   "source": [
    "file_index = 1\n",
    "events = {}\n",
    "times = {}\n",
    "\n",
    "for data_type in ['train', 'test']:\n",
    "    with open(DATA_FOLDER + 'event-' + str(file_index) + '-' + data_type + '.txt') as f_events:\n",
    "        events[data_type] = [[int(y) for y in x.split()] for x in f_events]\n",
    "        \n",
    "    with open(DATA_FOLDER + 'time-' + str(file_index) + '-' + data_type + '.txt') as f_times:\n",
    "        times[data_type] = [[float(y) for y in x.split()] for x in f_times]\n",
    "\n",
    "badge_map = {}\n",
    "with open(DATA_FOLDER + 'badges.csv') as f_badge_labels:\n",
    "    next(f_badge_labels)\n",
    "    for row in f_badge_labels:\n",
    "        id, name = row.split(',')\n",
    "        badge_map[int(id)] = name.strip()"
   ]
  },
  {
   "cell_type": "markdown",
   "metadata": {},
   "source": [
    "# Models without Time"
   ]
  },
  {
   "cell_type": "markdown",
   "metadata": {},
   "source": [
    "Errors for these models are represented as a percent where:\n",
    "\n",
    "number wrong / total predictions = error%"
   ]
  },
  {
   "cell_type": "markdown",
   "metadata": {},
   "source": [
    "## Get Event Stats"
   ]
  },
  {
   "cell_type": "code",
   "execution_count": 4,
   "metadata": {},
   "outputs": [
    {
     "name": "stdout",
     "output_type": "stream",
     "text": [
      "Events [1, 2, 3, 4, 5, 6, 7, 8, 9, 10, 11, 12, 13, 14, 15, 16, 17, 18, 19, 20, 21, 22]\n",
      "Num events 22\n",
      "Max event 22\n",
      "\n",
      "--------\n",
      "Event counts\n",
      "{1: 30046, 2: 9705, 3: 3207, 4: 208506, 5: 27823, 6: 29955, 7: 9442, 8: 9065, 9: 110184, 10: 6578, 11: 1031, 12: 13260, 13: 4184, 14: 9249, 15: 1500, 16: 482, 17: 1342, 18: 2597, 19: 1816, 20: 334, 21: 79, 22: 29}\n"
     ]
    }
   ],
   "source": [
    "event_dict = {}\n",
    "for data_type in ['train', 'test']:\n",
    "    for seq in events[data_type]:\n",
    "        for event in seq:\n",
    "            if event not in event_dict:\n",
    "                event_dict[event] = 0\n",
    "            event_dict[event] += 1\n",
    "            \n",
    "all_events = list(event_dict.keys())\n",
    "num_events = len(all_events)\n",
    "max_event = max(all_events)\n",
    "print('Events', all_events)\n",
    "print('Num events', num_events)\n",
    "print('Max event', max_event)\n",
    "\n",
    "print('')\n",
    "print('-' * 8)\n",
    "print('Event counts')\n",
    "print(event_dict)"
   ]
  },
  {
   "cell_type": "markdown",
   "metadata": {},
   "source": [
    "# Helper Functions"
   ]
  },
  {
   "cell_type": "code",
   "execution_count": 9,
   "metadata": {},
   "outputs": [],
   "source": [
    "def compute_error(y_true, y_pred):\n",
    "    num_error = 0\n",
    "    total = 0\n",
    "    for s, seq in enumerate(y_true):\n",
    "        total += len(seq) - 1\n",
    "        for e, event in enumerate(seq[1:]):\n",
    "            if event != y_pred[s][e]:\n",
    "                num_error += 1\n",
    "                \n",
    "    return (num_error / total) * 100\n",
    "\n",
    "def show_results(train_pred, test_pred):\n",
    "    print('----')\n",
    "    print('Train Error: ', compute_error(events['train'], train_pred))\n",
    "    print('Test Error: ', compute_error(events['test'], test_pred))\n",
    "    display(HTML(visualize_seqs(events['train'], train_pred)))"
   ]
  },
  {
   "cell_type": "code",
   "execution_count": 6,
   "metadata": {},
   "outputs": [],
   "source": [
    "def convert_flat(predictions, data_type):\n",
    "    pred = []\n",
    "    index = 0\n",
    "    for s, seq in enumerate(events[data_type]):\n",
    "        start_index = index\n",
    "        index += len(seq) - 1\n",
    "        pred.append(predictions[start_index:index])\n",
    "        \n",
    "    return pred"
   ]
  },
  {
   "cell_type": "code",
   "execution_count": 7,
   "metadata": {},
   "outputs": [],
   "source": [
    "def convert_nn_seq(predictions, data_type):\n",
    "    pred = []\n",
    "    for s, seq in enumerate(events[data_type]):\n",
    "        seq_len = len(seq) - 1\n",
    "        pred.append(predictions[s][-seq_len:].tolist())\n",
    "        \n",
    "    return pred"
   ]
  },
  {
   "cell_type": "markdown",
   "metadata": {},
   "source": [
    "# Baselines"
   ]
  },
  {
   "cell_type": "markdown",
   "metadata": {},
   "source": [
    "## Majority Predictor\n",
    "\n",
    "Source: https://github.com/dunan/NeuralPointProcess/blob/master/code/baselines/majority_predictor/event_majority_baseline.py"
   ]
  },
  {
   "cell_type": "code",
   "execution_count": 56,
   "metadata": {},
   "outputs": [],
   "source": [
    "def draw_button(e_true, e_pred, t_true, t_pred):\n",
    "    styles = {\n",
    "        'class': 'btn-primary',\n",
    "        'opacity': 1.0\n",
    "    }\n",
    "    e_display = str(e_true)\n",
    "    t_display = ''\n",
    "    show_both = e_true is not None and e_pred is not None and t_true is not None and t_pred is not None\n",
    "    \n",
    "    if e_true != e_pred:\n",
    "        styles['opacity'] = 0.3\n",
    "\n",
    "    return '<button type=\"button\" ' + \\\n",
    "           'class=\"btn ' + str(styles['class']) + '\" ' + \\\n",
    "           'style=\"opacity: ' + str(styles['opacity']) + ';\"' + \\\n",
    "           '>' + \\\n",
    "           str(e_display) + \\\n",
    "           ('<br>' if show_both else '') + \\\n",
    "           str(t_display) + \\\n",
    "           '</button>'\n",
    "\n",
    "\n",
    "def visualize_seqs(events_true=None, events_pred=None, times_true=None, times_pred=None, num=5):\n",
    "    # One set have to not be None\n",
    "    assert (events_true is not None and events_pred is not None) or (times_true is not None and times_pred is not None)\n",
    "\n",
    "    # Determine which array to iterate over\n",
    "    array_iter = events_pred if events_pred is not None else times_pred\n",
    "\n",
    "    seqs = ''\n",
    "    for s in range(len(array_iter[:num])):\n",
    "        seq_viz = '<strong><u>' + str(s + 1) + '</u></strong> '\n",
    "        for e in range(len(array_iter[s])):\n",
    "            seq_viz += draw_button(None if events_true is None else events_true[s][e],\n",
    "                                   None if events_pred is None else events_pred[s][e],\n",
    "                                   None if times_true is None else times_true[s][e],\n",
    "                                   None if times_pred is None else times_pred[s][e])\n",
    "\n",
    "        seqs += '<div>' + seq_viz + '</div><br>'\n",
    "\n",
    "    return seqs\n"
   ]
  },
  {
   "cell_type": "code",
   "execution_count": 57,
   "metadata": {},
   "outputs": [
    {
     "name": "stdout",
     "output_type": "stream",
     "text": [
      "Most commom event is 4\n",
      "----\n",
      "Train Error:  56.53630575271122\n",
      "Test Error:  57.106363456264916\n"
     ]
    },
    {
     "data": {
      "text/html": [
       "<div><strong><u>1</u></strong> <button type=\"button\" class=\"btn btn-primary\" style=\"opacity: 0.3;\">6</button><button type=\"button\" class=\"btn btn-primary\" style=\"opacity: 0.3;\">14</button><button type=\"button\" class=\"btn btn-primary\" style=\"opacity: 1.0;\">4</button><button type=\"button\" class=\"btn btn-primary\" style=\"opacity: 1.0;\">4</button><button type=\"button\" class=\"btn btn-primary\" style=\"opacity: 0.3;\">3</button><button type=\"button\" class=\"btn btn-primary\" style=\"opacity: 1.0;\">4</button><button type=\"button\" class=\"btn btn-primary\" style=\"opacity: 1.0;\">4</button><button type=\"button\" class=\"btn btn-primary\" style=\"opacity: 0.3;\">6</button><button type=\"button\" class=\"btn btn-primary\" style=\"opacity: 0.3;\">14</button><button type=\"button\" class=\"btn btn-primary\" style=\"opacity: 0.3;\">8</button><button type=\"button\" class=\"btn btn-primary\" style=\"opacity: 0.3;\">8</button><button type=\"button\" class=\"btn btn-primary\" style=\"opacity: 0.3;\">18</button><button type=\"button\" class=\"btn btn-primary\" style=\"opacity: 0.3;\">18</button><button type=\"button\" class=\"btn btn-primary\" style=\"opacity: 0.3;\">8</button><button type=\"button\" class=\"btn btn-primary\" style=\"opacity: 0.3;\">18</button><button type=\"button\" class=\"btn btn-primary\" style=\"opacity: 0.3;\">12</button><button type=\"button\" class=\"btn btn-primary\" style=\"opacity: 0.3;\">6</button><button type=\"button\" class=\"btn btn-primary\" style=\"opacity: 1.0;\">4</button><button type=\"button\" class=\"btn btn-primary\" style=\"opacity: 0.3;\">6</button><button type=\"button\" class=\"btn btn-primary\" style=\"opacity: 0.3;\">14</button><button type=\"button\" class=\"btn btn-primary\" style=\"opacity: 0.3;\">6</button><button type=\"button\" class=\"btn btn-primary\" style=\"opacity: 0.3;\">6</button><button type=\"button\" class=\"btn btn-primary\" style=\"opacity: 0.3;\">6</button><button type=\"button\" class=\"btn btn-primary\" style=\"opacity: 0.3;\">6</button><button type=\"button\" class=\"btn btn-primary\" style=\"opacity: 1.0;\">4</button><button type=\"button\" class=\"btn btn-primary\" style=\"opacity: 0.3;\">6</button><button type=\"button\" class=\"btn btn-primary\" style=\"opacity: 1.0;\">4</button><button type=\"button\" class=\"btn btn-primary\" style=\"opacity: 0.3;\">9</button><button type=\"button\" class=\"btn btn-primary\" style=\"opacity: 0.3;\">2</button><button type=\"button\" class=\"btn btn-primary\" style=\"opacity: 0.3;\">2</button><button type=\"button\" class=\"btn btn-primary\" style=\"opacity: 0.3;\">8</button><button type=\"button\" class=\"btn btn-primary\" style=\"opacity: 0.3;\">5</button><button type=\"button\" class=\"btn btn-primary\" style=\"opacity: 0.3;\">6</button><button type=\"button\" class=\"btn btn-primary\" style=\"opacity: 0.3;\">9</button><button type=\"button\" class=\"btn btn-primary\" style=\"opacity: 0.3;\">1</button><button type=\"button\" class=\"btn btn-primary\" style=\"opacity: 0.3;\">12</button><button type=\"button\" class=\"btn btn-primary\" style=\"opacity: 0.3;\">6</button><button type=\"button\" class=\"btn btn-primary\" style=\"opacity: 0.3;\">2</button><button type=\"button\" class=\"btn btn-primary\" style=\"opacity: 1.0;\">4</button><button type=\"button\" class=\"btn btn-primary\" style=\"opacity: 0.3;\">9</button><button type=\"button\" class=\"btn btn-primary\" style=\"opacity: 0.3;\">6</button><button type=\"button\" class=\"btn btn-primary\" style=\"opacity: 0.3;\">2</button><button type=\"button\" class=\"btn btn-primary\" style=\"opacity: 0.3;\">15</button></div><br><div><strong><u>2</u></strong> <button type=\"button\" class=\"btn btn-primary\" style=\"opacity: 0.3;\">9</button><button type=\"button\" class=\"btn btn-primary\" style=\"opacity: 0.3;\">9</button><button type=\"button\" class=\"btn btn-primary\" style=\"opacity: 1.0;\">4</button><button type=\"button\" class=\"btn btn-primary\" style=\"opacity: 1.0;\">4</button><button type=\"button\" class=\"btn btn-primary\" style=\"opacity: 1.0;\">4</button><button type=\"button\" class=\"btn btn-primary\" style=\"opacity: 1.0;\">4</button><button type=\"button\" class=\"btn btn-primary\" style=\"opacity: 0.3;\">5</button><button type=\"button\" class=\"btn btn-primary\" style=\"opacity: 1.0;\">4</button><button type=\"button\" class=\"btn btn-primary\" style=\"opacity: 1.0;\">4</button><button type=\"button\" class=\"btn btn-primary\" style=\"opacity: 0.3;\">10</button><button type=\"button\" class=\"btn btn-primary\" style=\"opacity: 0.3;\">1</button><button type=\"button\" class=\"btn btn-primary\" style=\"opacity: 0.3;\">9</button><button type=\"button\" class=\"btn btn-primary\" style=\"opacity: 1.0;\">4</button><button type=\"button\" class=\"btn btn-primary\" style=\"opacity: 0.3;\">9</button><button type=\"button\" class=\"btn btn-primary\" style=\"opacity: 1.0;\">4</button><button type=\"button\" class=\"btn btn-primary\" style=\"opacity: 0.3;\">9</button><button type=\"button\" class=\"btn btn-primary\" style=\"opacity: 0.3;\">8</button><button type=\"button\" class=\"btn btn-primary\" style=\"opacity: 0.3;\">8</button><button type=\"button\" class=\"btn btn-primary\" style=\"opacity: 0.3;\">18</button><button type=\"button\" class=\"btn btn-primary\" style=\"opacity: 0.3;\">7</button><button type=\"button\" class=\"btn btn-primary\" style=\"opacity: 1.0;\">4</button><button type=\"button\" class=\"btn btn-primary\" style=\"opacity: 0.3;\">9</button><button type=\"button\" class=\"btn btn-primary\" style=\"opacity: 1.0;\">4</button><button type=\"button\" class=\"btn btn-primary\" style=\"opacity: 1.0;\">4</button><button type=\"button\" class=\"btn btn-primary\" style=\"opacity: 1.0;\">4</button><button type=\"button\" class=\"btn btn-primary\" style=\"opacity: 1.0;\">4</button><button type=\"button\" class=\"btn btn-primary\" style=\"opacity: 0.3;\">9</button><button type=\"button\" class=\"btn btn-primary\" style=\"opacity: 0.3;\">12</button><button type=\"button\" class=\"btn btn-primary\" style=\"opacity: 1.0;\">4</button><button type=\"button\" class=\"btn btn-primary\" style=\"opacity: 0.3;\">9</button><button type=\"button\" class=\"btn btn-primary\" style=\"opacity: 0.3;\">1</button><button type=\"button\" class=\"btn btn-primary\" style=\"opacity: 0.3;\">5</button><button type=\"button\" class=\"btn btn-primary\" style=\"opacity: 0.3;\">1</button><button type=\"button\" class=\"btn btn-primary\" style=\"opacity: 0.3;\">5</button><button type=\"button\" class=\"btn btn-primary\" style=\"opacity: 1.0;\">4</button><button type=\"button\" class=\"btn btn-primary\" style=\"opacity: 1.0;\">4</button><button type=\"button\" class=\"btn btn-primary\" style=\"opacity: 0.3;\">5</button><button type=\"button\" class=\"btn btn-primary\" style=\"opacity: 0.3;\">9</button><button type=\"button\" class=\"btn btn-primary\" style=\"opacity: 0.3;\">9</button><button type=\"button\" class=\"btn btn-primary\" style=\"opacity: 1.0;\">4</button><button type=\"button\" class=\"btn btn-primary\" style=\"opacity: 1.0;\">4</button><button type=\"button\" class=\"btn btn-primary\" style=\"opacity: 1.0;\">4</button><button type=\"button\" class=\"btn btn-primary\" style=\"opacity: 0.3;\">5</button><button type=\"button\" class=\"btn btn-primary\" style=\"opacity: 1.0;\">4</button><button type=\"button\" class=\"btn btn-primary\" style=\"opacity: 1.0;\">4</button><button type=\"button\" class=\"btn btn-primary\" style=\"opacity: 0.3;\">7</button><button type=\"button\" class=\"btn btn-primary\" style=\"opacity: 0.3;\">1</button><button type=\"button\" class=\"btn btn-primary\" style=\"opacity: 1.0;\">4</button><button type=\"button\" class=\"btn btn-primary\" style=\"opacity: 1.0;\">4</button><button type=\"button\" class=\"btn btn-primary\" style=\"opacity: 1.0;\">4</button><button type=\"button\" class=\"btn btn-primary\" style=\"opacity: 0.3;\">9</button><button type=\"button\" class=\"btn btn-primary\" style=\"opacity: 1.0;\">4</button><button type=\"button\" class=\"btn btn-primary\" style=\"opacity: 1.0;\">4</button><button type=\"button\" class=\"btn btn-primary\" style=\"opacity: 1.0;\">4</button><button type=\"button\" class=\"btn btn-primary\" style=\"opacity: 1.0;\">4</button><button type=\"button\" class=\"btn btn-primary\" style=\"opacity: 0.3;\">5</button><button type=\"button\" class=\"btn btn-primary\" style=\"opacity: 0.3;\">9</button><button type=\"button\" class=\"btn btn-primary\" style=\"opacity: 1.0;\">4</button><button type=\"button\" class=\"btn btn-primary\" style=\"opacity: 0.3;\">9</button><button type=\"button\" class=\"btn btn-primary\" style=\"opacity: 0.3;\">9</button><button type=\"button\" class=\"btn btn-primary\" style=\"opacity: 0.3;\">9</button><button type=\"button\" class=\"btn btn-primary\" style=\"opacity: 0.3;\">12</button><button type=\"button\" class=\"btn btn-primary\" style=\"opacity: 0.3;\">9</button><button type=\"button\" class=\"btn btn-primary\" style=\"opacity: 1.0;\">4</button><button type=\"button\" class=\"btn btn-primary\" style=\"opacity: 0.3;\">9</button><button type=\"button\" class=\"btn btn-primary\" style=\"opacity: 0.3;\">9</button><button type=\"button\" class=\"btn btn-primary\" style=\"opacity: 0.3;\">9</button><button type=\"button\" class=\"btn btn-primary\" style=\"opacity: 0.3;\">9</button><button type=\"button\" class=\"btn btn-primary\" style=\"opacity: 0.3;\">5</button><button type=\"button\" class=\"btn btn-primary\" style=\"opacity: 0.3;\">7</button><button type=\"button\" class=\"btn btn-primary\" style=\"opacity: 0.3;\">5</button><button type=\"button\" class=\"btn btn-primary\" style=\"opacity: 0.3;\">1</button><button type=\"button\" class=\"btn btn-primary\" style=\"opacity: 0.3;\">5</button><button type=\"button\" class=\"btn btn-primary\" style=\"opacity: 0.3;\">9</button><button type=\"button\" class=\"btn btn-primary\" style=\"opacity: 1.0;\">4</button><button type=\"button\" class=\"btn btn-primary\" style=\"opacity: 0.3;\">9</button><button type=\"button\" class=\"btn btn-primary\" style=\"opacity: 0.3;\">9</button></div><br><div><strong><u>3</u></strong> <button type=\"button\" class=\"btn btn-primary\" style=\"opacity: 1.0;\">4</button><button type=\"button\" class=\"btn btn-primary\" style=\"opacity: 1.0;\">4</button><button type=\"button\" class=\"btn btn-primary\" style=\"opacity: 1.0;\">4</button><button type=\"button\" class=\"btn btn-primary\" style=\"opacity: 0.3;\">9</button><button type=\"button\" class=\"btn btn-primary\" style=\"opacity: 0.3;\">10</button><button type=\"button\" class=\"btn btn-primary\" style=\"opacity: 0.3;\">9</button><button type=\"button\" class=\"btn btn-primary\" style=\"opacity: 0.3;\">12</button><button type=\"button\" class=\"btn btn-primary\" style=\"opacity: 0.3;\">1</button><button type=\"button\" class=\"btn btn-primary\" style=\"opacity: 0.3;\">6</button><button type=\"button\" class=\"btn btn-primary\" style=\"opacity: 1.0;\">4</button><button type=\"button\" class=\"btn btn-primary\" style=\"opacity: 0.3;\">8</button><button type=\"button\" class=\"btn btn-primary\" style=\"opacity: 0.3;\">18</button><button type=\"button\" class=\"btn btn-primary\" style=\"opacity: 0.3;\">8</button><button type=\"button\" class=\"btn btn-primary\" style=\"opacity: 1.0;\">4</button><button type=\"button\" class=\"btn btn-primary\" style=\"opacity: 1.0;\">4</button><button type=\"button\" class=\"btn btn-primary\" style=\"opacity: 0.3;\">9</button><button type=\"button\" class=\"btn btn-primary\" style=\"opacity: 1.0;\">4</button><button type=\"button\" class=\"btn btn-primary\" style=\"opacity: 0.3;\">10</button><button type=\"button\" class=\"btn btn-primary\" style=\"opacity: 0.3;\">11</button><button type=\"button\" class=\"btn btn-primary\" style=\"opacity: 1.0;\">4</button><button type=\"button\" class=\"btn btn-primary\" style=\"opacity: 0.3;\">9</button><button type=\"button\" class=\"btn btn-primary\" style=\"opacity: 0.3;\">6</button><button type=\"button\" class=\"btn btn-primary\" style=\"opacity: 1.0;\">4</button><button type=\"button\" class=\"btn btn-primary\" style=\"opacity: 1.0;\">4</button><button type=\"button\" class=\"btn btn-primary\" style=\"opacity: 0.3;\">5</button><button type=\"button\" class=\"btn btn-primary\" style=\"opacity: 1.0;\">4</button><button type=\"button\" class=\"btn btn-primary\" style=\"opacity: 0.3;\">9</button><button type=\"button\" class=\"btn btn-primary\" style=\"opacity: 0.3;\">2</button><button type=\"button\" class=\"btn btn-primary\" style=\"opacity: 0.3;\">1</button><button type=\"button\" class=\"btn btn-primary\" style=\"opacity: 0.3;\">9</button><button type=\"button\" class=\"btn btn-primary\" style=\"opacity: 0.3;\">9</button><button type=\"button\" class=\"btn btn-primary\" style=\"opacity: 0.3;\">2</button><button type=\"button\" class=\"btn btn-primary\" style=\"opacity: 1.0;\">4</button><button type=\"button\" class=\"btn btn-primary\" style=\"opacity: 1.0;\">4</button><button type=\"button\" class=\"btn btn-primary\" style=\"opacity: 0.3;\">16</button><button type=\"button\" class=\"btn btn-primary\" style=\"opacity: 1.0;\">4</button><button type=\"button\" class=\"btn btn-primary\" style=\"opacity: 0.3;\">9</button><button type=\"button\" class=\"btn btn-primary\" style=\"opacity: 0.3;\">9</button><button type=\"button\" class=\"btn btn-primary\" style=\"opacity: 0.3;\">9</button><button type=\"button\" class=\"btn btn-primary\" style=\"opacity: 1.0;\">4</button><button type=\"button\" class=\"btn btn-primary\" style=\"opacity: 0.3;\">3</button><button type=\"button\" class=\"btn btn-primary\" style=\"opacity: 0.3;\">12</button><button type=\"button\" class=\"btn btn-primary\" style=\"opacity: 0.3;\">5</button><button type=\"button\" class=\"btn btn-primary\" style=\"opacity: 1.0;\">4</button><button type=\"button\" class=\"btn btn-primary\" style=\"opacity: 1.0;\">4</button><button type=\"button\" class=\"btn btn-primary\" style=\"opacity: 0.3;\">9</button><button type=\"button\" class=\"btn btn-primary\" style=\"opacity: 1.0;\">4</button><button type=\"button\" class=\"btn btn-primary\" style=\"opacity: 1.0;\">4</button><button type=\"button\" class=\"btn btn-primary\" style=\"opacity: 1.0;\">4</button><button type=\"button\" class=\"btn btn-primary\" style=\"opacity: 0.3;\">5</button><button type=\"button\" class=\"btn btn-primary\" style=\"opacity: 0.3;\">9</button><button type=\"button\" class=\"btn btn-primary\" style=\"opacity: 0.3;\">1</button><button type=\"button\" class=\"btn btn-primary\" style=\"opacity: 1.0;\">4</button></div><br><div><strong><u>4</u></strong> <button type=\"button\" class=\"btn btn-primary\" style=\"opacity: 0.3;\">19</button><button type=\"button\" class=\"btn btn-primary\" style=\"opacity: 0.3;\">19</button><button type=\"button\" class=\"btn btn-primary\" style=\"opacity: 1.0;\">4</button><button type=\"button\" class=\"btn btn-primary\" style=\"opacity: 1.0;\">4</button><button type=\"button\" class=\"btn btn-primary\" style=\"opacity: 1.0;\">4</button><button type=\"button\" class=\"btn btn-primary\" style=\"opacity: 1.0;\">4</button><button type=\"button\" class=\"btn btn-primary\" style=\"opacity: 1.0;\">4</button><button type=\"button\" class=\"btn btn-primary\" style=\"opacity: 0.3;\">17</button><button type=\"button\" class=\"btn btn-primary\" style=\"opacity: 0.3;\">19</button><button type=\"button\" class=\"btn btn-primary\" style=\"opacity: 1.0;\">4</button><button type=\"button\" class=\"btn btn-primary\" style=\"opacity: 1.0;\">4</button><button type=\"button\" class=\"btn btn-primary\" style=\"opacity: 0.3;\">9</button><button type=\"button\" class=\"btn btn-primary\" style=\"opacity: 1.0;\">4</button><button type=\"button\" class=\"btn btn-primary\" style=\"opacity: 0.3;\">5</button><button type=\"button\" class=\"btn btn-primary\" style=\"opacity: 0.3;\">5</button><button type=\"button\" class=\"btn btn-primary\" style=\"opacity: 0.3;\">5</button><button type=\"button\" class=\"btn btn-primary\" style=\"opacity: 1.0;\">4</button><button type=\"button\" class=\"btn btn-primary\" style=\"opacity: 1.0;\">4</button><button type=\"button\" class=\"btn btn-primary\" style=\"opacity: 0.3;\">5</button><button type=\"button\" class=\"btn btn-primary\" style=\"opacity: 0.3;\">8</button><button type=\"button\" class=\"btn btn-primary\" style=\"opacity: 0.3;\">8</button><button type=\"button\" class=\"btn btn-primary\" style=\"opacity: 1.0;\">4</button><button type=\"button\" class=\"btn btn-primary\" style=\"opacity: 1.0;\">4</button><button type=\"button\" class=\"btn btn-primary\" style=\"opacity: 0.3;\">20</button><button type=\"button\" class=\"btn btn-primary\" style=\"opacity: 0.3;\">6</button><button type=\"button\" class=\"btn btn-primary\" style=\"opacity: 0.3;\">14</button><button type=\"button\" class=\"btn btn-primary\" style=\"opacity: 0.3;\">19</button><button type=\"button\" class=\"btn btn-primary\" style=\"opacity: 0.3;\">9</button><button type=\"button\" class=\"btn btn-primary\" style=\"opacity: 1.0;\">4</button><button type=\"button\" class=\"btn btn-primary\" style=\"opacity: 0.3;\">9</button><button type=\"button\" class=\"btn btn-primary\" style=\"opacity: 0.3;\">12</button><button type=\"button\" class=\"btn btn-primary\" style=\"opacity: 0.3;\">5</button><button type=\"button\" class=\"btn btn-primary\" style=\"opacity: 0.3;\">9</button><button type=\"button\" class=\"btn btn-primary\" style=\"opacity: 0.3;\">1</button><button type=\"button\" class=\"btn btn-primary\" style=\"opacity: 1.0;\">4</button><button type=\"button\" class=\"btn btn-primary\" style=\"opacity: 0.3;\">9</button><button type=\"button\" class=\"btn btn-primary\" style=\"opacity: 0.3;\">5</button><button type=\"button\" class=\"btn btn-primary\" style=\"opacity: 0.3;\">1</button><button type=\"button\" class=\"btn btn-primary\" style=\"opacity: 0.3;\">9</button><button type=\"button\" class=\"btn btn-primary\" style=\"opacity: 1.0;\">4</button><button type=\"button\" class=\"btn btn-primary\" style=\"opacity: 1.0;\">4</button><button type=\"button\" class=\"btn btn-primary\" style=\"opacity: 1.0;\">4</button><button type=\"button\" class=\"btn btn-primary\" style=\"opacity: 0.3;\">9</button><button type=\"button\" class=\"btn btn-primary\" style=\"opacity: 0.3;\">9</button><button type=\"button\" class=\"btn btn-primary\" style=\"opacity: 1.0;\">4</button><button type=\"button\" class=\"btn btn-primary\" style=\"opacity: 1.0;\">4</button><button type=\"button\" class=\"btn btn-primary\" style=\"opacity: 0.3;\">9</button><button type=\"button\" class=\"btn btn-primary\" style=\"opacity: 1.0;\">4</button><button type=\"button\" class=\"btn btn-primary\" style=\"opacity: 1.0;\">4</button><button type=\"button\" class=\"btn btn-primary\" style=\"opacity: 0.3;\">9</button><button type=\"button\" class=\"btn btn-primary\" style=\"opacity: 1.0;\">4</button><button type=\"button\" class=\"btn btn-primary\" style=\"opacity: 0.3;\">9</button><button type=\"button\" class=\"btn btn-primary\" style=\"opacity: 1.0;\">4</button><button type=\"button\" class=\"btn btn-primary\" style=\"opacity: 1.0;\">4</button><button type=\"button\" class=\"btn btn-primary\" style=\"opacity: 0.3;\">9</button><button type=\"button\" class=\"btn btn-primary\" style=\"opacity: 1.0;\">4</button><button type=\"button\" class=\"btn btn-primary\" style=\"opacity: 0.3;\">9</button><button type=\"button\" class=\"btn btn-primary\" style=\"opacity: 0.3;\">5</button><button type=\"button\" class=\"btn btn-primary\" style=\"opacity: 0.3;\">5</button><button type=\"button\" class=\"btn btn-primary\" style=\"opacity: 1.0;\">4</button><button type=\"button\" class=\"btn btn-primary\" style=\"opacity: 1.0;\">4</button><button type=\"button\" class=\"btn btn-primary\" style=\"opacity: 1.0;\">4</button><button type=\"button\" class=\"btn btn-primary\" style=\"opacity: 1.0;\">4</button><button type=\"button\" class=\"btn btn-primary\" style=\"opacity: 0.3;\">5</button><button type=\"button\" class=\"btn btn-primary\" style=\"opacity: 1.0;\">4</button><button type=\"button\" class=\"btn btn-primary\" style=\"opacity: 1.0;\">4</button><button type=\"button\" class=\"btn btn-primary\" style=\"opacity: 1.0;\">4</button><button type=\"button\" class=\"btn btn-primary\" style=\"opacity: 1.0;\">4</button><button type=\"button\" class=\"btn btn-primary\" style=\"opacity: 1.0;\">4</button><button type=\"button\" class=\"btn btn-primary\" style=\"opacity: 1.0;\">4</button><button type=\"button\" class=\"btn btn-primary\" style=\"opacity: 1.0;\">4</button><button type=\"button\" class=\"btn btn-primary\" style=\"opacity: 0.3;\">1</button><button type=\"button\" class=\"btn btn-primary\" style=\"opacity: 1.0;\">4</button><button type=\"button\" class=\"btn btn-primary\" style=\"opacity: 0.3;\">12</button><button type=\"button\" class=\"btn btn-primary\" style=\"opacity: 1.0;\">4</button><button type=\"button\" class=\"btn btn-primary\" style=\"opacity: 0.3;\">9</button><button type=\"button\" class=\"btn btn-primary\" style=\"opacity: 0.3;\">9</button><button type=\"button\" class=\"btn btn-primary\" style=\"opacity: 0.3;\">6</button><button type=\"button\" class=\"btn btn-primary\" style=\"opacity: 1.0;\">4</button><button type=\"button\" class=\"btn btn-primary\" style=\"opacity: 1.0;\">4</button><button type=\"button\" class=\"btn btn-primary\" style=\"opacity: 0.3;\">9</button><button type=\"button\" class=\"btn btn-primary\" style=\"opacity: 1.0;\">4</button><button type=\"button\" class=\"btn btn-primary\" style=\"opacity: 0.3;\">5</button><button type=\"button\" class=\"btn btn-primary\" style=\"opacity: 0.3;\">1</button><button type=\"button\" class=\"btn btn-primary\" style=\"opacity: 1.0;\">4</button><button type=\"button\" class=\"btn btn-primary\" style=\"opacity: 0.3;\">9</button></div><br><div><strong><u>5</u></strong> <button type=\"button\" class=\"btn btn-primary\" style=\"opacity: 1.0;\">4</button><button type=\"button\" class=\"btn btn-primary\" style=\"opacity: 0.3;\">5</button><button type=\"button\" class=\"btn btn-primary\" style=\"opacity: 0.3;\">9</button><button type=\"button\" class=\"btn btn-primary\" style=\"opacity: 0.3;\">9</button><button type=\"button\" class=\"btn btn-primary\" style=\"opacity: 0.3;\">9</button><button type=\"button\" class=\"btn btn-primary\" style=\"opacity: 1.0;\">4</button><button type=\"button\" class=\"btn btn-primary\" style=\"opacity: 0.3;\">1</button><button type=\"button\" class=\"btn btn-primary\" style=\"opacity: 0.3;\">9</button><button type=\"button\" class=\"btn btn-primary\" style=\"opacity: 0.3;\">5</button><button type=\"button\" class=\"btn btn-primary\" style=\"opacity: 1.0;\">4</button><button type=\"button\" class=\"btn btn-primary\" style=\"opacity: 0.3;\">7</button><button type=\"button\" class=\"btn btn-primary\" style=\"opacity: 1.0;\">4</button><button type=\"button\" class=\"btn btn-primary\" style=\"opacity: 0.3;\">9</button><button type=\"button\" class=\"btn btn-primary\" style=\"opacity: 1.0;\">4</button><button type=\"button\" class=\"btn btn-primary\" style=\"opacity: 0.3;\">9</button><button type=\"button\" class=\"btn btn-primary\" style=\"opacity: 1.0;\">4</button><button type=\"button\" class=\"btn btn-primary\" style=\"opacity: 0.3;\">8</button><button type=\"button\" class=\"btn btn-primary\" style=\"opacity: 0.3;\">5</button><button type=\"button\" class=\"btn btn-primary\" style=\"opacity: 0.3;\">9</button><button type=\"button\" class=\"btn btn-primary\" style=\"opacity: 1.0;\">4</button><button type=\"button\" class=\"btn btn-primary\" style=\"opacity: 0.3;\">1</button><button type=\"button\" class=\"btn btn-primary\" style=\"opacity: 0.3;\">9</button><button type=\"button\" class=\"btn btn-primary\" style=\"opacity: 0.3;\">1</button><button type=\"button\" class=\"btn btn-primary\" style=\"opacity: 1.0;\">4</button><button type=\"button\" class=\"btn btn-primary\" style=\"opacity: 1.0;\">4</button><button type=\"button\" class=\"btn btn-primary\" style=\"opacity: 0.3;\">9</button><button type=\"button\" class=\"btn btn-primary\" style=\"opacity: 0.3;\">12</button><button type=\"button\" class=\"btn btn-primary\" style=\"opacity: 0.3;\">9</button><button type=\"button\" class=\"btn btn-primary\" style=\"opacity: 0.3;\">1</button><button type=\"button\" class=\"btn btn-primary\" style=\"opacity: 0.3;\">9</button><button type=\"button\" class=\"btn btn-primary\" style=\"opacity: 0.3;\">5</button><button type=\"button\" class=\"btn btn-primary\" style=\"opacity: 0.3;\">5</button><button type=\"button\" class=\"btn btn-primary\" style=\"opacity: 0.3;\">1</button><button type=\"button\" class=\"btn btn-primary\" style=\"opacity: 1.0;\">4</button><button type=\"button\" class=\"btn btn-primary\" style=\"opacity: 0.3;\">7</button><button type=\"button\" class=\"btn btn-primary\" style=\"opacity: 0.3;\">7</button><button type=\"button\" class=\"btn btn-primary\" style=\"opacity: 1.0;\">4</button><button type=\"button\" class=\"btn btn-primary\" style=\"opacity: 1.0;\">4</button><button type=\"button\" class=\"btn btn-primary\" style=\"opacity: 1.0;\">4</button><button type=\"button\" class=\"btn btn-primary\" style=\"opacity: 0.3;\">1</button><button type=\"button\" class=\"btn btn-primary\" style=\"opacity: 1.0;\">4</button><button type=\"button\" class=\"btn btn-primary\" style=\"opacity: 1.0;\">4</button><button type=\"button\" class=\"btn btn-primary\" style=\"opacity: 0.3;\">7</button><button type=\"button\" class=\"btn btn-primary\" style=\"opacity: 1.0;\">4</button><button type=\"button\" class=\"btn btn-primary\" style=\"opacity: 1.0;\">4</button><button type=\"button\" class=\"btn btn-primary\" style=\"opacity: 1.0;\">4</button><button type=\"button\" class=\"btn btn-primary\" style=\"opacity: 0.3;\">7</button><button type=\"button\" class=\"btn btn-primary\" style=\"opacity: 1.0;\">4</button><button type=\"button\" class=\"btn btn-primary\" style=\"opacity: 0.3;\">9</button><button type=\"button\" class=\"btn btn-primary\" style=\"opacity: 1.0;\">4</button><button type=\"button\" class=\"btn btn-primary\" style=\"opacity: 0.3;\">5</button><button type=\"button\" class=\"btn btn-primary\" style=\"opacity: 1.0;\">4</button><button type=\"button\" class=\"btn btn-primary\" style=\"opacity: 1.0;\">4</button><button type=\"button\" class=\"btn btn-primary\" style=\"opacity: 0.3;\">5</button><button type=\"button\" class=\"btn btn-primary\" style=\"opacity: 1.0;\">4</button><button type=\"button\" class=\"btn btn-primary\" style=\"opacity: 1.0;\">4</button><button type=\"button\" class=\"btn btn-primary\" style=\"opacity: 0.3;\">9</button><button type=\"button\" class=\"btn btn-primary\" style=\"opacity: 0.3;\">5</button><button type=\"button\" class=\"btn btn-primary\" style=\"opacity: 0.3;\">9</button><button type=\"button\" class=\"btn btn-primary\" style=\"opacity: 1.0;\">4</button><button type=\"button\" class=\"btn btn-primary\" style=\"opacity: 1.0;\">4</button><button type=\"button\" class=\"btn btn-primary\" style=\"opacity: 1.0;\">4</button><button type=\"button\" class=\"btn btn-primary\" style=\"opacity: 0.3;\">9</button><button type=\"button\" class=\"btn btn-primary\" style=\"opacity: 0.3;\">1</button><button type=\"button\" class=\"btn btn-primary\" style=\"opacity: 0.3;\">12</button><button type=\"button\" class=\"btn btn-primary\" style=\"opacity: 1.0;\">4</button><button type=\"button\" class=\"btn btn-primary\" style=\"opacity: 1.0;\">4</button><button type=\"button\" class=\"btn btn-primary\" style=\"opacity: 0.3;\">9</button><button type=\"button\" class=\"btn btn-primary\" style=\"opacity: 1.0;\">4</button><button type=\"button\" class=\"btn btn-primary\" style=\"opacity: 1.0;\">4</button></div><br>"
      ],
      "text/plain": [
       "<IPython.core.display.HTML object>"
      ]
     },
     "metadata": {},
     "output_type": "display_data"
    }
   ],
   "source": [
    "from collections import Counter\n",
    "\n",
    "cnt = Counter()\n",
    "for seq in events['train']:\n",
    "    for event in seq:\n",
    "        cnt[event] += 1\n",
    "\n",
    "top = cnt.most_common(1)[0][0]\n",
    "print('Most commom event is', top)\n",
    "\n",
    "train_pred = [[top for event in seq[1:]] for seq in events['train']]\n",
    "test_pred = [[top for event in seq[1:]] for seq in events['test']]\n",
    "show_results(train_pred, test_pred)"
   ]
  },
  {
   "cell_type": "markdown",
   "metadata": {},
   "source": [
    "## Markov Chain"
   ]
  },
  {
   "cell_type": "code",
   "execution_count": 47,
   "metadata": {},
   "outputs": [],
   "source": [
    "from collections import Counter, defaultdict\n",
    "\n",
    "def build_mc_model(order):\n",
    "    assert order >= 1\n",
    "    model = defaultdict(Counter)\n",
    "    label_cnt = Counter()\n",
    "    for seq in events['train']:\n",
    "        if len(seq) <= order or len(seq) <= 2:\n",
    "            continue\n",
    "            \n",
    "        for event in seq:\n",
    "            label_cnt[event] += 1\n",
    "            \n",
    "        state = tuple(seq[:order])\n",
    "        \n",
    "        for i in range(order, len(seq)):\n",
    "            model[state][seq[i]] += 1\n",
    "            state = state[1:] + (seq[i],)\n",
    "                \n",
    "    for key in model:\n",
    "        t = model[key].most_common(1)[0][0]\n",
    "        model[key] = t\n",
    "\n",
    "    return model, label_cnt\n",
    "\n",
    "def predict_mc_model(order):\n",
    "    model, label_cnt = build_mc_model(order)\n",
    "    top_pred = label_cnt.most_common(1)[0][0]\n",
    "    total = 0\n",
    "    err_cnt = 0\n",
    "    \n",
    "    preds = {}\n",
    "    for data_type in ['train', 'test']:\n",
    "        preds[data_type] = []\n",
    "        for seq in events[data_type]:\n",
    "            seq_pred = []\n",
    "            for i in range(1, order):\n",
    "                if i >= len(seq):\n",
    "                    break\n",
    "                    \n",
    "                seq_pred.append(top_pred)\n",
    "\n",
    "            state = tuple(seq[:order])\n",
    "            for i in range(order, len(seq)):\n",
    "                if state in model:\n",
    "                    pred = model[state]\n",
    "                else:\n",
    "                    pred = top_pred\n",
    "                state = state[1:] + (seq[i],)\n",
    "\n",
    "                seq_pred.append(pred)\n",
    "            preds[data_type].append(seq_pred)\n",
    "    return preds"
   ]
  },
  {
   "cell_type": "markdown",
   "metadata": {},
   "source": [
    "### MC-1"
   ]
  },
  {
   "cell_type": "code",
   "execution_count": null,
   "metadata": {},
   "outputs": [],
   "source": [
    "preds = predict_mc_model(1)\n",
    "show_results(preds['train'], preds['test'])"
   ]
  },
  {
   "cell_type": "markdown",
   "metadata": {},
   "source": [
    "### MC-2"
   ]
  },
  {
   "cell_type": "code",
   "execution_count": 49,
   "metadata": {},
   "outputs": [
    {
     "name": "stdout",
     "output_type": "stream",
     "text": [
      "----\n",
      "Train Error:  54.63673076210589\n",
      "Test Error:  55.162813976039295\n"
     ]
    },
    {
     "data": {
      "text/html": [
       "<div><strong><u>1</u></strong> <button type=\"button\" class=\"btn btn-primary\" style=\"opacity: 0.3;\">6</button><button type=\"button\" class=\"btn btn-primary\" style=\"opacity: 0.3;\">14</button><button type=\"button\" class=\"btn btn-primary\">4</button><button type=\"button\" class=\"btn btn-primary\">4</button><button type=\"button\" class=\"btn btn-primary\" style=\"opacity: 0.3;\">3</button><button type=\"button\" class=\"btn btn-primary\">4</button><button type=\"button\" class=\"btn btn-primary\">4</button><button type=\"button\" class=\"btn btn-primary\" style=\"opacity: 0.3;\">6</button><button type=\"button\" class=\"btn btn-primary\" style=\"opacity: 0.3;\">14</button><button type=\"button\" class=\"btn btn-primary\">8</button><button type=\"button\" class=\"btn btn-primary\" style=\"opacity: 0.3;\">8</button><button type=\"button\" class=\"btn btn-primary\" style=\"opacity: 0.3;\">18</button><button type=\"button\" class=\"btn btn-primary\" style=\"opacity: 0.3;\">18</button><button type=\"button\" class=\"btn btn-primary\" style=\"opacity: 0.3;\">8</button><button type=\"button\" class=\"btn btn-primary\" style=\"opacity: 0.3;\">18</button><button type=\"button\" class=\"btn btn-primary\" style=\"opacity: 0.3;\">12</button><button type=\"button\" class=\"btn btn-primary\" style=\"opacity: 0.3;\">6</button><button type=\"button\" class=\"btn btn-primary\">4</button><button type=\"button\" class=\"btn btn-primary\" style=\"opacity: 0.3;\">6</button><button type=\"button\" class=\"btn btn-primary\" style=\"opacity: 0.3;\">14</button><button type=\"button\" class=\"btn btn-primary\" style=\"opacity: 0.3;\">6</button><button type=\"button\" class=\"btn btn-primary\" style=\"opacity: 0.3;\">6</button><button type=\"button\" class=\"btn btn-primary\" style=\"opacity: 0.3;\">6</button><button type=\"button\" class=\"btn btn-primary\" style=\"opacity: 0.3;\">6</button><button type=\"button\" class=\"btn btn-primary\">4</button><button type=\"button\" class=\"btn btn-primary\" style=\"opacity: 0.3;\">6</button><button type=\"button\" class=\"btn btn-primary\">4</button><button type=\"button\" class=\"btn btn-primary\" style=\"opacity: 0.3;\">9</button><button type=\"button\" class=\"btn btn-primary\" style=\"opacity: 0.3;\">2</button><button type=\"button\" class=\"btn btn-primary\" style=\"opacity: 0.3;\">2</button><button type=\"button\" class=\"btn btn-primary\">8</button><button type=\"button\" class=\"btn btn-primary\" style=\"opacity: 0.3;\">5</button><button type=\"button\" class=\"btn btn-primary\" style=\"opacity: 0.3;\">6</button><button type=\"button\" class=\"btn btn-primary\" style=\"opacity: 0.3;\">9</button><button type=\"button\" class=\"btn btn-primary\" style=\"opacity: 0.3;\">1</button><button type=\"button\" class=\"btn btn-primary\" style=\"opacity: 0.3;\">12</button><button type=\"button\" class=\"btn btn-primary\" style=\"opacity: 0.3;\">6</button><button type=\"button\" class=\"btn btn-primary\" style=\"opacity: 0.3;\">2</button><button type=\"button\" class=\"btn btn-primary\">4</button><button type=\"button\" class=\"btn btn-primary\" style=\"opacity: 0.3;\">9</button><button type=\"button\" class=\"btn btn-primary\" style=\"opacity: 0.3;\">6</button><button type=\"button\" class=\"btn btn-primary\" style=\"opacity: 0.3;\">2</button><button type=\"button\" class=\"btn btn-primary\" style=\"opacity: 0.3;\">15</button></div><br><div><strong><u>2</u></strong> <button type=\"button\" class=\"btn btn-primary\" style=\"opacity: 0.3;\">9</button><button type=\"button\" class=\"btn btn-primary\" style=\"opacity: 0.3;\">9</button><button type=\"button\" class=\"btn btn-primary\">4</button><button type=\"button\" class=\"btn btn-primary\">4</button><button type=\"button\" class=\"btn btn-primary\">4</button><button type=\"button\" class=\"btn btn-primary\">4</button><button type=\"button\" class=\"btn btn-primary\" style=\"opacity: 0.3;\">5</button><button type=\"button\" class=\"btn btn-primary\">4</button><button type=\"button\" class=\"btn btn-primary\">4</button><button type=\"button\" class=\"btn btn-primary\" style=\"opacity: 0.3;\">10</button><button type=\"button\" class=\"btn btn-primary\" style=\"opacity: 0.3;\">1</button><button type=\"button\" class=\"btn btn-primary\" style=\"opacity: 0.3;\">9</button><button type=\"button\" class=\"btn btn-primary\">4</button><button type=\"button\" class=\"btn btn-primary\" style=\"opacity: 0.3;\">9</button><button type=\"button\" class=\"btn btn-primary\">4</button><button type=\"button\" class=\"btn btn-primary\" style=\"opacity: 0.3;\">9</button><button type=\"button\" class=\"btn btn-primary\" style=\"opacity: 0.3;\">8</button><button type=\"button\" class=\"btn btn-primary\" style=\"opacity: 0.3;\">8</button><button type=\"button\" class=\"btn btn-primary\" style=\"opacity: 0.3;\">18</button><button type=\"button\" class=\"btn btn-primary\" style=\"opacity: 0.3;\">7</button><button type=\"button\" class=\"btn btn-primary\">4</button><button type=\"button\" class=\"btn btn-primary\" style=\"opacity: 0.3;\">9</button><button type=\"button\" class=\"btn btn-primary\">4</button><button type=\"button\" class=\"btn btn-primary\">4</button><button type=\"button\" class=\"btn btn-primary\">4</button><button type=\"button\" class=\"btn btn-primary\">4</button><button type=\"button\" class=\"btn btn-primary\" style=\"opacity: 0.3;\">9</button><button type=\"button\" class=\"btn btn-primary\" style=\"opacity: 0.3;\">12</button><button type=\"button\" class=\"btn btn-primary\">4</button><button type=\"button\" class=\"btn btn-primary\" style=\"opacity: 0.3;\">9</button><button type=\"button\" class=\"btn btn-primary\" style=\"opacity: 0.3;\">1</button><button type=\"button\" class=\"btn btn-primary\" style=\"opacity: 0.3;\">5</button><button type=\"button\" class=\"btn btn-primary\" style=\"opacity: 0.3;\">1</button><button type=\"button\" class=\"btn btn-primary\" style=\"opacity: 0.3;\">5</button><button type=\"button\" class=\"btn btn-primary\">4</button><button type=\"button\" class=\"btn btn-primary\">4</button><button type=\"button\" class=\"btn btn-primary\" style=\"opacity: 0.3;\">5</button><button type=\"button\" class=\"btn btn-primary\" style=\"opacity: 0.3;\">9</button><button type=\"button\" class=\"btn btn-primary\" style=\"opacity: 0.3;\">9</button><button type=\"button\" class=\"btn btn-primary\">4</button><button type=\"button\" class=\"btn btn-primary\">4</button><button type=\"button\" class=\"btn btn-primary\">4</button><button type=\"button\" class=\"btn btn-primary\" style=\"opacity: 0.3;\">5</button><button type=\"button\" class=\"btn btn-primary\">4</button><button type=\"button\" class=\"btn btn-primary\">4</button><button type=\"button\" class=\"btn btn-primary\" style=\"opacity: 0.3;\">7</button><button type=\"button\" class=\"btn btn-primary\" style=\"opacity: 0.3;\">1</button><button type=\"button\" class=\"btn btn-primary\">4</button><button type=\"button\" class=\"btn btn-primary\">4</button><button type=\"button\" class=\"btn btn-primary\">4</button><button type=\"button\" class=\"btn btn-primary\" style=\"opacity: 0.3;\">9</button><button type=\"button\" class=\"btn btn-primary\">4</button><button type=\"button\" class=\"btn btn-primary\">4</button><button type=\"button\" class=\"btn btn-primary\">4</button><button type=\"button\" class=\"btn btn-primary\">4</button><button type=\"button\" class=\"btn btn-primary\" style=\"opacity: 0.3;\">5</button><button type=\"button\" class=\"btn btn-primary\" style=\"opacity: 0.3;\">9</button><button type=\"button\" class=\"btn btn-primary\">4</button><button type=\"button\" class=\"btn btn-primary\" style=\"opacity: 0.3;\">9</button><button type=\"button\" class=\"btn btn-primary\" style=\"opacity: 0.3;\">9</button><button type=\"button\" class=\"btn btn-primary\" style=\"opacity: 0.3;\">9</button><button type=\"button\" class=\"btn btn-primary\" style=\"opacity: 0.3;\">12</button><button type=\"button\" class=\"btn btn-primary\" style=\"opacity: 0.3;\">9</button><button type=\"button\" class=\"btn btn-primary\">4</button><button type=\"button\" class=\"btn btn-primary\" style=\"opacity: 0.3;\">9</button><button type=\"button\" class=\"btn btn-primary\" style=\"opacity: 0.3;\">9</button><button type=\"button\" class=\"btn btn-primary\" style=\"opacity: 0.3;\">9</button><button type=\"button\" class=\"btn btn-primary\" style=\"opacity: 0.3;\">9</button><button type=\"button\" class=\"btn btn-primary\" style=\"opacity: 0.3;\">5</button><button type=\"button\" class=\"btn btn-primary\" style=\"opacity: 0.3;\">7</button><button type=\"button\" class=\"btn btn-primary\" style=\"opacity: 0.3;\">5</button><button type=\"button\" class=\"btn btn-primary\" style=\"opacity: 0.3;\">1</button><button type=\"button\" class=\"btn btn-primary\" style=\"opacity: 0.3;\">5</button><button type=\"button\" class=\"btn btn-primary\" style=\"opacity: 0.3;\">9</button><button type=\"button\" class=\"btn btn-primary\">4</button><button type=\"button\" class=\"btn btn-primary\" style=\"opacity: 0.3;\">9</button><button type=\"button\" class=\"btn btn-primary\" style=\"opacity: 0.3;\">9</button></div><br><div><strong><u>3</u></strong> <button type=\"button\" class=\"btn btn-primary\">4</button><button type=\"button\" class=\"btn btn-primary\">4</button><button type=\"button\" class=\"btn btn-primary\">4</button><button type=\"button\" class=\"btn btn-primary\" style=\"opacity: 0.3;\">9</button><button type=\"button\" class=\"btn btn-primary\" style=\"opacity: 0.3;\">10</button><button type=\"button\" class=\"btn btn-primary\" style=\"opacity: 0.3;\">9</button><button type=\"button\" class=\"btn btn-primary\" style=\"opacity: 0.3;\">12</button><button type=\"button\" class=\"btn btn-primary\" style=\"opacity: 0.3;\">1</button><button type=\"button\" class=\"btn btn-primary\" style=\"opacity: 0.3;\">6</button><button type=\"button\" class=\"btn btn-primary\">4</button><button type=\"button\" class=\"btn btn-primary\" style=\"opacity: 0.3;\">8</button><button type=\"button\" class=\"btn btn-primary\" style=\"opacity: 0.3;\">18</button><button type=\"button\" class=\"btn btn-primary\" style=\"opacity: 0.3;\">8</button><button type=\"button\" class=\"btn btn-primary\">4</button><button type=\"button\" class=\"btn btn-primary\">4</button><button type=\"button\" class=\"btn btn-primary\" style=\"opacity: 0.3;\">9</button><button type=\"button\" class=\"btn btn-primary\">4</button><button type=\"button\" class=\"btn btn-primary\" style=\"opacity: 0.3;\">10</button><button type=\"button\" class=\"btn btn-primary\" style=\"opacity: 0.3;\">11</button><button type=\"button\" class=\"btn btn-primary\">4</button><button type=\"button\" class=\"btn btn-primary\" style=\"opacity: 0.3;\">9</button><button type=\"button\" class=\"btn btn-primary\" style=\"opacity: 0.3;\">6</button><button type=\"button\" class=\"btn btn-primary\">4</button><button type=\"button\" class=\"btn btn-primary\">4</button><button type=\"button\" class=\"btn btn-primary\" style=\"opacity: 0.3;\">5</button><button type=\"button\" class=\"btn btn-primary\">4</button><button type=\"button\" class=\"btn btn-primary\" style=\"opacity: 0.3;\">9</button><button type=\"button\" class=\"btn btn-primary\" style=\"opacity: 0.3;\">2</button><button type=\"button\" class=\"btn btn-primary\" style=\"opacity: 0.3;\">1</button><button type=\"button\" class=\"btn btn-primary\" style=\"opacity: 0.3;\">9</button><button type=\"button\" class=\"btn btn-primary\" style=\"opacity: 0.3;\">9</button><button type=\"button\" class=\"btn btn-primary\" style=\"opacity: 0.3;\">2</button><button type=\"button\" class=\"btn btn-primary\">4</button><button type=\"button\" class=\"btn btn-primary\">4</button><button type=\"button\" class=\"btn btn-primary\" style=\"opacity: 0.3;\">16</button><button type=\"button\" class=\"btn btn-primary\">4</button><button type=\"button\" class=\"btn btn-primary\" style=\"opacity: 0.3;\">9</button><button type=\"button\" class=\"btn btn-primary\" style=\"opacity: 0.3;\">9</button><button type=\"button\" class=\"btn btn-primary\" style=\"opacity: 0.3;\">9</button><button type=\"button\" class=\"btn btn-primary\">4</button><button type=\"button\" class=\"btn btn-primary\" style=\"opacity: 0.3;\">3</button><button type=\"button\" class=\"btn btn-primary\" style=\"opacity: 0.3;\">12</button><button type=\"button\" class=\"btn btn-primary\" style=\"opacity: 0.3;\">5</button><button type=\"button\" class=\"btn btn-primary\">4</button><button type=\"button\" class=\"btn btn-primary\">4</button><button type=\"button\" class=\"btn btn-primary\" style=\"opacity: 0.3;\">9</button><button type=\"button\" class=\"btn btn-primary\">4</button><button type=\"button\" class=\"btn btn-primary\">4</button><button type=\"button\" class=\"btn btn-primary\">4</button><button type=\"button\" class=\"btn btn-primary\" style=\"opacity: 0.3;\">5</button><button type=\"button\" class=\"btn btn-primary\" style=\"opacity: 0.3;\">9</button><button type=\"button\" class=\"btn btn-primary\" style=\"opacity: 0.3;\">1</button><button type=\"button\" class=\"btn btn-primary\">4</button></div><br><div><strong><u>4</u></strong> <button type=\"button\" class=\"btn btn-primary\" style=\"opacity: 0.3;\">19</button><button type=\"button\" class=\"btn btn-primary\">19</button><button type=\"button\" class=\"btn btn-primary\">4</button><button type=\"button\" class=\"btn btn-primary\">4</button><button type=\"button\" class=\"btn btn-primary\">4</button><button type=\"button\" class=\"btn btn-primary\">4</button><button type=\"button\" class=\"btn btn-primary\">4</button><button type=\"button\" class=\"btn btn-primary\" style=\"opacity: 0.3;\">17</button><button type=\"button\" class=\"btn btn-primary\" style=\"opacity: 0.3;\">19</button><button type=\"button\" class=\"btn btn-primary\">4</button><button type=\"button\" class=\"btn btn-primary\">4</button><button type=\"button\" class=\"btn btn-primary\" style=\"opacity: 0.3;\">9</button><button type=\"button\" class=\"btn btn-primary\">4</button><button type=\"button\" class=\"btn btn-primary\" style=\"opacity: 0.3;\">5</button><button type=\"button\" class=\"btn btn-primary\" style=\"opacity: 0.3;\">5</button><button type=\"button\" class=\"btn btn-primary\" style=\"opacity: 0.3;\">5</button><button type=\"button\" class=\"btn btn-primary\">4</button><button type=\"button\" class=\"btn btn-primary\">4</button><button type=\"button\" class=\"btn btn-primary\" style=\"opacity: 0.3;\">5</button><button type=\"button\" class=\"btn btn-primary\" style=\"opacity: 0.3;\">8</button><button type=\"button\" class=\"btn btn-primary\" style=\"opacity: 0.3;\">8</button><button type=\"button\" class=\"btn btn-primary\">4</button><button type=\"button\" class=\"btn btn-primary\">4</button><button type=\"button\" class=\"btn btn-primary\" style=\"opacity: 0.3;\">20</button><button type=\"button\" class=\"btn btn-primary\" style=\"opacity: 0.3;\">6</button><button type=\"button\" class=\"btn btn-primary\" style=\"opacity: 0.3;\">14</button><button type=\"button\" class=\"btn btn-primary\" style=\"opacity: 0.3;\">19</button><button type=\"button\" class=\"btn btn-primary\" style=\"opacity: 0.3;\">9</button><button type=\"button\" class=\"btn btn-primary\">4</button><button type=\"button\" class=\"btn btn-primary\" style=\"opacity: 0.3;\">9</button><button type=\"button\" class=\"btn btn-primary\" style=\"opacity: 0.3;\">12</button><button type=\"button\" class=\"btn btn-primary\" style=\"opacity: 0.3;\">5</button><button type=\"button\" class=\"btn btn-primary\" style=\"opacity: 0.3;\">9</button><button type=\"button\" class=\"btn btn-primary\" style=\"opacity: 0.3;\">1</button><button type=\"button\" class=\"btn btn-primary\">4</button><button type=\"button\" class=\"btn btn-primary\" style=\"opacity: 0.3;\">9</button><button type=\"button\" class=\"btn btn-primary\" style=\"opacity: 0.3;\">5</button><button type=\"button\" class=\"btn btn-primary\" style=\"opacity: 0.3;\">1</button><button type=\"button\" class=\"btn btn-primary\" style=\"opacity: 0.3;\">9</button><button type=\"button\" class=\"btn btn-primary\">4</button><button type=\"button\" class=\"btn btn-primary\">4</button><button type=\"button\" class=\"btn btn-primary\">4</button><button type=\"button\" class=\"btn btn-primary\" style=\"opacity: 0.3;\">9</button><button type=\"button\" class=\"btn btn-primary\" style=\"opacity: 0.3;\">9</button><button type=\"button\" class=\"btn btn-primary\">4</button><button type=\"button\" class=\"btn btn-primary\">4</button><button type=\"button\" class=\"btn btn-primary\" style=\"opacity: 0.3;\">9</button><button type=\"button\" class=\"btn btn-primary\">4</button><button type=\"button\" class=\"btn btn-primary\">4</button><button type=\"button\" class=\"btn btn-primary\" style=\"opacity: 0.3;\">9</button><button type=\"button\" class=\"btn btn-primary\">4</button><button type=\"button\" class=\"btn btn-primary\" style=\"opacity: 0.3;\">9</button><button type=\"button\" class=\"btn btn-primary\">4</button><button type=\"button\" class=\"btn btn-primary\">4</button><button type=\"button\" class=\"btn btn-primary\" style=\"opacity: 0.3;\">9</button><button type=\"button\" class=\"btn btn-primary\">4</button><button type=\"button\" class=\"btn btn-primary\" style=\"opacity: 0.3;\">9</button><button type=\"button\" class=\"btn btn-primary\" style=\"opacity: 0.3;\">5</button><button type=\"button\" class=\"btn btn-primary\" style=\"opacity: 0.3;\">5</button><button type=\"button\" class=\"btn btn-primary\">4</button><button type=\"button\" class=\"btn btn-primary\">4</button><button type=\"button\" class=\"btn btn-primary\">4</button><button type=\"button\" class=\"btn btn-primary\">4</button><button type=\"button\" class=\"btn btn-primary\" style=\"opacity: 0.3;\">5</button><button type=\"button\" class=\"btn btn-primary\">4</button><button type=\"button\" class=\"btn btn-primary\">4</button><button type=\"button\" class=\"btn btn-primary\">4</button><button type=\"button\" class=\"btn btn-primary\">4</button><button type=\"button\" class=\"btn btn-primary\">4</button><button type=\"button\" class=\"btn btn-primary\">4</button><button type=\"button\" class=\"btn btn-primary\">4</button><button type=\"button\" class=\"btn btn-primary\" style=\"opacity: 0.3;\">1</button><button type=\"button\" class=\"btn btn-primary\">4</button><button type=\"button\" class=\"btn btn-primary\" style=\"opacity: 0.3;\">12</button><button type=\"button\" class=\"btn btn-primary\">4</button><button type=\"button\" class=\"btn btn-primary\" style=\"opacity: 0.3;\">9</button><button type=\"button\" class=\"btn btn-primary\" style=\"opacity: 0.3;\">9</button><button type=\"button\" class=\"btn btn-primary\" style=\"opacity: 0.3;\">6</button><button type=\"button\" class=\"btn btn-primary\">4</button><button type=\"button\" class=\"btn btn-primary\">4</button><button type=\"button\" class=\"btn btn-primary\" style=\"opacity: 0.3;\">9</button><button type=\"button\" class=\"btn btn-primary\">4</button><button type=\"button\" class=\"btn btn-primary\" style=\"opacity: 0.3;\">5</button><button type=\"button\" class=\"btn btn-primary\" style=\"opacity: 0.3;\">1</button><button type=\"button\" class=\"btn btn-primary\">4</button><button type=\"button\" class=\"btn btn-primary\" style=\"opacity: 0.3;\">9</button></div><br><div><strong><u>5</u></strong> <button type=\"button\" class=\"btn btn-primary\">4</button><button type=\"button\" class=\"btn btn-primary\" style=\"opacity: 0.3;\">5</button><button type=\"button\" class=\"btn btn-primary\" style=\"opacity: 0.3;\">9</button><button type=\"button\" class=\"btn btn-primary\" style=\"opacity: 0.3;\">9</button><button type=\"button\" class=\"btn btn-primary\" style=\"opacity: 0.3;\">9</button><button type=\"button\" class=\"btn btn-primary\">4</button><button type=\"button\" class=\"btn btn-primary\" style=\"opacity: 0.3;\">1</button><button type=\"button\" class=\"btn btn-primary\" style=\"opacity: 0.3;\">9</button><button type=\"button\" class=\"btn btn-primary\" style=\"opacity: 0.3;\">5</button><button type=\"button\" class=\"btn btn-primary\">4</button><button type=\"button\" class=\"btn btn-primary\" style=\"opacity: 0.3;\">7</button><button type=\"button\" class=\"btn btn-primary\">4</button><button type=\"button\" class=\"btn btn-primary\" style=\"opacity: 0.3;\">9</button><button type=\"button\" class=\"btn btn-primary\">4</button><button type=\"button\" class=\"btn btn-primary\" style=\"opacity: 0.3;\">9</button><button type=\"button\" class=\"btn btn-primary\">4</button><button type=\"button\" class=\"btn btn-primary\" style=\"opacity: 0.3;\">8</button><button type=\"button\" class=\"btn btn-primary\" style=\"opacity: 0.3;\">5</button><button type=\"button\" class=\"btn btn-primary\" style=\"opacity: 0.3;\">9</button><button type=\"button\" class=\"btn btn-primary\">4</button><button type=\"button\" class=\"btn btn-primary\" style=\"opacity: 0.3;\">1</button><button type=\"button\" class=\"btn btn-primary\" style=\"opacity: 0.3;\">9</button><button type=\"button\" class=\"btn btn-primary\" style=\"opacity: 0.3;\">1</button><button type=\"button\" class=\"btn btn-primary\">4</button><button type=\"button\" class=\"btn btn-primary\">4</button><button type=\"button\" class=\"btn btn-primary\" style=\"opacity: 0.3;\">9</button><button type=\"button\" class=\"btn btn-primary\" style=\"opacity: 0.3;\">12</button><button type=\"button\" class=\"btn btn-primary\" style=\"opacity: 0.3;\">9</button><button type=\"button\" class=\"btn btn-primary\" style=\"opacity: 0.3;\">1</button><button type=\"button\" class=\"btn btn-primary\" style=\"opacity: 0.3;\">9</button><button type=\"button\" class=\"btn btn-primary\" style=\"opacity: 0.3;\">5</button><button type=\"button\" class=\"btn btn-primary\" style=\"opacity: 0.3;\">5</button><button type=\"button\" class=\"btn btn-primary\" style=\"opacity: 0.3;\">1</button><button type=\"button\" class=\"btn btn-primary\">4</button><button type=\"button\" class=\"btn btn-primary\" style=\"opacity: 0.3;\">7</button><button type=\"button\" class=\"btn btn-primary\" style=\"opacity: 0.3;\">7</button><button type=\"button\" class=\"btn btn-primary\">4</button><button type=\"button\" class=\"btn btn-primary\">4</button><button type=\"button\" class=\"btn btn-primary\">4</button><button type=\"button\" class=\"btn btn-primary\" style=\"opacity: 0.3;\">1</button><button type=\"button\" class=\"btn btn-primary\">4</button><button type=\"button\" class=\"btn btn-primary\">4</button><button type=\"button\" class=\"btn btn-primary\" style=\"opacity: 0.3;\">7</button><button type=\"button\" class=\"btn btn-primary\">4</button><button type=\"button\" class=\"btn btn-primary\">4</button><button type=\"button\" class=\"btn btn-primary\">4</button><button type=\"button\" class=\"btn btn-primary\" style=\"opacity: 0.3;\">7</button><button type=\"button\" class=\"btn btn-primary\">4</button><button type=\"button\" class=\"btn btn-primary\" style=\"opacity: 0.3;\">9</button><button type=\"button\" class=\"btn btn-primary\">4</button><button type=\"button\" class=\"btn btn-primary\" style=\"opacity: 0.3;\">5</button><button type=\"button\" class=\"btn btn-primary\">4</button><button type=\"button\" class=\"btn btn-primary\">4</button><button type=\"button\" class=\"btn btn-primary\" style=\"opacity: 0.3;\">5</button><button type=\"button\" class=\"btn btn-primary\">4</button><button type=\"button\" class=\"btn btn-primary\">4</button><button type=\"button\" class=\"btn btn-primary\" style=\"opacity: 0.3;\">9</button><button type=\"button\" class=\"btn btn-primary\" style=\"opacity: 0.3;\">5</button><button type=\"button\" class=\"btn btn-primary\" style=\"opacity: 0.3;\">9</button><button type=\"button\" class=\"btn btn-primary\">4</button><button type=\"button\" class=\"btn btn-primary\">4</button><button type=\"button\" class=\"btn btn-primary\">4</button><button type=\"button\" class=\"btn btn-primary\" style=\"opacity: 0.3;\">9</button><button type=\"button\" class=\"btn btn-primary\" style=\"opacity: 0.3;\">1</button><button type=\"button\" class=\"btn btn-primary\" style=\"opacity: 0.3;\">12</button><button type=\"button\" class=\"btn btn-primary\">4</button><button type=\"button\" class=\"btn btn-primary\">4</button><button type=\"button\" class=\"btn btn-primary\" style=\"opacity: 0.3;\">9</button><button type=\"button\" class=\"btn btn-primary\">4</button><button type=\"button\" class=\"btn btn-primary\">4</button></div><br>"
      ],
      "text/plain": [
       "<IPython.core.display.HTML object>"
      ]
     },
     "metadata": {},
     "output_type": "display_data"
    }
   ],
   "source": [
    "preds = predict_mc_model(2)\n",
    "show_results(preds['train'], preds['test'])"
   ]
  },
  {
   "cell_type": "markdown",
   "metadata": {},
   "source": [
    "### MC-3"
   ]
  },
  {
   "cell_type": "code",
   "execution_count": 48,
   "metadata": {},
   "outputs": [
    {
     "name": "stdout",
     "output_type": "stream",
     "text": [
      "----\n",
      "Train Error:  53.681650497255696\n",
      "Test Error:  55.375520035033944\n"
     ]
    },
    {
     "data": {
      "text/html": [
       "<div><strong><u>1</u></strong> <button type=\"button\" class=\"btn btn-primary\" style=\"opacity: 0.3;\">6</button><button type=\"button\" class=\"btn btn-primary\" style=\"opacity: 0.3;\">14</button><button type=\"button\" class=\"btn btn-primary\">4</button><button type=\"button\" class=\"btn btn-primary\">4</button><button type=\"button\" class=\"btn btn-primary\" style=\"opacity: 0.3;\">3</button><button type=\"button\" class=\"btn btn-primary\">4</button><button type=\"button\" class=\"btn btn-primary\">4</button><button type=\"button\" class=\"btn btn-primary\" style=\"opacity: 0.3;\">6</button><button type=\"button\" class=\"btn btn-primary\" style=\"opacity: 0.3;\">14</button><button type=\"button\" class=\"btn btn-primary\">8</button><button type=\"button\" class=\"btn btn-primary\" style=\"opacity: 0.3;\">8</button><button type=\"button\" class=\"btn btn-primary\">18</button><button type=\"button\" class=\"btn btn-primary\" style=\"opacity: 0.3;\">18</button><button type=\"button\" class=\"btn btn-primary\" style=\"opacity: 0.3;\">8</button><button type=\"button\" class=\"btn btn-primary\" style=\"opacity: 0.3;\">18</button><button type=\"button\" class=\"btn btn-primary\" style=\"opacity: 0.3;\">12</button><button type=\"button\" class=\"btn btn-primary\">6</button><button type=\"button\" class=\"btn btn-primary\">4</button><button type=\"button\" class=\"btn btn-primary\" style=\"opacity: 0.3;\">6</button><button type=\"button\" class=\"btn btn-primary\" style=\"opacity: 0.3;\">14</button><button type=\"button\" class=\"btn btn-primary\" style=\"opacity: 0.3;\">6</button><button type=\"button\" class=\"btn btn-primary\" style=\"opacity: 0.3;\">6</button><button type=\"button\" class=\"btn btn-primary\">6</button><button type=\"button\" class=\"btn btn-primary\">6</button><button type=\"button\" class=\"btn btn-primary\" style=\"opacity: 0.3;\">4</button><button type=\"button\" class=\"btn btn-primary\" style=\"opacity: 0.3;\">6</button><button type=\"button\" class=\"btn btn-primary\">4</button><button type=\"button\" class=\"btn btn-primary\" style=\"opacity: 0.3;\">9</button><button type=\"button\" class=\"btn btn-primary\" style=\"opacity: 0.3;\">2</button><button type=\"button\" class=\"btn btn-primary\" style=\"opacity: 0.3;\">2</button><button type=\"button\" class=\"btn btn-primary\">8</button><button type=\"button\" class=\"btn btn-primary\" style=\"opacity: 0.3;\">5</button><button type=\"button\" class=\"btn btn-primary\" style=\"opacity: 0.3;\">6</button><button type=\"button\" class=\"btn btn-primary\" style=\"opacity: 0.3;\">9</button><button type=\"button\" class=\"btn btn-primary\" style=\"opacity: 0.3;\">1</button><button type=\"button\" class=\"btn btn-primary\" style=\"opacity: 0.3;\">12</button><button type=\"button\" class=\"btn btn-primary\">6</button><button type=\"button\" class=\"btn btn-primary\" style=\"opacity: 0.3;\">2</button><button type=\"button\" class=\"btn btn-primary\" style=\"opacity: 0.3;\">4</button><button type=\"button\" class=\"btn btn-primary\" style=\"opacity: 0.3;\">9</button><button type=\"button\" class=\"btn btn-primary\" style=\"opacity: 0.3;\">6</button><button type=\"button\" class=\"btn btn-primary\" style=\"opacity: 0.3;\">2</button><button type=\"button\" class=\"btn btn-primary\" style=\"opacity: 0.3;\">15</button></div><br><div><strong><u>2</u></strong> <button type=\"button\" class=\"btn btn-primary\" style=\"opacity: 0.3;\">9</button><button type=\"button\" class=\"btn btn-primary\" style=\"opacity: 0.3;\">9</button><button type=\"button\" class=\"btn btn-primary\">4</button><button type=\"button\" class=\"btn btn-primary\">4</button><button type=\"button\" class=\"btn btn-primary\">4</button><button type=\"button\" class=\"btn btn-primary\">4</button><button type=\"button\" class=\"btn btn-primary\" style=\"opacity: 0.3;\">5</button><button type=\"button\" class=\"btn btn-primary\">4</button><button type=\"button\" class=\"btn btn-primary\">4</button><button type=\"button\" class=\"btn btn-primary\" style=\"opacity: 0.3;\">10</button><button type=\"button\" class=\"btn btn-primary\" style=\"opacity: 0.3;\">1</button><button type=\"button\" class=\"btn btn-primary\" style=\"opacity: 0.3;\">9</button><button type=\"button\" class=\"btn btn-primary\">4</button><button type=\"button\" class=\"btn btn-primary\" style=\"opacity: 0.3;\">9</button><button type=\"button\" class=\"btn btn-primary\">4</button><button type=\"button\" class=\"btn btn-primary\" style=\"opacity: 0.3;\">9</button><button type=\"button\" class=\"btn btn-primary\" style=\"opacity: 0.3;\">8</button><button type=\"button\" class=\"btn btn-primary\" style=\"opacity: 0.3;\">8</button><button type=\"button\" class=\"btn btn-primary\">18</button><button type=\"button\" class=\"btn btn-primary\" style=\"opacity: 0.3;\">7</button><button type=\"button\" class=\"btn btn-primary\">4</button><button type=\"button\" class=\"btn btn-primary\" style=\"opacity: 0.3;\">9</button><button type=\"button\" class=\"btn btn-primary\">4</button><button type=\"button\" class=\"btn btn-primary\">4</button><button type=\"button\" class=\"btn btn-primary\">4</button><button type=\"button\" class=\"btn btn-primary\">4</button><button type=\"button\" class=\"btn btn-primary\" style=\"opacity: 0.3;\">9</button><button type=\"button\" class=\"btn btn-primary\" style=\"opacity: 0.3;\">12</button><button type=\"button\" class=\"btn btn-primary\">4</button><button type=\"button\" class=\"btn btn-primary\" style=\"opacity: 0.3;\">9</button><button type=\"button\" class=\"btn btn-primary\" style=\"opacity: 0.3;\">1</button><button type=\"button\" class=\"btn btn-primary\" style=\"opacity: 0.3;\">5</button><button type=\"button\" class=\"btn btn-primary\" style=\"opacity: 0.3;\">1</button><button type=\"button\" class=\"btn btn-primary\" style=\"opacity: 0.3;\">5</button><button type=\"button\" class=\"btn btn-primary\">4</button><button type=\"button\" class=\"btn btn-primary\">4</button><button type=\"button\" class=\"btn btn-primary\" style=\"opacity: 0.3;\">5</button><button type=\"button\" class=\"btn btn-primary\" style=\"opacity: 0.3;\">9</button><button type=\"button\" class=\"btn btn-primary\" style=\"opacity: 0.3;\">9</button><button type=\"button\" class=\"btn btn-primary\">4</button><button type=\"button\" class=\"btn btn-primary\">4</button><button type=\"button\" class=\"btn btn-primary\">4</button><button type=\"button\" class=\"btn btn-primary\" style=\"opacity: 0.3;\">5</button><button type=\"button\" class=\"btn btn-primary\">4</button><button type=\"button\" class=\"btn btn-primary\">4</button><button type=\"button\" class=\"btn btn-primary\" style=\"opacity: 0.3;\">7</button><button type=\"button\" class=\"btn btn-primary\" style=\"opacity: 0.3;\">1</button><button type=\"button\" class=\"btn btn-primary\">4</button><button type=\"button\" class=\"btn btn-primary\">4</button><button type=\"button\" class=\"btn btn-primary\">4</button><button type=\"button\" class=\"btn btn-primary\" style=\"opacity: 0.3;\">9</button><button type=\"button\" class=\"btn btn-primary\">4</button><button type=\"button\" class=\"btn btn-primary\">4</button><button type=\"button\" class=\"btn btn-primary\">4</button><button type=\"button\" class=\"btn btn-primary\">4</button><button type=\"button\" class=\"btn btn-primary\" style=\"opacity: 0.3;\">5</button><button type=\"button\" class=\"btn btn-primary\" style=\"opacity: 0.3;\">9</button><button type=\"button\" class=\"btn btn-primary\">4</button><button type=\"button\" class=\"btn btn-primary\" style=\"opacity: 0.3;\">9</button><button type=\"button\" class=\"btn btn-primary\" style=\"opacity: 0.3;\">9</button><button type=\"button\" class=\"btn btn-primary\" style=\"opacity: 0.3;\">9</button><button type=\"button\" class=\"btn btn-primary\" style=\"opacity: 0.3;\">12</button><button type=\"button\" class=\"btn btn-primary\" style=\"opacity: 0.3;\">9</button><button type=\"button\" class=\"btn btn-primary\">4</button><button type=\"button\" class=\"btn btn-primary\" style=\"opacity: 0.3;\">9</button><button type=\"button\" class=\"btn btn-primary\" style=\"opacity: 0.3;\">9</button><button type=\"button\" class=\"btn btn-primary\" style=\"opacity: 0.3;\">9</button><button type=\"button\" class=\"btn btn-primary\" style=\"opacity: 0.3;\">9</button><button type=\"button\" class=\"btn btn-primary\" style=\"opacity: 0.3;\">5</button><button type=\"button\" class=\"btn btn-primary\" style=\"opacity: 0.3;\">7</button><button type=\"button\" class=\"btn btn-primary\" style=\"opacity: 0.3;\">5</button><button type=\"button\" class=\"btn btn-primary\" style=\"opacity: 0.3;\">1</button><button type=\"button\" class=\"btn btn-primary\" style=\"opacity: 0.3;\">5</button><button type=\"button\" class=\"btn btn-primary\" style=\"opacity: 0.3;\">9</button><button type=\"button\" class=\"btn btn-primary\">4</button><button type=\"button\" class=\"btn btn-primary\" style=\"opacity: 0.3;\">9</button><button type=\"button\" class=\"btn btn-primary\" style=\"opacity: 0.3;\">9</button></div><br><div><strong><u>3</u></strong> <button type=\"button\" class=\"btn btn-primary\">4</button><button type=\"button\" class=\"btn btn-primary\">4</button><button type=\"button\" class=\"btn btn-primary\">4</button><button type=\"button\" class=\"btn btn-primary\" style=\"opacity: 0.3;\">9</button><button type=\"button\" class=\"btn btn-primary\" style=\"opacity: 0.3;\">10</button><button type=\"button\" class=\"btn btn-primary\" style=\"opacity: 0.3;\">9</button><button type=\"button\" class=\"btn btn-primary\" style=\"opacity: 0.3;\">12</button><button type=\"button\" class=\"btn btn-primary\" style=\"opacity: 0.3;\">1</button><button type=\"button\" class=\"btn btn-primary\" style=\"opacity: 0.3;\">6</button><button type=\"button\" class=\"btn btn-primary\">4</button><button type=\"button\" class=\"btn btn-primary\">8</button><button type=\"button\" class=\"btn btn-primary\" style=\"opacity: 0.3;\">18</button><button type=\"button\" class=\"btn btn-primary\" style=\"opacity: 0.3;\">8</button><button type=\"button\" class=\"btn btn-primary\">4</button><button type=\"button\" class=\"btn btn-primary\">4</button><button type=\"button\" class=\"btn btn-primary\" style=\"opacity: 0.3;\">9</button><button type=\"button\" class=\"btn btn-primary\">4</button><button type=\"button\" class=\"btn btn-primary\" style=\"opacity: 0.3;\">10</button><button type=\"button\" class=\"btn btn-primary\" style=\"opacity: 0.3;\">11</button><button type=\"button\" class=\"btn btn-primary\" style=\"opacity: 0.3;\">4</button><button type=\"button\" class=\"btn btn-primary\" style=\"opacity: 0.3;\">9</button><button type=\"button\" class=\"btn btn-primary\" style=\"opacity: 0.3;\">6</button><button type=\"button\" class=\"btn btn-primary\">4</button><button type=\"button\" class=\"btn btn-primary\">4</button><button type=\"button\" class=\"btn btn-primary\" style=\"opacity: 0.3;\">5</button><button type=\"button\" class=\"btn btn-primary\">4</button><button type=\"button\" class=\"btn btn-primary\" style=\"opacity: 0.3;\">9</button><button type=\"button\" class=\"btn btn-primary\" style=\"opacity: 0.3;\">2</button><button type=\"button\" class=\"btn btn-primary\" style=\"opacity: 0.3;\">1</button><button type=\"button\" class=\"btn btn-primary\" style=\"opacity: 0.3;\">9</button><button type=\"button\" class=\"btn btn-primary\" style=\"opacity: 0.3;\">9</button><button type=\"button\" class=\"btn btn-primary\" style=\"opacity: 0.3;\">2</button><button type=\"button\" class=\"btn btn-primary\">4</button><button type=\"button\" class=\"btn btn-primary\">4</button><button type=\"button\" class=\"btn btn-primary\" style=\"opacity: 0.3;\">16</button><button type=\"button\" class=\"btn btn-primary\">4</button><button type=\"button\" class=\"btn btn-primary\">9</button><button type=\"button\" class=\"btn btn-primary\" style=\"opacity: 0.3;\">9</button><button type=\"button\" class=\"btn btn-primary\" style=\"opacity: 0.3;\">9</button><button type=\"button\" class=\"btn btn-primary\">4</button><button type=\"button\" class=\"btn btn-primary\" style=\"opacity: 0.3;\">3</button><button type=\"button\" class=\"btn btn-primary\" style=\"opacity: 0.3;\">12</button><button type=\"button\" class=\"btn btn-primary\" style=\"opacity: 0.3;\">5</button><button type=\"button\" class=\"btn btn-primary\">4</button><button type=\"button\" class=\"btn btn-primary\">4</button><button type=\"button\" class=\"btn btn-primary\" style=\"opacity: 0.3;\">9</button><button type=\"button\" class=\"btn btn-primary\">4</button><button type=\"button\" class=\"btn btn-primary\">4</button><button type=\"button\" class=\"btn btn-primary\">4</button><button type=\"button\" class=\"btn btn-primary\" style=\"opacity: 0.3;\">5</button><button type=\"button\" class=\"btn btn-primary\" style=\"opacity: 0.3;\">9</button><button type=\"button\" class=\"btn btn-primary\" style=\"opacity: 0.3;\">1</button><button type=\"button\" class=\"btn btn-primary\">4</button></div><br><div><strong><u>4</u></strong> <button type=\"button\" class=\"btn btn-primary\" style=\"opacity: 0.3;\">19</button><button type=\"button\" class=\"btn btn-primary\" style=\"opacity: 0.3;\">19</button><button type=\"button\" class=\"btn btn-primary\">4</button><button type=\"button\" class=\"btn btn-primary\">4</button><button type=\"button\" class=\"btn btn-primary\">4</button><button type=\"button\" class=\"btn btn-primary\">4</button><button type=\"button\" class=\"btn btn-primary\">4</button><button type=\"button\" class=\"btn btn-primary\" style=\"opacity: 0.3;\">17</button><button type=\"button\" class=\"btn btn-primary\" style=\"opacity: 0.3;\">19</button><button type=\"button\" class=\"btn btn-primary\">4</button><button type=\"button\" class=\"btn btn-primary\">4</button><button type=\"button\" class=\"btn btn-primary\" style=\"opacity: 0.3;\">9</button><button type=\"button\" class=\"btn btn-primary\">4</button><button type=\"button\" class=\"btn btn-primary\" style=\"opacity: 0.3;\">5</button><button type=\"button\" class=\"btn btn-primary\" style=\"opacity: 0.3;\">5</button><button type=\"button\" class=\"btn btn-primary\" style=\"opacity: 0.3;\">5</button><button type=\"button\" class=\"btn btn-primary\">4</button><button type=\"button\" class=\"btn btn-primary\">4</button><button type=\"button\" class=\"btn btn-primary\" style=\"opacity: 0.3;\">5</button><button type=\"button\" class=\"btn btn-primary\" style=\"opacity: 0.3;\">8</button><button type=\"button\" class=\"btn btn-primary\" style=\"opacity: 0.3;\">8</button><button type=\"button\" class=\"btn btn-primary\">4</button><button type=\"button\" class=\"btn btn-primary\">4</button><button type=\"button\" class=\"btn btn-primary\" style=\"opacity: 0.3;\">20</button><button type=\"button\" class=\"btn btn-primary\" style=\"opacity: 0.3;\">6</button><button type=\"button\" class=\"btn btn-primary\" style=\"opacity: 0.3;\">14</button><button type=\"button\" class=\"btn btn-primary\" style=\"opacity: 0.3;\">19</button><button type=\"button\" class=\"btn btn-primary\" style=\"opacity: 0.3;\">9</button><button type=\"button\" class=\"btn btn-primary\">4</button><button type=\"button\" class=\"btn btn-primary\" style=\"opacity: 0.3;\">9</button><button type=\"button\" class=\"btn btn-primary\" style=\"opacity: 0.3;\">12</button><button type=\"button\" class=\"btn btn-primary\" style=\"opacity: 0.3;\">5</button><button type=\"button\" class=\"btn btn-primary\" style=\"opacity: 0.3;\">9</button><button type=\"button\" class=\"btn btn-primary\" style=\"opacity: 0.3;\">1</button><button type=\"button\" class=\"btn btn-primary\">4</button><button type=\"button\" class=\"btn btn-primary\" style=\"opacity: 0.3;\">9</button><button type=\"button\" class=\"btn btn-primary\" style=\"opacity: 0.3;\">5</button><button type=\"button\" class=\"btn btn-primary\" style=\"opacity: 0.3;\">1</button><button type=\"button\" class=\"btn btn-primary\" style=\"opacity: 0.3;\">9</button><button type=\"button\" class=\"btn btn-primary\">4</button><button type=\"button\" class=\"btn btn-primary\">4</button><button type=\"button\" class=\"btn btn-primary\">4</button><button type=\"button\" class=\"btn btn-primary\" style=\"opacity: 0.3;\">9</button><button type=\"button\" class=\"btn btn-primary\" style=\"opacity: 0.3;\">9</button><button type=\"button\" class=\"btn btn-primary\">4</button><button type=\"button\" class=\"btn btn-primary\">4</button><button type=\"button\" class=\"btn btn-primary\" style=\"opacity: 0.3;\">9</button><button type=\"button\" class=\"btn btn-primary\">4</button><button type=\"button\" class=\"btn btn-primary\">4</button><button type=\"button\" class=\"btn btn-primary\" style=\"opacity: 0.3;\">9</button><button type=\"button\" class=\"btn btn-primary\">4</button><button type=\"button\" class=\"btn btn-primary\" style=\"opacity: 0.3;\">9</button><button type=\"button\" class=\"btn btn-primary\">4</button><button type=\"button\" class=\"btn btn-primary\">4</button><button type=\"button\" class=\"btn btn-primary\" style=\"opacity: 0.3;\">9</button><button type=\"button\" class=\"btn btn-primary\">4</button><button type=\"button\" class=\"btn btn-primary\" style=\"opacity: 0.3;\">9</button><button type=\"button\" class=\"btn btn-primary\" style=\"opacity: 0.3;\">5</button><button type=\"button\" class=\"btn btn-primary\" style=\"opacity: 0.3;\">5</button><button type=\"button\" class=\"btn btn-primary\">4</button><button type=\"button\" class=\"btn btn-primary\">4</button><button type=\"button\" class=\"btn btn-primary\">4</button><button type=\"button\" class=\"btn btn-primary\">4</button><button type=\"button\" class=\"btn btn-primary\" style=\"opacity: 0.3;\">5</button><button type=\"button\" class=\"btn btn-primary\">4</button><button type=\"button\" class=\"btn btn-primary\">4</button><button type=\"button\" class=\"btn btn-primary\">4</button><button type=\"button\" class=\"btn btn-primary\">4</button><button type=\"button\" class=\"btn btn-primary\">4</button><button type=\"button\" class=\"btn btn-primary\">4</button><button type=\"button\" class=\"btn btn-primary\">4</button><button type=\"button\" class=\"btn btn-primary\" style=\"opacity: 0.3;\">1</button><button type=\"button\" class=\"btn btn-primary\">4</button><button type=\"button\" class=\"btn btn-primary\" style=\"opacity: 0.3;\">12</button><button type=\"button\" class=\"btn btn-primary\">4</button><button type=\"button\" class=\"btn btn-primary\" style=\"opacity: 0.3;\">9</button><button type=\"button\" class=\"btn btn-primary\" style=\"opacity: 0.3;\">9</button><button type=\"button\" class=\"btn btn-primary\" style=\"opacity: 0.3;\">6</button><button type=\"button\" class=\"btn btn-primary\">4</button><button type=\"button\" class=\"btn btn-primary\">4</button><button type=\"button\" class=\"btn btn-primary\" style=\"opacity: 0.3;\">9</button><button type=\"button\" class=\"btn btn-primary\">4</button><button type=\"button\" class=\"btn btn-primary\" style=\"opacity: 0.3;\">5</button><button type=\"button\" class=\"btn btn-primary\" style=\"opacity: 0.3;\">1</button><button type=\"button\" class=\"btn btn-primary\">4</button><button type=\"button\" class=\"btn btn-primary\" style=\"opacity: 0.3;\">9</button></div><br><div><strong><u>5</u></strong> <button type=\"button\" class=\"btn btn-primary\">4</button><button type=\"button\" class=\"btn btn-primary\" style=\"opacity: 0.3;\">5</button><button type=\"button\" class=\"btn btn-primary\" style=\"opacity: 0.3;\">9</button><button type=\"button\" class=\"btn btn-primary\" style=\"opacity: 0.3;\">9</button><button type=\"button\" class=\"btn btn-primary\" style=\"opacity: 0.3;\">9</button><button type=\"button\" class=\"btn btn-primary\">4</button><button type=\"button\" class=\"btn btn-primary\" style=\"opacity: 0.3;\">1</button><button type=\"button\" class=\"btn btn-primary\" style=\"opacity: 0.3;\">9</button><button type=\"button\" class=\"btn btn-primary\" style=\"opacity: 0.3;\">5</button><button type=\"button\" class=\"btn btn-primary\">4</button><button type=\"button\" class=\"btn btn-primary\" style=\"opacity: 0.3;\">7</button><button type=\"button\" class=\"btn btn-primary\">4</button><button type=\"button\" class=\"btn btn-primary\" style=\"opacity: 0.3;\">9</button><button type=\"button\" class=\"btn btn-primary\">4</button><button type=\"button\" class=\"btn btn-primary\" style=\"opacity: 0.3;\">9</button><button type=\"button\" class=\"btn btn-primary\">4</button><button type=\"button\" class=\"btn btn-primary\" style=\"opacity: 0.3;\">8</button><button type=\"button\" class=\"btn btn-primary\" style=\"opacity: 0.3;\">5</button><button type=\"button\" class=\"btn btn-primary\" style=\"opacity: 0.3;\">9</button><button type=\"button\" class=\"btn btn-primary\">4</button><button type=\"button\" class=\"btn btn-primary\" style=\"opacity: 0.3;\">1</button><button type=\"button\" class=\"btn btn-primary\" style=\"opacity: 0.3;\">9</button><button type=\"button\" class=\"btn btn-primary\" style=\"opacity: 0.3;\">1</button><button type=\"button\" class=\"btn btn-primary\">4</button><button type=\"button\" class=\"btn btn-primary\">4</button><button type=\"button\" class=\"btn btn-primary\" style=\"opacity: 0.3;\">9</button><button type=\"button\" class=\"btn btn-primary\" style=\"opacity: 0.3;\">12</button><button type=\"button\" class=\"btn btn-primary\" style=\"opacity: 0.3;\">9</button><button type=\"button\" class=\"btn btn-primary\" style=\"opacity: 0.3;\">1</button><button type=\"button\" class=\"btn btn-primary\" style=\"opacity: 0.3;\">9</button><button type=\"button\" class=\"btn btn-primary\" style=\"opacity: 0.3;\">5</button><button type=\"button\" class=\"btn btn-primary\" style=\"opacity: 0.3;\">5</button><button type=\"button\" class=\"btn btn-primary\" style=\"opacity: 0.3;\">1</button><button type=\"button\" class=\"btn btn-primary\">4</button><button type=\"button\" class=\"btn btn-primary\" style=\"opacity: 0.3;\">7</button><button type=\"button\" class=\"btn btn-primary\" style=\"opacity: 0.3;\">7</button><button type=\"button\" class=\"btn btn-primary\">4</button><button type=\"button\" class=\"btn btn-primary\">4</button><button type=\"button\" class=\"btn btn-primary\">4</button><button type=\"button\" class=\"btn btn-primary\" style=\"opacity: 0.3;\">1</button><button type=\"button\" class=\"btn btn-primary\">4</button><button type=\"button\" class=\"btn btn-primary\">4</button><button type=\"button\" class=\"btn btn-primary\" style=\"opacity: 0.3;\">7</button><button type=\"button\" class=\"btn btn-primary\">4</button><button type=\"button\" class=\"btn btn-primary\">4</button><button type=\"button\" class=\"btn btn-primary\">4</button><button type=\"button\" class=\"btn btn-primary\" style=\"opacity: 0.3;\">7</button><button type=\"button\" class=\"btn btn-primary\">4</button><button type=\"button\" class=\"btn btn-primary\" style=\"opacity: 0.3;\">9</button><button type=\"button\" class=\"btn btn-primary\">4</button><button type=\"button\" class=\"btn btn-primary\" style=\"opacity: 0.3;\">5</button><button type=\"button\" class=\"btn btn-primary\">4</button><button type=\"button\" class=\"btn btn-primary\">4</button><button type=\"button\" class=\"btn btn-primary\" style=\"opacity: 0.3;\">5</button><button type=\"button\" class=\"btn btn-primary\">4</button><button type=\"button\" class=\"btn btn-primary\">4</button><button type=\"button\" class=\"btn btn-primary\" style=\"opacity: 0.3;\">9</button><button type=\"button\" class=\"btn btn-primary\" style=\"opacity: 0.3;\">5</button><button type=\"button\" class=\"btn btn-primary\" style=\"opacity: 0.3;\">9</button><button type=\"button\" class=\"btn btn-primary\">4</button><button type=\"button\" class=\"btn btn-primary\">4</button><button type=\"button\" class=\"btn btn-primary\">4</button><button type=\"button\" class=\"btn btn-primary\" style=\"opacity: 0.3;\">9</button><button type=\"button\" class=\"btn btn-primary\" style=\"opacity: 0.3;\">1</button><button type=\"button\" class=\"btn btn-primary\" style=\"opacity: 0.3;\">12</button><button type=\"button\" class=\"btn btn-primary\">4</button><button type=\"button\" class=\"btn btn-primary\">4</button><button type=\"button\" class=\"btn btn-primary\" style=\"opacity: 0.3;\">9</button><button type=\"button\" class=\"btn btn-primary\">4</button><button type=\"button\" class=\"btn btn-primary\">4</button></div><br>"
      ],
      "text/plain": [
       "<IPython.core.display.HTML object>"
      ]
     },
     "metadata": {},
     "output_type": "display_data"
    }
   ],
   "source": [
    "preds = predict_mc_model(3)\n",
    "show_results(preds['train'], preds['test'])"
   ]
  },
  {
   "cell_type": "markdown",
   "metadata": {},
   "source": [
    "### MC-4"
   ]
  },
  {
   "cell_type": "code",
   "execution_count": null,
   "metadata": {},
   "outputs": [],
   "source": [
    "preds = predict_mc_model(4)\n",
    "show_results(preds['train'], preds['test'])"
   ]
  },
  {
   "cell_type": "markdown",
   "metadata": {},
   "source": [
    "## Chunking Models"
   ]
  },
  {
   "cell_type": "code",
   "execution_count": null,
   "metadata": {},
   "outputs": [],
   "source": [
    "CHUNK_SIZE = 5"
   ]
  },
  {
   "cell_type": "code",
   "execution_count": null,
   "metadata": {
    "scrolled": true
   },
   "outputs": [],
   "source": [
    "x = {}\n",
    "y = {}\n",
    "\n",
    "for data_type in ['train', 'test']:\n",
    "    x[data_type] = []\n",
    "    y[data_type] = []\n",
    "    for seq in events[data_type]:\n",
    "        current_seq = [0] * (CHUNK_SIZE - 1) + seq\n",
    "        for e, event in enumerate(current_seq):\n",
    "            if e >= CHUNK_SIZE:\n",
    "                y[data_type].append(event)\n",
    "                index_lookback = e - CHUNK_SIZE\n",
    "                x[data_type].append(current_seq[index_lookback:e])\n",
    "\n",
    "    x[data_type] = np.asarray(x[data_type])\n",
    "    y[data_type] = np.asarray(y[data_type])"
   ]
  },
  {
   "cell_type": "markdown",
   "metadata": {},
   "source": [
    "## Linear Regression"
   ]
  },
  {
   "cell_type": "code",
   "execution_count": null,
   "metadata": {},
   "outputs": [],
   "source": [
    "from sklearn.linear_model import LinearRegression\n",
    "\n",
    "model = LinearRegression()\n",
    "model.fit(x['train'], y['train'])\n",
    "train_pred = convert_flat(model.predict(x['train']), 'train')\n",
    "test_pred = convert_flat(model.predict(x['test']), 'test')\n",
    "\n",
    "print('Without rounding')\n",
    "show_results(train_pred, test_pred)"
   ]
  },
  {
   "cell_type": "code",
   "execution_count": null,
   "metadata": {},
   "outputs": [],
   "source": [
    "from sklearn.linear_model import LinearRegression\n",
    "\n",
    "model = LinearRegression()\n",
    "model.fit(x['train'], y['train'])\n",
    "train_pred = convert_flat(np.round(model.predict(x['train'])), 'train')\n",
    "test_pred = convert_flat(np.round(model.predict(x['test'])), 'test')\n",
    "\n",
    "print('With rounding')\n",
    "show_results(train_pred, test_pred)"
   ]
  },
  {
   "cell_type": "markdown",
   "metadata": {},
   "source": [
    "Going to normalize before inputting to LinearRegression"
   ]
  },
  {
   "cell_type": "code",
   "execution_count": null,
   "metadata": {},
   "outputs": [],
   "source": [
    "from sklearn.linear_model import LinearRegression\n",
    "\n",
    "x_train = x['train'] / max_event\n",
    "y_train = y['train'] / max_event\n",
    "x_test = x['test'] / max_event\n",
    "y_test = y['test'] / max_event\n",
    "\n",
    "model = LinearRegression()\n",
    "model.fit(x_train, y_train)\n",
    "train_pred = model.predict(x_train)\n",
    "test_pred = model.predict(x_test)\n",
    "\n",
    "train_pred = np.round(train_pred * max_event)\n",
    "test_pred = np.round(test_pred * max_event)\n",
    "\n",
    "train_pred = convert_flat(train_pred, 'train')\n",
    "test_pred = convert_flat(test_pred, 'test')\n",
    "\n",
    "\n",
    "print('With rounding')\n",
    "show_results(train_pred, test_pred)"
   ]
  },
  {
   "cell_type": "markdown",
   "metadata": {},
   "source": [
    "## Decision Tree"
   ]
  },
  {
   "cell_type": "code",
   "execution_count": null,
   "metadata": {},
   "outputs": [],
   "source": [
    "from sklearn.tree import DecisionTreeClassifier\n",
    "\n",
    "model = DecisionTreeClassifier()\n",
    "model.fit(x['train'], y['train'])\n",
    "train_pred = convert_flat(model.predict(x['train']), 'train')\n",
    "test_pred = convert_flat(model.predict(x['test']), 'test')\n",
    "\n",
    "show_results(train_pred, test_pred)"
   ]
  },
  {
   "cell_type": "markdown",
   "metadata": {},
   "source": [
    "Visualize the decision tree"
   ]
  },
  {
   "cell_type": "code",
   "execution_count": null,
   "metadata": {},
   "outputs": [],
   "source": [
    "from sklearn.tree import export_graphviz\n",
    "from IPython.display import Image\n",
    "import pydot\n",
    "\n",
    "# model_dot = export_graphviz(model,\n",
    "#                             out_file=None,\n",
    "#                             filled=True,\n",
    "#                             rounded=True)\n",
    "# \n",
    "# graph = pydot.graph_from_dot_data(model_dot)\n",
    "# display(Image(graph[0].create_png()))"
   ]
  },
  {
   "cell_type": "markdown",
   "metadata": {},
   "source": [
    "## Random Forest"
   ]
  },
  {
   "cell_type": "code",
   "execution_count": null,
   "metadata": {},
   "outputs": [],
   "source": [
    "from sklearn.ensemble import RandomForestClassifier\n",
    "\n",
    "model = RandomForestClassifier()\n",
    "model.fit(x['train'], y['train'])\n",
    "train_pred = convert_flat(model.predict(x['train']), 'train')\n",
    "test_pred = convert_flat(model.predict(x['test']), 'test')\n",
    "\n",
    "show_results(train_pred, test_pred)"
   ]
  },
  {
   "cell_type": "markdown",
   "metadata": {},
   "source": [
    "## AdaBoost Classifier"
   ]
  },
  {
   "cell_type": "code",
   "execution_count": null,
   "metadata": {},
   "outputs": [],
   "source": [
    "from sklearn.ensemble import AdaBoostClassifier\n",
    "\n",
    "model = AdaBoostClassifier()\n",
    "model.fit(x['train'], y['train'])\n",
    "train_pred = convert_flat(model.predict(x['train']), 'train')\n",
    "test_pred = convert_flat(model.predict(x['test']), 'test')\n",
    "\n",
    "show_results(train_pred, test_pred)"
   ]
  },
  {
   "cell_type": "markdown",
   "metadata": {},
   "source": [
    "# One-Hot Data\n",
    "\n",
    "Convert the data into one-hot so that rather than using an integer for the category, use a vector:\n",
    "\n",
    "2 ===>  <0, 0, 1, 0, 0>"
   ]
  },
  {
   "cell_type": "code",
   "execution_count": null,
   "metadata": {},
   "outputs": [],
   "source": [
    "x = {}\n",
    "y = {}\n",
    "\n",
    "for data_type in ['train', 'test']:\n",
    "    x[data_type] = []\n",
    "    y[data_type] = []\n",
    "    for seq in events[data_type]:\n",
    "        current_seq = [-1] * (CHUNK_SIZE - 1) + seq\n",
    "        for e, event in enumerate(current_seq):\n",
    "            if e >= CHUNK_SIZE:\n",
    "                y[data_type].append(event)\n",
    "                index_lookback = e - CHUNK_SIZE\n",
    "                \n",
    "                current_x = []\n",
    "                for back_event in current_seq[index_lookback:e]:\n",
    "                    vector = [0] * max_event\n",
    "                    if back_event > 0:\n",
    "                        vector[back_event-1] = 1\n",
    "                    current_x += vector\n",
    "                x[data_type].append(current_x)\n",
    "\n",
    "    x[data_type] = np.asarray(x[data_type])\n",
    "    y[data_type] = np.asarray(y[data_type])"
   ]
  },
  {
   "cell_type": "markdown",
   "metadata": {},
   "source": [
    "## Decision Tree"
   ]
  },
  {
   "cell_type": "code",
   "execution_count": null,
   "metadata": {},
   "outputs": [],
   "source": [
    "from sklearn.tree import DecisionTreeClassifier\n",
    "\n",
    "model = DecisionTreeClassifier()\n",
    "model.fit(x['train'], y['train'])\n",
    "train_pred = convert_flat(model.predict(x['train']), 'train')\n",
    "test_pred = convert_flat(model.predict(x['test']), 'test')\n",
    "\n",
    "show_results(train_pred, test_pred)"
   ]
  },
  {
   "cell_type": "markdown",
   "metadata": {},
   "source": [
    "## Random Forest"
   ]
  },
  {
   "cell_type": "code",
   "execution_count": null,
   "metadata": {},
   "outputs": [],
   "source": [
    "from sklearn.ensemble import RandomForestClassifier\n",
    "\n",
    "model = RandomForestClassifier()\n",
    "model.fit(x['train'], y['train'])\n",
    "train_pred = convert_flat(model.predict(x['train']), 'train')\n",
    "test_pred = convert_flat(model.predict(x['test']), 'test')\n",
    "\n",
    "show_results(train_pred, test_pred)"
   ]
  },
  {
   "cell_type": "markdown",
   "metadata": {},
   "source": [
    "# Neural Networks"
   ]
  },
  {
   "cell_type": "markdown",
   "metadata": {},
   "source": [
    "We are going to try a bunch of different network configurations so let's import stuff that we'll need."
   ]
  },
  {
   "cell_type": "code",
   "execution_count": null,
   "metadata": {},
   "outputs": [],
   "source": [
    "from keras.models import Sequential\n",
    "from keras import optimizers\n",
    "from keras import layers"
   ]
  },
  {
   "cell_type": "markdown",
   "metadata": {},
   "source": [
    "## Regular FeedForward Neural Network"
   ]
  },
  {
   "cell_type": "markdown",
   "metadata": {},
   "source": [
    "We need to alter the data for the FNN."
   ]
  },
  {
   "cell_type": "code",
   "execution_count": null,
   "metadata": {},
   "outputs": [],
   "source": [
    "y_train = np.zeros((y['train'].shape[0], num_events))\n",
    "y_train[np.arange(y['train'].shape[0]), y['train'] - 1] = 1\n",
    "\n",
    "y_test = np.zeros((y['test'].shape[0], num_events))\n",
    "y_test[np.arange(y['test'].shape[0]), y['test'] - 1] = 1"
   ]
  },
  {
   "cell_type": "markdown",
   "metadata": {},
   "source": [
    "#### Single - tanh\n",
    "\n",
    "A single hidden layer using tanh activation"
   ]
  },
  {
   "cell_type": "code",
   "execution_count": null,
   "metadata": {
    "scrolled": true
   },
   "outputs": [],
   "source": [
    "model = Sequential()\n",
    "model.add(layers.Dense(50, activation='tanh', batch_input_shape=(None, x['train'].shape[1])))\n",
    "model.add(layers.Dense(num_events, activation='softmax'))\n",
    "\n",
    "model.compile(loss='categorical_crossentropy', optimizer='adam', metrics=['accuracy'])\n",
    "\n",
    "model.fit(x['train'], y_train, validation_data=(x['test'], y_test), batch_size=100, epochs=3)\n",
    "\n",
    "train_pred = convert_flat(np.argmax(model.predict(x['train']), axis=1) + 1, 'train')\n",
    "test_pred = convert_flat(np.argmax(model.predict(x['test']), axis=1) + 1, 'test')\n",
    "show_results(train_pred, test_pred)"
   ]
  },
  {
   "cell_type": "markdown",
   "metadata": {},
   "source": [
    "#### Single - linear\n",
    "\n",
    "A single hidden layer using linear activation"
   ]
  },
  {
   "cell_type": "code",
   "execution_count": null,
   "metadata": {},
   "outputs": [],
   "source": [
    "model = Sequential()\n",
    "model.add(layers.Dense(50, activation='linear', batch_input_shape=(None, x['train'].shape[1])))\n",
    "model.add(layers.Dense(num_events, activation='softmax'))\n",
    "\n",
    "model.compile(loss='categorical_crossentropy', optimizer='adam', metrics=['accuracy'])\n",
    "\n",
    "model.fit(x['train'], y_train, validation_data=(x['test'], y_test), batch_size=100, epochs=3)\n",
    "\n",
    "train_pred = convert_flat(np.argmax(model.predict(x['train']), axis=1) + 1, 'train')\n",
    "test_pred = convert_flat(np.argmax(model.predict(x['test']), axis=1) + 1, 'test')\n",
    "show_results(train_pred, test_pred)"
   ]
  },
  {
   "cell_type": "markdown",
   "metadata": {},
   "source": [
    "#### Single - relu\n",
    "\n",
    "A single hidden layer using relu activation"
   ]
  },
  {
   "cell_type": "code",
   "execution_count": null,
   "metadata": {},
   "outputs": [],
   "source": [
    "model = Sequential()\n",
    "model.add(layers.Dense(50, activation='relu', batch_input_shape=(None, x['train'].shape[1])))\n",
    "model.add(layers.Dense(num_events, activation='softmax'))\n",
    "\n",
    "model.compile(loss='categorical_crossentropy', optimizer='adam', metrics=['accuracy'])\n",
    "\n",
    "model.fit(x['train'], y_train, validation_data=(x['test'], y_test), batch_size=100, epochs=3)\n",
    "\n",
    "train_pred = convert_flat(np.argmax(model.predict(x['train']), axis=1) + 1, 'train')\n",
    "test_pred = convert_flat(np.argmax(model.predict(x['test']), axis=1) + 1, 'test')\n",
    "show_results(train_pred, test_pred)"
   ]
  },
  {
   "cell_type": "markdown",
   "metadata": {},
   "source": [
    "#### Multiple - tanh\n",
    "\n",
    "Multiple hidden layers with tanh activation"
   ]
  },
  {
   "cell_type": "code",
   "execution_count": null,
   "metadata": {},
   "outputs": [],
   "source": [
    "model = Sequential()\n",
    "model.add(layers.Dense(50, activation='tanh', batch_input_shape=(None, x['train'].shape[1])))\n",
    "model.add(layers.Dense(15, activation='tanh'))\n",
    "model.add(layers.Dense(num_events, activation='softmax'))\n",
    "\n",
    "model.compile(loss='categorical_crossentropy', optimizer='adam', metrics=['accuracy'])\n",
    "\n",
    "model.fit(x['train'], y_train, validation_data=(x['test'], y_test), batch_size=100, epochs=3)\n",
    "\n",
    "train_pred = convert_flat(np.argmax(model.predict(x['train']), axis=1) + 1, 'train')\n",
    "test_pred = convert_flat(np.argmax(model.predict(x['test']), axis=1) + 1, 'test')\n",
    "show_results(train_pred, test_pred)"
   ]
  },
  {
   "cell_type": "markdown",
   "metadata": {},
   "source": [
    "#### Multiple - linear\n",
    "\n",
    "Multiple hidden layers with linear activation"
   ]
  },
  {
   "cell_type": "code",
   "execution_count": null,
   "metadata": {
    "scrolled": true
   },
   "outputs": [],
   "source": [
    "model = Sequential()\n",
    "model.add(layers.Dense(50, activation='linear', batch_input_shape=(None, x['train'].shape[1])))\n",
    "model.add(layers.Dense(15, activation='linear'))\n",
    "model.add(layers.Dense(num_events, activation='softmax'))\n",
    "\n",
    "model.compile(loss='categorical_crossentropy', optimizer='adam', metrics=['accuracy'])\n",
    "\n",
    "model.fit(x['train'], y_train, validation_data=(x['test'], y_test), batch_size=100, epochs=3)\n",
    "\n",
    "train_pred = convert_flat(np.argmax(model.predict(x['train']), axis=1) + 1, 'train')\n",
    "test_pred = convert_flat(np.argmax(model.predict(x['test']), axis=1) + 1, 'test')\n",
    "show_results(train_pred, test_pred)"
   ]
  },
  {
   "cell_type": "markdown",
   "metadata": {},
   "source": [
    "#### Multiple - relu\n",
    "\n",
    "Multiple hidden layers with relu activation"
   ]
  },
  {
   "cell_type": "code",
   "execution_count": null,
   "metadata": {
    "scrolled": true
   },
   "outputs": [],
   "source": [
    "model = Sequential()\n",
    "model.add(layers.Dense(50, activation='relu', batch_input_shape=(None, x['train'].shape[1])))\n",
    "model.add(layers.Dense(15, activation='relu'))\n",
    "model.add(layers.Dense(num_events, activation='softmax'))\n",
    "\n",
    "model.compile(loss='categorical_crossentropy', optimizer='adam', metrics=['accuracy'])\n",
    "\n",
    "model.fit(x['train'], y_train, validation_data=(x['test'], y_test), batch_size=100, epochs=3)\n",
    "\n",
    "train_pred = convert_flat(np.argmax(model.predict(x['train']), axis=1) + 1, 'train')\n",
    "test_pred = convert_flat(np.argmax(model.predict(x['test']), axis=1) + 1, 'test')\n",
    "show_results(train_pred, test_pred)"
   ]
  },
  {
   "cell_type": "markdown",
   "metadata": {},
   "source": [
    "# Entire Sequences\n",
    "\n",
    "Instead of using a lookback of CHUNK_SIZE, going to input the entire user history.  (Will use CNN and RNN for this.)\n",
    "\n",
    "Padding the sequences with 0's at the beginning"
   ]
  },
  {
   "cell_type": "markdown",
   "metadata": {},
   "source": [
    "Sequence Data"
   ]
  },
  {
   "cell_type": "code",
   "execution_count": null,
   "metadata": {},
   "outputs": [],
   "source": [
    "x = {}\n",
    "y = {}\n",
    "\n",
    "for data_type in ['train', 'test']:\n",
    "    x[data_type] = []\n",
    "    y[data_type] = []\n",
    "    for seq in events[data_type]:\n",
    "        x[data_type].append(seq[:-1])\n",
    "        y[data_type].append(seq[1:])\n",
    "\n",
    "    x[data_type] = np.asarray(x[data_type])\n",
    "    y[data_type] = np.asarray(y[data_type])"
   ]
  },
  {
   "cell_type": "code",
   "execution_count": null,
   "metadata": {},
   "outputs": [],
   "source": [
    "# Find the max user length\n",
    "user_lengths = [len(seq) for seq in events['train']] + [len(seq) for seq in events['test']]\n",
    "user_length_counts = {}\n",
    "for length in user_lengths:\n",
    "    if length not in user_length_counts:\n",
    "        user_length_counts[length] = 0\n",
    "        \n",
    "    user_length_counts[length] += 1\n",
    "user_lengths = list(set(user_lengths))\n",
    "user_lengths = sorted(user_lengths, reverse=True)\n",
    "max_user_length = max(user_lengths)\n",
    "\n",
    "print('Max Seq Length', max_user_length)\n",
    "# print(user_lengths)"
   ]
  },
  {
   "cell_type": "markdown",
   "metadata": {},
   "source": [
    "Subtract one from x"
   ]
  },
  {
   "cell_type": "code",
   "execution_count": null,
   "metadata": {},
   "outputs": [],
   "source": [
    "for data_type in ['train', 'test']:\n",
    "    x[data_type] = [[event - 1 for event in seq] for seq in x[data_type]]"
   ]
  },
  {
   "cell_type": "code",
   "execution_count": null,
   "metadata": {},
   "outputs": [],
   "source": [
    "# Pad sequences\n",
    "from keras.preprocessing import sequence\n",
    "\n",
    "for data_type in ['train', 'test']:\n",
    "    x[data_type] = sequence.pad_sequences(x[data_type], maxlen=max_user_length)\n",
    "    y[data_type] = sequence.pad_sequences(y[data_type], maxlen=max_user_length)"
   ]
  },
  {
   "cell_type": "markdown",
   "metadata": {},
   "source": [
    "y variable needs to be one-hot for everything.  (x will be made one-hot later for different models)"
   ]
  },
  {
   "cell_type": "code",
   "execution_count": null,
   "metadata": {},
   "outputs": [],
   "source": [
    "num_events = 22\n",
    "one_hot = np.eye(num_events)\n",
    "for data_type in ['train', 'test']:\n",
    "    y[data_type] = [[one_hot[event-1] if event > 0 else np.zeros(num_events) for event in seq] for seq in y[data_type]]\n",
    "    y[data_type] = np.asarray(y[data_type])"
   ]
  },
  {
   "cell_type": "markdown",
   "metadata": {},
   "source": [
    "## Embedding Models"
   ]
  },
  {
   "cell_type": "markdown",
   "metadata": {},
   "source": [
    "### Convolutional Neural Network (CNN)\n",
    "\n",
    "Using the model found here: https://github.com/mhjabreel/CharCnn_Keras/blob/master/models/char_cnn_kim.py"
   ]
  },
  {
   "cell_type": "code",
   "execution_count": null,
   "metadata": {
    "scrolled": true
   },
   "outputs": [],
   "source": [
    "from keras.models import Model\n",
    "from keras.layers import Input, Dense, Concatenate\n",
    "from keras.layers import Convolution1D\n",
    "from keras.layers import GlobalMaxPooling1D\n",
    "from keras.layers import Embedding\n",
    "from keras.layers import AlphaDropout\n",
    "\n",
    "\n",
    "dropout_p = 0.1\n",
    "fully_connected_layers = [1024, 1024]\n",
    "conv_layers = [\n",
    "    [256, 10],\n",
    "    [256, 7],\n",
    "    [256, 5],\n",
    "    [256, 3]\n",
    "]\n",
    "\n",
    "\n",
    "# Input layer\n",
    "inputs = Input(shape=(max_user_length,))\n",
    "\n",
    "# Embedding layers\n",
    "cnn_x = Embedding(num_events, 512, input_length=max_user_length)(inputs)\n",
    "\n",
    "# Convolution layers\n",
    "convolution_output = []\n",
    "for num_filters, filter_width in conv_layers:\n",
    "    conv = Convolution1D(filters=num_filters,\n",
    "                         kernel_size=filter_width,\n",
    "                         activation='tanh',\n",
    "                         name='Conv1D_{}_{}'.format(num_filters, filter_width))(cnn_x)\n",
    "    pool = GlobalMaxPooling1D(name='MaxPoolingOverTime_{}_{}'.format(num_filters, filter_width))(conv)\n",
    "    convolution_output.append(pool)\n",
    "cnn_x = Concatenate()(convolution_output)\n",
    "\n",
    "# Fully connected layers\n",
    "for fl in fully_connected_layers:\n",
    "    cnn_x = Dense(fl, activation='selu', kernel_initializer='lecun_normal')(cnn_x)\n",
    "    cnn_x = AlphaDropout(dropout_p)(cnn_x)\n",
    "    \n",
    "# Output layer\n",
    "predictions = Dense(num_events, activation='softmax')(cnn_x)\n",
    "\n",
    "# Build and compile model\n",
    "model = Model(inputs=inputs, outputs=predictions)\n",
    "model.compile(loss='categorical_crossentropy', optimizer='adam', metrics=['accuracy'])\n",
    "model.fit(x['train'], y['train'], validation_data=(x['test'], y['test']))"
   ]
  },
  {
   "cell_type": "markdown",
   "metadata": {},
   "source": [
    "### RNN Cell"
   ]
  },
  {
   "cell_type": "code",
   "execution_count": null,
   "metadata": {},
   "outputs": [],
   "source": [
    "model = Sequential()\n",
    "model.add(layers.Embedding(num_events, 512, mask_zero=True))\n",
    "model.add(layers.Masking(mask_value=0.))\n",
    "model.add(layers.SimpleRNN(50, activation='tanh', return_sequences=True))\n",
    "model.add(layers.TimeDistributed(layers.Dense(10, activation='relu')))\n",
    "model.add(layers.TimeDistributed(layers.Dense(num_events, activation='softmax')))\n",
    "\n",
    "model.compile(loss='categorical_crossentropy', optimizer='adam', metrics=['accuracy'])\n",
    "\n",
    "model.fit(x['train'], y['train'], validation_data=(x['test'], y['test']), batch_size=100, epochs=3)\n",
    "\n",
    "train_pred = convert_nn_seq(np.argmax(model.predict(x['train']), axis=2) + 1, 'train')\n",
    "test_pred = convert_nn_seq(np.argmax(model.predict(x['test']), axis=2) + 1, 'test')\n",
    "show_results(train_pred, test_pred)"
   ]
  },
  {
   "cell_type": "code",
   "execution_count": null,
   "metadata": {},
   "outputs": [],
   "source": [
    "model = Sequential()\n",
    "model.add(layers.Embedding(num_events, 128, mask_zero=True))\n",
    "model.add(layers.Masking(mask_value=0.))\n",
    "model.add(layers.SimpleRNN(50, activation='tanh', return_sequences=True))\n",
    "model.add(layers.TimeDistributed(layers.Dense(num_events, activation='softmax')))\n",
    "\n",
    "model.compile(loss='categorical_crossentropy', optimizer='adam', metrics=['accuracy'])\n",
    "\n",
    "model.fit(x['train'], y['train'], validation_data=(x['test'], y['test']), batch_size=100, epochs=3)\n",
    "\n",
    "train_pred = convert_nn_seq(np.argmax(model.predict(x['train']), axis=2) + 1, 'train')\n",
    "test_pred = convert_nn_seq(np.argmax(model.predict(x['test']), axis=2) + 1, 'test')\n",
    "show_results(train_pred, test_pred)"
   ]
  },
  {
   "cell_type": "markdown",
   "metadata": {},
   "source": [
    "### LSTM Cell"
   ]
  },
  {
   "cell_type": "code",
   "execution_count": null,
   "metadata": {},
   "outputs": [],
   "source": [
    "model = Sequential()\n",
    "model.add(layers.Embedding(num_events, 128, mask_zero=True))\n",
    "model.add(layers.Masking(mask_value=0.))\n",
    "model.add(layers.LSTM(50, activation='tanh', return_sequences=True))\n",
    "model.add(layers.TimeDistributed(layers.Dense(num_events, activation='softmax')))\n",
    "\n",
    "model.compile(loss='categorical_crossentropy', optimizer='adam', metrics=['accuracy'])\n",
    "\n",
    "model.fit(x['train'], y['train'], validation_data=(x['test'], y['test']), batch_size=100, epochs=3)\n",
    "\n",
    "train_pred = convert_nn_seq(np.argmax(model.predict(x['train']), axis=2) + 1, 'train')\n",
    "test_pred = convert_nn_seq(np.argmax(model.predict(x['test']), axis=2) + 1, 'test')\n",
    "show_results(train_pred, test_pred)"
   ]
  },
  {
   "cell_type": "code",
   "execution_count": null,
   "metadata": {},
   "outputs": [],
   "source": [
    "model = Sequential()\n",
    "model.add(layers.Embedding(num_events, 128, mask_zero=True))\n",
    "model.add(layers.Masking(mask_value=0.))\n",
    "model.add(layers.LSTM(50, activation='tanh', return_sequences=True))\n",
    "model.add(layers.TimeDistributed(layers.Dense(10, activation='relu')))\n",
    "model.add(layers.TimeDistributed(layers.Dense(num_events, activation='softmax')))\n",
    "\n",
    "model.compile(loss='categorical_crossentropy', optimizer='adam', metrics=['accuracy'])\n",
    "\n",
    "model.fit(x['train'], y['train'], validation_data=(x['test'], y['test']), batch_size=100, epochs=3)\n",
    "\n",
    "train_pred = convert_nn_seq(np.argmax(model.predict(x['train']), axis=2) + 1, 'train')\n",
    "test_pred = convert_nn_seq(np.argmax(model.predict(x['test']), axis=2) + 1, 'test')\n",
    "show_results(train_pred, test_pred)"
   ]
  },
  {
   "cell_type": "markdown",
   "metadata": {},
   "source": [
    "## One Hot Models"
   ]
  },
  {
   "cell_type": "markdown",
   "metadata": {},
   "source": [
    "Convert x integers into one-hot as well"
   ]
  },
  {
   "cell_type": "code",
   "execution_count": null,
   "metadata": {},
   "outputs": [],
   "source": [
    "num_events = 22\n",
    "one_hot = np.eye(num_events)\n",
    "for data_type in ['train', 'test']:\n",
    "    x[data_type] = [[one_hot[event-1] if event > 0 else np.zeros(num_events) for event in seq] for seq in x[data_type]]\n",
    "    x[data_type] = np.asarray(x[data_type])"
   ]
  },
  {
   "cell_type": "markdown",
   "metadata": {},
   "source": [
    "### RNN Cell"
   ]
  },
  {
   "cell_type": "code",
   "execution_count": null,
   "metadata": {
    "scrolled": true
   },
   "outputs": [],
   "source": [
    "model = Sequential()\n",
    "model.add(layers.Masking(mask_value=0., input_shape=(max_user_length, num_events)))\n",
    "model.add(layers.SimpleRNN(50, activation='tanh', return_sequences=True))\n",
    "model.add(layers.TimeDistributed(layers.Dense(10, activation='relu')))\n",
    "model.add(layers.TimeDistributed(layers.Dense(num_events, activation='softmax')))\n",
    "\n",
    "model.compile(loss='categorical_crossentropy', optimizer='adam', metrics=['accuracy'])\n",
    "\n",
    "model.fit(x['train'], y['train'], validation_data=(x['test'], y['test']), batch_size=100, epochs=10)\n",
    "\n",
    "train_pred = convert_nn_seq(np.argmax(model.predict(x['train']), axis=2) + 1, 'train')\n",
    "test_pred = convert_nn_seq(np.argmax(model.predict(x['test']), axis=2) + 1, 'test')\n",
    "show_results(train_pred, test_pred)"
   ]
  },
  {
   "cell_type": "markdown",
   "metadata": {},
   "source": [
    "### LSTM Cell"
   ]
  },
  {
   "cell_type": "code",
   "execution_count": null,
   "metadata": {},
   "outputs": [],
   "source": [
    "model = Sequential()\n",
    "model.add(layers.Masking(mask_value=0., input_shape=(max_user_length, num_events)))\n",
    "model.add(layers.LSTM(50, activation='tanh', return_sequences=True))\n",
    "model.add(layers.TimeDistributed(layers.Dense(10, activation='relu')))\n",
    "model.add(layers.TimeDistributed(layers.Dense(num_events, activation='softmax')))\n",
    "\n",
    "model.compile(loss='categorical_crossentropy', optimizer='adam', metrics=['accuracy'])\n",
    "\n",
    "model.fit(x['train'], y['train'], validation_data=(x['test'], y['test']), batch_size=100, epochs=10)\n",
    "\n",
    "train_pred = convert_nn_seq(np.argmax(model.predict(x['train']), axis=2) + 1, 'train')\n",
    "test_pred = convert_nn_seq(np.argmax(model.predict(x['test']), axis=2) + 1, 'test')\n",
    "show_results(train_pred, test_pred)"
   ]
  },
  {
   "cell_type": "code",
   "execution_count": null,
   "metadata": {},
   "outputs": [],
   "source": []
  }
 ],
 "metadata": {
  "kernelspec": {
   "display_name": "Python 3",
   "language": "python",
   "name": "python3"
  },
  "language_info": {
   "codemirror_mode": {
    "name": "ipython",
    "version": 3
   },
   "file_extension": ".py",
   "mimetype": "text/x-python",
   "name": "python",
   "nbconvert_exporter": "python",
   "pygments_lexer": "ipython3",
   "version": "3.6.5"
  }
 },
 "nbformat": 4,
 "nbformat_minor": 2
}
